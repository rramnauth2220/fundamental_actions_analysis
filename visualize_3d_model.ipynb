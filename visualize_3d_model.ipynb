{
 "cells": [
  {
   "cell_type": "markdown",
   "metadata": {},
   "source": [
    "# 3D Mind Model Visualizations"
   ]
  },
  {
   "cell_type": "code",
   "execution_count": 221,
   "metadata": {},
   "outputs": [],
   "source": [
    "import plotly.express as px\n",
    "import matplotlib.pyplot as plt\n",
    "import plotly.graph_objects as go\n",
    "import pandas as pd\n",
    "import numpy as np\n",
    "import os\n",
    "from sklearn.metrics.pairwise import euclidean_distances\n",
    "from numpy import cov"
   ]
  },
  {
   "cell_type": "markdown",
   "metadata": {},
   "source": [
    "## Load data"
   ]
  },
  {
   "cell_type": "code",
   "execution_count": 240,
   "metadata": {},
   "outputs": [
    {
     "name": "stdout",
     "output_type": "stream",
     "text": [
      "Happy                    3.166667\n",
      "Feeling                  4.083333\n",
      "Organic                  3.250000\n",
      "Compassionate            3.083333\n",
      "Capable                  4.916667\n",
      "                           ...   \n",
      "Memory.5                 2.833333\n",
      "Emotion Recognition.5    2.500000\n",
      "Planning.5               3.916667\n",
      "Communication.5          3.166667\n",
      "Thought.5                3.750000\n",
      "Length: 180, dtype: float64\n"
     ]
    }
   ],
   "source": [
    "data = pd.read_csv(os.path.join('data','raw_data.csv'))\n",
    "#items = ['happy', 'feeling', 'organic', 'compassionate', 'capable', 'responsive', 'reliable', 'competent', 'scary', 'awkward', 'dangerous', 'aggressive', 'hunger', 'fear', 'pain', 'pleasure', 'rage', 'desire', 'personality', 'consciousness', 'pride', 'embarrassment', 'joy', 'self-control', 'morality', 'memory', 'emotion recognition', 'planning', 'communication', 'thought']\n",
    "data_averages = data.mean(axis=0)\n",
    "print(data_averages)"
   ]
  },
  {
   "cell_type": "markdown",
   "metadata": {},
   "source": [
    "Pair fundamental action with average survey item measures"
   ]
  },
  {
   "cell_type": "code",
   "execution_count": 166,
   "metadata": {
    "scrolled": false
   },
   "outputs": [],
   "source": [
    "#animations = ['launching', 'triggering', 'entraining', 'launching with temporal gap', 'launching with spatial gap', 'tool effect']\n",
    "animations = pd.read_csv(os.path.join('data','raw_pilot.csv'), header=None)\n",
    "\n",
    "data_paired = {}\n",
    "count_last = 0\n",
    "survey_items_size = int(len(data_averages)/len(animations))\n",
    "for i in range(len(animations)):\n",
    "    data_paired[animations[0][i]] = {}\n",
    "    for j in range(survey_items_size):\n",
    "        #print(data[data.keys()[j + count_last]])\n",
    "        data_paired[animations[0][i]][data.keys()[j]] = data[data.keys()[j + count_last]] #data_averages[j + count_last]\n",
    "        #print(survey_paired[data.keys()[j]])\n",
    "    count_last += survey_items_size"
   ]
  },
  {
   "cell_type": "markdown",
   "metadata": {},
   "source": [
    "## Compute some simple statistics"
   ]
  },
  {
   "cell_type": "code",
   "execution_count": 183,
   "metadata": {},
   "outputs": [
    {
     "name": "stdout",
     "output_type": "stream",
     "text": [
      "\n",
      "statistics for launching\n",
      "\tHappy: Median=3.00, Mean=3.17, STDev=2.17, Min=1.00, Max=7.00\n",
      "\tFeeling: Median=5.00, Mean=4.08, STDev=2.71, Min=1.00, Max=8.00\n",
      "\tOrganic: Median=2.00, Mean=3.25, STDev=2.49, Min=1.00, Max=8.00\n",
      "\tCompassionate: Median=3.00, Mean=3.08, STDev=1.73, Min=1.00, Max=6.00\n",
      "\tCapable: Median=5.00, Mean=4.92, STDev=2.81, Min=1.00, Max=9.00\n",
      "\tResponsive: Median=2.00, Mean=3.42, STDev=2.54, Min=1.00, Max=7.00\n",
      "\tReliable: Median=4.50, Mean=4.33, STDev=2.50, Min=1.00, Max=8.00\n",
      "\tCompetent: Median=5.50, Mean=5.25, STDev=2.70, Min=1.00, Max=9.00\n",
      "\tScary: Median=4.50, Mean=4.17, STDev=2.21, Min=1.00, Max=8.00\n",
      "\tAwkward: Median=3.00, Mean=3.92, STDev=3.03, Min=1.00, Max=8.00\n",
      "\tDangerous: Median=3.00, Mean=4.00, STDev=2.80, Min=1.00, Max=8.00\n",
      "\tAggressive: Median=6.50, Mean=5.58, STDev=2.81, Min=1.00, Max=8.00\n",
      "\tHunger: Median=2.00, Mean=2.92, STDev=2.19, Min=1.00, Max=6.00\n",
      "\tFear: Median=2.00, Mean=2.17, STDev=1.11, Min=1.00, Max=5.00\n",
      "\tPain: Median=1.00, Mean=2.42, STDev=1.98, Min=1.00, Max=6.00\n",
      "\tPleasure: Median=2.50, Mean=2.92, STDev=1.98, Min=1.00, Max=6.00\n",
      "\tRage: Median=3.50, Mean=3.50, STDev=2.32, Min=1.00, Max=7.00\n",
      "\tDesire: Median=2.50, Mean=3.08, STDev=1.98, Min=1.00, Max=6.00\n",
      "\tPersonality: Median=4.50, Mean=3.50, STDev=2.11, Min=1.00, Max=6.00\n",
      "\tConsciousness: Median=3.00, Mean=3.17, STDev=2.21, Min=1.00, Max=6.00\n",
      "\tPride: Median=2.00, Mean=3.25, STDev=2.34, Min=1.00, Max=7.00\n",
      "\tEmbarassment: Median=1.00, Mean=1.75, STDev=1.48, Min=1.00, Max=6.00\n",
      "\tJoy: Median=1.50, Mean=2.67, STDev=1.97, Min=1.00, Max=6.00\n",
      "\tSelf-Control: Median=3.50, Mean=3.50, STDev=2.20, Min=1.00, Max=7.00\n",
      "\tMorality: Median=2.00, Mean=2.92, STDev=2.19, Min=1.00, Max=7.00\n",
      "\tMemory: Median=2.50, Mean=3.08, STDev=2.23, Min=1.00, Max=7.00\n",
      "\tEmotion Recognition: Median=2.00, Mean=2.42, STDev=2.02, Min=1.00, Max=7.00\n",
      "\tPlanning: Median=2.50, Mean=3.00, STDev=2.09, Min=1.00, Max=7.00\n",
      "\tCommunication: Median=3.00, Mean=2.83, STDev=1.53, Min=1.00, Max=6.00\n",
      "\tThought: Median=4.00, Mean=3.17, STDev=1.95, Min=1.00, Max=5.00\n",
      "\n",
      "statistics for triggering\n",
      "\tHappy: Median=2.00, Mean=2.83, STDev=1.75, Min=1.00, Max=6.00\n",
      "\tFeeling: Median=3.00, Mean=3.67, STDev=2.81, Min=1.00, Max=8.00\n",
      "\tOrganic: Median=3.50, Mean=3.75, STDev=2.83, Min=1.00, Max=8.00\n",
      "\tCompassionate: Median=4.00, Mean=4.00, STDev=2.59, Min=1.00, Max=8.00\n",
      "\tCapable: Median=6.00, Mean=5.67, STDev=2.77, Min=1.00, Max=9.00\n",
      "\tResponsive: Median=3.00, Mean=3.83, STDev=2.69, Min=1.00, Max=9.00\n",
      "\tReliable: Median=4.50, Mean=4.67, STDev=3.06, Min=1.00, Max=9.00\n",
      "\tCompetent: Median=7.00, Mean=5.92, STDev=2.81, Min=1.00, Max=9.00\n",
      "\tScary: Median=3.00, Mean=3.92, STDev=3.03, Min=1.00, Max=9.00\n",
      "\tAwkward: Median=3.00, Mean=3.67, STDev=2.27, Min=1.00, Max=8.00\n",
      "\tDangerous: Median=2.00, Mean=3.67, STDev=3.28, Min=1.00, Max=9.00\n",
      "\tAggressive: Median=4.00, Mean=4.67, STDev=3.31, Min=1.00, Max=9.00\n",
      "\tHunger: Median=2.00, Mean=2.92, STDev=2.02, Min=1.00, Max=6.00\n",
      "\tFear: Median=1.00, Mean=1.58, STDev=0.90, Min=1.00, Max=4.00\n",
      "\tPain: Median=2.00, Mean=1.92, STDev=1.08, Min=1.00, Max=4.00\n",
      "\tPleasure: Median=4.00, Mean=3.58, STDev=1.62, Min=1.00, Max=6.00\n",
      "\tRage: Median=4.00, Mean=3.75, STDev=2.45, Min=1.00, Max=7.00\n",
      "\tDesire: Median=4.00, Mean=4.17, STDev=2.21, Min=1.00, Max=7.00\n",
      "\tPersonality: Median=4.50, Mean=4.17, STDev=2.33, Min=1.00, Max=7.00\n",
      "\tConsciousness: Median=4.00, Mean=3.42, STDev=2.02, Min=1.00, Max=7.00\n",
      "\tPride: Median=2.00, Mean=2.92, STDev=1.98, Min=1.00, Max=7.00\n",
      "\tEmbarassment: Median=2.00, Mean=2.58, STDev=1.73, Min=1.00, Max=6.00\n",
      "\tJoy: Median=3.00, Mean=3.25, STDev=1.91, Min=1.00, Max=6.00\n",
      "\tSelf-Control: Median=3.50, Mean=3.50, STDev=2.15, Min=1.00, Max=7.00\n",
      "\tMorality: Median=3.00, Mean=2.83, STDev=1.70, Min=1.00, Max=6.00\n",
      "\tMemory: Median=2.50, Mean=2.83, STDev=1.64, Min=1.00, Max=6.00\n",
      "\tEmotion Recognition: Median=2.00, Mean=2.55, STDev=1.63, Min=1.00, Max=6.00\n",
      "\tPlanning: Median=4.00, Mean=3.50, STDev=1.83, Min=1.00, Max=6.00\n",
      "\tCommunication: Median=3.50, Mean=3.83, STDev=1.95, Min=1.00, Max=6.00\n",
      "\tThought: Median=4.00, Mean=3.83, STDev=2.12, Min=1.00, Max=7.00\n",
      "\n",
      "statistics for entraining\n",
      "\tHappy: Median=2.50, Mean=2.67, STDev=1.78, Min=1.00, Max=6.00\n",
      "\tFeeling: Median=3.50, Mean=4.25, STDev=3.05, Min=1.00, Max=9.00\n",
      "\tOrganic: Median=2.50, Mean=3.33, STDev=2.46, Min=1.00, Max=8.00\n",
      "\tCompassionate: Median=3.50, Mean=4.08, STDev=2.81, Min=1.00, Max=9.00\n",
      "\tCapable: Median=3.00, Mean=3.67, STDev=2.81, Min=1.00, Max=9.00\n",
      "\tResponsive: Median=4.50, Mean=4.17, STDev=2.95, Min=1.00, Max=9.00\n",
      "\tReliable: Median=3.00, Mean=3.83, STDev=2.69, Min=1.00, Max=9.00\n",
      "\tCompetent: Median=4.50, Mean=4.50, STDev=2.78, Min=1.00, Max=9.00\n",
      "\tScary: Median=2.00, Mean=2.33, STDev=2.19, Min=1.00, Max=9.00\n",
      "\tAwkward: Median=5.00, Mean=4.58, STDev=2.39, Min=1.00, Max=9.00\n",
      "\tDangerous: Median=1.50, Mean=2.42, STDev=2.07, Min=1.00, Max=7.00\n",
      "\tAggressive: Median=1.50, Mean=2.33, STDev=1.61, Min=1.00, Max=5.00\n",
      "\tHunger: Median=1.50, Mean=2.67, STDev=2.10, Min=1.00, Max=7.00\n",
      "\tFear: Median=2.00, Mean=2.33, STDev=1.83, Min=1.00, Max=7.00\n",
      "\tPain: Median=2.00, Mean=2.17, STDev=1.75, Min=1.00, Max=7.00\n",
      "\tPleasure: Median=2.00, Mean=2.58, STDev=1.88, Min=1.00, Max=7.00\n",
      "\tRage: Median=2.00, Mean=2.42, STDev=1.73, Min=1.00, Max=6.00\n",
      "\tDesire: Median=4.00, Mean=3.67, STDev=2.23, Min=1.00, Max=7.00\n",
      "\tPersonality: Median=4.50, Mean=4.08, STDev=2.43, Min=1.00, Max=7.00\n",
      "\tConsciousness: Median=5.00, Mean=4.33, STDev=2.42, Min=1.00, Max=7.00\n",
      "\tPride: Median=2.00, Mean=3.09, STDev=2.12, Min=1.00, Max=7.00\n",
      "\tEmbarassment: Median=2.50, Mean=3.08, STDev=2.11, Min=1.00, Max=7.00\n",
      "\tJoy: Median=2.00, Mean=3.00, STDev=2.17, Min=1.00, Max=7.00\n",
      "\tSelf-Control: Median=5.00, Mean=4.17, STDev=2.33, Min=1.00, Max=7.00\n",
      "\tMorality: Median=4.00, Mean=3.58, STDev=1.93, Min=1.00, Max=7.00\n",
      "\tMemory: Median=3.00, Mean=3.08, STDev=1.78, Min=1.00, Max=6.00\n",
      "\tEmotion Recognition: Median=3.50, Mean=3.75, STDev=2.14, Min=1.00, Max=7.00\n",
      "\tPlanning: Median=4.00, Mean=3.45, STDev=1.75, Min=1.00, Max=7.00\n",
      "\tCommunication: Median=3.00, Mean=3.42, STDev=1.78, Min=1.00, Max=6.00\n",
      "\tThought: Median=4.50, Mean=4.17, STDev=1.95, Min=1.00, Max=7.00\n",
      "\n",
      "statistics for launching with a temporal gap\n",
      "\tHappy: Median=1.00, Mean=2.00, STDev=1.76, Min=1.00, Max=6.00\n",
      "\tFeeling: Median=2.00, Mean=3.83, STDev=3.38, Min=1.00, Max=9.00\n",
      "\tOrganic: Median=1.50, Mean=2.83, STDev=2.29, Min=1.00, Max=7.00\n",
      "\tCompassionate: Median=1.50, Mean=3.08, STDev=3.12, Min=1.00, Max=9.00\n",
      "\tCapable: Median=4.00, Mean=4.75, STDev=3.28, Min=1.00, Max=9.00\n",
      "\tResponsive: Median=4.00, Mean=4.50, STDev=3.53, Min=1.00, Max=9.00\n",
      "\tReliable: Median=2.50, Mean=3.75, STDev=3.05, Min=1.00, Max=9.00\n",
      "\tCompetent: Median=5.50, Mean=4.83, STDev=3.30, Min=1.00, Max=9.00\n",
      "\tScary: Median=5.00, Mean=5.08, STDev=3.18, Min=1.00, Max=9.00\n",
      "\tAwkward: Median=5.00, Mean=4.25, STDev=2.18, Min=1.00, Max=7.00\n",
      "\tDangerous: Median=5.50, Mean=5.25, STDev=3.39, Min=1.00, Max=9.00\n",
      "\tAggressive: Median=6.00, Mean=5.42, STDev=3.45, Min=1.00, Max=9.00\n",
      "\tHunger: Median=3.00, Mean=3.50, STDev=2.50, Min=1.00, Max=7.00\n",
      "\tFear: Median=1.50, Mean=2.50, STDev=2.07, Min=1.00, Max=7.00\n",
      "\tPain: Median=3.50, Mean=3.50, STDev=2.35, Min=1.00, Max=7.00\n",
      "\tPleasure: Median=2.00, Mean=2.33, STDev=1.44, Min=1.00, Max=5.00\n",
      "\tRage: Median=4.00, Mean=4.25, STDev=2.09, Min=1.00, Max=7.00\n",
      "\tDesire: Median=4.00, Mean=3.75, STDev=2.18, Min=1.00, Max=7.00\n",
      "\tPersonality: Median=4.50, Mean=4.00, STDev=2.22, Min=1.00, Max=7.00\n",
      "\tConsciousness: Median=3.50, Mean=3.50, STDev=2.15, Min=1.00, Max=7.00\n",
      "\tPride: Median=2.50, Mean=3.17, STDev=1.99, Min=1.00, Max=7.00\n",
      "\tEmbarassment: Median=2.50, Mean=2.83, STDev=1.53, Min=1.00, Max=5.00\n",
      "\tJoy: Median=2.50, Mean=2.75, STDev=1.71, Min=1.00, Max=6.00\n",
      "\tSelf-Control: Median=3.50, Mean=3.08, STDev=1.98, Min=1.00, Max=6.00\n",
      "\tMorality: Median=3.50, Mean=3.17, STDev=1.40, Min=1.00, Max=5.00\n",
      "\tMemory: Median=3.00, Mean=2.58, STDev=1.51, Min=1.00, Max=5.00\n",
      "\tEmotion Recognition: Median=3.00, Mean=3.17, STDev=1.34, Min=1.00, Max=5.00\n",
      "\tPlanning: Median=3.50, Mean=3.17, STDev=1.53, Min=1.00, Max=6.00\n",
      "\tCommunication: Median=3.00, Mean=2.83, STDev=1.70, Min=1.00, Max=7.00\n",
      "\tThought: Median=3.00, Mean=3.00, STDev=1.60, Min=1.00, Max=5.00\n",
      "\n",
      "statistics for launching with a spatial gap\n",
      "\tHappy: Median=1.50, Mean=1.83, STDev=0.94, Min=1.00, Max=3.00\n",
      "\tFeeling: Median=2.50, Mean=3.00, STDev=2.45, Min=1.00, Max=9.00\n",
      "\tOrganic: Median=3.00, Mean=3.00, STDev=2.09, Min=1.00, Max=7.00\n",
      "\tCompassionate: Median=2.50, Mean=3.75, STDev=2.99, Min=1.00, Max=9.00\n",
      "\tCapable: Median=3.00, Mean=3.08, STDev=1.98, Min=1.00, Max=7.00\n",
      "\tResponsive: Median=4.50, Mean=3.83, STDev=2.04, Min=1.00, Max=7.00\n",
      "\tReliable: Median=3.50, Mean=3.58, STDev=2.27, Min=1.00, Max=8.00\n",
      "\tCompetent: Median=4.00, Mean=3.50, STDev=1.88, Min=1.00, Max=6.00\n",
      "\tScary: Median=1.50, Mean=3.50, STDev=3.29, Min=1.00, Max=9.00\n",
      "\tAwkward: Median=5.00, Mean=4.67, STDev=2.93, Min=1.00, Max=9.00\n",
      "\tDangerous: Median=4.00, Mean=3.92, STDev=2.64, Min=1.00, Max=7.00\n",
      "\tAggressive: Median=2.00, Mean=3.17, STDev=2.29, Min=1.00, Max=7.00\n"
     ]
    },
    {
     "name": "stdout",
     "output_type": "stream",
     "text": [
      "\tHunger: Median=2.50, Mean=2.75, STDev=2.05, Min=1.00, Max=7.00\n",
      "\tFear: Median=2.00, Mean=2.83, STDev=2.12, Min=1.00, Max=7.00\n",
      "\tPain: Median=2.00, Mean=3.25, STDev=2.49, Min=1.00, Max=7.00\n",
      "\tPleasure: Median=2.00, Mean=2.58, STDev=1.68, Min=1.00, Max=6.00\n",
      "\tRage: Median=2.00, Mean=2.92, STDev=2.02, Min=1.00, Max=6.00\n",
      "\tDesire: Median=3.50, Mean=3.67, STDev=2.19, Min=1.00, Max=7.00\n",
      "\tPersonality: Median=2.50, Mean=3.17, STDev=2.25, Min=1.00, Max=7.00\n",
      "\tConsciousness: Median=3.50, Mean=3.33, STDev=1.83, Min=1.00, Max=6.00\n",
      "\tPride: Median=2.00, Mean=2.17, STDev=1.27, Min=1.00, Max=5.00\n",
      "\tEmbarassment: Median=4.00, Mean=3.67, STDev=1.83, Min=1.00, Max=7.00\n",
      "\tJoy: Median=2.00, Mean=2.82, STDev=1.60, Min=1.00, Max=5.00\n",
      "\tSelf-Control: Median=4.00, Mean=4.00, STDev=1.81, Min=1.00, Max=7.00\n",
      "\tMorality: Median=2.50, Mean=2.50, STDev=1.17, Min=1.00, Max=4.00\n",
      "\tMemory: Median=2.50, Mean=2.58, STDev=1.62, Min=1.00, Max=5.00\n",
      "\tEmotion Recognition: Median=3.00, Mean=3.25, STDev=1.60, Min=1.00, Max=6.00\n",
      "\tPlanning: Median=4.00, Mean=3.33, STDev=1.61, Min=1.00, Max=6.00\n",
      "\tCommunication: Median=3.00, Mean=2.92, STDev=1.16, Min=1.00, Max=4.00\n",
      "\tThought: Median=3.00, Mean=3.08, STDev=1.73, Min=1.00, Max=6.00\n",
      "\n",
      "statistics for tool effect\n",
      "\tHappy: Median=2.50, Mean=3.58, STDev=2.75, Min=1.00, Max=9.00\n",
      "\tFeeling: Median=3.50, Mean=3.92, STDev=2.75, Min=1.00, Max=9.00\n",
      "\tOrganic: Median=5.00, Mean=4.08, STDev=2.68, Min=1.00, Max=9.00\n",
      "\tCompassionate: Median=4.00, Mean=4.08, STDev=2.91, Min=1.00, Max=9.00\n",
      "\tCapable: Median=5.00, Mean=4.45, STDev=2.94, Min=1.00, Max=9.00\n",
      "\tResponsive: Median=4.50, Mean=4.58, STDev=3.00, Min=1.00, Max=9.00\n",
      "\tReliable: Median=3.50, Mean=4.33, STDev=2.84, Min=1.00, Max=9.00\n",
      "\tCompetent: Median=3.50, Mean=4.17, STDev=2.92, Min=1.00, Max=9.00\n",
      "\tScary: Median=2.00, Mean=1.92, STDev=0.67, Min=1.00, Max=3.00\n",
      "\tAwkward: Median=3.00, Mean=2.92, STDev=1.93, Min=1.00, Max=8.00\n",
      "\tDangerous: Median=2.00, Mean=2.75, STDev=1.82, Min=1.00, Max=6.00\n",
      "\tAggressive: Median=1.50, Mean=2.17, STDev=1.47, Min=1.00, Max=5.00\n",
      "\tHunger: Median=2.00, Mean=2.08, STDev=1.16, Min=1.00, Max=4.00\n",
      "\tFear: Median=2.50, Mean=2.67, STDev=1.72, Min=1.00, Max=6.00\n",
      "\tPain: Median=2.00, Mean=2.33, STDev=1.37, Min=1.00, Max=5.00\n",
      "\tPleasure: Median=2.50, Mean=2.75, STDev=1.71, Min=1.00, Max=6.00\n",
      "\tRage: Median=1.50, Mean=2.33, STDev=1.67, Min=1.00, Max=6.00\n",
      "\tDesire: Median=3.00, Mean=3.17, STDev=1.90, Min=1.00, Max=6.00\n",
      "\tPersonality: Median=3.00, Mean=2.92, STDev=1.62, Min=1.00, Max=6.00\n",
      "\tConsciousness: Median=3.00, Mean=3.00, STDev=1.60, Min=1.00, Max=6.00\n",
      "\tPride: Median=2.00, Mean=2.42, STDev=1.38, Min=1.00, Max=5.00\n",
      "\tEmbarassment: Median=2.00, Mean=2.25, STDev=1.54, Min=1.00, Max=6.00\n",
      "\tJoy: Median=3.00, Mean=3.00, STDev=2.04, Min=1.00, Max=7.00\n",
      "\tSelf-Control: Median=2.50, Mean=2.75, STDev=1.71, Min=1.00, Max=6.00\n",
      "\tMorality: Median=3.00, Mean=2.67, STDev=1.44, Min=1.00, Max=5.00\n",
      "\tMemory: Median=2.00, Mean=2.83, STDev=1.90, Min=1.00, Max=6.00\n",
      "\tEmotion Recognition: Median=2.50, Mean=2.50, STDev=1.51, Min=1.00, Max=6.00\n",
      "\tPlanning: Median=4.00, Mean=3.92, STDev=2.07, Min=1.00, Max=7.00\n",
      "\tCommunication: Median=3.00, Mean=3.17, STDev=1.90, Min=1.00, Max=6.00\n",
      "\tThought: Median=4.00, Mean=3.75, STDev=1.91, Min=1.00, Max=7.00\n"
     ]
    }
   ],
   "source": [
    "def compute_stats(pd_data, anim_name, column_name):\n",
    "    #col = pd_data[column_name]\n",
    "    col = pd_data.get(anim_name).get(column_name)\n",
    "    print(\"\\t%s: Median=%.2f, Mean=%.2f, STDev=%.2f, Min=%.2f, Max=%.2f\" % (column_name, \n",
    "          col.median(), col.mean(), col.std(), col.min(), col.max()))\n",
    "    \n",
    "for animation in data_paired.keys():\n",
    "    print(\"\\nstatistics for \" + animation)\n",
    "    for key in data_paired[animation]:\n",
    "        compute_stats(data_paired, animation, key)"
   ]
  },
  {
   "cell_type": "markdown",
   "metadata": {},
   "source": [
    "## Plot distribution for each dimension of the model\n",
    "You can explore in the plots the variation among capacities between fundamental action."
   ]
  },
  {
   "cell_type": "code",
   "execution_count": 175,
   "metadata": {},
   "outputs": [
    {
     "data": {
      "application/vnd.plotly.v1+json": {
       "config": {
        "plotlyServerURL": "https://plot.ly"
       },
       "data": [
        {
         "box": {
          "visible": true
         },
         "meanline": {
          "visible": true
         },
         "name": "Happy",
         "points": "all",
         "type": "violin",
         "x": [
          "Happy",
          "Happy",
          "Happy",
          "Happy",
          "Happy",
          "Happy",
          "Happy",
          "Happy",
          "Happy",
          "Happy",
          "Happy",
          "Happy"
         ],
         "y": [
          1,
          6,
          1,
          3,
          7,
          1,
          2,
          6,
          1,
          3,
          4,
          3
         ]
        },
        {
         "box": {
          "visible": true
         },
         "meanline": {
          "visible": true
         },
         "name": "Feeling",
         "points": "all",
         "type": "violin",
         "x": [
          "Feeling",
          "Feeling",
          "Feeling",
          "Feeling",
          "Feeling",
          "Feeling",
          "Feeling",
          "Feeling",
          "Feeling",
          "Feeling",
          "Feeling",
          "Feeling"
         ],
         "y": [
          1,
          8,
          1,
          6,
          7,
          2,
          5,
          7,
          1,
          1,
          5,
          5
         ]
        },
        {
         "box": {
          "visible": true
         },
         "meanline": {
          "visible": true
         },
         "name": "Organic",
         "points": "all",
         "type": "violin",
         "x": [
          "Organic",
          "Organic",
          "Organic",
          "Organic",
          "Organic",
          "Organic",
          "Organic",
          "Organic",
          "Organic",
          "Organic",
          "Organic",
          "Organic"
         ],
         "y": [
          4,
          8,
          1,
          2,
          8,
          2,
          4,
          2,
          1,
          2,
          4,
          1
         ]
        },
        {
         "box": {
          "visible": true
         },
         "meanline": {
          "visible": true
         },
         "name": "Compassionate",
         "points": "all",
         "type": "violin",
         "x": [
          "Compassionate",
          "Compassionate",
          "Compassionate",
          "Compassionate",
          "Compassionate",
          "Compassionate",
          "Compassionate",
          "Compassionate",
          "Compassionate",
          "Compassionate",
          "Compassionate",
          "Compassionate"
         ],
         "y": [
          4,
          6,
          1,
          5,
          4,
          3,
          3,
          5,
          1,
          2,
          2,
          1
         ]
        },
        {
         "box": {
          "visible": true
         },
         "meanline": {
          "visible": true
         },
         "name": "Capable",
         "points": "all",
         "type": "violin",
         "x": [
          "Capable",
          "Capable",
          "Capable",
          "Capable",
          "Capable",
          "Capable",
          "Capable",
          "Capable",
          "Capable",
          "Capable",
          "Capable",
          "Capable"
         ],
         "y": [
          4,
          6,
          1,
          8,
          7,
          2,
          6,
          3,
          1,
          4,
          9,
          8
         ]
        },
        {
         "box": {
          "visible": true
         },
         "meanline": {
          "visible": true
         },
         "name": "Responsive",
         "points": "all",
         "type": "violin",
         "x": [
          "Responsive",
          "Responsive",
          "Responsive",
          "Responsive",
          "Responsive",
          "Responsive",
          "Responsive",
          "Responsive",
          "Responsive",
          "Responsive",
          "Responsive",
          "Responsive"
         ],
         "y": [
          2,
          6,
          1,
          2,
          7,
          2,
          7,
          1,
          1,
          2,
          3,
          7
         ]
        },
        {
         "box": {
          "visible": true
         },
         "meanline": {
          "visible": true
         },
         "name": "Reliable",
         "points": "all",
         "type": "violin",
         "x": [
          "Reliable",
          "Reliable",
          "Reliable",
          "Reliable",
          "Reliable",
          "Reliable",
          "Reliable",
          "Reliable",
          "Reliable",
          "Reliable",
          "Reliable",
          "Reliable"
         ],
         "y": [
          2,
          7,
          1,
          2,
          7,
          6,
          6,
          8,
          1,
          5,
          3,
          4
         ]
        },
        {
         "box": {
          "visible": true
         },
         "meanline": {
          "visible": true
         },
         "name": "Competent",
         "points": "all",
         "type": "violin",
         "x": [
          "Competent",
          "Competent",
          "Competent",
          "Competent",
          "Competent",
          "Competent",
          "Competent",
          "Competent",
          "Competent",
          "Competent",
          "Competent",
          "Competent"
         ],
         "y": [
          4,
          7,
          1,
          3,
          7,
          6,
          4,
          8,
          1,
          5,
          9,
          8
         ]
        },
        {
         "box": {
          "visible": true
         },
         "meanline": {
          "visible": true
         },
         "name": "Scary",
         "points": "all",
         "type": "violin",
         "x": [
          "Scary",
          "Scary",
          "Scary",
          "Scary",
          "Scary",
          "Scary",
          "Scary",
          "Scary",
          "Scary",
          "Scary",
          "Scary",
          "Scary"
         ],
         "y": [
          2,
          3,
          2,
          7,
          4,
          5,
          6,
          2,
          1,
          5,
          8,
          5
         ]
        },
        {
         "box": {
          "visible": true
         },
         "meanline": {
          "visible": true
         },
         "name": "Awkward",
         "points": "all",
         "type": "violin",
         "x": [
          "Awkward",
          "Awkward",
          "Awkward",
          "Awkward",
          "Awkward",
          "Awkward",
          "Awkward",
          "Awkward",
          "Awkward",
          "Awkward",
          "Awkward",
          "Awkward"
         ],
         "y": [
          1,
          2,
          1,
          8,
          4,
          4,
          2,
          7,
          1,
          8,
          8,
          1
         ]
        },
        {
         "box": {
          "visible": true
         },
         "meanline": {
          "visible": true
         },
         "name": "Dangerous",
         "points": "all",
         "type": "violin",
         "x": [
          "Dangerous",
          "Dangerous",
          "Dangerous",
          "Dangerous",
          "Dangerous",
          "Dangerous",
          "Dangerous",
          "Dangerous",
          "Dangerous",
          "Dangerous",
          "Dangerous",
          "Dangerous"
         ],
         "y": [
          1,
          6,
          2,
          8,
          4,
          4,
          2,
          2,
          1,
          2,
          8,
          8
         ]
        },
        {
         "box": {
          "visible": true
         },
         "meanline": {
          "visible": true
         },
         "name": "Aggressive",
         "points": "all",
         "type": "violin",
         "x": [
          "Aggressive",
          "Aggressive",
          "Aggressive",
          "Aggressive",
          "Aggressive",
          "Aggressive",
          "Aggressive",
          "Aggressive",
          "Aggressive",
          "Aggressive",
          "Aggressive",
          "Aggressive"
         ],
         "y": [
          1,
          8,
          6,
          8,
          8,
          5,
          7,
          2,
          1,
          5,
          8,
          8
         ]
        },
        {
         "box": {
          "visible": true
         },
         "meanline": {
          "visible": true
         },
         "name": "Hunger",
         "points": "all",
         "type": "violin",
         "x": [
          "Hunger",
          "Hunger",
          "Hunger",
          "Hunger",
          "Hunger",
          "Hunger",
          "Hunger",
          "Hunger",
          "Hunger",
          "Hunger",
          "Hunger",
          "Hunger"
         ],
         "y": [
          1,
          6,
          1,
          5,
          6,
          1,
          1,
          2,
          1,
          2,
          3,
          6
         ]
        },
        {
         "box": {
          "visible": true
         },
         "meanline": {
          "visible": true
         },
         "name": "Fear",
         "points": "all",
         "type": "violin",
         "x": [
          "Fear",
          "Fear",
          "Fear",
          "Fear",
          "Fear",
          "Fear",
          "Fear",
          "Fear",
          "Fear",
          "Fear",
          "Fear",
          "Fear"
         ],
         "y": [
          1,
          2,
          3,
          2,
          3,
          2,
          1,
          2,
          1,
          2,
          2,
          5
         ]
        },
        {
         "box": {
          "visible": true
         },
         "meanline": {
          "visible": true
         },
         "name": "Pain",
         "points": "all",
         "type": "violin",
         "x": [
          "Pain",
          "Pain",
          "Pain",
          "Pain",
          "Pain",
          "Pain",
          "Pain",
          "Pain",
          "Pain",
          "Pain",
          "Pain",
          "Pain"
         ],
         "y": [
          1,
          1,
          1,
          6,
          3,
          3,
          1,
          1,
          1,
          1,
          6,
          4
         ]
        },
        {
         "box": {
          "visible": true
         },
         "meanline": {
          "visible": true
         },
         "name": "Pleasure",
         "points": "all",
         "type": "violin",
         "x": [
          "Pleasure",
          "Pleasure",
          "Pleasure",
          "Pleasure",
          "Pleasure",
          "Pleasure",
          "Pleasure",
          "Pleasure",
          "Pleasure",
          "Pleasure",
          "Pleasure",
          "Pleasure"
         ],
         "y": [
          1,
          5,
          1,
          5,
          6,
          1,
          3,
          5,
          1,
          1,
          2,
          4
         ]
        },
        {
         "box": {
          "visible": true
         },
         "meanline": {
          "visible": true
         },
         "name": "Rage",
         "points": "all",
         "type": "violin",
         "x": [
          "Rage",
          "Rage",
          "Rage",
          "Rage",
          "Rage",
          "Rage",
          "Rage",
          "Rage",
          "Rage",
          "Rage",
          "Rage",
          "Rage"
         ],
         "y": [
          1,
          6,
          1,
          7,
          6,
          1,
          4,
          2,
          1,
          3,
          6,
          4
         ]
        },
        {
         "box": {
          "visible": true
         },
         "meanline": {
          "visible": true
         },
         "name": "Desire",
         "points": "all",
         "type": "violin",
         "x": [
          "Desire",
          "Desire",
          "Desire",
          "Desire",
          "Desire",
          "Desire",
          "Desire",
          "Desire",
          "Desire",
          "Desire",
          "Desire",
          "Desire"
         ],
         "y": [
          1,
          6,
          4,
          6,
          6,
          3,
          3,
          2,
          1,
          1,
          2,
          2
         ]
        },
        {
         "box": {
          "visible": true
         },
         "meanline": {
          "visible": true
         },
         "name": "Personality",
         "points": "all",
         "type": "violin",
         "x": [
          "Personality",
          "Personality",
          "Personality",
          "Personality",
          "Personality",
          "Personality",
          "Personality",
          "Personality",
          "Personality",
          "Personality",
          "Personality",
          "Personality"
         ],
         "y": [
          1,
          6,
          1,
          5,
          6,
          2,
          4,
          5,
          1,
          1,
          5,
          5
         ]
        },
        {
         "box": {
          "visible": true
         },
         "meanline": {
          "visible": true
         },
         "name": "Consciousness",
         "points": "all",
         "type": "violin",
         "x": [
          "Consciousness",
          "Consciousness",
          "Consciousness",
          "Consciousness",
          "Consciousness",
          "Consciousness",
          "Consciousness",
          "Consciousness",
          "Consciousness",
          "Consciousness",
          "Consciousness",
          "Consciousness"
         ],
         "y": [
          1,
          6,
          1,
          2,
          6,
          1,
          5,
          6,
          1,
          1,
          4,
          4
         ]
        },
        {
         "box": {
          "visible": true
         },
         "meanline": {
          "visible": true
         },
         "name": "Pride",
         "points": "all",
         "type": "violin",
         "x": [
          "Pride",
          "Pride",
          "Pride",
          "Pride",
          "Pride",
          "Pride",
          "Pride",
          "Pride",
          "Pride",
          "Pride",
          "Pride",
          "Pride"
         ],
         "y": [
          1,
          7,
          1,
          5,
          6,
          1,
          2,
          5,
          1,
          2,
          6,
          2
         ]
        },
        {
         "box": {
          "visible": true
         },
         "meanline": {
          "visible": true
         },
         "name": "Embarassment",
         "points": "all",
         "type": "violin",
         "x": [
          "Embarassment",
          "Embarassment",
          "Embarassment",
          "Embarassment",
          "Embarassment",
          "Embarassment",
          "Embarassment",
          "Embarassment",
          "Embarassment",
          "Embarassment",
          "Embarassment",
          "Embarassment"
         ],
         "y": [
          1,
          1,
          1,
          1,
          2,
          1,
          2,
          3,
          1,
          1,
          6,
          1
         ]
        },
        {
         "box": {
          "visible": true
         },
         "meanline": {
          "visible": true
         },
         "name": "Joy",
         "points": "all",
         "type": "violin",
         "x": [
          "Joy",
          "Joy",
          "Joy",
          "Joy",
          "Joy",
          "Joy",
          "Joy",
          "Joy",
          "Joy",
          "Joy",
          "Joy",
          "Joy"
         ],
         "y": [
          1,
          5,
          1,
          4,
          4,
          1,
          2,
          5,
          1,
          1,
          6,
          1
         ]
        },
        {
         "box": {
          "visible": true
         },
         "meanline": {
          "visible": true
         },
         "name": "Self-Control",
         "points": "all",
         "type": "violin",
         "x": [
          "Self-Control",
          "Self-Control",
          "Self-Control",
          "Self-Control",
          "Self-Control",
          "Self-Control",
          "Self-Control",
          "Self-Control",
          "Self-Control",
          "Self-Control",
          "Self-Control",
          "Self-Control"
         ],
         "y": [
          1,
          7,
          4,
          3,
          4,
          1,
          5,
          6,
          1,
          1,
          6,
          3
         ]
        },
        {
         "box": {
          "visible": true
         },
         "meanline": {
          "visible": true
         },
         "name": "Morality",
         "points": "all",
         "type": "violin",
         "x": [
          "Morality",
          "Morality",
          "Morality",
          "Morality",
          "Morality",
          "Morality",
          "Morality",
          "Morality",
          "Morality",
          "Morality",
          "Morality",
          "Morality"
         ],
         "y": [
          1,
          7,
          1,
          2,
          4,
          1,
          5,
          4,
          1,
          1,
          6,
          2
         ]
        },
        {
         "box": {
          "visible": true
         },
         "meanline": {
          "visible": true
         },
         "name": "Memory",
         "points": "all",
         "type": "violin",
         "x": [
          "Memory",
          "Memory",
          "Memory",
          "Memory",
          "Memory",
          "Memory",
          "Memory",
          "Memory",
          "Memory",
          "Memory",
          "Memory",
          "Memory"
         ],
         "y": [
          1,
          7,
          1,
          3,
          4,
          1,
          5,
          5,
          1,
          1,
          6,
          2
         ]
        },
        {
         "box": {
          "visible": true
         },
         "meanline": {
          "visible": true
         },
         "name": "Emotion Recognition",
         "points": "all",
         "type": "violin",
         "x": [
          "Emotion Recognition",
          "Emotion Recognition",
          "Emotion Recognition",
          "Emotion Recognition",
          "Emotion Recognition",
          "Emotion Recognition",
          "Emotion Recognition",
          "Emotion Recognition",
          "Emotion Recognition",
          "Emotion Recognition",
          "Emotion Recognition",
          "Emotion Recognition"
         ],
         "y": [
          1,
          7,
          1,
          2,
          3,
          1,
          2,
          6,
          1,
          1,
          2,
          2
         ]
        },
        {
         "box": {
          "visible": true
         },
         "meanline": {
          "visible": true
         },
         "name": "Planning",
         "points": "all",
         "type": "violin",
         "x": [
          "Planning",
          "Planning",
          "Planning",
          "Planning",
          "Planning",
          "Planning",
          "Planning",
          "Planning",
          "Planning",
          "Planning",
          "Planning",
          "Planning"
         ],
         "y": [
          1,
          7,
          1,
          2,
          6,
          2,
          5,
          3,
          1,
          1,
          3,
          4
         ]
        },
        {
         "box": {
          "visible": true
         },
         "meanline": {
          "visible": true
         },
         "name": "Communication",
         "points": "all",
         "type": "violin",
         "x": [
          "Communication",
          "Communication",
          "Communication",
          "Communication",
          "Communication",
          "Communication",
          "Communication",
          "Communication",
          "Communication",
          "Communication",
          "Communication",
          "Communication"
         ],
         "y": [
          1,
          6,
          4,
          4,
          3,
          3,
          2,
          2,
          1,
          1,
          4,
          3
         ]
        },
        {
         "box": {
          "visible": true
         },
         "meanline": {
          "visible": true
         },
         "name": "Thought",
         "points": "all",
         "type": "violin",
         "x": [
          "Thought",
          "Thought",
          "Thought",
          "Thought",
          "Thought",
          "Thought",
          "Thought",
          "Thought",
          "Thought",
          "Thought",
          "Thought",
          "Thought"
         ],
         "y": [
          1,
          5,
          1,
          5,
          4,
          1,
          5,
          5,
          1,
          1,
          4,
          5
         ]
        }
       ],
       "layout": {
        "template": {
         "data": {
          "bar": [
           {
            "error_x": {
             "color": "#2a3f5f"
            },
            "error_y": {
             "color": "#2a3f5f"
            },
            "marker": {
             "line": {
              "color": "#E5ECF6",
              "width": 0.5
             }
            },
            "type": "bar"
           }
          ],
          "barpolar": [
           {
            "marker": {
             "line": {
              "color": "#E5ECF6",
              "width": 0.5
             }
            },
            "type": "barpolar"
           }
          ],
          "carpet": [
           {
            "aaxis": {
             "endlinecolor": "#2a3f5f",
             "gridcolor": "white",
             "linecolor": "white",
             "minorgridcolor": "white",
             "startlinecolor": "#2a3f5f"
            },
            "baxis": {
             "endlinecolor": "#2a3f5f",
             "gridcolor": "white",
             "linecolor": "white",
             "minorgridcolor": "white",
             "startlinecolor": "#2a3f5f"
            },
            "type": "carpet"
           }
          ],
          "choropleth": [
           {
            "colorbar": {
             "outlinewidth": 0,
             "ticks": ""
            },
            "type": "choropleth"
           }
          ],
          "contour": [
           {
            "colorbar": {
             "outlinewidth": 0,
             "ticks": ""
            },
            "colorscale": [
             [
              0,
              "#0d0887"
             ],
             [
              0.1111111111111111,
              "#46039f"
             ],
             [
              0.2222222222222222,
              "#7201a8"
             ],
             [
              0.3333333333333333,
              "#9c179e"
             ],
             [
              0.4444444444444444,
              "#bd3786"
             ],
             [
              0.5555555555555556,
              "#d8576b"
             ],
             [
              0.6666666666666666,
              "#ed7953"
             ],
             [
              0.7777777777777778,
              "#fb9f3a"
             ],
             [
              0.8888888888888888,
              "#fdca26"
             ],
             [
              1,
              "#f0f921"
             ]
            ],
            "type": "contour"
           }
          ],
          "contourcarpet": [
           {
            "colorbar": {
             "outlinewidth": 0,
             "ticks": ""
            },
            "type": "contourcarpet"
           }
          ],
          "heatmap": [
           {
            "colorbar": {
             "outlinewidth": 0,
             "ticks": ""
            },
            "colorscale": [
             [
              0,
              "#0d0887"
             ],
             [
              0.1111111111111111,
              "#46039f"
             ],
             [
              0.2222222222222222,
              "#7201a8"
             ],
             [
              0.3333333333333333,
              "#9c179e"
             ],
             [
              0.4444444444444444,
              "#bd3786"
             ],
             [
              0.5555555555555556,
              "#d8576b"
             ],
             [
              0.6666666666666666,
              "#ed7953"
             ],
             [
              0.7777777777777778,
              "#fb9f3a"
             ],
             [
              0.8888888888888888,
              "#fdca26"
             ],
             [
              1,
              "#f0f921"
             ]
            ],
            "type": "heatmap"
           }
          ],
          "heatmapgl": [
           {
            "colorbar": {
             "outlinewidth": 0,
             "ticks": ""
            },
            "colorscale": [
             [
              0,
              "#0d0887"
             ],
             [
              0.1111111111111111,
              "#46039f"
             ],
             [
              0.2222222222222222,
              "#7201a8"
             ],
             [
              0.3333333333333333,
              "#9c179e"
             ],
             [
              0.4444444444444444,
              "#bd3786"
             ],
             [
              0.5555555555555556,
              "#d8576b"
             ],
             [
              0.6666666666666666,
              "#ed7953"
             ],
             [
              0.7777777777777778,
              "#fb9f3a"
             ],
             [
              0.8888888888888888,
              "#fdca26"
             ],
             [
              1,
              "#f0f921"
             ]
            ],
            "type": "heatmapgl"
           }
          ],
          "histogram": [
           {
            "marker": {
             "colorbar": {
              "outlinewidth": 0,
              "ticks": ""
             }
            },
            "type": "histogram"
           }
          ],
          "histogram2d": [
           {
            "colorbar": {
             "outlinewidth": 0,
             "ticks": ""
            },
            "colorscale": [
             [
              0,
              "#0d0887"
             ],
             [
              0.1111111111111111,
              "#46039f"
             ],
             [
              0.2222222222222222,
              "#7201a8"
             ],
             [
              0.3333333333333333,
              "#9c179e"
             ],
             [
              0.4444444444444444,
              "#bd3786"
             ],
             [
              0.5555555555555556,
              "#d8576b"
             ],
             [
              0.6666666666666666,
              "#ed7953"
             ],
             [
              0.7777777777777778,
              "#fb9f3a"
             ],
             [
              0.8888888888888888,
              "#fdca26"
             ],
             [
              1,
              "#f0f921"
             ]
            ],
            "type": "histogram2d"
           }
          ],
          "histogram2dcontour": [
           {
            "colorbar": {
             "outlinewidth": 0,
             "ticks": ""
            },
            "colorscale": [
             [
              0,
              "#0d0887"
             ],
             [
              0.1111111111111111,
              "#46039f"
             ],
             [
              0.2222222222222222,
              "#7201a8"
             ],
             [
              0.3333333333333333,
              "#9c179e"
             ],
             [
              0.4444444444444444,
              "#bd3786"
             ],
             [
              0.5555555555555556,
              "#d8576b"
             ],
             [
              0.6666666666666666,
              "#ed7953"
             ],
             [
              0.7777777777777778,
              "#fb9f3a"
             ],
             [
              0.8888888888888888,
              "#fdca26"
             ],
             [
              1,
              "#f0f921"
             ]
            ],
            "type": "histogram2dcontour"
           }
          ],
          "mesh3d": [
           {
            "colorbar": {
             "outlinewidth": 0,
             "ticks": ""
            },
            "type": "mesh3d"
           }
          ],
          "parcoords": [
           {
            "line": {
             "colorbar": {
              "outlinewidth": 0,
              "ticks": ""
             }
            },
            "type": "parcoords"
           }
          ],
          "pie": [
           {
            "automargin": true,
            "type": "pie"
           }
          ],
          "scatter": [
           {
            "marker": {
             "colorbar": {
              "outlinewidth": 0,
              "ticks": ""
             }
            },
            "type": "scatter"
           }
          ],
          "scatter3d": [
           {
            "line": {
             "colorbar": {
              "outlinewidth": 0,
              "ticks": ""
             }
            },
            "marker": {
             "colorbar": {
              "outlinewidth": 0,
              "ticks": ""
             }
            },
            "type": "scatter3d"
           }
          ],
          "scattercarpet": [
           {
            "marker": {
             "colorbar": {
              "outlinewidth": 0,
              "ticks": ""
             }
            },
            "type": "scattercarpet"
           }
          ],
          "scattergeo": [
           {
            "marker": {
             "colorbar": {
              "outlinewidth": 0,
              "ticks": ""
             }
            },
            "type": "scattergeo"
           }
          ],
          "scattergl": [
           {
            "marker": {
             "colorbar": {
              "outlinewidth": 0,
              "ticks": ""
             }
            },
            "type": "scattergl"
           }
          ],
          "scattermapbox": [
           {
            "marker": {
             "colorbar": {
              "outlinewidth": 0,
              "ticks": ""
             }
            },
            "type": "scattermapbox"
           }
          ],
          "scatterpolar": [
           {
            "marker": {
             "colorbar": {
              "outlinewidth": 0,
              "ticks": ""
             }
            },
            "type": "scatterpolar"
           }
          ],
          "scatterpolargl": [
           {
            "marker": {
             "colorbar": {
              "outlinewidth": 0,
              "ticks": ""
             }
            },
            "type": "scatterpolargl"
           }
          ],
          "scatterternary": [
           {
            "marker": {
             "colorbar": {
              "outlinewidth": 0,
              "ticks": ""
             }
            },
            "type": "scatterternary"
           }
          ],
          "surface": [
           {
            "colorbar": {
             "outlinewidth": 0,
             "ticks": ""
            },
            "colorscale": [
             [
              0,
              "#0d0887"
             ],
             [
              0.1111111111111111,
              "#46039f"
             ],
             [
              0.2222222222222222,
              "#7201a8"
             ],
             [
              0.3333333333333333,
              "#9c179e"
             ],
             [
              0.4444444444444444,
              "#bd3786"
             ],
             [
              0.5555555555555556,
              "#d8576b"
             ],
             [
              0.6666666666666666,
              "#ed7953"
             ],
             [
              0.7777777777777778,
              "#fb9f3a"
             ],
             [
              0.8888888888888888,
              "#fdca26"
             ],
             [
              1,
              "#f0f921"
             ]
            ],
            "type": "surface"
           }
          ],
          "table": [
           {
            "cells": {
             "fill": {
              "color": "#EBF0F8"
             },
             "line": {
              "color": "white"
             }
            },
            "header": {
             "fill": {
              "color": "#C8D4E3"
             },
             "line": {
              "color": "white"
             }
            },
            "type": "table"
           }
          ]
         },
         "layout": {
          "annotationdefaults": {
           "arrowcolor": "#2a3f5f",
           "arrowhead": 0,
           "arrowwidth": 1
          },
          "coloraxis": {
           "colorbar": {
            "outlinewidth": 0,
            "ticks": ""
           }
          },
          "colorscale": {
           "diverging": [
            [
             0,
             "#8e0152"
            ],
            [
             0.1,
             "#c51b7d"
            ],
            [
             0.2,
             "#de77ae"
            ],
            [
             0.3,
             "#f1b6da"
            ],
            [
             0.4,
             "#fde0ef"
            ],
            [
             0.5,
             "#f7f7f7"
            ],
            [
             0.6,
             "#e6f5d0"
            ],
            [
             0.7,
             "#b8e186"
            ],
            [
             0.8,
             "#7fbc41"
            ],
            [
             0.9,
             "#4d9221"
            ],
            [
             1,
             "#276419"
            ]
           ],
           "sequential": [
            [
             0,
             "#0d0887"
            ],
            [
             0.1111111111111111,
             "#46039f"
            ],
            [
             0.2222222222222222,
             "#7201a8"
            ],
            [
             0.3333333333333333,
             "#9c179e"
            ],
            [
             0.4444444444444444,
             "#bd3786"
            ],
            [
             0.5555555555555556,
             "#d8576b"
            ],
            [
             0.6666666666666666,
             "#ed7953"
            ],
            [
             0.7777777777777778,
             "#fb9f3a"
            ],
            [
             0.8888888888888888,
             "#fdca26"
            ],
            [
             1,
             "#f0f921"
            ]
           ],
           "sequentialminus": [
            [
             0,
             "#0d0887"
            ],
            [
             0.1111111111111111,
             "#46039f"
            ],
            [
             0.2222222222222222,
             "#7201a8"
            ],
            [
             0.3333333333333333,
             "#9c179e"
            ],
            [
             0.4444444444444444,
             "#bd3786"
            ],
            [
             0.5555555555555556,
             "#d8576b"
            ],
            [
             0.6666666666666666,
             "#ed7953"
            ],
            [
             0.7777777777777778,
             "#fb9f3a"
            ],
            [
             0.8888888888888888,
             "#fdca26"
            ],
            [
             1,
             "#f0f921"
            ]
           ]
          },
          "colorway": [
           "#636efa",
           "#EF553B",
           "#00cc96",
           "#ab63fa",
           "#FFA15A",
           "#19d3f3",
           "#FF6692",
           "#B6E880",
           "#FF97FF",
           "#FECB52"
          ],
          "font": {
           "color": "#2a3f5f"
          },
          "geo": {
           "bgcolor": "white",
           "lakecolor": "white",
           "landcolor": "#E5ECF6",
           "showlakes": true,
           "showland": true,
           "subunitcolor": "white"
          },
          "hoverlabel": {
           "align": "left"
          },
          "hovermode": "closest",
          "mapbox": {
           "style": "light"
          },
          "paper_bgcolor": "white",
          "plot_bgcolor": "#E5ECF6",
          "polar": {
           "angularaxis": {
            "gridcolor": "white",
            "linecolor": "white",
            "ticks": ""
           },
           "bgcolor": "#E5ECF6",
           "radialaxis": {
            "gridcolor": "white",
            "linecolor": "white",
            "ticks": ""
           }
          },
          "scene": {
           "xaxis": {
            "backgroundcolor": "#E5ECF6",
            "gridcolor": "white",
            "gridwidth": 2,
            "linecolor": "white",
            "showbackground": true,
            "ticks": "",
            "zerolinecolor": "white"
           },
           "yaxis": {
            "backgroundcolor": "#E5ECF6",
            "gridcolor": "white",
            "gridwidth": 2,
            "linecolor": "white",
            "showbackground": true,
            "ticks": "",
            "zerolinecolor": "white"
           },
           "zaxis": {
            "backgroundcolor": "#E5ECF6",
            "gridcolor": "white",
            "gridwidth": 2,
            "linecolor": "white",
            "showbackground": true,
            "ticks": "",
            "zerolinecolor": "white"
           }
          },
          "shapedefaults": {
           "line": {
            "color": "#2a3f5f"
           }
          },
          "ternary": {
           "aaxis": {
            "gridcolor": "white",
            "linecolor": "white",
            "ticks": ""
           },
           "baxis": {
            "gridcolor": "white",
            "linecolor": "white",
            "ticks": ""
           },
           "bgcolor": "#E5ECF6",
           "caxis": {
            "gridcolor": "white",
            "linecolor": "white",
            "ticks": ""
           }
          },
          "title": {
           "x": 0.05
          },
          "xaxis": {
           "automargin": true,
           "gridcolor": "white",
           "linecolor": "white",
           "ticks": "",
           "title": {
            "standoff": 15
           },
           "zerolinecolor": "white",
           "zerolinewidth": 2
          },
          "yaxis": {
           "automargin": true,
           "gridcolor": "white",
           "linecolor": "white",
           "ticks": "",
           "title": {
            "standoff": 15
           },
           "zerolinecolor": "white",
           "zerolinewidth": 2
          }
         }
        },
        "title": {
         "text": "launching"
        }
       }
      },
      "text/html": [
       "<div>\n",
       "        \n",
       "        \n",
       "            <div id=\"145825ee-7d22-4c83-9605-45ad156ea8f5\" class=\"plotly-graph-div\" style=\"height:525px; width:100%;\"></div>\n",
       "            <script type=\"text/javascript\">\n",
       "                require([\"plotly\"], function(Plotly) {\n",
       "                    window.PLOTLYENV=window.PLOTLYENV || {};\n",
       "                    \n",
       "                if (document.getElementById(\"145825ee-7d22-4c83-9605-45ad156ea8f5\")) {\n",
       "                    Plotly.newPlot(\n",
       "                        '145825ee-7d22-4c83-9605-45ad156ea8f5',\n",
       "                        [{\"box\": {\"visible\": true}, \"meanline\": {\"visible\": true}, \"name\": \"Happy\", \"points\": \"all\", \"type\": \"violin\", \"x\": [\"Happy\", \"Happy\", \"Happy\", \"Happy\", \"Happy\", \"Happy\", \"Happy\", \"Happy\", \"Happy\", \"Happy\", \"Happy\", \"Happy\"], \"y\": [1, 6, 1, 3, 7, 1, 2, 6, 1, 3, 4, 3]}, {\"box\": {\"visible\": true}, \"meanline\": {\"visible\": true}, \"name\": \"Feeling\", \"points\": \"all\", \"type\": \"violin\", \"x\": [\"Feeling\", \"Feeling\", \"Feeling\", \"Feeling\", \"Feeling\", \"Feeling\", \"Feeling\", \"Feeling\", \"Feeling\", \"Feeling\", \"Feeling\", \"Feeling\"], \"y\": [1, 8, 1, 6, 7, 2, 5, 7, 1, 1, 5, 5]}, {\"box\": {\"visible\": true}, \"meanline\": {\"visible\": true}, \"name\": \"Organic\", \"points\": \"all\", \"type\": \"violin\", \"x\": [\"Organic\", \"Organic\", \"Organic\", \"Organic\", \"Organic\", \"Organic\", \"Organic\", \"Organic\", \"Organic\", \"Organic\", \"Organic\", \"Organic\"], \"y\": [4, 8, 1, 2, 8, 2, 4, 2, 1, 2, 4, 1]}, {\"box\": {\"visible\": true}, \"meanline\": {\"visible\": true}, \"name\": \"Compassionate\", \"points\": \"all\", \"type\": \"violin\", \"x\": [\"Compassionate\", \"Compassionate\", \"Compassionate\", \"Compassionate\", \"Compassionate\", \"Compassionate\", \"Compassionate\", \"Compassionate\", \"Compassionate\", \"Compassionate\", \"Compassionate\", \"Compassionate\"], \"y\": [4, 6, 1, 5, 4, 3, 3, 5, 1, 2, 2, 1]}, {\"box\": {\"visible\": true}, \"meanline\": {\"visible\": true}, \"name\": \"Capable\", \"points\": \"all\", \"type\": \"violin\", \"x\": [\"Capable\", \"Capable\", \"Capable\", \"Capable\", \"Capable\", \"Capable\", \"Capable\", \"Capable\", \"Capable\", \"Capable\", \"Capable\", \"Capable\"], \"y\": [4, 6, 1, 8, 7, 2, 6, 3, 1, 4, 9, 8]}, {\"box\": {\"visible\": true}, \"meanline\": {\"visible\": true}, \"name\": \"Responsive\", \"points\": \"all\", \"type\": \"violin\", \"x\": [\"Responsive\", \"Responsive\", \"Responsive\", \"Responsive\", \"Responsive\", \"Responsive\", \"Responsive\", \"Responsive\", \"Responsive\", \"Responsive\", \"Responsive\", \"Responsive\"], \"y\": [2, 6, 1, 2, 7, 2, 7, 1, 1, 2, 3, 7]}, {\"box\": {\"visible\": true}, \"meanline\": {\"visible\": true}, \"name\": \"Reliable\", \"points\": \"all\", \"type\": \"violin\", \"x\": [\"Reliable\", \"Reliable\", \"Reliable\", \"Reliable\", \"Reliable\", \"Reliable\", \"Reliable\", \"Reliable\", \"Reliable\", \"Reliable\", \"Reliable\", \"Reliable\"], \"y\": [2, 7, 1, 2, 7, 6, 6, 8, 1, 5, 3, 4]}, {\"box\": {\"visible\": true}, \"meanline\": {\"visible\": true}, \"name\": \"Competent\", \"points\": \"all\", \"type\": \"violin\", \"x\": [\"Competent\", \"Competent\", \"Competent\", \"Competent\", \"Competent\", \"Competent\", \"Competent\", \"Competent\", \"Competent\", \"Competent\", \"Competent\", \"Competent\"], \"y\": [4, 7, 1, 3, 7, 6, 4, 8, 1, 5, 9, 8]}, {\"box\": {\"visible\": true}, \"meanline\": {\"visible\": true}, \"name\": \"Scary\", \"points\": \"all\", \"type\": \"violin\", \"x\": [\"Scary\", \"Scary\", \"Scary\", \"Scary\", \"Scary\", \"Scary\", \"Scary\", \"Scary\", \"Scary\", \"Scary\", \"Scary\", \"Scary\"], \"y\": [2, 3, 2, 7, 4, 5, 6, 2, 1, 5, 8, 5]}, {\"box\": {\"visible\": true}, \"meanline\": {\"visible\": true}, \"name\": \"Awkward\", \"points\": \"all\", \"type\": \"violin\", \"x\": [\"Awkward\", \"Awkward\", \"Awkward\", \"Awkward\", \"Awkward\", \"Awkward\", \"Awkward\", \"Awkward\", \"Awkward\", \"Awkward\", \"Awkward\", \"Awkward\"], \"y\": [1, 2, 1, 8, 4, 4, 2, 7, 1, 8, 8, 1]}, {\"box\": {\"visible\": true}, \"meanline\": {\"visible\": true}, \"name\": \"Dangerous\", \"points\": \"all\", \"type\": \"violin\", \"x\": [\"Dangerous\", \"Dangerous\", \"Dangerous\", \"Dangerous\", \"Dangerous\", \"Dangerous\", \"Dangerous\", \"Dangerous\", \"Dangerous\", \"Dangerous\", \"Dangerous\", \"Dangerous\"], \"y\": [1, 6, 2, 8, 4, 4, 2, 2, 1, 2, 8, 8]}, {\"box\": {\"visible\": true}, \"meanline\": {\"visible\": true}, \"name\": \"Aggressive\", \"points\": \"all\", \"type\": \"violin\", \"x\": [\"Aggressive\", \"Aggressive\", \"Aggressive\", \"Aggressive\", \"Aggressive\", \"Aggressive\", \"Aggressive\", \"Aggressive\", \"Aggressive\", \"Aggressive\", \"Aggressive\", \"Aggressive\"], \"y\": [1, 8, 6, 8, 8, 5, 7, 2, 1, 5, 8, 8]}, {\"box\": {\"visible\": true}, \"meanline\": {\"visible\": true}, \"name\": \"Hunger\", \"points\": \"all\", \"type\": \"violin\", \"x\": [\"Hunger\", \"Hunger\", \"Hunger\", \"Hunger\", \"Hunger\", \"Hunger\", \"Hunger\", \"Hunger\", \"Hunger\", \"Hunger\", \"Hunger\", \"Hunger\"], \"y\": [1, 6, 1, 5, 6, 1, 1, 2, 1, 2, 3, 6]}, {\"box\": {\"visible\": true}, \"meanline\": {\"visible\": true}, \"name\": \"Fear\", \"points\": \"all\", \"type\": \"violin\", \"x\": [\"Fear\", \"Fear\", \"Fear\", \"Fear\", \"Fear\", \"Fear\", \"Fear\", \"Fear\", \"Fear\", \"Fear\", \"Fear\", \"Fear\"], \"y\": [1, 2, 3, 2, 3, 2, 1, 2, 1, 2, 2, 5]}, {\"box\": {\"visible\": true}, \"meanline\": {\"visible\": true}, \"name\": \"Pain\", \"points\": \"all\", \"type\": \"violin\", \"x\": [\"Pain\", \"Pain\", \"Pain\", \"Pain\", \"Pain\", \"Pain\", \"Pain\", \"Pain\", \"Pain\", \"Pain\", \"Pain\", \"Pain\"], \"y\": [1, 1, 1, 6, 3, 3, 1, 1, 1, 1, 6, 4]}, {\"box\": {\"visible\": true}, \"meanline\": {\"visible\": true}, \"name\": \"Pleasure\", \"points\": \"all\", \"type\": \"violin\", \"x\": [\"Pleasure\", \"Pleasure\", \"Pleasure\", \"Pleasure\", \"Pleasure\", \"Pleasure\", \"Pleasure\", \"Pleasure\", \"Pleasure\", \"Pleasure\", \"Pleasure\", \"Pleasure\"], \"y\": [1, 5, 1, 5, 6, 1, 3, 5, 1, 1, 2, 4]}, {\"box\": {\"visible\": true}, \"meanline\": {\"visible\": true}, \"name\": \"Rage\", \"points\": \"all\", \"type\": \"violin\", \"x\": [\"Rage\", \"Rage\", \"Rage\", \"Rage\", \"Rage\", \"Rage\", \"Rage\", \"Rage\", \"Rage\", \"Rage\", \"Rage\", \"Rage\"], \"y\": [1, 6, 1, 7, 6, 1, 4, 2, 1, 3, 6, 4]}, {\"box\": {\"visible\": true}, \"meanline\": {\"visible\": true}, \"name\": \"Desire\", \"points\": \"all\", \"type\": \"violin\", \"x\": [\"Desire\", \"Desire\", \"Desire\", \"Desire\", \"Desire\", \"Desire\", \"Desire\", \"Desire\", \"Desire\", \"Desire\", \"Desire\", \"Desire\"], \"y\": [1, 6, 4, 6, 6, 3, 3, 2, 1, 1, 2, 2]}, {\"box\": {\"visible\": true}, \"meanline\": {\"visible\": true}, \"name\": \"Personality\", \"points\": \"all\", \"type\": \"violin\", \"x\": [\"Personality\", \"Personality\", \"Personality\", \"Personality\", \"Personality\", \"Personality\", \"Personality\", \"Personality\", \"Personality\", \"Personality\", \"Personality\", \"Personality\"], \"y\": [1, 6, 1, 5, 6, 2, 4, 5, 1, 1, 5, 5]}, {\"box\": {\"visible\": true}, \"meanline\": {\"visible\": true}, \"name\": \"Consciousness\", \"points\": \"all\", \"type\": \"violin\", \"x\": [\"Consciousness\", \"Consciousness\", \"Consciousness\", \"Consciousness\", \"Consciousness\", \"Consciousness\", \"Consciousness\", \"Consciousness\", \"Consciousness\", \"Consciousness\", \"Consciousness\", \"Consciousness\"], \"y\": [1, 6, 1, 2, 6, 1, 5, 6, 1, 1, 4, 4]}, {\"box\": {\"visible\": true}, \"meanline\": {\"visible\": true}, \"name\": \"Pride\", \"points\": \"all\", \"type\": \"violin\", \"x\": [\"Pride\", \"Pride\", \"Pride\", \"Pride\", \"Pride\", \"Pride\", \"Pride\", \"Pride\", \"Pride\", \"Pride\", \"Pride\", \"Pride\"], \"y\": [1, 7, 1, 5, 6, 1, 2, 5, 1, 2, 6, 2]}, {\"box\": {\"visible\": true}, \"meanline\": {\"visible\": true}, \"name\": \"Embarassment\", \"points\": \"all\", \"type\": \"violin\", \"x\": [\"Embarassment\", \"Embarassment\", \"Embarassment\", \"Embarassment\", \"Embarassment\", \"Embarassment\", \"Embarassment\", \"Embarassment\", \"Embarassment\", \"Embarassment\", \"Embarassment\", \"Embarassment\"], \"y\": [1, 1, 1, 1, 2, 1, 2, 3, 1, 1, 6, 1]}, {\"box\": {\"visible\": true}, \"meanline\": {\"visible\": true}, \"name\": \"Joy\", \"points\": \"all\", \"type\": \"violin\", \"x\": [\"Joy\", \"Joy\", \"Joy\", \"Joy\", \"Joy\", \"Joy\", \"Joy\", \"Joy\", \"Joy\", \"Joy\", \"Joy\", \"Joy\"], \"y\": [1, 5, 1, 4, 4, 1, 2, 5, 1, 1, 6, 1]}, {\"box\": {\"visible\": true}, \"meanline\": {\"visible\": true}, \"name\": \"Self-Control\", \"points\": \"all\", \"type\": \"violin\", \"x\": [\"Self-Control\", \"Self-Control\", \"Self-Control\", \"Self-Control\", \"Self-Control\", \"Self-Control\", \"Self-Control\", \"Self-Control\", \"Self-Control\", \"Self-Control\", \"Self-Control\", \"Self-Control\"], \"y\": [1, 7, 4, 3, 4, 1, 5, 6, 1, 1, 6, 3]}, {\"box\": {\"visible\": true}, \"meanline\": {\"visible\": true}, \"name\": \"Morality\", \"points\": \"all\", \"type\": \"violin\", \"x\": [\"Morality\", \"Morality\", \"Morality\", \"Morality\", \"Morality\", \"Morality\", \"Morality\", \"Morality\", \"Morality\", \"Morality\", \"Morality\", \"Morality\"], \"y\": [1, 7, 1, 2, 4, 1, 5, 4, 1, 1, 6, 2]}, {\"box\": {\"visible\": true}, \"meanline\": {\"visible\": true}, \"name\": \"Memory\", \"points\": \"all\", \"type\": \"violin\", \"x\": [\"Memory\", \"Memory\", \"Memory\", \"Memory\", \"Memory\", \"Memory\", \"Memory\", \"Memory\", \"Memory\", \"Memory\", \"Memory\", \"Memory\"], \"y\": [1, 7, 1, 3, 4, 1, 5, 5, 1, 1, 6, 2]}, {\"box\": {\"visible\": true}, \"meanline\": {\"visible\": true}, \"name\": \"Emotion Recognition\", \"points\": \"all\", \"type\": \"violin\", \"x\": [\"Emotion Recognition\", \"Emotion Recognition\", \"Emotion Recognition\", \"Emotion Recognition\", \"Emotion Recognition\", \"Emotion Recognition\", \"Emotion Recognition\", \"Emotion Recognition\", \"Emotion Recognition\", \"Emotion Recognition\", \"Emotion Recognition\", \"Emotion Recognition\"], \"y\": [1, 7, 1, 2, 3, 1, 2, 6, 1, 1, 2, 2]}, {\"box\": {\"visible\": true}, \"meanline\": {\"visible\": true}, \"name\": \"Planning\", \"points\": \"all\", \"type\": \"violin\", \"x\": [\"Planning\", \"Planning\", \"Planning\", \"Planning\", \"Planning\", \"Planning\", \"Planning\", \"Planning\", \"Planning\", \"Planning\", \"Planning\", \"Planning\"], \"y\": [1, 7, 1, 2, 6, 2, 5, 3, 1, 1, 3, 4]}, {\"box\": {\"visible\": true}, \"meanline\": {\"visible\": true}, \"name\": \"Communication\", \"points\": \"all\", \"type\": \"violin\", \"x\": [\"Communication\", \"Communication\", \"Communication\", \"Communication\", \"Communication\", \"Communication\", \"Communication\", \"Communication\", \"Communication\", \"Communication\", \"Communication\", \"Communication\"], \"y\": [1, 6, 4, 4, 3, 3, 2, 2, 1, 1, 4, 3]}, {\"box\": {\"visible\": true}, \"meanline\": {\"visible\": true}, \"name\": \"Thought\", \"points\": \"all\", \"type\": \"violin\", \"x\": [\"Thought\", \"Thought\", \"Thought\", \"Thought\", \"Thought\", \"Thought\", \"Thought\", \"Thought\", \"Thought\", \"Thought\", \"Thought\", \"Thought\"], \"y\": [1, 5, 1, 5, 4, 1, 5, 5, 1, 1, 4, 5]}],\n",
       "                        {\"template\": {\"data\": {\"bar\": [{\"error_x\": {\"color\": \"#2a3f5f\"}, \"error_y\": {\"color\": \"#2a3f5f\"}, \"marker\": {\"line\": {\"color\": \"#E5ECF6\", \"width\": 0.5}}, \"type\": \"bar\"}], \"barpolar\": [{\"marker\": {\"line\": {\"color\": \"#E5ECF6\", \"width\": 0.5}}, \"type\": \"barpolar\"}], \"carpet\": [{\"aaxis\": {\"endlinecolor\": \"#2a3f5f\", \"gridcolor\": \"white\", \"linecolor\": \"white\", \"minorgridcolor\": \"white\", \"startlinecolor\": \"#2a3f5f\"}, \"baxis\": {\"endlinecolor\": \"#2a3f5f\", \"gridcolor\": \"white\", \"linecolor\": \"white\", \"minorgridcolor\": \"white\", \"startlinecolor\": \"#2a3f5f\"}, \"type\": \"carpet\"}], \"choropleth\": [{\"colorbar\": {\"outlinewidth\": 0, \"ticks\": \"\"}, \"type\": \"choropleth\"}], \"contour\": [{\"colorbar\": {\"outlinewidth\": 0, \"ticks\": \"\"}, \"colorscale\": [[0.0, \"#0d0887\"], [0.1111111111111111, \"#46039f\"], [0.2222222222222222, \"#7201a8\"], [0.3333333333333333, \"#9c179e\"], [0.4444444444444444, \"#bd3786\"], [0.5555555555555556, \"#d8576b\"], [0.6666666666666666, \"#ed7953\"], [0.7777777777777778, \"#fb9f3a\"], [0.8888888888888888, \"#fdca26\"], [1.0, \"#f0f921\"]], \"type\": \"contour\"}], \"contourcarpet\": [{\"colorbar\": {\"outlinewidth\": 0, \"ticks\": \"\"}, \"type\": \"contourcarpet\"}], \"heatmap\": [{\"colorbar\": {\"outlinewidth\": 0, \"ticks\": \"\"}, \"colorscale\": [[0.0, \"#0d0887\"], [0.1111111111111111, \"#46039f\"], [0.2222222222222222, \"#7201a8\"], [0.3333333333333333, \"#9c179e\"], [0.4444444444444444, \"#bd3786\"], [0.5555555555555556, \"#d8576b\"], [0.6666666666666666, \"#ed7953\"], [0.7777777777777778, \"#fb9f3a\"], [0.8888888888888888, \"#fdca26\"], [1.0, \"#f0f921\"]], \"type\": \"heatmap\"}], \"heatmapgl\": [{\"colorbar\": {\"outlinewidth\": 0, \"ticks\": \"\"}, \"colorscale\": [[0.0, \"#0d0887\"], [0.1111111111111111, \"#46039f\"], [0.2222222222222222, \"#7201a8\"], [0.3333333333333333, \"#9c179e\"], [0.4444444444444444, \"#bd3786\"], [0.5555555555555556, \"#d8576b\"], [0.6666666666666666, \"#ed7953\"], [0.7777777777777778, \"#fb9f3a\"], [0.8888888888888888, \"#fdca26\"], [1.0, \"#f0f921\"]], \"type\": \"heatmapgl\"}], \"histogram\": [{\"marker\": {\"colorbar\": {\"outlinewidth\": 0, \"ticks\": \"\"}}, \"type\": \"histogram\"}], \"histogram2d\": [{\"colorbar\": {\"outlinewidth\": 0, \"ticks\": \"\"}, \"colorscale\": [[0.0, \"#0d0887\"], [0.1111111111111111, \"#46039f\"], [0.2222222222222222, \"#7201a8\"], [0.3333333333333333, \"#9c179e\"], [0.4444444444444444, \"#bd3786\"], [0.5555555555555556, \"#d8576b\"], [0.6666666666666666, \"#ed7953\"], [0.7777777777777778, \"#fb9f3a\"], [0.8888888888888888, \"#fdca26\"], [1.0, \"#f0f921\"]], \"type\": \"histogram2d\"}], \"histogram2dcontour\": [{\"colorbar\": {\"outlinewidth\": 0, \"ticks\": \"\"}, \"colorscale\": [[0.0, \"#0d0887\"], [0.1111111111111111, \"#46039f\"], [0.2222222222222222, \"#7201a8\"], [0.3333333333333333, \"#9c179e\"], [0.4444444444444444, \"#bd3786\"], [0.5555555555555556, \"#d8576b\"], [0.6666666666666666, \"#ed7953\"], [0.7777777777777778, \"#fb9f3a\"], [0.8888888888888888, \"#fdca26\"], [1.0, \"#f0f921\"]], \"type\": \"histogram2dcontour\"}], \"mesh3d\": [{\"colorbar\": {\"outlinewidth\": 0, \"ticks\": \"\"}, \"type\": \"mesh3d\"}], \"parcoords\": [{\"line\": {\"colorbar\": {\"outlinewidth\": 0, \"ticks\": \"\"}}, \"type\": \"parcoords\"}], \"pie\": [{\"automargin\": true, \"type\": \"pie\"}], \"scatter\": [{\"marker\": {\"colorbar\": {\"outlinewidth\": 0, \"ticks\": \"\"}}, \"type\": \"scatter\"}], \"scatter3d\": [{\"line\": {\"colorbar\": {\"outlinewidth\": 0, \"ticks\": \"\"}}, \"marker\": {\"colorbar\": {\"outlinewidth\": 0, \"ticks\": \"\"}}, \"type\": \"scatter3d\"}], \"scattercarpet\": [{\"marker\": {\"colorbar\": {\"outlinewidth\": 0, \"ticks\": \"\"}}, \"type\": \"scattercarpet\"}], \"scattergeo\": [{\"marker\": {\"colorbar\": {\"outlinewidth\": 0, \"ticks\": \"\"}}, \"type\": \"scattergeo\"}], \"scattergl\": [{\"marker\": {\"colorbar\": {\"outlinewidth\": 0, \"ticks\": \"\"}}, \"type\": \"scattergl\"}], \"scattermapbox\": [{\"marker\": {\"colorbar\": {\"outlinewidth\": 0, \"ticks\": \"\"}}, \"type\": \"scattermapbox\"}], \"scatterpolar\": [{\"marker\": {\"colorbar\": {\"outlinewidth\": 0, \"ticks\": \"\"}}, \"type\": \"scatterpolar\"}], \"scatterpolargl\": [{\"marker\": {\"colorbar\": {\"outlinewidth\": 0, \"ticks\": \"\"}}, \"type\": \"scatterpolargl\"}], \"scatterternary\": [{\"marker\": {\"colorbar\": {\"outlinewidth\": 0, \"ticks\": \"\"}}, \"type\": \"scatterternary\"}], \"surface\": [{\"colorbar\": {\"outlinewidth\": 0, \"ticks\": \"\"}, \"colorscale\": [[0.0, \"#0d0887\"], [0.1111111111111111, \"#46039f\"], [0.2222222222222222, \"#7201a8\"], [0.3333333333333333, \"#9c179e\"], [0.4444444444444444, \"#bd3786\"], [0.5555555555555556, \"#d8576b\"], [0.6666666666666666, \"#ed7953\"], [0.7777777777777778, \"#fb9f3a\"], [0.8888888888888888, \"#fdca26\"], [1.0, \"#f0f921\"]], \"type\": \"surface\"}], \"table\": [{\"cells\": {\"fill\": {\"color\": \"#EBF0F8\"}, \"line\": {\"color\": \"white\"}}, \"header\": {\"fill\": {\"color\": \"#C8D4E3\"}, \"line\": {\"color\": \"white\"}}, \"type\": \"table\"}]}, \"layout\": {\"annotationdefaults\": {\"arrowcolor\": \"#2a3f5f\", \"arrowhead\": 0, \"arrowwidth\": 1}, \"coloraxis\": {\"colorbar\": {\"outlinewidth\": 0, \"ticks\": \"\"}}, \"colorscale\": {\"diverging\": [[0, \"#8e0152\"], [0.1, \"#c51b7d\"], [0.2, \"#de77ae\"], [0.3, \"#f1b6da\"], [0.4, \"#fde0ef\"], [0.5, \"#f7f7f7\"], [0.6, \"#e6f5d0\"], [0.7, \"#b8e186\"], [0.8, \"#7fbc41\"], [0.9, \"#4d9221\"], [1, \"#276419\"]], \"sequential\": [[0.0, \"#0d0887\"], [0.1111111111111111, \"#46039f\"], [0.2222222222222222, \"#7201a8\"], [0.3333333333333333, \"#9c179e\"], [0.4444444444444444, \"#bd3786\"], [0.5555555555555556, \"#d8576b\"], [0.6666666666666666, \"#ed7953\"], [0.7777777777777778, \"#fb9f3a\"], [0.8888888888888888, \"#fdca26\"], [1.0, \"#f0f921\"]], \"sequentialminus\": [[0.0, \"#0d0887\"], [0.1111111111111111, \"#46039f\"], [0.2222222222222222, \"#7201a8\"], [0.3333333333333333, \"#9c179e\"], [0.4444444444444444, \"#bd3786\"], [0.5555555555555556, \"#d8576b\"], [0.6666666666666666, \"#ed7953\"], [0.7777777777777778, \"#fb9f3a\"], [0.8888888888888888, \"#fdca26\"], [1.0, \"#f0f921\"]]}, \"colorway\": [\"#636efa\", \"#EF553B\", \"#00cc96\", \"#ab63fa\", \"#FFA15A\", \"#19d3f3\", \"#FF6692\", \"#B6E880\", \"#FF97FF\", \"#FECB52\"], \"font\": {\"color\": \"#2a3f5f\"}, \"geo\": {\"bgcolor\": \"white\", \"lakecolor\": \"white\", \"landcolor\": \"#E5ECF6\", \"showlakes\": true, \"showland\": true, \"subunitcolor\": \"white\"}, \"hoverlabel\": {\"align\": \"left\"}, \"hovermode\": \"closest\", \"mapbox\": {\"style\": \"light\"}, \"paper_bgcolor\": \"white\", \"plot_bgcolor\": \"#E5ECF6\", \"polar\": {\"angularaxis\": {\"gridcolor\": \"white\", \"linecolor\": \"white\", \"ticks\": \"\"}, \"bgcolor\": \"#E5ECF6\", \"radialaxis\": {\"gridcolor\": \"white\", \"linecolor\": \"white\", \"ticks\": \"\"}}, \"scene\": {\"xaxis\": {\"backgroundcolor\": \"#E5ECF6\", \"gridcolor\": \"white\", \"gridwidth\": 2, \"linecolor\": \"white\", \"showbackground\": true, \"ticks\": \"\", \"zerolinecolor\": \"white\"}, \"yaxis\": {\"backgroundcolor\": \"#E5ECF6\", \"gridcolor\": \"white\", \"gridwidth\": 2, \"linecolor\": \"white\", \"showbackground\": true, \"ticks\": \"\", \"zerolinecolor\": \"white\"}, \"zaxis\": {\"backgroundcolor\": \"#E5ECF6\", \"gridcolor\": \"white\", \"gridwidth\": 2, \"linecolor\": \"white\", \"showbackground\": true, \"ticks\": \"\", \"zerolinecolor\": \"white\"}}, \"shapedefaults\": {\"line\": {\"color\": \"#2a3f5f\"}}, \"ternary\": {\"aaxis\": {\"gridcolor\": \"white\", \"linecolor\": \"white\", \"ticks\": \"\"}, \"baxis\": {\"gridcolor\": \"white\", \"linecolor\": \"white\", \"ticks\": \"\"}, \"bgcolor\": \"#E5ECF6\", \"caxis\": {\"gridcolor\": \"white\", \"linecolor\": \"white\", \"ticks\": \"\"}}, \"title\": {\"x\": 0.05}, \"xaxis\": {\"automargin\": true, \"gridcolor\": \"white\", \"linecolor\": \"white\", \"ticks\": \"\", \"title\": {\"standoff\": 15}, \"zerolinecolor\": \"white\", \"zerolinewidth\": 2}, \"yaxis\": {\"automargin\": true, \"gridcolor\": \"white\", \"linecolor\": \"white\", \"ticks\": \"\", \"title\": {\"standoff\": 15}, \"zerolinecolor\": \"white\", \"zerolinewidth\": 2}}}, \"title\": {\"text\": \"launching\"}},\n",
       "                        {\"responsive\": true}\n",
       "                    ).then(function(){\n",
       "                            \n",
       "var gd = document.getElementById('145825ee-7d22-4c83-9605-45ad156ea8f5');\n",
       "var x = new MutationObserver(function (mutations, observer) {{\n",
       "        var display = window.getComputedStyle(gd).display;\n",
       "        if (!display || display === 'none') {{\n",
       "            console.log([gd, 'removed!']);\n",
       "            Plotly.purge(gd);\n",
       "            observer.disconnect();\n",
       "        }}\n",
       "}});\n",
       "\n",
       "// Listen for the removal of the full notebook cells\n",
       "var notebookContainer = gd.closest('#notebook-container');\n",
       "if (notebookContainer) {{\n",
       "    x.observe(notebookContainer, {childList: true});\n",
       "}}\n",
       "\n",
       "// Listen for the clearing of the current output cell\n",
       "var outputEl = gd.closest('.output');\n",
       "if (outputEl) {{\n",
       "    x.observe(outputEl, {childList: true});\n",
       "}}\n",
       "\n",
       "                        })\n",
       "                };\n",
       "                });\n",
       "            </script>\n",
       "        </div>"
      ]
     },
     "metadata": {},
     "output_type": "display_data"
    },
    {
     "data": {
      "application/vnd.plotly.v1+json": {
       "config": {
        "plotlyServerURL": "https://plot.ly"
       },
       "data": [
        {
         "box": {
          "visible": true
         },
         "meanline": {
          "visible": true
         },
         "name": "Happy",
         "points": "all",
         "type": "violin",
         "x": [
          "Happy",
          "Happy",
          "Happy",
          "Happy",
          "Happy",
          "Happy",
          "Happy",
          "Happy",
          "Happy",
          "Happy",
          "Happy",
          "Happy"
         ],
         "y": [
          1,
          6,
          1,
          3,
          7,
          1,
          2,
          6,
          1,
          3,
          4,
          3
         ]
        },
        {
         "box": {
          "visible": true
         },
         "meanline": {
          "visible": true
         },
         "name": "Feeling",
         "points": "all",
         "type": "violin",
         "x": [
          "Feeling",
          "Feeling",
          "Feeling",
          "Feeling",
          "Feeling",
          "Feeling",
          "Feeling",
          "Feeling",
          "Feeling",
          "Feeling",
          "Feeling",
          "Feeling"
         ],
         "y": [
          1,
          8,
          1,
          6,
          7,
          2,
          5,
          7,
          1,
          1,
          5,
          5
         ]
        },
        {
         "box": {
          "visible": true
         },
         "meanline": {
          "visible": true
         },
         "name": "Organic",
         "points": "all",
         "type": "violin",
         "x": [
          "Organic",
          "Organic",
          "Organic",
          "Organic",
          "Organic",
          "Organic",
          "Organic",
          "Organic",
          "Organic",
          "Organic",
          "Organic",
          "Organic"
         ],
         "y": [
          4,
          8,
          1,
          2,
          8,
          2,
          4,
          2,
          1,
          2,
          4,
          1
         ]
        },
        {
         "box": {
          "visible": true
         },
         "meanline": {
          "visible": true
         },
         "name": "Compassionate",
         "points": "all",
         "type": "violin",
         "x": [
          "Compassionate",
          "Compassionate",
          "Compassionate",
          "Compassionate",
          "Compassionate",
          "Compassionate",
          "Compassionate",
          "Compassionate",
          "Compassionate",
          "Compassionate",
          "Compassionate",
          "Compassionate"
         ],
         "y": [
          4,
          6,
          1,
          5,
          4,
          3,
          3,
          5,
          1,
          2,
          2,
          1
         ]
        },
        {
         "box": {
          "visible": true
         },
         "meanline": {
          "visible": true
         },
         "name": "Capable",
         "points": "all",
         "type": "violin",
         "x": [
          "Capable",
          "Capable",
          "Capable",
          "Capable",
          "Capable",
          "Capable",
          "Capable",
          "Capable",
          "Capable",
          "Capable",
          "Capable",
          "Capable"
         ],
         "y": [
          4,
          6,
          1,
          8,
          7,
          2,
          6,
          3,
          1,
          4,
          9,
          8
         ]
        },
        {
         "box": {
          "visible": true
         },
         "meanline": {
          "visible": true
         },
         "name": "Responsive",
         "points": "all",
         "type": "violin",
         "x": [
          "Responsive",
          "Responsive",
          "Responsive",
          "Responsive",
          "Responsive",
          "Responsive",
          "Responsive",
          "Responsive",
          "Responsive",
          "Responsive",
          "Responsive",
          "Responsive"
         ],
         "y": [
          2,
          6,
          1,
          2,
          7,
          2,
          7,
          1,
          1,
          2,
          3,
          7
         ]
        },
        {
         "box": {
          "visible": true
         },
         "meanline": {
          "visible": true
         },
         "name": "Reliable",
         "points": "all",
         "type": "violin",
         "x": [
          "Reliable",
          "Reliable",
          "Reliable",
          "Reliable",
          "Reliable",
          "Reliable",
          "Reliable",
          "Reliable",
          "Reliable",
          "Reliable",
          "Reliable",
          "Reliable"
         ],
         "y": [
          2,
          7,
          1,
          2,
          7,
          6,
          6,
          8,
          1,
          5,
          3,
          4
         ]
        },
        {
         "box": {
          "visible": true
         },
         "meanline": {
          "visible": true
         },
         "name": "Competent",
         "points": "all",
         "type": "violin",
         "x": [
          "Competent",
          "Competent",
          "Competent",
          "Competent",
          "Competent",
          "Competent",
          "Competent",
          "Competent",
          "Competent",
          "Competent",
          "Competent",
          "Competent"
         ],
         "y": [
          4,
          7,
          1,
          3,
          7,
          6,
          4,
          8,
          1,
          5,
          9,
          8
         ]
        },
        {
         "box": {
          "visible": true
         },
         "meanline": {
          "visible": true
         },
         "name": "Scary",
         "points": "all",
         "type": "violin",
         "x": [
          "Scary",
          "Scary",
          "Scary",
          "Scary",
          "Scary",
          "Scary",
          "Scary",
          "Scary",
          "Scary",
          "Scary",
          "Scary",
          "Scary"
         ],
         "y": [
          2,
          3,
          2,
          7,
          4,
          5,
          6,
          2,
          1,
          5,
          8,
          5
         ]
        },
        {
         "box": {
          "visible": true
         },
         "meanline": {
          "visible": true
         },
         "name": "Awkward",
         "points": "all",
         "type": "violin",
         "x": [
          "Awkward",
          "Awkward",
          "Awkward",
          "Awkward",
          "Awkward",
          "Awkward",
          "Awkward",
          "Awkward",
          "Awkward",
          "Awkward",
          "Awkward",
          "Awkward"
         ],
         "y": [
          1,
          2,
          1,
          8,
          4,
          4,
          2,
          7,
          1,
          8,
          8,
          1
         ]
        },
        {
         "box": {
          "visible": true
         },
         "meanline": {
          "visible": true
         },
         "name": "Dangerous",
         "points": "all",
         "type": "violin",
         "x": [
          "Dangerous",
          "Dangerous",
          "Dangerous",
          "Dangerous",
          "Dangerous",
          "Dangerous",
          "Dangerous",
          "Dangerous",
          "Dangerous",
          "Dangerous",
          "Dangerous",
          "Dangerous"
         ],
         "y": [
          1,
          6,
          2,
          8,
          4,
          4,
          2,
          2,
          1,
          2,
          8,
          8
         ]
        },
        {
         "box": {
          "visible": true
         },
         "meanline": {
          "visible": true
         },
         "name": "Aggressive",
         "points": "all",
         "type": "violin",
         "x": [
          "Aggressive",
          "Aggressive",
          "Aggressive",
          "Aggressive",
          "Aggressive",
          "Aggressive",
          "Aggressive",
          "Aggressive",
          "Aggressive",
          "Aggressive",
          "Aggressive",
          "Aggressive"
         ],
         "y": [
          1,
          8,
          6,
          8,
          8,
          5,
          7,
          2,
          1,
          5,
          8,
          8
         ]
        },
        {
         "box": {
          "visible": true
         },
         "meanline": {
          "visible": true
         },
         "name": "Hunger",
         "points": "all",
         "type": "violin",
         "x": [
          "Hunger",
          "Hunger",
          "Hunger",
          "Hunger",
          "Hunger",
          "Hunger",
          "Hunger",
          "Hunger",
          "Hunger",
          "Hunger",
          "Hunger",
          "Hunger"
         ],
         "y": [
          1,
          6,
          1,
          5,
          6,
          1,
          1,
          2,
          1,
          2,
          3,
          6
         ]
        },
        {
         "box": {
          "visible": true
         },
         "meanline": {
          "visible": true
         },
         "name": "Fear",
         "points": "all",
         "type": "violin",
         "x": [
          "Fear",
          "Fear",
          "Fear",
          "Fear",
          "Fear",
          "Fear",
          "Fear",
          "Fear",
          "Fear",
          "Fear",
          "Fear",
          "Fear"
         ],
         "y": [
          1,
          2,
          3,
          2,
          3,
          2,
          1,
          2,
          1,
          2,
          2,
          5
         ]
        },
        {
         "box": {
          "visible": true
         },
         "meanline": {
          "visible": true
         },
         "name": "Pain",
         "points": "all",
         "type": "violin",
         "x": [
          "Pain",
          "Pain",
          "Pain",
          "Pain",
          "Pain",
          "Pain",
          "Pain",
          "Pain",
          "Pain",
          "Pain",
          "Pain",
          "Pain"
         ],
         "y": [
          1,
          1,
          1,
          6,
          3,
          3,
          1,
          1,
          1,
          1,
          6,
          4
         ]
        },
        {
         "box": {
          "visible": true
         },
         "meanline": {
          "visible": true
         },
         "name": "Pleasure",
         "points": "all",
         "type": "violin",
         "x": [
          "Pleasure",
          "Pleasure",
          "Pleasure",
          "Pleasure",
          "Pleasure",
          "Pleasure",
          "Pleasure",
          "Pleasure",
          "Pleasure",
          "Pleasure",
          "Pleasure",
          "Pleasure"
         ],
         "y": [
          1,
          5,
          1,
          5,
          6,
          1,
          3,
          5,
          1,
          1,
          2,
          4
         ]
        },
        {
         "box": {
          "visible": true
         },
         "meanline": {
          "visible": true
         },
         "name": "Rage",
         "points": "all",
         "type": "violin",
         "x": [
          "Rage",
          "Rage",
          "Rage",
          "Rage",
          "Rage",
          "Rage",
          "Rage",
          "Rage",
          "Rage",
          "Rage",
          "Rage",
          "Rage"
         ],
         "y": [
          1,
          6,
          1,
          7,
          6,
          1,
          4,
          2,
          1,
          3,
          6,
          4
         ]
        },
        {
         "box": {
          "visible": true
         },
         "meanline": {
          "visible": true
         },
         "name": "Desire",
         "points": "all",
         "type": "violin",
         "x": [
          "Desire",
          "Desire",
          "Desire",
          "Desire",
          "Desire",
          "Desire",
          "Desire",
          "Desire",
          "Desire",
          "Desire",
          "Desire",
          "Desire"
         ],
         "y": [
          1,
          6,
          4,
          6,
          6,
          3,
          3,
          2,
          1,
          1,
          2,
          2
         ]
        },
        {
         "box": {
          "visible": true
         },
         "meanline": {
          "visible": true
         },
         "name": "Personality",
         "points": "all",
         "type": "violin",
         "x": [
          "Personality",
          "Personality",
          "Personality",
          "Personality",
          "Personality",
          "Personality",
          "Personality",
          "Personality",
          "Personality",
          "Personality",
          "Personality",
          "Personality"
         ],
         "y": [
          1,
          6,
          1,
          5,
          6,
          2,
          4,
          5,
          1,
          1,
          5,
          5
         ]
        },
        {
         "box": {
          "visible": true
         },
         "meanline": {
          "visible": true
         },
         "name": "Consciousness",
         "points": "all",
         "type": "violin",
         "x": [
          "Consciousness",
          "Consciousness",
          "Consciousness",
          "Consciousness",
          "Consciousness",
          "Consciousness",
          "Consciousness",
          "Consciousness",
          "Consciousness",
          "Consciousness",
          "Consciousness",
          "Consciousness"
         ],
         "y": [
          1,
          6,
          1,
          2,
          6,
          1,
          5,
          6,
          1,
          1,
          4,
          4
         ]
        },
        {
         "box": {
          "visible": true
         },
         "meanline": {
          "visible": true
         },
         "name": "Pride",
         "points": "all",
         "type": "violin",
         "x": [
          "Pride",
          "Pride",
          "Pride",
          "Pride",
          "Pride",
          "Pride",
          "Pride",
          "Pride",
          "Pride",
          "Pride",
          "Pride",
          "Pride"
         ],
         "y": [
          1,
          7,
          1,
          5,
          6,
          1,
          2,
          5,
          1,
          2,
          6,
          2
         ]
        },
        {
         "box": {
          "visible": true
         },
         "meanline": {
          "visible": true
         },
         "name": "Embarassment",
         "points": "all",
         "type": "violin",
         "x": [
          "Embarassment",
          "Embarassment",
          "Embarassment",
          "Embarassment",
          "Embarassment",
          "Embarassment",
          "Embarassment",
          "Embarassment",
          "Embarassment",
          "Embarassment",
          "Embarassment",
          "Embarassment"
         ],
         "y": [
          1,
          1,
          1,
          1,
          2,
          1,
          2,
          3,
          1,
          1,
          6,
          1
         ]
        },
        {
         "box": {
          "visible": true
         },
         "meanline": {
          "visible": true
         },
         "name": "Joy",
         "points": "all",
         "type": "violin",
         "x": [
          "Joy",
          "Joy",
          "Joy",
          "Joy",
          "Joy",
          "Joy",
          "Joy",
          "Joy",
          "Joy",
          "Joy",
          "Joy",
          "Joy"
         ],
         "y": [
          1,
          5,
          1,
          4,
          4,
          1,
          2,
          5,
          1,
          1,
          6,
          1
         ]
        },
        {
         "box": {
          "visible": true
         },
         "meanline": {
          "visible": true
         },
         "name": "Self-Control",
         "points": "all",
         "type": "violin",
         "x": [
          "Self-Control",
          "Self-Control",
          "Self-Control",
          "Self-Control",
          "Self-Control",
          "Self-Control",
          "Self-Control",
          "Self-Control",
          "Self-Control",
          "Self-Control",
          "Self-Control",
          "Self-Control"
         ],
         "y": [
          1,
          7,
          4,
          3,
          4,
          1,
          5,
          6,
          1,
          1,
          6,
          3
         ]
        },
        {
         "box": {
          "visible": true
         },
         "meanline": {
          "visible": true
         },
         "name": "Morality",
         "points": "all",
         "type": "violin",
         "x": [
          "Morality",
          "Morality",
          "Morality",
          "Morality",
          "Morality",
          "Morality",
          "Morality",
          "Morality",
          "Morality",
          "Morality",
          "Morality",
          "Morality"
         ],
         "y": [
          1,
          7,
          1,
          2,
          4,
          1,
          5,
          4,
          1,
          1,
          6,
          2
         ]
        },
        {
         "box": {
          "visible": true
         },
         "meanline": {
          "visible": true
         },
         "name": "Memory",
         "points": "all",
         "type": "violin",
         "x": [
          "Memory",
          "Memory",
          "Memory",
          "Memory",
          "Memory",
          "Memory",
          "Memory",
          "Memory",
          "Memory",
          "Memory",
          "Memory",
          "Memory"
         ],
         "y": [
          1,
          7,
          1,
          3,
          4,
          1,
          5,
          5,
          1,
          1,
          6,
          2
         ]
        },
        {
         "box": {
          "visible": true
         },
         "meanline": {
          "visible": true
         },
         "name": "Emotion Recognition",
         "points": "all",
         "type": "violin",
         "x": [
          "Emotion Recognition",
          "Emotion Recognition",
          "Emotion Recognition",
          "Emotion Recognition",
          "Emotion Recognition",
          "Emotion Recognition",
          "Emotion Recognition",
          "Emotion Recognition",
          "Emotion Recognition",
          "Emotion Recognition",
          "Emotion Recognition",
          "Emotion Recognition"
         ],
         "y": [
          1,
          7,
          1,
          2,
          3,
          1,
          2,
          6,
          1,
          1,
          2,
          2
         ]
        },
        {
         "box": {
          "visible": true
         },
         "meanline": {
          "visible": true
         },
         "name": "Planning",
         "points": "all",
         "type": "violin",
         "x": [
          "Planning",
          "Planning",
          "Planning",
          "Planning",
          "Planning",
          "Planning",
          "Planning",
          "Planning",
          "Planning",
          "Planning",
          "Planning",
          "Planning"
         ],
         "y": [
          1,
          7,
          1,
          2,
          6,
          2,
          5,
          3,
          1,
          1,
          3,
          4
         ]
        },
        {
         "box": {
          "visible": true
         },
         "meanline": {
          "visible": true
         },
         "name": "Communication",
         "points": "all",
         "type": "violin",
         "x": [
          "Communication",
          "Communication",
          "Communication",
          "Communication",
          "Communication",
          "Communication",
          "Communication",
          "Communication",
          "Communication",
          "Communication",
          "Communication",
          "Communication"
         ],
         "y": [
          1,
          6,
          4,
          4,
          3,
          3,
          2,
          2,
          1,
          1,
          4,
          3
         ]
        },
        {
         "box": {
          "visible": true
         },
         "meanline": {
          "visible": true
         },
         "name": "Thought",
         "points": "all",
         "type": "violin",
         "x": [
          "Thought",
          "Thought",
          "Thought",
          "Thought",
          "Thought",
          "Thought",
          "Thought",
          "Thought",
          "Thought",
          "Thought",
          "Thought",
          "Thought"
         ],
         "y": [
          1,
          5,
          1,
          5,
          4,
          1,
          5,
          5,
          1,
          1,
          4,
          5
         ]
        }
       ],
       "layout": {
        "template": {
         "data": {
          "bar": [
           {
            "error_x": {
             "color": "#2a3f5f"
            },
            "error_y": {
             "color": "#2a3f5f"
            },
            "marker": {
             "line": {
              "color": "#E5ECF6",
              "width": 0.5
             }
            },
            "type": "bar"
           }
          ],
          "barpolar": [
           {
            "marker": {
             "line": {
              "color": "#E5ECF6",
              "width": 0.5
             }
            },
            "type": "barpolar"
           }
          ],
          "carpet": [
           {
            "aaxis": {
             "endlinecolor": "#2a3f5f",
             "gridcolor": "white",
             "linecolor": "white",
             "minorgridcolor": "white",
             "startlinecolor": "#2a3f5f"
            },
            "baxis": {
             "endlinecolor": "#2a3f5f",
             "gridcolor": "white",
             "linecolor": "white",
             "minorgridcolor": "white",
             "startlinecolor": "#2a3f5f"
            },
            "type": "carpet"
           }
          ],
          "choropleth": [
           {
            "colorbar": {
             "outlinewidth": 0,
             "ticks": ""
            },
            "type": "choropleth"
           }
          ],
          "contour": [
           {
            "colorbar": {
             "outlinewidth": 0,
             "ticks": ""
            },
            "colorscale": [
             [
              0,
              "#0d0887"
             ],
             [
              0.1111111111111111,
              "#46039f"
             ],
             [
              0.2222222222222222,
              "#7201a8"
             ],
             [
              0.3333333333333333,
              "#9c179e"
             ],
             [
              0.4444444444444444,
              "#bd3786"
             ],
             [
              0.5555555555555556,
              "#d8576b"
             ],
             [
              0.6666666666666666,
              "#ed7953"
             ],
             [
              0.7777777777777778,
              "#fb9f3a"
             ],
             [
              0.8888888888888888,
              "#fdca26"
             ],
             [
              1,
              "#f0f921"
             ]
            ],
            "type": "contour"
           }
          ],
          "contourcarpet": [
           {
            "colorbar": {
             "outlinewidth": 0,
             "ticks": ""
            },
            "type": "contourcarpet"
           }
          ],
          "heatmap": [
           {
            "colorbar": {
             "outlinewidth": 0,
             "ticks": ""
            },
            "colorscale": [
             [
              0,
              "#0d0887"
             ],
             [
              0.1111111111111111,
              "#46039f"
             ],
             [
              0.2222222222222222,
              "#7201a8"
             ],
             [
              0.3333333333333333,
              "#9c179e"
             ],
             [
              0.4444444444444444,
              "#bd3786"
             ],
             [
              0.5555555555555556,
              "#d8576b"
             ],
             [
              0.6666666666666666,
              "#ed7953"
             ],
             [
              0.7777777777777778,
              "#fb9f3a"
             ],
             [
              0.8888888888888888,
              "#fdca26"
             ],
             [
              1,
              "#f0f921"
             ]
            ],
            "type": "heatmap"
           }
          ],
          "heatmapgl": [
           {
            "colorbar": {
             "outlinewidth": 0,
             "ticks": ""
            },
            "colorscale": [
             [
              0,
              "#0d0887"
             ],
             [
              0.1111111111111111,
              "#46039f"
             ],
             [
              0.2222222222222222,
              "#7201a8"
             ],
             [
              0.3333333333333333,
              "#9c179e"
             ],
             [
              0.4444444444444444,
              "#bd3786"
             ],
             [
              0.5555555555555556,
              "#d8576b"
             ],
             [
              0.6666666666666666,
              "#ed7953"
             ],
             [
              0.7777777777777778,
              "#fb9f3a"
             ],
             [
              0.8888888888888888,
              "#fdca26"
             ],
             [
              1,
              "#f0f921"
             ]
            ],
            "type": "heatmapgl"
           }
          ],
          "histogram": [
           {
            "marker": {
             "colorbar": {
              "outlinewidth": 0,
              "ticks": ""
             }
            },
            "type": "histogram"
           }
          ],
          "histogram2d": [
           {
            "colorbar": {
             "outlinewidth": 0,
             "ticks": ""
            },
            "colorscale": [
             [
              0,
              "#0d0887"
             ],
             [
              0.1111111111111111,
              "#46039f"
             ],
             [
              0.2222222222222222,
              "#7201a8"
             ],
             [
              0.3333333333333333,
              "#9c179e"
             ],
             [
              0.4444444444444444,
              "#bd3786"
             ],
             [
              0.5555555555555556,
              "#d8576b"
             ],
             [
              0.6666666666666666,
              "#ed7953"
             ],
             [
              0.7777777777777778,
              "#fb9f3a"
             ],
             [
              0.8888888888888888,
              "#fdca26"
             ],
             [
              1,
              "#f0f921"
             ]
            ],
            "type": "histogram2d"
           }
          ],
          "histogram2dcontour": [
           {
            "colorbar": {
             "outlinewidth": 0,
             "ticks": ""
            },
            "colorscale": [
             [
              0,
              "#0d0887"
             ],
             [
              0.1111111111111111,
              "#46039f"
             ],
             [
              0.2222222222222222,
              "#7201a8"
             ],
             [
              0.3333333333333333,
              "#9c179e"
             ],
             [
              0.4444444444444444,
              "#bd3786"
             ],
             [
              0.5555555555555556,
              "#d8576b"
             ],
             [
              0.6666666666666666,
              "#ed7953"
             ],
             [
              0.7777777777777778,
              "#fb9f3a"
             ],
             [
              0.8888888888888888,
              "#fdca26"
             ],
             [
              1,
              "#f0f921"
             ]
            ],
            "type": "histogram2dcontour"
           }
          ],
          "mesh3d": [
           {
            "colorbar": {
             "outlinewidth": 0,
             "ticks": ""
            },
            "type": "mesh3d"
           }
          ],
          "parcoords": [
           {
            "line": {
             "colorbar": {
              "outlinewidth": 0,
              "ticks": ""
             }
            },
            "type": "parcoords"
           }
          ],
          "pie": [
           {
            "automargin": true,
            "type": "pie"
           }
          ],
          "scatter": [
           {
            "marker": {
             "colorbar": {
              "outlinewidth": 0,
              "ticks": ""
             }
            },
            "type": "scatter"
           }
          ],
          "scatter3d": [
           {
            "line": {
             "colorbar": {
              "outlinewidth": 0,
              "ticks": ""
             }
            },
            "marker": {
             "colorbar": {
              "outlinewidth": 0,
              "ticks": ""
             }
            },
            "type": "scatter3d"
           }
          ],
          "scattercarpet": [
           {
            "marker": {
             "colorbar": {
              "outlinewidth": 0,
              "ticks": ""
             }
            },
            "type": "scattercarpet"
           }
          ],
          "scattergeo": [
           {
            "marker": {
             "colorbar": {
              "outlinewidth": 0,
              "ticks": ""
             }
            },
            "type": "scattergeo"
           }
          ],
          "scattergl": [
           {
            "marker": {
             "colorbar": {
              "outlinewidth": 0,
              "ticks": ""
             }
            },
            "type": "scattergl"
           }
          ],
          "scattermapbox": [
           {
            "marker": {
             "colorbar": {
              "outlinewidth": 0,
              "ticks": ""
             }
            },
            "type": "scattermapbox"
           }
          ],
          "scatterpolar": [
           {
            "marker": {
             "colorbar": {
              "outlinewidth": 0,
              "ticks": ""
             }
            },
            "type": "scatterpolar"
           }
          ],
          "scatterpolargl": [
           {
            "marker": {
             "colorbar": {
              "outlinewidth": 0,
              "ticks": ""
             }
            },
            "type": "scatterpolargl"
           }
          ],
          "scatterternary": [
           {
            "marker": {
             "colorbar": {
              "outlinewidth": 0,
              "ticks": ""
             }
            },
            "type": "scatterternary"
           }
          ],
          "surface": [
           {
            "colorbar": {
             "outlinewidth": 0,
             "ticks": ""
            },
            "colorscale": [
             [
              0,
              "#0d0887"
             ],
             [
              0.1111111111111111,
              "#46039f"
             ],
             [
              0.2222222222222222,
              "#7201a8"
             ],
             [
              0.3333333333333333,
              "#9c179e"
             ],
             [
              0.4444444444444444,
              "#bd3786"
             ],
             [
              0.5555555555555556,
              "#d8576b"
             ],
             [
              0.6666666666666666,
              "#ed7953"
             ],
             [
              0.7777777777777778,
              "#fb9f3a"
             ],
             [
              0.8888888888888888,
              "#fdca26"
             ],
             [
              1,
              "#f0f921"
             ]
            ],
            "type": "surface"
           }
          ],
          "table": [
           {
            "cells": {
             "fill": {
              "color": "#EBF0F8"
             },
             "line": {
              "color": "white"
             }
            },
            "header": {
             "fill": {
              "color": "#C8D4E3"
             },
             "line": {
              "color": "white"
             }
            },
            "type": "table"
           }
          ]
         },
         "layout": {
          "annotationdefaults": {
           "arrowcolor": "#2a3f5f",
           "arrowhead": 0,
           "arrowwidth": 1
          },
          "coloraxis": {
           "colorbar": {
            "outlinewidth": 0,
            "ticks": ""
           }
          },
          "colorscale": {
           "diverging": [
            [
             0,
             "#8e0152"
            ],
            [
             0.1,
             "#c51b7d"
            ],
            [
             0.2,
             "#de77ae"
            ],
            [
             0.3,
             "#f1b6da"
            ],
            [
             0.4,
             "#fde0ef"
            ],
            [
             0.5,
             "#f7f7f7"
            ],
            [
             0.6,
             "#e6f5d0"
            ],
            [
             0.7,
             "#b8e186"
            ],
            [
             0.8,
             "#7fbc41"
            ],
            [
             0.9,
             "#4d9221"
            ],
            [
             1,
             "#276419"
            ]
           ],
           "sequential": [
            [
             0,
             "#0d0887"
            ],
            [
             0.1111111111111111,
             "#46039f"
            ],
            [
             0.2222222222222222,
             "#7201a8"
            ],
            [
             0.3333333333333333,
             "#9c179e"
            ],
            [
             0.4444444444444444,
             "#bd3786"
            ],
            [
             0.5555555555555556,
             "#d8576b"
            ],
            [
             0.6666666666666666,
             "#ed7953"
            ],
            [
             0.7777777777777778,
             "#fb9f3a"
            ],
            [
             0.8888888888888888,
             "#fdca26"
            ],
            [
             1,
             "#f0f921"
            ]
           ],
           "sequentialminus": [
            [
             0,
             "#0d0887"
            ],
            [
             0.1111111111111111,
             "#46039f"
            ],
            [
             0.2222222222222222,
             "#7201a8"
            ],
            [
             0.3333333333333333,
             "#9c179e"
            ],
            [
             0.4444444444444444,
             "#bd3786"
            ],
            [
             0.5555555555555556,
             "#d8576b"
            ],
            [
             0.6666666666666666,
             "#ed7953"
            ],
            [
             0.7777777777777778,
             "#fb9f3a"
            ],
            [
             0.8888888888888888,
             "#fdca26"
            ],
            [
             1,
             "#f0f921"
            ]
           ]
          },
          "colorway": [
           "#636efa",
           "#EF553B",
           "#00cc96",
           "#ab63fa",
           "#FFA15A",
           "#19d3f3",
           "#FF6692",
           "#B6E880",
           "#FF97FF",
           "#FECB52"
          ],
          "font": {
           "color": "#2a3f5f"
          },
          "geo": {
           "bgcolor": "white",
           "lakecolor": "white",
           "landcolor": "#E5ECF6",
           "showlakes": true,
           "showland": true,
           "subunitcolor": "white"
          },
          "hoverlabel": {
           "align": "left"
          },
          "hovermode": "closest",
          "mapbox": {
           "style": "light"
          },
          "paper_bgcolor": "white",
          "plot_bgcolor": "#E5ECF6",
          "polar": {
           "angularaxis": {
            "gridcolor": "white",
            "linecolor": "white",
            "ticks": ""
           },
           "bgcolor": "#E5ECF6",
           "radialaxis": {
            "gridcolor": "white",
            "linecolor": "white",
            "ticks": ""
           }
          },
          "scene": {
           "xaxis": {
            "backgroundcolor": "#E5ECF6",
            "gridcolor": "white",
            "gridwidth": 2,
            "linecolor": "white",
            "showbackground": true,
            "ticks": "",
            "zerolinecolor": "white"
           },
           "yaxis": {
            "backgroundcolor": "#E5ECF6",
            "gridcolor": "white",
            "gridwidth": 2,
            "linecolor": "white",
            "showbackground": true,
            "ticks": "",
            "zerolinecolor": "white"
           },
           "zaxis": {
            "backgroundcolor": "#E5ECF6",
            "gridcolor": "white",
            "gridwidth": 2,
            "linecolor": "white",
            "showbackground": true,
            "ticks": "",
            "zerolinecolor": "white"
           }
          },
          "shapedefaults": {
           "line": {
            "color": "#2a3f5f"
           }
          },
          "ternary": {
           "aaxis": {
            "gridcolor": "white",
            "linecolor": "white",
            "ticks": ""
           },
           "baxis": {
            "gridcolor": "white",
            "linecolor": "white",
            "ticks": ""
           },
           "bgcolor": "#E5ECF6",
           "caxis": {
            "gridcolor": "white",
            "linecolor": "white",
            "ticks": ""
           }
          },
          "title": {
           "x": 0.05
          },
          "xaxis": {
           "automargin": true,
           "gridcolor": "white",
           "linecolor": "white",
           "ticks": "",
           "title": {
            "standoff": 15
           },
           "zerolinecolor": "white",
           "zerolinewidth": 2
          },
          "yaxis": {
           "automargin": true,
           "gridcolor": "white",
           "linecolor": "white",
           "ticks": "",
           "title": {
            "standoff": 15
           },
           "zerolinecolor": "white",
           "zerolinewidth": 2
          }
         }
        },
        "title": {
         "text": "triggering"
        }
       }
      },
      "text/html": [
       "<div>\n",
       "        \n",
       "        \n",
       "            <div id=\"153056c0-2717-4d6b-be38-871fafd45664\" class=\"plotly-graph-div\" style=\"height:525px; width:100%;\"></div>\n",
       "            <script type=\"text/javascript\">\n",
       "                require([\"plotly\"], function(Plotly) {\n",
       "                    window.PLOTLYENV=window.PLOTLYENV || {};\n",
       "                    \n",
       "                if (document.getElementById(\"153056c0-2717-4d6b-be38-871fafd45664\")) {\n",
       "                    Plotly.newPlot(\n",
       "                        '153056c0-2717-4d6b-be38-871fafd45664',\n",
       "                        [{\"box\": {\"visible\": true}, \"meanline\": {\"visible\": true}, \"name\": \"Happy\", \"points\": \"all\", \"type\": \"violin\", \"x\": [\"Happy\", \"Happy\", \"Happy\", \"Happy\", \"Happy\", \"Happy\", \"Happy\", \"Happy\", \"Happy\", \"Happy\", \"Happy\", \"Happy\"], \"y\": [1, 6, 1, 3, 7, 1, 2, 6, 1, 3, 4, 3]}, {\"box\": {\"visible\": true}, \"meanline\": {\"visible\": true}, \"name\": \"Feeling\", \"points\": \"all\", \"type\": \"violin\", \"x\": [\"Feeling\", \"Feeling\", \"Feeling\", \"Feeling\", \"Feeling\", \"Feeling\", \"Feeling\", \"Feeling\", \"Feeling\", \"Feeling\", \"Feeling\", \"Feeling\"], \"y\": [1, 8, 1, 6, 7, 2, 5, 7, 1, 1, 5, 5]}, {\"box\": {\"visible\": true}, \"meanline\": {\"visible\": true}, \"name\": \"Organic\", \"points\": \"all\", \"type\": \"violin\", \"x\": [\"Organic\", \"Organic\", \"Organic\", \"Organic\", \"Organic\", \"Organic\", \"Organic\", \"Organic\", \"Organic\", \"Organic\", \"Organic\", \"Organic\"], \"y\": [4, 8, 1, 2, 8, 2, 4, 2, 1, 2, 4, 1]}, {\"box\": {\"visible\": true}, \"meanline\": {\"visible\": true}, \"name\": \"Compassionate\", \"points\": \"all\", \"type\": \"violin\", \"x\": [\"Compassionate\", \"Compassionate\", \"Compassionate\", \"Compassionate\", \"Compassionate\", \"Compassionate\", \"Compassionate\", \"Compassionate\", \"Compassionate\", \"Compassionate\", \"Compassionate\", \"Compassionate\"], \"y\": [4, 6, 1, 5, 4, 3, 3, 5, 1, 2, 2, 1]}, {\"box\": {\"visible\": true}, \"meanline\": {\"visible\": true}, \"name\": \"Capable\", \"points\": \"all\", \"type\": \"violin\", \"x\": [\"Capable\", \"Capable\", \"Capable\", \"Capable\", \"Capable\", \"Capable\", \"Capable\", \"Capable\", \"Capable\", \"Capable\", \"Capable\", \"Capable\"], \"y\": [4, 6, 1, 8, 7, 2, 6, 3, 1, 4, 9, 8]}, {\"box\": {\"visible\": true}, \"meanline\": {\"visible\": true}, \"name\": \"Responsive\", \"points\": \"all\", \"type\": \"violin\", \"x\": [\"Responsive\", \"Responsive\", \"Responsive\", \"Responsive\", \"Responsive\", \"Responsive\", \"Responsive\", \"Responsive\", \"Responsive\", \"Responsive\", \"Responsive\", \"Responsive\"], \"y\": [2, 6, 1, 2, 7, 2, 7, 1, 1, 2, 3, 7]}, {\"box\": {\"visible\": true}, \"meanline\": {\"visible\": true}, \"name\": \"Reliable\", \"points\": \"all\", \"type\": \"violin\", \"x\": [\"Reliable\", \"Reliable\", \"Reliable\", \"Reliable\", \"Reliable\", \"Reliable\", \"Reliable\", \"Reliable\", \"Reliable\", \"Reliable\", \"Reliable\", \"Reliable\"], \"y\": [2, 7, 1, 2, 7, 6, 6, 8, 1, 5, 3, 4]}, {\"box\": {\"visible\": true}, \"meanline\": {\"visible\": true}, \"name\": \"Competent\", \"points\": \"all\", \"type\": \"violin\", \"x\": [\"Competent\", \"Competent\", \"Competent\", \"Competent\", \"Competent\", \"Competent\", \"Competent\", \"Competent\", \"Competent\", \"Competent\", \"Competent\", \"Competent\"], \"y\": [4, 7, 1, 3, 7, 6, 4, 8, 1, 5, 9, 8]}, {\"box\": {\"visible\": true}, \"meanline\": {\"visible\": true}, \"name\": \"Scary\", \"points\": \"all\", \"type\": \"violin\", \"x\": [\"Scary\", \"Scary\", \"Scary\", \"Scary\", \"Scary\", \"Scary\", \"Scary\", \"Scary\", \"Scary\", \"Scary\", \"Scary\", \"Scary\"], \"y\": [2, 3, 2, 7, 4, 5, 6, 2, 1, 5, 8, 5]}, {\"box\": {\"visible\": true}, \"meanline\": {\"visible\": true}, \"name\": \"Awkward\", \"points\": \"all\", \"type\": \"violin\", \"x\": [\"Awkward\", \"Awkward\", \"Awkward\", \"Awkward\", \"Awkward\", \"Awkward\", \"Awkward\", \"Awkward\", \"Awkward\", \"Awkward\", \"Awkward\", \"Awkward\"], \"y\": [1, 2, 1, 8, 4, 4, 2, 7, 1, 8, 8, 1]}, {\"box\": {\"visible\": true}, \"meanline\": {\"visible\": true}, \"name\": \"Dangerous\", \"points\": \"all\", \"type\": \"violin\", \"x\": [\"Dangerous\", \"Dangerous\", \"Dangerous\", \"Dangerous\", \"Dangerous\", \"Dangerous\", \"Dangerous\", \"Dangerous\", \"Dangerous\", \"Dangerous\", \"Dangerous\", \"Dangerous\"], \"y\": [1, 6, 2, 8, 4, 4, 2, 2, 1, 2, 8, 8]}, {\"box\": {\"visible\": true}, \"meanline\": {\"visible\": true}, \"name\": \"Aggressive\", \"points\": \"all\", \"type\": \"violin\", \"x\": [\"Aggressive\", \"Aggressive\", \"Aggressive\", \"Aggressive\", \"Aggressive\", \"Aggressive\", \"Aggressive\", \"Aggressive\", \"Aggressive\", \"Aggressive\", \"Aggressive\", \"Aggressive\"], \"y\": [1, 8, 6, 8, 8, 5, 7, 2, 1, 5, 8, 8]}, {\"box\": {\"visible\": true}, \"meanline\": {\"visible\": true}, \"name\": \"Hunger\", \"points\": \"all\", \"type\": \"violin\", \"x\": [\"Hunger\", \"Hunger\", \"Hunger\", \"Hunger\", \"Hunger\", \"Hunger\", \"Hunger\", \"Hunger\", \"Hunger\", \"Hunger\", \"Hunger\", \"Hunger\"], \"y\": [1, 6, 1, 5, 6, 1, 1, 2, 1, 2, 3, 6]}, {\"box\": {\"visible\": true}, \"meanline\": {\"visible\": true}, \"name\": \"Fear\", \"points\": \"all\", \"type\": \"violin\", \"x\": [\"Fear\", \"Fear\", \"Fear\", \"Fear\", \"Fear\", \"Fear\", \"Fear\", \"Fear\", \"Fear\", \"Fear\", \"Fear\", \"Fear\"], \"y\": [1, 2, 3, 2, 3, 2, 1, 2, 1, 2, 2, 5]}, {\"box\": {\"visible\": true}, \"meanline\": {\"visible\": true}, \"name\": \"Pain\", \"points\": \"all\", \"type\": \"violin\", \"x\": [\"Pain\", \"Pain\", \"Pain\", \"Pain\", \"Pain\", \"Pain\", \"Pain\", \"Pain\", \"Pain\", \"Pain\", \"Pain\", \"Pain\"], \"y\": [1, 1, 1, 6, 3, 3, 1, 1, 1, 1, 6, 4]}, {\"box\": {\"visible\": true}, \"meanline\": {\"visible\": true}, \"name\": \"Pleasure\", \"points\": \"all\", \"type\": \"violin\", \"x\": [\"Pleasure\", \"Pleasure\", \"Pleasure\", \"Pleasure\", \"Pleasure\", \"Pleasure\", \"Pleasure\", \"Pleasure\", \"Pleasure\", \"Pleasure\", \"Pleasure\", \"Pleasure\"], \"y\": [1, 5, 1, 5, 6, 1, 3, 5, 1, 1, 2, 4]}, {\"box\": {\"visible\": true}, \"meanline\": {\"visible\": true}, \"name\": \"Rage\", \"points\": \"all\", \"type\": \"violin\", \"x\": [\"Rage\", \"Rage\", \"Rage\", \"Rage\", \"Rage\", \"Rage\", \"Rage\", \"Rage\", \"Rage\", \"Rage\", \"Rage\", \"Rage\"], \"y\": [1, 6, 1, 7, 6, 1, 4, 2, 1, 3, 6, 4]}, {\"box\": {\"visible\": true}, \"meanline\": {\"visible\": true}, \"name\": \"Desire\", \"points\": \"all\", \"type\": \"violin\", \"x\": [\"Desire\", \"Desire\", \"Desire\", \"Desire\", \"Desire\", \"Desire\", \"Desire\", \"Desire\", \"Desire\", \"Desire\", \"Desire\", \"Desire\"], \"y\": [1, 6, 4, 6, 6, 3, 3, 2, 1, 1, 2, 2]}, {\"box\": {\"visible\": true}, \"meanline\": {\"visible\": true}, \"name\": \"Personality\", \"points\": \"all\", \"type\": \"violin\", \"x\": [\"Personality\", \"Personality\", \"Personality\", \"Personality\", \"Personality\", \"Personality\", \"Personality\", \"Personality\", \"Personality\", \"Personality\", \"Personality\", \"Personality\"], \"y\": [1, 6, 1, 5, 6, 2, 4, 5, 1, 1, 5, 5]}, {\"box\": {\"visible\": true}, \"meanline\": {\"visible\": true}, \"name\": \"Consciousness\", \"points\": \"all\", \"type\": \"violin\", \"x\": [\"Consciousness\", \"Consciousness\", \"Consciousness\", \"Consciousness\", \"Consciousness\", \"Consciousness\", \"Consciousness\", \"Consciousness\", \"Consciousness\", \"Consciousness\", \"Consciousness\", \"Consciousness\"], \"y\": [1, 6, 1, 2, 6, 1, 5, 6, 1, 1, 4, 4]}, {\"box\": {\"visible\": true}, \"meanline\": {\"visible\": true}, \"name\": \"Pride\", \"points\": \"all\", \"type\": \"violin\", \"x\": [\"Pride\", \"Pride\", \"Pride\", \"Pride\", \"Pride\", \"Pride\", \"Pride\", \"Pride\", \"Pride\", \"Pride\", \"Pride\", \"Pride\"], \"y\": [1, 7, 1, 5, 6, 1, 2, 5, 1, 2, 6, 2]}, {\"box\": {\"visible\": true}, \"meanline\": {\"visible\": true}, \"name\": \"Embarassment\", \"points\": \"all\", \"type\": \"violin\", \"x\": [\"Embarassment\", \"Embarassment\", \"Embarassment\", \"Embarassment\", \"Embarassment\", \"Embarassment\", \"Embarassment\", \"Embarassment\", \"Embarassment\", \"Embarassment\", \"Embarassment\", \"Embarassment\"], \"y\": [1, 1, 1, 1, 2, 1, 2, 3, 1, 1, 6, 1]}, {\"box\": {\"visible\": true}, \"meanline\": {\"visible\": true}, \"name\": \"Joy\", \"points\": \"all\", \"type\": \"violin\", \"x\": [\"Joy\", \"Joy\", \"Joy\", \"Joy\", \"Joy\", \"Joy\", \"Joy\", \"Joy\", \"Joy\", \"Joy\", \"Joy\", \"Joy\"], \"y\": [1, 5, 1, 4, 4, 1, 2, 5, 1, 1, 6, 1]}, {\"box\": {\"visible\": true}, \"meanline\": {\"visible\": true}, \"name\": \"Self-Control\", \"points\": \"all\", \"type\": \"violin\", \"x\": [\"Self-Control\", \"Self-Control\", \"Self-Control\", \"Self-Control\", \"Self-Control\", \"Self-Control\", \"Self-Control\", \"Self-Control\", \"Self-Control\", \"Self-Control\", \"Self-Control\", \"Self-Control\"], \"y\": [1, 7, 4, 3, 4, 1, 5, 6, 1, 1, 6, 3]}, {\"box\": {\"visible\": true}, \"meanline\": {\"visible\": true}, \"name\": \"Morality\", \"points\": \"all\", \"type\": \"violin\", \"x\": [\"Morality\", \"Morality\", \"Morality\", \"Morality\", \"Morality\", \"Morality\", \"Morality\", \"Morality\", \"Morality\", \"Morality\", \"Morality\", \"Morality\"], \"y\": [1, 7, 1, 2, 4, 1, 5, 4, 1, 1, 6, 2]}, {\"box\": {\"visible\": true}, \"meanline\": {\"visible\": true}, \"name\": \"Memory\", \"points\": \"all\", \"type\": \"violin\", \"x\": [\"Memory\", \"Memory\", \"Memory\", \"Memory\", \"Memory\", \"Memory\", \"Memory\", \"Memory\", \"Memory\", \"Memory\", \"Memory\", \"Memory\"], \"y\": [1, 7, 1, 3, 4, 1, 5, 5, 1, 1, 6, 2]}, {\"box\": {\"visible\": true}, \"meanline\": {\"visible\": true}, \"name\": \"Emotion Recognition\", \"points\": \"all\", \"type\": \"violin\", \"x\": [\"Emotion Recognition\", \"Emotion Recognition\", \"Emotion Recognition\", \"Emotion Recognition\", \"Emotion Recognition\", \"Emotion Recognition\", \"Emotion Recognition\", \"Emotion Recognition\", \"Emotion Recognition\", \"Emotion Recognition\", \"Emotion Recognition\", \"Emotion Recognition\"], \"y\": [1, 7, 1, 2, 3, 1, 2, 6, 1, 1, 2, 2]}, {\"box\": {\"visible\": true}, \"meanline\": {\"visible\": true}, \"name\": \"Planning\", \"points\": \"all\", \"type\": \"violin\", \"x\": [\"Planning\", \"Planning\", \"Planning\", \"Planning\", \"Planning\", \"Planning\", \"Planning\", \"Planning\", \"Planning\", \"Planning\", \"Planning\", \"Planning\"], \"y\": [1, 7, 1, 2, 6, 2, 5, 3, 1, 1, 3, 4]}, {\"box\": {\"visible\": true}, \"meanline\": {\"visible\": true}, \"name\": \"Communication\", \"points\": \"all\", \"type\": \"violin\", \"x\": [\"Communication\", \"Communication\", \"Communication\", \"Communication\", \"Communication\", \"Communication\", \"Communication\", \"Communication\", \"Communication\", \"Communication\", \"Communication\", \"Communication\"], \"y\": [1, 6, 4, 4, 3, 3, 2, 2, 1, 1, 4, 3]}, {\"box\": {\"visible\": true}, \"meanline\": {\"visible\": true}, \"name\": \"Thought\", \"points\": \"all\", \"type\": \"violin\", \"x\": [\"Thought\", \"Thought\", \"Thought\", \"Thought\", \"Thought\", \"Thought\", \"Thought\", \"Thought\", \"Thought\", \"Thought\", \"Thought\", \"Thought\"], \"y\": [1, 5, 1, 5, 4, 1, 5, 5, 1, 1, 4, 5]}],\n",
       "                        {\"template\": {\"data\": {\"bar\": [{\"error_x\": {\"color\": \"#2a3f5f\"}, \"error_y\": {\"color\": \"#2a3f5f\"}, \"marker\": {\"line\": {\"color\": \"#E5ECF6\", \"width\": 0.5}}, \"type\": \"bar\"}], \"barpolar\": [{\"marker\": {\"line\": {\"color\": \"#E5ECF6\", \"width\": 0.5}}, \"type\": \"barpolar\"}], \"carpet\": [{\"aaxis\": {\"endlinecolor\": \"#2a3f5f\", \"gridcolor\": \"white\", \"linecolor\": \"white\", \"minorgridcolor\": \"white\", \"startlinecolor\": \"#2a3f5f\"}, \"baxis\": {\"endlinecolor\": \"#2a3f5f\", \"gridcolor\": \"white\", \"linecolor\": \"white\", \"minorgridcolor\": \"white\", \"startlinecolor\": \"#2a3f5f\"}, \"type\": \"carpet\"}], \"choropleth\": [{\"colorbar\": {\"outlinewidth\": 0, \"ticks\": \"\"}, \"type\": \"choropleth\"}], \"contour\": [{\"colorbar\": {\"outlinewidth\": 0, \"ticks\": \"\"}, \"colorscale\": [[0.0, \"#0d0887\"], [0.1111111111111111, \"#46039f\"], [0.2222222222222222, \"#7201a8\"], [0.3333333333333333, \"#9c179e\"], [0.4444444444444444, \"#bd3786\"], [0.5555555555555556, \"#d8576b\"], [0.6666666666666666, \"#ed7953\"], [0.7777777777777778, \"#fb9f3a\"], [0.8888888888888888, \"#fdca26\"], [1.0, \"#f0f921\"]], \"type\": \"contour\"}], \"contourcarpet\": [{\"colorbar\": {\"outlinewidth\": 0, \"ticks\": \"\"}, \"type\": \"contourcarpet\"}], \"heatmap\": [{\"colorbar\": {\"outlinewidth\": 0, \"ticks\": \"\"}, \"colorscale\": [[0.0, \"#0d0887\"], [0.1111111111111111, \"#46039f\"], [0.2222222222222222, \"#7201a8\"], [0.3333333333333333, \"#9c179e\"], [0.4444444444444444, \"#bd3786\"], [0.5555555555555556, \"#d8576b\"], [0.6666666666666666, \"#ed7953\"], [0.7777777777777778, \"#fb9f3a\"], [0.8888888888888888, \"#fdca26\"], [1.0, \"#f0f921\"]], \"type\": \"heatmap\"}], \"heatmapgl\": [{\"colorbar\": {\"outlinewidth\": 0, \"ticks\": \"\"}, \"colorscale\": [[0.0, \"#0d0887\"], [0.1111111111111111, \"#46039f\"], [0.2222222222222222, \"#7201a8\"], [0.3333333333333333, \"#9c179e\"], [0.4444444444444444, \"#bd3786\"], [0.5555555555555556, \"#d8576b\"], [0.6666666666666666, \"#ed7953\"], [0.7777777777777778, \"#fb9f3a\"], [0.8888888888888888, \"#fdca26\"], [1.0, \"#f0f921\"]], \"type\": \"heatmapgl\"}], \"histogram\": [{\"marker\": {\"colorbar\": {\"outlinewidth\": 0, \"ticks\": \"\"}}, \"type\": \"histogram\"}], \"histogram2d\": [{\"colorbar\": {\"outlinewidth\": 0, \"ticks\": \"\"}, \"colorscale\": [[0.0, \"#0d0887\"], [0.1111111111111111, \"#46039f\"], [0.2222222222222222, \"#7201a8\"], [0.3333333333333333, \"#9c179e\"], [0.4444444444444444, \"#bd3786\"], [0.5555555555555556, \"#d8576b\"], [0.6666666666666666, \"#ed7953\"], [0.7777777777777778, \"#fb9f3a\"], [0.8888888888888888, \"#fdca26\"], [1.0, \"#f0f921\"]], \"type\": \"histogram2d\"}], \"histogram2dcontour\": [{\"colorbar\": {\"outlinewidth\": 0, \"ticks\": \"\"}, \"colorscale\": [[0.0, \"#0d0887\"], [0.1111111111111111, \"#46039f\"], [0.2222222222222222, \"#7201a8\"], [0.3333333333333333, \"#9c179e\"], [0.4444444444444444, \"#bd3786\"], [0.5555555555555556, \"#d8576b\"], [0.6666666666666666, \"#ed7953\"], [0.7777777777777778, \"#fb9f3a\"], [0.8888888888888888, \"#fdca26\"], [1.0, \"#f0f921\"]], \"type\": \"histogram2dcontour\"}], \"mesh3d\": [{\"colorbar\": {\"outlinewidth\": 0, \"ticks\": \"\"}, \"type\": \"mesh3d\"}], \"parcoords\": [{\"line\": {\"colorbar\": {\"outlinewidth\": 0, \"ticks\": \"\"}}, \"type\": \"parcoords\"}], \"pie\": [{\"automargin\": true, \"type\": \"pie\"}], \"scatter\": [{\"marker\": {\"colorbar\": {\"outlinewidth\": 0, \"ticks\": \"\"}}, \"type\": \"scatter\"}], \"scatter3d\": [{\"line\": {\"colorbar\": {\"outlinewidth\": 0, \"ticks\": \"\"}}, \"marker\": {\"colorbar\": {\"outlinewidth\": 0, \"ticks\": \"\"}}, \"type\": \"scatter3d\"}], \"scattercarpet\": [{\"marker\": {\"colorbar\": {\"outlinewidth\": 0, \"ticks\": \"\"}}, \"type\": \"scattercarpet\"}], \"scattergeo\": [{\"marker\": {\"colorbar\": {\"outlinewidth\": 0, \"ticks\": \"\"}}, \"type\": \"scattergeo\"}], \"scattergl\": [{\"marker\": {\"colorbar\": {\"outlinewidth\": 0, \"ticks\": \"\"}}, \"type\": \"scattergl\"}], \"scattermapbox\": [{\"marker\": {\"colorbar\": {\"outlinewidth\": 0, \"ticks\": \"\"}}, \"type\": \"scattermapbox\"}], \"scatterpolar\": [{\"marker\": {\"colorbar\": {\"outlinewidth\": 0, \"ticks\": \"\"}}, \"type\": \"scatterpolar\"}], \"scatterpolargl\": [{\"marker\": {\"colorbar\": {\"outlinewidth\": 0, \"ticks\": \"\"}}, \"type\": \"scatterpolargl\"}], \"scatterternary\": [{\"marker\": {\"colorbar\": {\"outlinewidth\": 0, \"ticks\": \"\"}}, \"type\": \"scatterternary\"}], \"surface\": [{\"colorbar\": {\"outlinewidth\": 0, \"ticks\": \"\"}, \"colorscale\": [[0.0, \"#0d0887\"], [0.1111111111111111, \"#46039f\"], [0.2222222222222222, \"#7201a8\"], [0.3333333333333333, \"#9c179e\"], [0.4444444444444444, \"#bd3786\"], [0.5555555555555556, \"#d8576b\"], [0.6666666666666666, \"#ed7953\"], [0.7777777777777778, \"#fb9f3a\"], [0.8888888888888888, \"#fdca26\"], [1.0, \"#f0f921\"]], \"type\": \"surface\"}], \"table\": [{\"cells\": {\"fill\": {\"color\": \"#EBF0F8\"}, \"line\": {\"color\": \"white\"}}, \"header\": {\"fill\": {\"color\": \"#C8D4E3\"}, \"line\": {\"color\": \"white\"}}, \"type\": \"table\"}]}, \"layout\": {\"annotationdefaults\": {\"arrowcolor\": \"#2a3f5f\", \"arrowhead\": 0, \"arrowwidth\": 1}, \"coloraxis\": {\"colorbar\": {\"outlinewidth\": 0, \"ticks\": \"\"}}, \"colorscale\": {\"diverging\": [[0, \"#8e0152\"], [0.1, \"#c51b7d\"], [0.2, \"#de77ae\"], [0.3, \"#f1b6da\"], [0.4, \"#fde0ef\"], [0.5, \"#f7f7f7\"], [0.6, \"#e6f5d0\"], [0.7, \"#b8e186\"], [0.8, \"#7fbc41\"], [0.9, \"#4d9221\"], [1, \"#276419\"]], \"sequential\": [[0.0, \"#0d0887\"], [0.1111111111111111, \"#46039f\"], [0.2222222222222222, \"#7201a8\"], [0.3333333333333333, \"#9c179e\"], [0.4444444444444444, \"#bd3786\"], [0.5555555555555556, \"#d8576b\"], [0.6666666666666666, \"#ed7953\"], [0.7777777777777778, \"#fb9f3a\"], [0.8888888888888888, \"#fdca26\"], [1.0, \"#f0f921\"]], \"sequentialminus\": [[0.0, \"#0d0887\"], [0.1111111111111111, \"#46039f\"], [0.2222222222222222, \"#7201a8\"], [0.3333333333333333, \"#9c179e\"], [0.4444444444444444, \"#bd3786\"], [0.5555555555555556, \"#d8576b\"], [0.6666666666666666, \"#ed7953\"], [0.7777777777777778, \"#fb9f3a\"], [0.8888888888888888, \"#fdca26\"], [1.0, \"#f0f921\"]]}, \"colorway\": [\"#636efa\", \"#EF553B\", \"#00cc96\", \"#ab63fa\", \"#FFA15A\", \"#19d3f3\", \"#FF6692\", \"#B6E880\", \"#FF97FF\", \"#FECB52\"], \"font\": {\"color\": \"#2a3f5f\"}, \"geo\": {\"bgcolor\": \"white\", \"lakecolor\": \"white\", \"landcolor\": \"#E5ECF6\", \"showlakes\": true, \"showland\": true, \"subunitcolor\": \"white\"}, \"hoverlabel\": {\"align\": \"left\"}, \"hovermode\": \"closest\", \"mapbox\": {\"style\": \"light\"}, \"paper_bgcolor\": \"white\", \"plot_bgcolor\": \"#E5ECF6\", \"polar\": {\"angularaxis\": {\"gridcolor\": \"white\", \"linecolor\": \"white\", \"ticks\": \"\"}, \"bgcolor\": \"#E5ECF6\", \"radialaxis\": {\"gridcolor\": \"white\", \"linecolor\": \"white\", \"ticks\": \"\"}}, \"scene\": {\"xaxis\": {\"backgroundcolor\": \"#E5ECF6\", \"gridcolor\": \"white\", \"gridwidth\": 2, \"linecolor\": \"white\", \"showbackground\": true, \"ticks\": \"\", \"zerolinecolor\": \"white\"}, \"yaxis\": {\"backgroundcolor\": \"#E5ECF6\", \"gridcolor\": \"white\", \"gridwidth\": 2, \"linecolor\": \"white\", \"showbackground\": true, \"ticks\": \"\", \"zerolinecolor\": \"white\"}, \"zaxis\": {\"backgroundcolor\": \"#E5ECF6\", \"gridcolor\": \"white\", \"gridwidth\": 2, \"linecolor\": \"white\", \"showbackground\": true, \"ticks\": \"\", \"zerolinecolor\": \"white\"}}, \"shapedefaults\": {\"line\": {\"color\": \"#2a3f5f\"}}, \"ternary\": {\"aaxis\": {\"gridcolor\": \"white\", \"linecolor\": \"white\", \"ticks\": \"\"}, \"baxis\": {\"gridcolor\": \"white\", \"linecolor\": \"white\", \"ticks\": \"\"}, \"bgcolor\": \"#E5ECF6\", \"caxis\": {\"gridcolor\": \"white\", \"linecolor\": \"white\", \"ticks\": \"\"}}, \"title\": {\"x\": 0.05}, \"xaxis\": {\"automargin\": true, \"gridcolor\": \"white\", \"linecolor\": \"white\", \"ticks\": \"\", \"title\": {\"standoff\": 15}, \"zerolinecolor\": \"white\", \"zerolinewidth\": 2}, \"yaxis\": {\"automargin\": true, \"gridcolor\": \"white\", \"linecolor\": \"white\", \"ticks\": \"\", \"title\": {\"standoff\": 15}, \"zerolinecolor\": \"white\", \"zerolinewidth\": 2}}}, \"title\": {\"text\": \"triggering\"}},\n",
       "                        {\"responsive\": true}\n",
       "                    ).then(function(){\n",
       "                            \n",
       "var gd = document.getElementById('153056c0-2717-4d6b-be38-871fafd45664');\n",
       "var x = new MutationObserver(function (mutations, observer) {{\n",
       "        var display = window.getComputedStyle(gd).display;\n",
       "        if (!display || display === 'none') {{\n",
       "            console.log([gd, 'removed!']);\n",
       "            Plotly.purge(gd);\n",
       "            observer.disconnect();\n",
       "        }}\n",
       "}});\n",
       "\n",
       "// Listen for the removal of the full notebook cells\n",
       "var notebookContainer = gd.closest('#notebook-container');\n",
       "if (notebookContainer) {{\n",
       "    x.observe(notebookContainer, {childList: true});\n",
       "}}\n",
       "\n",
       "// Listen for the clearing of the current output cell\n",
       "var outputEl = gd.closest('.output');\n",
       "if (outputEl) {{\n",
       "    x.observe(outputEl, {childList: true});\n",
       "}}\n",
       "\n",
       "                        })\n",
       "                };\n",
       "                });\n",
       "            </script>\n",
       "        </div>"
      ]
     },
     "metadata": {},
     "output_type": "display_data"
    },
    {
     "data": {
      "application/vnd.plotly.v1+json": {
       "config": {
        "plotlyServerURL": "https://plot.ly"
       },
       "data": [
        {
         "box": {
          "visible": true
         },
         "meanline": {
          "visible": true
         },
         "name": "Happy",
         "points": "all",
         "type": "violin",
         "x": [
          "Happy",
          "Happy",
          "Happy",
          "Happy",
          "Happy",
          "Happy",
          "Happy",
          "Happy",
          "Happy",
          "Happy",
          "Happy",
          "Happy"
         ],
         "y": [
          1,
          6,
          1,
          3,
          7,
          1,
          2,
          6,
          1,
          3,
          4,
          3
         ]
        },
        {
         "box": {
          "visible": true
         },
         "meanline": {
          "visible": true
         },
         "name": "Feeling",
         "points": "all",
         "type": "violin",
         "x": [
          "Feeling",
          "Feeling",
          "Feeling",
          "Feeling",
          "Feeling",
          "Feeling",
          "Feeling",
          "Feeling",
          "Feeling",
          "Feeling",
          "Feeling",
          "Feeling"
         ],
         "y": [
          1,
          8,
          1,
          6,
          7,
          2,
          5,
          7,
          1,
          1,
          5,
          5
         ]
        },
        {
         "box": {
          "visible": true
         },
         "meanline": {
          "visible": true
         },
         "name": "Organic",
         "points": "all",
         "type": "violin",
         "x": [
          "Organic",
          "Organic",
          "Organic",
          "Organic",
          "Organic",
          "Organic",
          "Organic",
          "Organic",
          "Organic",
          "Organic",
          "Organic",
          "Organic"
         ],
         "y": [
          4,
          8,
          1,
          2,
          8,
          2,
          4,
          2,
          1,
          2,
          4,
          1
         ]
        },
        {
         "box": {
          "visible": true
         },
         "meanline": {
          "visible": true
         },
         "name": "Compassionate",
         "points": "all",
         "type": "violin",
         "x": [
          "Compassionate",
          "Compassionate",
          "Compassionate",
          "Compassionate",
          "Compassionate",
          "Compassionate",
          "Compassionate",
          "Compassionate",
          "Compassionate",
          "Compassionate",
          "Compassionate",
          "Compassionate"
         ],
         "y": [
          4,
          6,
          1,
          5,
          4,
          3,
          3,
          5,
          1,
          2,
          2,
          1
         ]
        },
        {
         "box": {
          "visible": true
         },
         "meanline": {
          "visible": true
         },
         "name": "Capable",
         "points": "all",
         "type": "violin",
         "x": [
          "Capable",
          "Capable",
          "Capable",
          "Capable",
          "Capable",
          "Capable",
          "Capable",
          "Capable",
          "Capable",
          "Capable",
          "Capable",
          "Capable"
         ],
         "y": [
          4,
          6,
          1,
          8,
          7,
          2,
          6,
          3,
          1,
          4,
          9,
          8
         ]
        },
        {
         "box": {
          "visible": true
         },
         "meanline": {
          "visible": true
         },
         "name": "Responsive",
         "points": "all",
         "type": "violin",
         "x": [
          "Responsive",
          "Responsive",
          "Responsive",
          "Responsive",
          "Responsive",
          "Responsive",
          "Responsive",
          "Responsive",
          "Responsive",
          "Responsive",
          "Responsive",
          "Responsive"
         ],
         "y": [
          2,
          6,
          1,
          2,
          7,
          2,
          7,
          1,
          1,
          2,
          3,
          7
         ]
        },
        {
         "box": {
          "visible": true
         },
         "meanline": {
          "visible": true
         },
         "name": "Reliable",
         "points": "all",
         "type": "violin",
         "x": [
          "Reliable",
          "Reliable",
          "Reliable",
          "Reliable",
          "Reliable",
          "Reliable",
          "Reliable",
          "Reliable",
          "Reliable",
          "Reliable",
          "Reliable",
          "Reliable"
         ],
         "y": [
          2,
          7,
          1,
          2,
          7,
          6,
          6,
          8,
          1,
          5,
          3,
          4
         ]
        },
        {
         "box": {
          "visible": true
         },
         "meanline": {
          "visible": true
         },
         "name": "Competent",
         "points": "all",
         "type": "violin",
         "x": [
          "Competent",
          "Competent",
          "Competent",
          "Competent",
          "Competent",
          "Competent",
          "Competent",
          "Competent",
          "Competent",
          "Competent",
          "Competent",
          "Competent"
         ],
         "y": [
          4,
          7,
          1,
          3,
          7,
          6,
          4,
          8,
          1,
          5,
          9,
          8
         ]
        },
        {
         "box": {
          "visible": true
         },
         "meanline": {
          "visible": true
         },
         "name": "Scary",
         "points": "all",
         "type": "violin",
         "x": [
          "Scary",
          "Scary",
          "Scary",
          "Scary",
          "Scary",
          "Scary",
          "Scary",
          "Scary",
          "Scary",
          "Scary",
          "Scary",
          "Scary"
         ],
         "y": [
          2,
          3,
          2,
          7,
          4,
          5,
          6,
          2,
          1,
          5,
          8,
          5
         ]
        },
        {
         "box": {
          "visible": true
         },
         "meanline": {
          "visible": true
         },
         "name": "Awkward",
         "points": "all",
         "type": "violin",
         "x": [
          "Awkward",
          "Awkward",
          "Awkward",
          "Awkward",
          "Awkward",
          "Awkward",
          "Awkward",
          "Awkward",
          "Awkward",
          "Awkward",
          "Awkward",
          "Awkward"
         ],
         "y": [
          1,
          2,
          1,
          8,
          4,
          4,
          2,
          7,
          1,
          8,
          8,
          1
         ]
        },
        {
         "box": {
          "visible": true
         },
         "meanline": {
          "visible": true
         },
         "name": "Dangerous",
         "points": "all",
         "type": "violin",
         "x": [
          "Dangerous",
          "Dangerous",
          "Dangerous",
          "Dangerous",
          "Dangerous",
          "Dangerous",
          "Dangerous",
          "Dangerous",
          "Dangerous",
          "Dangerous",
          "Dangerous",
          "Dangerous"
         ],
         "y": [
          1,
          6,
          2,
          8,
          4,
          4,
          2,
          2,
          1,
          2,
          8,
          8
         ]
        },
        {
         "box": {
          "visible": true
         },
         "meanline": {
          "visible": true
         },
         "name": "Aggressive",
         "points": "all",
         "type": "violin",
         "x": [
          "Aggressive",
          "Aggressive",
          "Aggressive",
          "Aggressive",
          "Aggressive",
          "Aggressive",
          "Aggressive",
          "Aggressive",
          "Aggressive",
          "Aggressive",
          "Aggressive",
          "Aggressive"
         ],
         "y": [
          1,
          8,
          6,
          8,
          8,
          5,
          7,
          2,
          1,
          5,
          8,
          8
         ]
        },
        {
         "box": {
          "visible": true
         },
         "meanline": {
          "visible": true
         },
         "name": "Hunger",
         "points": "all",
         "type": "violin",
         "x": [
          "Hunger",
          "Hunger",
          "Hunger",
          "Hunger",
          "Hunger",
          "Hunger",
          "Hunger",
          "Hunger",
          "Hunger",
          "Hunger",
          "Hunger",
          "Hunger"
         ],
         "y": [
          1,
          6,
          1,
          5,
          6,
          1,
          1,
          2,
          1,
          2,
          3,
          6
         ]
        },
        {
         "box": {
          "visible": true
         },
         "meanline": {
          "visible": true
         },
         "name": "Fear",
         "points": "all",
         "type": "violin",
         "x": [
          "Fear",
          "Fear",
          "Fear",
          "Fear",
          "Fear",
          "Fear",
          "Fear",
          "Fear",
          "Fear",
          "Fear",
          "Fear",
          "Fear"
         ],
         "y": [
          1,
          2,
          3,
          2,
          3,
          2,
          1,
          2,
          1,
          2,
          2,
          5
         ]
        },
        {
         "box": {
          "visible": true
         },
         "meanline": {
          "visible": true
         },
         "name": "Pain",
         "points": "all",
         "type": "violin",
         "x": [
          "Pain",
          "Pain",
          "Pain",
          "Pain",
          "Pain",
          "Pain",
          "Pain",
          "Pain",
          "Pain",
          "Pain",
          "Pain",
          "Pain"
         ],
         "y": [
          1,
          1,
          1,
          6,
          3,
          3,
          1,
          1,
          1,
          1,
          6,
          4
         ]
        },
        {
         "box": {
          "visible": true
         },
         "meanline": {
          "visible": true
         },
         "name": "Pleasure",
         "points": "all",
         "type": "violin",
         "x": [
          "Pleasure",
          "Pleasure",
          "Pleasure",
          "Pleasure",
          "Pleasure",
          "Pleasure",
          "Pleasure",
          "Pleasure",
          "Pleasure",
          "Pleasure",
          "Pleasure",
          "Pleasure"
         ],
         "y": [
          1,
          5,
          1,
          5,
          6,
          1,
          3,
          5,
          1,
          1,
          2,
          4
         ]
        },
        {
         "box": {
          "visible": true
         },
         "meanline": {
          "visible": true
         },
         "name": "Rage",
         "points": "all",
         "type": "violin",
         "x": [
          "Rage",
          "Rage",
          "Rage",
          "Rage",
          "Rage",
          "Rage",
          "Rage",
          "Rage",
          "Rage",
          "Rage",
          "Rage",
          "Rage"
         ],
         "y": [
          1,
          6,
          1,
          7,
          6,
          1,
          4,
          2,
          1,
          3,
          6,
          4
         ]
        },
        {
         "box": {
          "visible": true
         },
         "meanline": {
          "visible": true
         },
         "name": "Desire",
         "points": "all",
         "type": "violin",
         "x": [
          "Desire",
          "Desire",
          "Desire",
          "Desire",
          "Desire",
          "Desire",
          "Desire",
          "Desire",
          "Desire",
          "Desire",
          "Desire",
          "Desire"
         ],
         "y": [
          1,
          6,
          4,
          6,
          6,
          3,
          3,
          2,
          1,
          1,
          2,
          2
         ]
        },
        {
         "box": {
          "visible": true
         },
         "meanline": {
          "visible": true
         },
         "name": "Personality",
         "points": "all",
         "type": "violin",
         "x": [
          "Personality",
          "Personality",
          "Personality",
          "Personality",
          "Personality",
          "Personality",
          "Personality",
          "Personality",
          "Personality",
          "Personality",
          "Personality",
          "Personality"
         ],
         "y": [
          1,
          6,
          1,
          5,
          6,
          2,
          4,
          5,
          1,
          1,
          5,
          5
         ]
        },
        {
         "box": {
          "visible": true
         },
         "meanline": {
          "visible": true
         },
         "name": "Consciousness",
         "points": "all",
         "type": "violin",
         "x": [
          "Consciousness",
          "Consciousness",
          "Consciousness",
          "Consciousness",
          "Consciousness",
          "Consciousness",
          "Consciousness",
          "Consciousness",
          "Consciousness",
          "Consciousness",
          "Consciousness",
          "Consciousness"
         ],
         "y": [
          1,
          6,
          1,
          2,
          6,
          1,
          5,
          6,
          1,
          1,
          4,
          4
         ]
        },
        {
         "box": {
          "visible": true
         },
         "meanline": {
          "visible": true
         },
         "name": "Pride",
         "points": "all",
         "type": "violin",
         "x": [
          "Pride",
          "Pride",
          "Pride",
          "Pride",
          "Pride",
          "Pride",
          "Pride",
          "Pride",
          "Pride",
          "Pride",
          "Pride",
          "Pride"
         ],
         "y": [
          1,
          7,
          1,
          5,
          6,
          1,
          2,
          5,
          1,
          2,
          6,
          2
         ]
        },
        {
         "box": {
          "visible": true
         },
         "meanline": {
          "visible": true
         },
         "name": "Embarassment",
         "points": "all",
         "type": "violin",
         "x": [
          "Embarassment",
          "Embarassment",
          "Embarassment",
          "Embarassment",
          "Embarassment",
          "Embarassment",
          "Embarassment",
          "Embarassment",
          "Embarassment",
          "Embarassment",
          "Embarassment",
          "Embarassment"
         ],
         "y": [
          1,
          1,
          1,
          1,
          2,
          1,
          2,
          3,
          1,
          1,
          6,
          1
         ]
        },
        {
         "box": {
          "visible": true
         },
         "meanline": {
          "visible": true
         },
         "name": "Joy",
         "points": "all",
         "type": "violin",
         "x": [
          "Joy",
          "Joy",
          "Joy",
          "Joy",
          "Joy",
          "Joy",
          "Joy",
          "Joy",
          "Joy",
          "Joy",
          "Joy",
          "Joy"
         ],
         "y": [
          1,
          5,
          1,
          4,
          4,
          1,
          2,
          5,
          1,
          1,
          6,
          1
         ]
        },
        {
         "box": {
          "visible": true
         },
         "meanline": {
          "visible": true
         },
         "name": "Self-Control",
         "points": "all",
         "type": "violin",
         "x": [
          "Self-Control",
          "Self-Control",
          "Self-Control",
          "Self-Control",
          "Self-Control",
          "Self-Control",
          "Self-Control",
          "Self-Control",
          "Self-Control",
          "Self-Control",
          "Self-Control",
          "Self-Control"
         ],
         "y": [
          1,
          7,
          4,
          3,
          4,
          1,
          5,
          6,
          1,
          1,
          6,
          3
         ]
        },
        {
         "box": {
          "visible": true
         },
         "meanline": {
          "visible": true
         },
         "name": "Morality",
         "points": "all",
         "type": "violin",
         "x": [
          "Morality",
          "Morality",
          "Morality",
          "Morality",
          "Morality",
          "Morality",
          "Morality",
          "Morality",
          "Morality",
          "Morality",
          "Morality",
          "Morality"
         ],
         "y": [
          1,
          7,
          1,
          2,
          4,
          1,
          5,
          4,
          1,
          1,
          6,
          2
         ]
        },
        {
         "box": {
          "visible": true
         },
         "meanline": {
          "visible": true
         },
         "name": "Memory",
         "points": "all",
         "type": "violin",
         "x": [
          "Memory",
          "Memory",
          "Memory",
          "Memory",
          "Memory",
          "Memory",
          "Memory",
          "Memory",
          "Memory",
          "Memory",
          "Memory",
          "Memory"
         ],
         "y": [
          1,
          7,
          1,
          3,
          4,
          1,
          5,
          5,
          1,
          1,
          6,
          2
         ]
        },
        {
         "box": {
          "visible": true
         },
         "meanline": {
          "visible": true
         },
         "name": "Emotion Recognition",
         "points": "all",
         "type": "violin",
         "x": [
          "Emotion Recognition",
          "Emotion Recognition",
          "Emotion Recognition",
          "Emotion Recognition",
          "Emotion Recognition",
          "Emotion Recognition",
          "Emotion Recognition",
          "Emotion Recognition",
          "Emotion Recognition",
          "Emotion Recognition",
          "Emotion Recognition",
          "Emotion Recognition"
         ],
         "y": [
          1,
          7,
          1,
          2,
          3,
          1,
          2,
          6,
          1,
          1,
          2,
          2
         ]
        },
        {
         "box": {
          "visible": true
         },
         "meanline": {
          "visible": true
         },
         "name": "Planning",
         "points": "all",
         "type": "violin",
         "x": [
          "Planning",
          "Planning",
          "Planning",
          "Planning",
          "Planning",
          "Planning",
          "Planning",
          "Planning",
          "Planning",
          "Planning",
          "Planning",
          "Planning"
         ],
         "y": [
          1,
          7,
          1,
          2,
          6,
          2,
          5,
          3,
          1,
          1,
          3,
          4
         ]
        },
        {
         "box": {
          "visible": true
         },
         "meanline": {
          "visible": true
         },
         "name": "Communication",
         "points": "all",
         "type": "violin",
         "x": [
          "Communication",
          "Communication",
          "Communication",
          "Communication",
          "Communication",
          "Communication",
          "Communication",
          "Communication",
          "Communication",
          "Communication",
          "Communication",
          "Communication"
         ],
         "y": [
          1,
          6,
          4,
          4,
          3,
          3,
          2,
          2,
          1,
          1,
          4,
          3
         ]
        },
        {
         "box": {
          "visible": true
         },
         "meanline": {
          "visible": true
         },
         "name": "Thought",
         "points": "all",
         "type": "violin",
         "x": [
          "Thought",
          "Thought",
          "Thought",
          "Thought",
          "Thought",
          "Thought",
          "Thought",
          "Thought",
          "Thought",
          "Thought",
          "Thought",
          "Thought"
         ],
         "y": [
          1,
          5,
          1,
          5,
          4,
          1,
          5,
          5,
          1,
          1,
          4,
          5
         ]
        }
       ],
       "layout": {
        "template": {
         "data": {
          "bar": [
           {
            "error_x": {
             "color": "#2a3f5f"
            },
            "error_y": {
             "color": "#2a3f5f"
            },
            "marker": {
             "line": {
              "color": "#E5ECF6",
              "width": 0.5
             }
            },
            "type": "bar"
           }
          ],
          "barpolar": [
           {
            "marker": {
             "line": {
              "color": "#E5ECF6",
              "width": 0.5
             }
            },
            "type": "barpolar"
           }
          ],
          "carpet": [
           {
            "aaxis": {
             "endlinecolor": "#2a3f5f",
             "gridcolor": "white",
             "linecolor": "white",
             "minorgridcolor": "white",
             "startlinecolor": "#2a3f5f"
            },
            "baxis": {
             "endlinecolor": "#2a3f5f",
             "gridcolor": "white",
             "linecolor": "white",
             "minorgridcolor": "white",
             "startlinecolor": "#2a3f5f"
            },
            "type": "carpet"
           }
          ],
          "choropleth": [
           {
            "colorbar": {
             "outlinewidth": 0,
             "ticks": ""
            },
            "type": "choropleth"
           }
          ],
          "contour": [
           {
            "colorbar": {
             "outlinewidth": 0,
             "ticks": ""
            },
            "colorscale": [
             [
              0,
              "#0d0887"
             ],
             [
              0.1111111111111111,
              "#46039f"
             ],
             [
              0.2222222222222222,
              "#7201a8"
             ],
             [
              0.3333333333333333,
              "#9c179e"
             ],
             [
              0.4444444444444444,
              "#bd3786"
             ],
             [
              0.5555555555555556,
              "#d8576b"
             ],
             [
              0.6666666666666666,
              "#ed7953"
             ],
             [
              0.7777777777777778,
              "#fb9f3a"
             ],
             [
              0.8888888888888888,
              "#fdca26"
             ],
             [
              1,
              "#f0f921"
             ]
            ],
            "type": "contour"
           }
          ],
          "contourcarpet": [
           {
            "colorbar": {
             "outlinewidth": 0,
             "ticks": ""
            },
            "type": "contourcarpet"
           }
          ],
          "heatmap": [
           {
            "colorbar": {
             "outlinewidth": 0,
             "ticks": ""
            },
            "colorscale": [
             [
              0,
              "#0d0887"
             ],
             [
              0.1111111111111111,
              "#46039f"
             ],
             [
              0.2222222222222222,
              "#7201a8"
             ],
             [
              0.3333333333333333,
              "#9c179e"
             ],
             [
              0.4444444444444444,
              "#bd3786"
             ],
             [
              0.5555555555555556,
              "#d8576b"
             ],
             [
              0.6666666666666666,
              "#ed7953"
             ],
             [
              0.7777777777777778,
              "#fb9f3a"
             ],
             [
              0.8888888888888888,
              "#fdca26"
             ],
             [
              1,
              "#f0f921"
             ]
            ],
            "type": "heatmap"
           }
          ],
          "heatmapgl": [
           {
            "colorbar": {
             "outlinewidth": 0,
             "ticks": ""
            },
            "colorscale": [
             [
              0,
              "#0d0887"
             ],
             [
              0.1111111111111111,
              "#46039f"
             ],
             [
              0.2222222222222222,
              "#7201a8"
             ],
             [
              0.3333333333333333,
              "#9c179e"
             ],
             [
              0.4444444444444444,
              "#bd3786"
             ],
             [
              0.5555555555555556,
              "#d8576b"
             ],
             [
              0.6666666666666666,
              "#ed7953"
             ],
             [
              0.7777777777777778,
              "#fb9f3a"
             ],
             [
              0.8888888888888888,
              "#fdca26"
             ],
             [
              1,
              "#f0f921"
             ]
            ],
            "type": "heatmapgl"
           }
          ],
          "histogram": [
           {
            "marker": {
             "colorbar": {
              "outlinewidth": 0,
              "ticks": ""
             }
            },
            "type": "histogram"
           }
          ],
          "histogram2d": [
           {
            "colorbar": {
             "outlinewidth": 0,
             "ticks": ""
            },
            "colorscale": [
             [
              0,
              "#0d0887"
             ],
             [
              0.1111111111111111,
              "#46039f"
             ],
             [
              0.2222222222222222,
              "#7201a8"
             ],
             [
              0.3333333333333333,
              "#9c179e"
             ],
             [
              0.4444444444444444,
              "#bd3786"
             ],
             [
              0.5555555555555556,
              "#d8576b"
             ],
             [
              0.6666666666666666,
              "#ed7953"
             ],
             [
              0.7777777777777778,
              "#fb9f3a"
             ],
             [
              0.8888888888888888,
              "#fdca26"
             ],
             [
              1,
              "#f0f921"
             ]
            ],
            "type": "histogram2d"
           }
          ],
          "histogram2dcontour": [
           {
            "colorbar": {
             "outlinewidth": 0,
             "ticks": ""
            },
            "colorscale": [
             [
              0,
              "#0d0887"
             ],
             [
              0.1111111111111111,
              "#46039f"
             ],
             [
              0.2222222222222222,
              "#7201a8"
             ],
             [
              0.3333333333333333,
              "#9c179e"
             ],
             [
              0.4444444444444444,
              "#bd3786"
             ],
             [
              0.5555555555555556,
              "#d8576b"
             ],
             [
              0.6666666666666666,
              "#ed7953"
             ],
             [
              0.7777777777777778,
              "#fb9f3a"
             ],
             [
              0.8888888888888888,
              "#fdca26"
             ],
             [
              1,
              "#f0f921"
             ]
            ],
            "type": "histogram2dcontour"
           }
          ],
          "mesh3d": [
           {
            "colorbar": {
             "outlinewidth": 0,
             "ticks": ""
            },
            "type": "mesh3d"
           }
          ],
          "parcoords": [
           {
            "line": {
             "colorbar": {
              "outlinewidth": 0,
              "ticks": ""
             }
            },
            "type": "parcoords"
           }
          ],
          "pie": [
           {
            "automargin": true,
            "type": "pie"
           }
          ],
          "scatter": [
           {
            "marker": {
             "colorbar": {
              "outlinewidth": 0,
              "ticks": ""
             }
            },
            "type": "scatter"
           }
          ],
          "scatter3d": [
           {
            "line": {
             "colorbar": {
              "outlinewidth": 0,
              "ticks": ""
             }
            },
            "marker": {
             "colorbar": {
              "outlinewidth": 0,
              "ticks": ""
             }
            },
            "type": "scatter3d"
           }
          ],
          "scattercarpet": [
           {
            "marker": {
             "colorbar": {
              "outlinewidth": 0,
              "ticks": ""
             }
            },
            "type": "scattercarpet"
           }
          ],
          "scattergeo": [
           {
            "marker": {
             "colorbar": {
              "outlinewidth": 0,
              "ticks": ""
             }
            },
            "type": "scattergeo"
           }
          ],
          "scattergl": [
           {
            "marker": {
             "colorbar": {
              "outlinewidth": 0,
              "ticks": ""
             }
            },
            "type": "scattergl"
           }
          ],
          "scattermapbox": [
           {
            "marker": {
             "colorbar": {
              "outlinewidth": 0,
              "ticks": ""
             }
            },
            "type": "scattermapbox"
           }
          ],
          "scatterpolar": [
           {
            "marker": {
             "colorbar": {
              "outlinewidth": 0,
              "ticks": ""
             }
            },
            "type": "scatterpolar"
           }
          ],
          "scatterpolargl": [
           {
            "marker": {
             "colorbar": {
              "outlinewidth": 0,
              "ticks": ""
             }
            },
            "type": "scatterpolargl"
           }
          ],
          "scatterternary": [
           {
            "marker": {
             "colorbar": {
              "outlinewidth": 0,
              "ticks": ""
             }
            },
            "type": "scatterternary"
           }
          ],
          "surface": [
           {
            "colorbar": {
             "outlinewidth": 0,
             "ticks": ""
            },
            "colorscale": [
             [
              0,
              "#0d0887"
             ],
             [
              0.1111111111111111,
              "#46039f"
             ],
             [
              0.2222222222222222,
              "#7201a8"
             ],
             [
              0.3333333333333333,
              "#9c179e"
             ],
             [
              0.4444444444444444,
              "#bd3786"
             ],
             [
              0.5555555555555556,
              "#d8576b"
             ],
             [
              0.6666666666666666,
              "#ed7953"
             ],
             [
              0.7777777777777778,
              "#fb9f3a"
             ],
             [
              0.8888888888888888,
              "#fdca26"
             ],
             [
              1,
              "#f0f921"
             ]
            ],
            "type": "surface"
           }
          ],
          "table": [
           {
            "cells": {
             "fill": {
              "color": "#EBF0F8"
             },
             "line": {
              "color": "white"
             }
            },
            "header": {
             "fill": {
              "color": "#C8D4E3"
             },
             "line": {
              "color": "white"
             }
            },
            "type": "table"
           }
          ]
         },
         "layout": {
          "annotationdefaults": {
           "arrowcolor": "#2a3f5f",
           "arrowhead": 0,
           "arrowwidth": 1
          },
          "coloraxis": {
           "colorbar": {
            "outlinewidth": 0,
            "ticks": ""
           }
          },
          "colorscale": {
           "diverging": [
            [
             0,
             "#8e0152"
            ],
            [
             0.1,
             "#c51b7d"
            ],
            [
             0.2,
             "#de77ae"
            ],
            [
             0.3,
             "#f1b6da"
            ],
            [
             0.4,
             "#fde0ef"
            ],
            [
             0.5,
             "#f7f7f7"
            ],
            [
             0.6,
             "#e6f5d0"
            ],
            [
             0.7,
             "#b8e186"
            ],
            [
             0.8,
             "#7fbc41"
            ],
            [
             0.9,
             "#4d9221"
            ],
            [
             1,
             "#276419"
            ]
           ],
           "sequential": [
            [
             0,
             "#0d0887"
            ],
            [
             0.1111111111111111,
             "#46039f"
            ],
            [
             0.2222222222222222,
             "#7201a8"
            ],
            [
             0.3333333333333333,
             "#9c179e"
            ],
            [
             0.4444444444444444,
             "#bd3786"
            ],
            [
             0.5555555555555556,
             "#d8576b"
            ],
            [
             0.6666666666666666,
             "#ed7953"
            ],
            [
             0.7777777777777778,
             "#fb9f3a"
            ],
            [
             0.8888888888888888,
             "#fdca26"
            ],
            [
             1,
             "#f0f921"
            ]
           ],
           "sequentialminus": [
            [
             0,
             "#0d0887"
            ],
            [
             0.1111111111111111,
             "#46039f"
            ],
            [
             0.2222222222222222,
             "#7201a8"
            ],
            [
             0.3333333333333333,
             "#9c179e"
            ],
            [
             0.4444444444444444,
             "#bd3786"
            ],
            [
             0.5555555555555556,
             "#d8576b"
            ],
            [
             0.6666666666666666,
             "#ed7953"
            ],
            [
             0.7777777777777778,
             "#fb9f3a"
            ],
            [
             0.8888888888888888,
             "#fdca26"
            ],
            [
             1,
             "#f0f921"
            ]
           ]
          },
          "colorway": [
           "#636efa",
           "#EF553B",
           "#00cc96",
           "#ab63fa",
           "#FFA15A",
           "#19d3f3",
           "#FF6692",
           "#B6E880",
           "#FF97FF",
           "#FECB52"
          ],
          "font": {
           "color": "#2a3f5f"
          },
          "geo": {
           "bgcolor": "white",
           "lakecolor": "white",
           "landcolor": "#E5ECF6",
           "showlakes": true,
           "showland": true,
           "subunitcolor": "white"
          },
          "hoverlabel": {
           "align": "left"
          },
          "hovermode": "closest",
          "mapbox": {
           "style": "light"
          },
          "paper_bgcolor": "white",
          "plot_bgcolor": "#E5ECF6",
          "polar": {
           "angularaxis": {
            "gridcolor": "white",
            "linecolor": "white",
            "ticks": ""
           },
           "bgcolor": "#E5ECF6",
           "radialaxis": {
            "gridcolor": "white",
            "linecolor": "white",
            "ticks": ""
           }
          },
          "scene": {
           "xaxis": {
            "backgroundcolor": "#E5ECF6",
            "gridcolor": "white",
            "gridwidth": 2,
            "linecolor": "white",
            "showbackground": true,
            "ticks": "",
            "zerolinecolor": "white"
           },
           "yaxis": {
            "backgroundcolor": "#E5ECF6",
            "gridcolor": "white",
            "gridwidth": 2,
            "linecolor": "white",
            "showbackground": true,
            "ticks": "",
            "zerolinecolor": "white"
           },
           "zaxis": {
            "backgroundcolor": "#E5ECF6",
            "gridcolor": "white",
            "gridwidth": 2,
            "linecolor": "white",
            "showbackground": true,
            "ticks": "",
            "zerolinecolor": "white"
           }
          },
          "shapedefaults": {
           "line": {
            "color": "#2a3f5f"
           }
          },
          "ternary": {
           "aaxis": {
            "gridcolor": "white",
            "linecolor": "white",
            "ticks": ""
           },
           "baxis": {
            "gridcolor": "white",
            "linecolor": "white",
            "ticks": ""
           },
           "bgcolor": "#E5ECF6",
           "caxis": {
            "gridcolor": "white",
            "linecolor": "white",
            "ticks": ""
           }
          },
          "title": {
           "x": 0.05
          },
          "xaxis": {
           "automargin": true,
           "gridcolor": "white",
           "linecolor": "white",
           "ticks": "",
           "title": {
            "standoff": 15
           },
           "zerolinecolor": "white",
           "zerolinewidth": 2
          },
          "yaxis": {
           "automargin": true,
           "gridcolor": "white",
           "linecolor": "white",
           "ticks": "",
           "title": {
            "standoff": 15
           },
           "zerolinecolor": "white",
           "zerolinewidth": 2
          }
         }
        },
        "title": {
         "text": "entraining"
        }
       }
      },
      "text/html": [
       "<div>\n",
       "        \n",
       "        \n",
       "            <div id=\"c2c80a6a-5982-41ec-931a-c46f5def8724\" class=\"plotly-graph-div\" style=\"height:525px; width:100%;\"></div>\n",
       "            <script type=\"text/javascript\">\n",
       "                require([\"plotly\"], function(Plotly) {\n",
       "                    window.PLOTLYENV=window.PLOTLYENV || {};\n",
       "                    \n",
       "                if (document.getElementById(\"c2c80a6a-5982-41ec-931a-c46f5def8724\")) {\n",
       "                    Plotly.newPlot(\n",
       "                        'c2c80a6a-5982-41ec-931a-c46f5def8724',\n",
       "                        [{\"box\": {\"visible\": true}, \"meanline\": {\"visible\": true}, \"name\": \"Happy\", \"points\": \"all\", \"type\": \"violin\", \"x\": [\"Happy\", \"Happy\", \"Happy\", \"Happy\", \"Happy\", \"Happy\", \"Happy\", \"Happy\", \"Happy\", \"Happy\", \"Happy\", \"Happy\"], \"y\": [1, 6, 1, 3, 7, 1, 2, 6, 1, 3, 4, 3]}, {\"box\": {\"visible\": true}, \"meanline\": {\"visible\": true}, \"name\": \"Feeling\", \"points\": \"all\", \"type\": \"violin\", \"x\": [\"Feeling\", \"Feeling\", \"Feeling\", \"Feeling\", \"Feeling\", \"Feeling\", \"Feeling\", \"Feeling\", \"Feeling\", \"Feeling\", \"Feeling\", \"Feeling\"], \"y\": [1, 8, 1, 6, 7, 2, 5, 7, 1, 1, 5, 5]}, {\"box\": {\"visible\": true}, \"meanline\": {\"visible\": true}, \"name\": \"Organic\", \"points\": \"all\", \"type\": \"violin\", \"x\": [\"Organic\", \"Organic\", \"Organic\", \"Organic\", \"Organic\", \"Organic\", \"Organic\", \"Organic\", \"Organic\", \"Organic\", \"Organic\", \"Organic\"], \"y\": [4, 8, 1, 2, 8, 2, 4, 2, 1, 2, 4, 1]}, {\"box\": {\"visible\": true}, \"meanline\": {\"visible\": true}, \"name\": \"Compassionate\", \"points\": \"all\", \"type\": \"violin\", \"x\": [\"Compassionate\", \"Compassionate\", \"Compassionate\", \"Compassionate\", \"Compassionate\", \"Compassionate\", \"Compassionate\", \"Compassionate\", \"Compassionate\", \"Compassionate\", \"Compassionate\", \"Compassionate\"], \"y\": [4, 6, 1, 5, 4, 3, 3, 5, 1, 2, 2, 1]}, {\"box\": {\"visible\": true}, \"meanline\": {\"visible\": true}, \"name\": \"Capable\", \"points\": \"all\", \"type\": \"violin\", \"x\": [\"Capable\", \"Capable\", \"Capable\", \"Capable\", \"Capable\", \"Capable\", \"Capable\", \"Capable\", \"Capable\", \"Capable\", \"Capable\", \"Capable\"], \"y\": [4, 6, 1, 8, 7, 2, 6, 3, 1, 4, 9, 8]}, {\"box\": {\"visible\": true}, \"meanline\": {\"visible\": true}, \"name\": \"Responsive\", \"points\": \"all\", \"type\": \"violin\", \"x\": [\"Responsive\", \"Responsive\", \"Responsive\", \"Responsive\", \"Responsive\", \"Responsive\", \"Responsive\", \"Responsive\", \"Responsive\", \"Responsive\", \"Responsive\", \"Responsive\"], \"y\": [2, 6, 1, 2, 7, 2, 7, 1, 1, 2, 3, 7]}, {\"box\": {\"visible\": true}, \"meanline\": {\"visible\": true}, \"name\": \"Reliable\", \"points\": \"all\", \"type\": \"violin\", \"x\": [\"Reliable\", \"Reliable\", \"Reliable\", \"Reliable\", \"Reliable\", \"Reliable\", \"Reliable\", \"Reliable\", \"Reliable\", \"Reliable\", \"Reliable\", \"Reliable\"], \"y\": [2, 7, 1, 2, 7, 6, 6, 8, 1, 5, 3, 4]}, {\"box\": {\"visible\": true}, \"meanline\": {\"visible\": true}, \"name\": \"Competent\", \"points\": \"all\", \"type\": \"violin\", \"x\": [\"Competent\", \"Competent\", \"Competent\", \"Competent\", \"Competent\", \"Competent\", \"Competent\", \"Competent\", \"Competent\", \"Competent\", \"Competent\", \"Competent\"], \"y\": [4, 7, 1, 3, 7, 6, 4, 8, 1, 5, 9, 8]}, {\"box\": {\"visible\": true}, \"meanline\": {\"visible\": true}, \"name\": \"Scary\", \"points\": \"all\", \"type\": \"violin\", \"x\": [\"Scary\", \"Scary\", \"Scary\", \"Scary\", \"Scary\", \"Scary\", \"Scary\", \"Scary\", \"Scary\", \"Scary\", \"Scary\", \"Scary\"], \"y\": [2, 3, 2, 7, 4, 5, 6, 2, 1, 5, 8, 5]}, {\"box\": {\"visible\": true}, \"meanline\": {\"visible\": true}, \"name\": \"Awkward\", \"points\": \"all\", \"type\": \"violin\", \"x\": [\"Awkward\", \"Awkward\", \"Awkward\", \"Awkward\", \"Awkward\", \"Awkward\", \"Awkward\", \"Awkward\", \"Awkward\", \"Awkward\", \"Awkward\", \"Awkward\"], \"y\": [1, 2, 1, 8, 4, 4, 2, 7, 1, 8, 8, 1]}, {\"box\": {\"visible\": true}, \"meanline\": {\"visible\": true}, \"name\": \"Dangerous\", \"points\": \"all\", \"type\": \"violin\", \"x\": [\"Dangerous\", \"Dangerous\", \"Dangerous\", \"Dangerous\", \"Dangerous\", \"Dangerous\", \"Dangerous\", \"Dangerous\", \"Dangerous\", \"Dangerous\", \"Dangerous\", \"Dangerous\"], \"y\": [1, 6, 2, 8, 4, 4, 2, 2, 1, 2, 8, 8]}, {\"box\": {\"visible\": true}, \"meanline\": {\"visible\": true}, \"name\": \"Aggressive\", \"points\": \"all\", \"type\": \"violin\", \"x\": [\"Aggressive\", \"Aggressive\", \"Aggressive\", \"Aggressive\", \"Aggressive\", \"Aggressive\", \"Aggressive\", \"Aggressive\", \"Aggressive\", \"Aggressive\", \"Aggressive\", \"Aggressive\"], \"y\": [1, 8, 6, 8, 8, 5, 7, 2, 1, 5, 8, 8]}, {\"box\": {\"visible\": true}, \"meanline\": {\"visible\": true}, \"name\": \"Hunger\", \"points\": \"all\", \"type\": \"violin\", \"x\": [\"Hunger\", \"Hunger\", \"Hunger\", \"Hunger\", \"Hunger\", \"Hunger\", \"Hunger\", \"Hunger\", \"Hunger\", \"Hunger\", \"Hunger\", \"Hunger\"], \"y\": [1, 6, 1, 5, 6, 1, 1, 2, 1, 2, 3, 6]}, {\"box\": {\"visible\": true}, \"meanline\": {\"visible\": true}, \"name\": \"Fear\", \"points\": \"all\", \"type\": \"violin\", \"x\": [\"Fear\", \"Fear\", \"Fear\", \"Fear\", \"Fear\", \"Fear\", \"Fear\", \"Fear\", \"Fear\", \"Fear\", \"Fear\", \"Fear\"], \"y\": [1, 2, 3, 2, 3, 2, 1, 2, 1, 2, 2, 5]}, {\"box\": {\"visible\": true}, \"meanline\": {\"visible\": true}, \"name\": \"Pain\", \"points\": \"all\", \"type\": \"violin\", \"x\": [\"Pain\", \"Pain\", \"Pain\", \"Pain\", \"Pain\", \"Pain\", \"Pain\", \"Pain\", \"Pain\", \"Pain\", \"Pain\", \"Pain\"], \"y\": [1, 1, 1, 6, 3, 3, 1, 1, 1, 1, 6, 4]}, {\"box\": {\"visible\": true}, \"meanline\": {\"visible\": true}, \"name\": \"Pleasure\", \"points\": \"all\", \"type\": \"violin\", \"x\": [\"Pleasure\", \"Pleasure\", \"Pleasure\", \"Pleasure\", \"Pleasure\", \"Pleasure\", \"Pleasure\", \"Pleasure\", \"Pleasure\", \"Pleasure\", \"Pleasure\", \"Pleasure\"], \"y\": [1, 5, 1, 5, 6, 1, 3, 5, 1, 1, 2, 4]}, {\"box\": {\"visible\": true}, \"meanline\": {\"visible\": true}, \"name\": \"Rage\", \"points\": \"all\", \"type\": \"violin\", \"x\": [\"Rage\", \"Rage\", \"Rage\", \"Rage\", \"Rage\", \"Rage\", \"Rage\", \"Rage\", \"Rage\", \"Rage\", \"Rage\", \"Rage\"], \"y\": [1, 6, 1, 7, 6, 1, 4, 2, 1, 3, 6, 4]}, {\"box\": {\"visible\": true}, \"meanline\": {\"visible\": true}, \"name\": \"Desire\", \"points\": \"all\", \"type\": \"violin\", \"x\": [\"Desire\", \"Desire\", \"Desire\", \"Desire\", \"Desire\", \"Desire\", \"Desire\", \"Desire\", \"Desire\", \"Desire\", \"Desire\", \"Desire\"], \"y\": [1, 6, 4, 6, 6, 3, 3, 2, 1, 1, 2, 2]}, {\"box\": {\"visible\": true}, \"meanline\": {\"visible\": true}, \"name\": \"Personality\", \"points\": \"all\", \"type\": \"violin\", \"x\": [\"Personality\", \"Personality\", \"Personality\", \"Personality\", \"Personality\", \"Personality\", \"Personality\", \"Personality\", \"Personality\", \"Personality\", \"Personality\", \"Personality\"], \"y\": [1, 6, 1, 5, 6, 2, 4, 5, 1, 1, 5, 5]}, {\"box\": {\"visible\": true}, \"meanline\": {\"visible\": true}, \"name\": \"Consciousness\", \"points\": \"all\", \"type\": \"violin\", \"x\": [\"Consciousness\", \"Consciousness\", \"Consciousness\", \"Consciousness\", \"Consciousness\", \"Consciousness\", \"Consciousness\", \"Consciousness\", \"Consciousness\", \"Consciousness\", \"Consciousness\", \"Consciousness\"], \"y\": [1, 6, 1, 2, 6, 1, 5, 6, 1, 1, 4, 4]}, {\"box\": {\"visible\": true}, \"meanline\": {\"visible\": true}, \"name\": \"Pride\", \"points\": \"all\", \"type\": \"violin\", \"x\": [\"Pride\", \"Pride\", \"Pride\", \"Pride\", \"Pride\", \"Pride\", \"Pride\", \"Pride\", \"Pride\", \"Pride\", \"Pride\", \"Pride\"], \"y\": [1, 7, 1, 5, 6, 1, 2, 5, 1, 2, 6, 2]}, {\"box\": {\"visible\": true}, \"meanline\": {\"visible\": true}, \"name\": \"Embarassment\", \"points\": \"all\", \"type\": \"violin\", \"x\": [\"Embarassment\", \"Embarassment\", \"Embarassment\", \"Embarassment\", \"Embarassment\", \"Embarassment\", \"Embarassment\", \"Embarassment\", \"Embarassment\", \"Embarassment\", \"Embarassment\", \"Embarassment\"], \"y\": [1, 1, 1, 1, 2, 1, 2, 3, 1, 1, 6, 1]}, {\"box\": {\"visible\": true}, \"meanline\": {\"visible\": true}, \"name\": \"Joy\", \"points\": \"all\", \"type\": \"violin\", \"x\": [\"Joy\", \"Joy\", \"Joy\", \"Joy\", \"Joy\", \"Joy\", \"Joy\", \"Joy\", \"Joy\", \"Joy\", \"Joy\", \"Joy\"], \"y\": [1, 5, 1, 4, 4, 1, 2, 5, 1, 1, 6, 1]}, {\"box\": {\"visible\": true}, \"meanline\": {\"visible\": true}, \"name\": \"Self-Control\", \"points\": \"all\", \"type\": \"violin\", \"x\": [\"Self-Control\", \"Self-Control\", \"Self-Control\", \"Self-Control\", \"Self-Control\", \"Self-Control\", \"Self-Control\", \"Self-Control\", \"Self-Control\", \"Self-Control\", \"Self-Control\", \"Self-Control\"], \"y\": [1, 7, 4, 3, 4, 1, 5, 6, 1, 1, 6, 3]}, {\"box\": {\"visible\": true}, \"meanline\": {\"visible\": true}, \"name\": \"Morality\", \"points\": \"all\", \"type\": \"violin\", \"x\": [\"Morality\", \"Morality\", \"Morality\", \"Morality\", \"Morality\", \"Morality\", \"Morality\", \"Morality\", \"Morality\", \"Morality\", \"Morality\", \"Morality\"], \"y\": [1, 7, 1, 2, 4, 1, 5, 4, 1, 1, 6, 2]}, {\"box\": {\"visible\": true}, \"meanline\": {\"visible\": true}, \"name\": \"Memory\", \"points\": \"all\", \"type\": \"violin\", \"x\": [\"Memory\", \"Memory\", \"Memory\", \"Memory\", \"Memory\", \"Memory\", \"Memory\", \"Memory\", \"Memory\", \"Memory\", \"Memory\", \"Memory\"], \"y\": [1, 7, 1, 3, 4, 1, 5, 5, 1, 1, 6, 2]}, {\"box\": {\"visible\": true}, \"meanline\": {\"visible\": true}, \"name\": \"Emotion Recognition\", \"points\": \"all\", \"type\": \"violin\", \"x\": [\"Emotion Recognition\", \"Emotion Recognition\", \"Emotion Recognition\", \"Emotion Recognition\", \"Emotion Recognition\", \"Emotion Recognition\", \"Emotion Recognition\", \"Emotion Recognition\", \"Emotion Recognition\", \"Emotion Recognition\", \"Emotion Recognition\", \"Emotion Recognition\"], \"y\": [1, 7, 1, 2, 3, 1, 2, 6, 1, 1, 2, 2]}, {\"box\": {\"visible\": true}, \"meanline\": {\"visible\": true}, \"name\": \"Planning\", \"points\": \"all\", \"type\": \"violin\", \"x\": [\"Planning\", \"Planning\", \"Planning\", \"Planning\", \"Planning\", \"Planning\", \"Planning\", \"Planning\", \"Planning\", \"Planning\", \"Planning\", \"Planning\"], \"y\": [1, 7, 1, 2, 6, 2, 5, 3, 1, 1, 3, 4]}, {\"box\": {\"visible\": true}, \"meanline\": {\"visible\": true}, \"name\": \"Communication\", \"points\": \"all\", \"type\": \"violin\", \"x\": [\"Communication\", \"Communication\", \"Communication\", \"Communication\", \"Communication\", \"Communication\", \"Communication\", \"Communication\", \"Communication\", \"Communication\", \"Communication\", \"Communication\"], \"y\": [1, 6, 4, 4, 3, 3, 2, 2, 1, 1, 4, 3]}, {\"box\": {\"visible\": true}, \"meanline\": {\"visible\": true}, \"name\": \"Thought\", \"points\": \"all\", \"type\": \"violin\", \"x\": [\"Thought\", \"Thought\", \"Thought\", \"Thought\", \"Thought\", \"Thought\", \"Thought\", \"Thought\", \"Thought\", \"Thought\", \"Thought\", \"Thought\"], \"y\": [1, 5, 1, 5, 4, 1, 5, 5, 1, 1, 4, 5]}],\n",
       "                        {\"template\": {\"data\": {\"bar\": [{\"error_x\": {\"color\": \"#2a3f5f\"}, \"error_y\": {\"color\": \"#2a3f5f\"}, \"marker\": {\"line\": {\"color\": \"#E5ECF6\", \"width\": 0.5}}, \"type\": \"bar\"}], \"barpolar\": [{\"marker\": {\"line\": {\"color\": \"#E5ECF6\", \"width\": 0.5}}, \"type\": \"barpolar\"}], \"carpet\": [{\"aaxis\": {\"endlinecolor\": \"#2a3f5f\", \"gridcolor\": \"white\", \"linecolor\": \"white\", \"minorgridcolor\": \"white\", \"startlinecolor\": \"#2a3f5f\"}, \"baxis\": {\"endlinecolor\": \"#2a3f5f\", \"gridcolor\": \"white\", \"linecolor\": \"white\", \"minorgridcolor\": \"white\", \"startlinecolor\": \"#2a3f5f\"}, \"type\": \"carpet\"}], \"choropleth\": [{\"colorbar\": {\"outlinewidth\": 0, \"ticks\": \"\"}, \"type\": \"choropleth\"}], \"contour\": [{\"colorbar\": {\"outlinewidth\": 0, \"ticks\": \"\"}, \"colorscale\": [[0.0, \"#0d0887\"], [0.1111111111111111, \"#46039f\"], [0.2222222222222222, \"#7201a8\"], [0.3333333333333333, \"#9c179e\"], [0.4444444444444444, \"#bd3786\"], [0.5555555555555556, \"#d8576b\"], [0.6666666666666666, \"#ed7953\"], [0.7777777777777778, \"#fb9f3a\"], [0.8888888888888888, \"#fdca26\"], [1.0, \"#f0f921\"]], \"type\": \"contour\"}], \"contourcarpet\": [{\"colorbar\": {\"outlinewidth\": 0, \"ticks\": \"\"}, \"type\": \"contourcarpet\"}], \"heatmap\": [{\"colorbar\": {\"outlinewidth\": 0, \"ticks\": \"\"}, \"colorscale\": [[0.0, \"#0d0887\"], [0.1111111111111111, \"#46039f\"], [0.2222222222222222, \"#7201a8\"], [0.3333333333333333, \"#9c179e\"], [0.4444444444444444, \"#bd3786\"], [0.5555555555555556, \"#d8576b\"], [0.6666666666666666, \"#ed7953\"], [0.7777777777777778, \"#fb9f3a\"], [0.8888888888888888, \"#fdca26\"], [1.0, \"#f0f921\"]], \"type\": \"heatmap\"}], \"heatmapgl\": [{\"colorbar\": {\"outlinewidth\": 0, \"ticks\": \"\"}, \"colorscale\": [[0.0, \"#0d0887\"], [0.1111111111111111, \"#46039f\"], [0.2222222222222222, \"#7201a8\"], [0.3333333333333333, \"#9c179e\"], [0.4444444444444444, \"#bd3786\"], [0.5555555555555556, \"#d8576b\"], [0.6666666666666666, \"#ed7953\"], [0.7777777777777778, \"#fb9f3a\"], [0.8888888888888888, \"#fdca26\"], [1.0, \"#f0f921\"]], \"type\": \"heatmapgl\"}], \"histogram\": [{\"marker\": {\"colorbar\": {\"outlinewidth\": 0, \"ticks\": \"\"}}, \"type\": \"histogram\"}], \"histogram2d\": [{\"colorbar\": {\"outlinewidth\": 0, \"ticks\": \"\"}, \"colorscale\": [[0.0, \"#0d0887\"], [0.1111111111111111, \"#46039f\"], [0.2222222222222222, \"#7201a8\"], [0.3333333333333333, \"#9c179e\"], [0.4444444444444444, \"#bd3786\"], [0.5555555555555556, \"#d8576b\"], [0.6666666666666666, \"#ed7953\"], [0.7777777777777778, \"#fb9f3a\"], [0.8888888888888888, \"#fdca26\"], [1.0, \"#f0f921\"]], \"type\": \"histogram2d\"}], \"histogram2dcontour\": [{\"colorbar\": {\"outlinewidth\": 0, \"ticks\": \"\"}, \"colorscale\": [[0.0, \"#0d0887\"], [0.1111111111111111, \"#46039f\"], [0.2222222222222222, \"#7201a8\"], [0.3333333333333333, \"#9c179e\"], [0.4444444444444444, \"#bd3786\"], [0.5555555555555556, \"#d8576b\"], [0.6666666666666666, \"#ed7953\"], [0.7777777777777778, \"#fb9f3a\"], [0.8888888888888888, \"#fdca26\"], [1.0, \"#f0f921\"]], \"type\": \"histogram2dcontour\"}], \"mesh3d\": [{\"colorbar\": {\"outlinewidth\": 0, \"ticks\": \"\"}, \"type\": \"mesh3d\"}], \"parcoords\": [{\"line\": {\"colorbar\": {\"outlinewidth\": 0, \"ticks\": \"\"}}, \"type\": \"parcoords\"}], \"pie\": [{\"automargin\": true, \"type\": \"pie\"}], \"scatter\": [{\"marker\": {\"colorbar\": {\"outlinewidth\": 0, \"ticks\": \"\"}}, \"type\": \"scatter\"}], \"scatter3d\": [{\"line\": {\"colorbar\": {\"outlinewidth\": 0, \"ticks\": \"\"}}, \"marker\": {\"colorbar\": {\"outlinewidth\": 0, \"ticks\": \"\"}}, \"type\": \"scatter3d\"}], \"scattercarpet\": [{\"marker\": {\"colorbar\": {\"outlinewidth\": 0, \"ticks\": \"\"}}, \"type\": \"scattercarpet\"}], \"scattergeo\": [{\"marker\": {\"colorbar\": {\"outlinewidth\": 0, \"ticks\": \"\"}}, \"type\": \"scattergeo\"}], \"scattergl\": [{\"marker\": {\"colorbar\": {\"outlinewidth\": 0, \"ticks\": \"\"}}, \"type\": \"scattergl\"}], \"scattermapbox\": [{\"marker\": {\"colorbar\": {\"outlinewidth\": 0, \"ticks\": \"\"}}, \"type\": \"scattermapbox\"}], \"scatterpolar\": [{\"marker\": {\"colorbar\": {\"outlinewidth\": 0, \"ticks\": \"\"}}, \"type\": \"scatterpolar\"}], \"scatterpolargl\": [{\"marker\": {\"colorbar\": {\"outlinewidth\": 0, \"ticks\": \"\"}}, \"type\": \"scatterpolargl\"}], \"scatterternary\": [{\"marker\": {\"colorbar\": {\"outlinewidth\": 0, \"ticks\": \"\"}}, \"type\": \"scatterternary\"}], \"surface\": [{\"colorbar\": {\"outlinewidth\": 0, \"ticks\": \"\"}, \"colorscale\": [[0.0, \"#0d0887\"], [0.1111111111111111, \"#46039f\"], [0.2222222222222222, \"#7201a8\"], [0.3333333333333333, \"#9c179e\"], [0.4444444444444444, \"#bd3786\"], [0.5555555555555556, \"#d8576b\"], [0.6666666666666666, \"#ed7953\"], [0.7777777777777778, \"#fb9f3a\"], [0.8888888888888888, \"#fdca26\"], [1.0, \"#f0f921\"]], \"type\": \"surface\"}], \"table\": [{\"cells\": {\"fill\": {\"color\": \"#EBF0F8\"}, \"line\": {\"color\": \"white\"}}, \"header\": {\"fill\": {\"color\": \"#C8D4E3\"}, \"line\": {\"color\": \"white\"}}, \"type\": \"table\"}]}, \"layout\": {\"annotationdefaults\": {\"arrowcolor\": \"#2a3f5f\", \"arrowhead\": 0, \"arrowwidth\": 1}, \"coloraxis\": {\"colorbar\": {\"outlinewidth\": 0, \"ticks\": \"\"}}, \"colorscale\": {\"diverging\": [[0, \"#8e0152\"], [0.1, \"#c51b7d\"], [0.2, \"#de77ae\"], [0.3, \"#f1b6da\"], [0.4, \"#fde0ef\"], [0.5, \"#f7f7f7\"], [0.6, \"#e6f5d0\"], [0.7, \"#b8e186\"], [0.8, \"#7fbc41\"], [0.9, \"#4d9221\"], [1, \"#276419\"]], \"sequential\": [[0.0, \"#0d0887\"], [0.1111111111111111, \"#46039f\"], [0.2222222222222222, \"#7201a8\"], [0.3333333333333333, \"#9c179e\"], [0.4444444444444444, \"#bd3786\"], [0.5555555555555556, \"#d8576b\"], [0.6666666666666666, \"#ed7953\"], [0.7777777777777778, \"#fb9f3a\"], [0.8888888888888888, \"#fdca26\"], [1.0, \"#f0f921\"]], \"sequentialminus\": [[0.0, \"#0d0887\"], [0.1111111111111111, \"#46039f\"], [0.2222222222222222, \"#7201a8\"], [0.3333333333333333, \"#9c179e\"], [0.4444444444444444, \"#bd3786\"], [0.5555555555555556, \"#d8576b\"], [0.6666666666666666, \"#ed7953\"], [0.7777777777777778, \"#fb9f3a\"], [0.8888888888888888, \"#fdca26\"], [1.0, \"#f0f921\"]]}, \"colorway\": [\"#636efa\", \"#EF553B\", \"#00cc96\", \"#ab63fa\", \"#FFA15A\", \"#19d3f3\", \"#FF6692\", \"#B6E880\", \"#FF97FF\", \"#FECB52\"], \"font\": {\"color\": \"#2a3f5f\"}, \"geo\": {\"bgcolor\": \"white\", \"lakecolor\": \"white\", \"landcolor\": \"#E5ECF6\", \"showlakes\": true, \"showland\": true, \"subunitcolor\": \"white\"}, \"hoverlabel\": {\"align\": \"left\"}, \"hovermode\": \"closest\", \"mapbox\": {\"style\": \"light\"}, \"paper_bgcolor\": \"white\", \"plot_bgcolor\": \"#E5ECF6\", \"polar\": {\"angularaxis\": {\"gridcolor\": \"white\", \"linecolor\": \"white\", \"ticks\": \"\"}, \"bgcolor\": \"#E5ECF6\", \"radialaxis\": {\"gridcolor\": \"white\", \"linecolor\": \"white\", \"ticks\": \"\"}}, \"scene\": {\"xaxis\": {\"backgroundcolor\": \"#E5ECF6\", \"gridcolor\": \"white\", \"gridwidth\": 2, \"linecolor\": \"white\", \"showbackground\": true, \"ticks\": \"\", \"zerolinecolor\": \"white\"}, \"yaxis\": {\"backgroundcolor\": \"#E5ECF6\", \"gridcolor\": \"white\", \"gridwidth\": 2, \"linecolor\": \"white\", \"showbackground\": true, \"ticks\": \"\", \"zerolinecolor\": \"white\"}, \"zaxis\": {\"backgroundcolor\": \"#E5ECF6\", \"gridcolor\": \"white\", \"gridwidth\": 2, \"linecolor\": \"white\", \"showbackground\": true, \"ticks\": \"\", \"zerolinecolor\": \"white\"}}, \"shapedefaults\": {\"line\": {\"color\": \"#2a3f5f\"}}, \"ternary\": {\"aaxis\": {\"gridcolor\": \"white\", \"linecolor\": \"white\", \"ticks\": \"\"}, \"baxis\": {\"gridcolor\": \"white\", \"linecolor\": \"white\", \"ticks\": \"\"}, \"bgcolor\": \"#E5ECF6\", \"caxis\": {\"gridcolor\": \"white\", \"linecolor\": \"white\", \"ticks\": \"\"}}, \"title\": {\"x\": 0.05}, \"xaxis\": {\"automargin\": true, \"gridcolor\": \"white\", \"linecolor\": \"white\", \"ticks\": \"\", \"title\": {\"standoff\": 15}, \"zerolinecolor\": \"white\", \"zerolinewidth\": 2}, \"yaxis\": {\"automargin\": true, \"gridcolor\": \"white\", \"linecolor\": \"white\", \"ticks\": \"\", \"title\": {\"standoff\": 15}, \"zerolinecolor\": \"white\", \"zerolinewidth\": 2}}}, \"title\": {\"text\": \"entraining\"}},\n",
       "                        {\"responsive\": true}\n",
       "                    ).then(function(){\n",
       "                            \n",
       "var gd = document.getElementById('c2c80a6a-5982-41ec-931a-c46f5def8724');\n",
       "var x = new MutationObserver(function (mutations, observer) {{\n",
       "        var display = window.getComputedStyle(gd).display;\n",
       "        if (!display || display === 'none') {{\n",
       "            console.log([gd, 'removed!']);\n",
       "            Plotly.purge(gd);\n",
       "            observer.disconnect();\n",
       "        }}\n",
       "}});\n",
       "\n",
       "// Listen for the removal of the full notebook cells\n",
       "var notebookContainer = gd.closest('#notebook-container');\n",
       "if (notebookContainer) {{\n",
       "    x.observe(notebookContainer, {childList: true});\n",
       "}}\n",
       "\n",
       "// Listen for the clearing of the current output cell\n",
       "var outputEl = gd.closest('.output');\n",
       "if (outputEl) {{\n",
       "    x.observe(outputEl, {childList: true});\n",
       "}}\n",
       "\n",
       "                        })\n",
       "                };\n",
       "                });\n",
       "            </script>\n",
       "        </div>"
      ]
     },
     "metadata": {},
     "output_type": "display_data"
    },
    {
     "data": {
      "application/vnd.plotly.v1+json": {
       "config": {
        "plotlyServerURL": "https://plot.ly"
       },
       "data": [
        {
         "box": {
          "visible": true
         },
         "meanline": {
          "visible": true
         },
         "name": "Happy",
         "points": "all",
         "type": "violin",
         "x": [
          "Happy",
          "Happy",
          "Happy",
          "Happy",
          "Happy",
          "Happy",
          "Happy",
          "Happy",
          "Happy",
          "Happy",
          "Happy",
          "Happy"
         ],
         "y": [
          1,
          6,
          1,
          3,
          7,
          1,
          2,
          6,
          1,
          3,
          4,
          3
         ]
        },
        {
         "box": {
          "visible": true
         },
         "meanline": {
          "visible": true
         },
         "name": "Feeling",
         "points": "all",
         "type": "violin",
         "x": [
          "Feeling",
          "Feeling",
          "Feeling",
          "Feeling",
          "Feeling",
          "Feeling",
          "Feeling",
          "Feeling",
          "Feeling",
          "Feeling",
          "Feeling",
          "Feeling"
         ],
         "y": [
          1,
          8,
          1,
          6,
          7,
          2,
          5,
          7,
          1,
          1,
          5,
          5
         ]
        },
        {
         "box": {
          "visible": true
         },
         "meanline": {
          "visible": true
         },
         "name": "Organic",
         "points": "all",
         "type": "violin",
         "x": [
          "Organic",
          "Organic",
          "Organic",
          "Organic",
          "Organic",
          "Organic",
          "Organic",
          "Organic",
          "Organic",
          "Organic",
          "Organic",
          "Organic"
         ],
         "y": [
          4,
          8,
          1,
          2,
          8,
          2,
          4,
          2,
          1,
          2,
          4,
          1
         ]
        },
        {
         "box": {
          "visible": true
         },
         "meanline": {
          "visible": true
         },
         "name": "Compassionate",
         "points": "all",
         "type": "violin",
         "x": [
          "Compassionate",
          "Compassionate",
          "Compassionate",
          "Compassionate",
          "Compassionate",
          "Compassionate",
          "Compassionate",
          "Compassionate",
          "Compassionate",
          "Compassionate",
          "Compassionate",
          "Compassionate"
         ],
         "y": [
          4,
          6,
          1,
          5,
          4,
          3,
          3,
          5,
          1,
          2,
          2,
          1
         ]
        },
        {
         "box": {
          "visible": true
         },
         "meanline": {
          "visible": true
         },
         "name": "Capable",
         "points": "all",
         "type": "violin",
         "x": [
          "Capable",
          "Capable",
          "Capable",
          "Capable",
          "Capable",
          "Capable",
          "Capable",
          "Capable",
          "Capable",
          "Capable",
          "Capable",
          "Capable"
         ],
         "y": [
          4,
          6,
          1,
          8,
          7,
          2,
          6,
          3,
          1,
          4,
          9,
          8
         ]
        },
        {
         "box": {
          "visible": true
         },
         "meanline": {
          "visible": true
         },
         "name": "Responsive",
         "points": "all",
         "type": "violin",
         "x": [
          "Responsive",
          "Responsive",
          "Responsive",
          "Responsive",
          "Responsive",
          "Responsive",
          "Responsive",
          "Responsive",
          "Responsive",
          "Responsive",
          "Responsive",
          "Responsive"
         ],
         "y": [
          2,
          6,
          1,
          2,
          7,
          2,
          7,
          1,
          1,
          2,
          3,
          7
         ]
        },
        {
         "box": {
          "visible": true
         },
         "meanline": {
          "visible": true
         },
         "name": "Reliable",
         "points": "all",
         "type": "violin",
         "x": [
          "Reliable",
          "Reliable",
          "Reliable",
          "Reliable",
          "Reliable",
          "Reliable",
          "Reliable",
          "Reliable",
          "Reliable",
          "Reliable",
          "Reliable",
          "Reliable"
         ],
         "y": [
          2,
          7,
          1,
          2,
          7,
          6,
          6,
          8,
          1,
          5,
          3,
          4
         ]
        },
        {
         "box": {
          "visible": true
         },
         "meanline": {
          "visible": true
         },
         "name": "Competent",
         "points": "all",
         "type": "violin",
         "x": [
          "Competent",
          "Competent",
          "Competent",
          "Competent",
          "Competent",
          "Competent",
          "Competent",
          "Competent",
          "Competent",
          "Competent",
          "Competent",
          "Competent"
         ],
         "y": [
          4,
          7,
          1,
          3,
          7,
          6,
          4,
          8,
          1,
          5,
          9,
          8
         ]
        },
        {
         "box": {
          "visible": true
         },
         "meanline": {
          "visible": true
         },
         "name": "Scary",
         "points": "all",
         "type": "violin",
         "x": [
          "Scary",
          "Scary",
          "Scary",
          "Scary",
          "Scary",
          "Scary",
          "Scary",
          "Scary",
          "Scary",
          "Scary",
          "Scary",
          "Scary"
         ],
         "y": [
          2,
          3,
          2,
          7,
          4,
          5,
          6,
          2,
          1,
          5,
          8,
          5
         ]
        },
        {
         "box": {
          "visible": true
         },
         "meanline": {
          "visible": true
         },
         "name": "Awkward",
         "points": "all",
         "type": "violin",
         "x": [
          "Awkward",
          "Awkward",
          "Awkward",
          "Awkward",
          "Awkward",
          "Awkward",
          "Awkward",
          "Awkward",
          "Awkward",
          "Awkward",
          "Awkward",
          "Awkward"
         ],
         "y": [
          1,
          2,
          1,
          8,
          4,
          4,
          2,
          7,
          1,
          8,
          8,
          1
         ]
        },
        {
         "box": {
          "visible": true
         },
         "meanline": {
          "visible": true
         },
         "name": "Dangerous",
         "points": "all",
         "type": "violin",
         "x": [
          "Dangerous",
          "Dangerous",
          "Dangerous",
          "Dangerous",
          "Dangerous",
          "Dangerous",
          "Dangerous",
          "Dangerous",
          "Dangerous",
          "Dangerous",
          "Dangerous",
          "Dangerous"
         ],
         "y": [
          1,
          6,
          2,
          8,
          4,
          4,
          2,
          2,
          1,
          2,
          8,
          8
         ]
        },
        {
         "box": {
          "visible": true
         },
         "meanline": {
          "visible": true
         },
         "name": "Aggressive",
         "points": "all",
         "type": "violin",
         "x": [
          "Aggressive",
          "Aggressive",
          "Aggressive",
          "Aggressive",
          "Aggressive",
          "Aggressive",
          "Aggressive",
          "Aggressive",
          "Aggressive",
          "Aggressive",
          "Aggressive",
          "Aggressive"
         ],
         "y": [
          1,
          8,
          6,
          8,
          8,
          5,
          7,
          2,
          1,
          5,
          8,
          8
         ]
        },
        {
         "box": {
          "visible": true
         },
         "meanline": {
          "visible": true
         },
         "name": "Hunger",
         "points": "all",
         "type": "violin",
         "x": [
          "Hunger",
          "Hunger",
          "Hunger",
          "Hunger",
          "Hunger",
          "Hunger",
          "Hunger",
          "Hunger",
          "Hunger",
          "Hunger",
          "Hunger",
          "Hunger"
         ],
         "y": [
          1,
          6,
          1,
          5,
          6,
          1,
          1,
          2,
          1,
          2,
          3,
          6
         ]
        },
        {
         "box": {
          "visible": true
         },
         "meanline": {
          "visible": true
         },
         "name": "Fear",
         "points": "all",
         "type": "violin",
         "x": [
          "Fear",
          "Fear",
          "Fear",
          "Fear",
          "Fear",
          "Fear",
          "Fear",
          "Fear",
          "Fear",
          "Fear",
          "Fear",
          "Fear"
         ],
         "y": [
          1,
          2,
          3,
          2,
          3,
          2,
          1,
          2,
          1,
          2,
          2,
          5
         ]
        },
        {
         "box": {
          "visible": true
         },
         "meanline": {
          "visible": true
         },
         "name": "Pain",
         "points": "all",
         "type": "violin",
         "x": [
          "Pain",
          "Pain",
          "Pain",
          "Pain",
          "Pain",
          "Pain",
          "Pain",
          "Pain",
          "Pain",
          "Pain",
          "Pain",
          "Pain"
         ],
         "y": [
          1,
          1,
          1,
          6,
          3,
          3,
          1,
          1,
          1,
          1,
          6,
          4
         ]
        },
        {
         "box": {
          "visible": true
         },
         "meanline": {
          "visible": true
         },
         "name": "Pleasure",
         "points": "all",
         "type": "violin",
         "x": [
          "Pleasure",
          "Pleasure",
          "Pleasure",
          "Pleasure",
          "Pleasure",
          "Pleasure",
          "Pleasure",
          "Pleasure",
          "Pleasure",
          "Pleasure",
          "Pleasure",
          "Pleasure"
         ],
         "y": [
          1,
          5,
          1,
          5,
          6,
          1,
          3,
          5,
          1,
          1,
          2,
          4
         ]
        },
        {
         "box": {
          "visible": true
         },
         "meanline": {
          "visible": true
         },
         "name": "Rage",
         "points": "all",
         "type": "violin",
         "x": [
          "Rage",
          "Rage",
          "Rage",
          "Rage",
          "Rage",
          "Rage",
          "Rage",
          "Rage",
          "Rage",
          "Rage",
          "Rage",
          "Rage"
         ],
         "y": [
          1,
          6,
          1,
          7,
          6,
          1,
          4,
          2,
          1,
          3,
          6,
          4
         ]
        },
        {
         "box": {
          "visible": true
         },
         "meanline": {
          "visible": true
         },
         "name": "Desire",
         "points": "all",
         "type": "violin",
         "x": [
          "Desire",
          "Desire",
          "Desire",
          "Desire",
          "Desire",
          "Desire",
          "Desire",
          "Desire",
          "Desire",
          "Desire",
          "Desire",
          "Desire"
         ],
         "y": [
          1,
          6,
          4,
          6,
          6,
          3,
          3,
          2,
          1,
          1,
          2,
          2
         ]
        },
        {
         "box": {
          "visible": true
         },
         "meanline": {
          "visible": true
         },
         "name": "Personality",
         "points": "all",
         "type": "violin",
         "x": [
          "Personality",
          "Personality",
          "Personality",
          "Personality",
          "Personality",
          "Personality",
          "Personality",
          "Personality",
          "Personality",
          "Personality",
          "Personality",
          "Personality"
         ],
         "y": [
          1,
          6,
          1,
          5,
          6,
          2,
          4,
          5,
          1,
          1,
          5,
          5
         ]
        },
        {
         "box": {
          "visible": true
         },
         "meanline": {
          "visible": true
         },
         "name": "Consciousness",
         "points": "all",
         "type": "violin",
         "x": [
          "Consciousness",
          "Consciousness",
          "Consciousness",
          "Consciousness",
          "Consciousness",
          "Consciousness",
          "Consciousness",
          "Consciousness",
          "Consciousness",
          "Consciousness",
          "Consciousness",
          "Consciousness"
         ],
         "y": [
          1,
          6,
          1,
          2,
          6,
          1,
          5,
          6,
          1,
          1,
          4,
          4
         ]
        },
        {
         "box": {
          "visible": true
         },
         "meanline": {
          "visible": true
         },
         "name": "Pride",
         "points": "all",
         "type": "violin",
         "x": [
          "Pride",
          "Pride",
          "Pride",
          "Pride",
          "Pride",
          "Pride",
          "Pride",
          "Pride",
          "Pride",
          "Pride",
          "Pride",
          "Pride"
         ],
         "y": [
          1,
          7,
          1,
          5,
          6,
          1,
          2,
          5,
          1,
          2,
          6,
          2
         ]
        },
        {
         "box": {
          "visible": true
         },
         "meanline": {
          "visible": true
         },
         "name": "Embarassment",
         "points": "all",
         "type": "violin",
         "x": [
          "Embarassment",
          "Embarassment",
          "Embarassment",
          "Embarassment",
          "Embarassment",
          "Embarassment",
          "Embarassment",
          "Embarassment",
          "Embarassment",
          "Embarassment",
          "Embarassment",
          "Embarassment"
         ],
         "y": [
          1,
          1,
          1,
          1,
          2,
          1,
          2,
          3,
          1,
          1,
          6,
          1
         ]
        },
        {
         "box": {
          "visible": true
         },
         "meanline": {
          "visible": true
         },
         "name": "Joy",
         "points": "all",
         "type": "violin",
         "x": [
          "Joy",
          "Joy",
          "Joy",
          "Joy",
          "Joy",
          "Joy",
          "Joy",
          "Joy",
          "Joy",
          "Joy",
          "Joy",
          "Joy"
         ],
         "y": [
          1,
          5,
          1,
          4,
          4,
          1,
          2,
          5,
          1,
          1,
          6,
          1
         ]
        },
        {
         "box": {
          "visible": true
         },
         "meanline": {
          "visible": true
         },
         "name": "Self-Control",
         "points": "all",
         "type": "violin",
         "x": [
          "Self-Control",
          "Self-Control",
          "Self-Control",
          "Self-Control",
          "Self-Control",
          "Self-Control",
          "Self-Control",
          "Self-Control",
          "Self-Control",
          "Self-Control",
          "Self-Control",
          "Self-Control"
         ],
         "y": [
          1,
          7,
          4,
          3,
          4,
          1,
          5,
          6,
          1,
          1,
          6,
          3
         ]
        },
        {
         "box": {
          "visible": true
         },
         "meanline": {
          "visible": true
         },
         "name": "Morality",
         "points": "all",
         "type": "violin",
         "x": [
          "Morality",
          "Morality",
          "Morality",
          "Morality",
          "Morality",
          "Morality",
          "Morality",
          "Morality",
          "Morality",
          "Morality",
          "Morality",
          "Morality"
         ],
         "y": [
          1,
          7,
          1,
          2,
          4,
          1,
          5,
          4,
          1,
          1,
          6,
          2
         ]
        },
        {
         "box": {
          "visible": true
         },
         "meanline": {
          "visible": true
         },
         "name": "Memory",
         "points": "all",
         "type": "violin",
         "x": [
          "Memory",
          "Memory",
          "Memory",
          "Memory",
          "Memory",
          "Memory",
          "Memory",
          "Memory",
          "Memory",
          "Memory",
          "Memory",
          "Memory"
         ],
         "y": [
          1,
          7,
          1,
          3,
          4,
          1,
          5,
          5,
          1,
          1,
          6,
          2
         ]
        },
        {
         "box": {
          "visible": true
         },
         "meanline": {
          "visible": true
         },
         "name": "Emotion Recognition",
         "points": "all",
         "type": "violin",
         "x": [
          "Emotion Recognition",
          "Emotion Recognition",
          "Emotion Recognition",
          "Emotion Recognition",
          "Emotion Recognition",
          "Emotion Recognition",
          "Emotion Recognition",
          "Emotion Recognition",
          "Emotion Recognition",
          "Emotion Recognition",
          "Emotion Recognition",
          "Emotion Recognition"
         ],
         "y": [
          1,
          7,
          1,
          2,
          3,
          1,
          2,
          6,
          1,
          1,
          2,
          2
         ]
        },
        {
         "box": {
          "visible": true
         },
         "meanline": {
          "visible": true
         },
         "name": "Planning",
         "points": "all",
         "type": "violin",
         "x": [
          "Planning",
          "Planning",
          "Planning",
          "Planning",
          "Planning",
          "Planning",
          "Planning",
          "Planning",
          "Planning",
          "Planning",
          "Planning",
          "Planning"
         ],
         "y": [
          1,
          7,
          1,
          2,
          6,
          2,
          5,
          3,
          1,
          1,
          3,
          4
         ]
        },
        {
         "box": {
          "visible": true
         },
         "meanline": {
          "visible": true
         },
         "name": "Communication",
         "points": "all",
         "type": "violin",
         "x": [
          "Communication",
          "Communication",
          "Communication",
          "Communication",
          "Communication",
          "Communication",
          "Communication",
          "Communication",
          "Communication",
          "Communication",
          "Communication",
          "Communication"
         ],
         "y": [
          1,
          6,
          4,
          4,
          3,
          3,
          2,
          2,
          1,
          1,
          4,
          3
         ]
        },
        {
         "box": {
          "visible": true
         },
         "meanline": {
          "visible": true
         },
         "name": "Thought",
         "points": "all",
         "type": "violin",
         "x": [
          "Thought",
          "Thought",
          "Thought",
          "Thought",
          "Thought",
          "Thought",
          "Thought",
          "Thought",
          "Thought",
          "Thought",
          "Thought",
          "Thought"
         ],
         "y": [
          1,
          5,
          1,
          5,
          4,
          1,
          5,
          5,
          1,
          1,
          4,
          5
         ]
        }
       ],
       "layout": {
        "template": {
         "data": {
          "bar": [
           {
            "error_x": {
             "color": "#2a3f5f"
            },
            "error_y": {
             "color": "#2a3f5f"
            },
            "marker": {
             "line": {
              "color": "#E5ECF6",
              "width": 0.5
             }
            },
            "type": "bar"
           }
          ],
          "barpolar": [
           {
            "marker": {
             "line": {
              "color": "#E5ECF6",
              "width": 0.5
             }
            },
            "type": "barpolar"
           }
          ],
          "carpet": [
           {
            "aaxis": {
             "endlinecolor": "#2a3f5f",
             "gridcolor": "white",
             "linecolor": "white",
             "minorgridcolor": "white",
             "startlinecolor": "#2a3f5f"
            },
            "baxis": {
             "endlinecolor": "#2a3f5f",
             "gridcolor": "white",
             "linecolor": "white",
             "minorgridcolor": "white",
             "startlinecolor": "#2a3f5f"
            },
            "type": "carpet"
           }
          ],
          "choropleth": [
           {
            "colorbar": {
             "outlinewidth": 0,
             "ticks": ""
            },
            "type": "choropleth"
           }
          ],
          "contour": [
           {
            "colorbar": {
             "outlinewidth": 0,
             "ticks": ""
            },
            "colorscale": [
             [
              0,
              "#0d0887"
             ],
             [
              0.1111111111111111,
              "#46039f"
             ],
             [
              0.2222222222222222,
              "#7201a8"
             ],
             [
              0.3333333333333333,
              "#9c179e"
             ],
             [
              0.4444444444444444,
              "#bd3786"
             ],
             [
              0.5555555555555556,
              "#d8576b"
             ],
             [
              0.6666666666666666,
              "#ed7953"
             ],
             [
              0.7777777777777778,
              "#fb9f3a"
             ],
             [
              0.8888888888888888,
              "#fdca26"
             ],
             [
              1,
              "#f0f921"
             ]
            ],
            "type": "contour"
           }
          ],
          "contourcarpet": [
           {
            "colorbar": {
             "outlinewidth": 0,
             "ticks": ""
            },
            "type": "contourcarpet"
           }
          ],
          "heatmap": [
           {
            "colorbar": {
             "outlinewidth": 0,
             "ticks": ""
            },
            "colorscale": [
             [
              0,
              "#0d0887"
             ],
             [
              0.1111111111111111,
              "#46039f"
             ],
             [
              0.2222222222222222,
              "#7201a8"
             ],
             [
              0.3333333333333333,
              "#9c179e"
             ],
             [
              0.4444444444444444,
              "#bd3786"
             ],
             [
              0.5555555555555556,
              "#d8576b"
             ],
             [
              0.6666666666666666,
              "#ed7953"
             ],
             [
              0.7777777777777778,
              "#fb9f3a"
             ],
             [
              0.8888888888888888,
              "#fdca26"
             ],
             [
              1,
              "#f0f921"
             ]
            ],
            "type": "heatmap"
           }
          ],
          "heatmapgl": [
           {
            "colorbar": {
             "outlinewidth": 0,
             "ticks": ""
            },
            "colorscale": [
             [
              0,
              "#0d0887"
             ],
             [
              0.1111111111111111,
              "#46039f"
             ],
             [
              0.2222222222222222,
              "#7201a8"
             ],
             [
              0.3333333333333333,
              "#9c179e"
             ],
             [
              0.4444444444444444,
              "#bd3786"
             ],
             [
              0.5555555555555556,
              "#d8576b"
             ],
             [
              0.6666666666666666,
              "#ed7953"
             ],
             [
              0.7777777777777778,
              "#fb9f3a"
             ],
             [
              0.8888888888888888,
              "#fdca26"
             ],
             [
              1,
              "#f0f921"
             ]
            ],
            "type": "heatmapgl"
           }
          ],
          "histogram": [
           {
            "marker": {
             "colorbar": {
              "outlinewidth": 0,
              "ticks": ""
             }
            },
            "type": "histogram"
           }
          ],
          "histogram2d": [
           {
            "colorbar": {
             "outlinewidth": 0,
             "ticks": ""
            },
            "colorscale": [
             [
              0,
              "#0d0887"
             ],
             [
              0.1111111111111111,
              "#46039f"
             ],
             [
              0.2222222222222222,
              "#7201a8"
             ],
             [
              0.3333333333333333,
              "#9c179e"
             ],
             [
              0.4444444444444444,
              "#bd3786"
             ],
             [
              0.5555555555555556,
              "#d8576b"
             ],
             [
              0.6666666666666666,
              "#ed7953"
             ],
             [
              0.7777777777777778,
              "#fb9f3a"
             ],
             [
              0.8888888888888888,
              "#fdca26"
             ],
             [
              1,
              "#f0f921"
             ]
            ],
            "type": "histogram2d"
           }
          ],
          "histogram2dcontour": [
           {
            "colorbar": {
             "outlinewidth": 0,
             "ticks": ""
            },
            "colorscale": [
             [
              0,
              "#0d0887"
             ],
             [
              0.1111111111111111,
              "#46039f"
             ],
             [
              0.2222222222222222,
              "#7201a8"
             ],
             [
              0.3333333333333333,
              "#9c179e"
             ],
             [
              0.4444444444444444,
              "#bd3786"
             ],
             [
              0.5555555555555556,
              "#d8576b"
             ],
             [
              0.6666666666666666,
              "#ed7953"
             ],
             [
              0.7777777777777778,
              "#fb9f3a"
             ],
             [
              0.8888888888888888,
              "#fdca26"
             ],
             [
              1,
              "#f0f921"
             ]
            ],
            "type": "histogram2dcontour"
           }
          ],
          "mesh3d": [
           {
            "colorbar": {
             "outlinewidth": 0,
             "ticks": ""
            },
            "type": "mesh3d"
           }
          ],
          "parcoords": [
           {
            "line": {
             "colorbar": {
              "outlinewidth": 0,
              "ticks": ""
             }
            },
            "type": "parcoords"
           }
          ],
          "pie": [
           {
            "automargin": true,
            "type": "pie"
           }
          ],
          "scatter": [
           {
            "marker": {
             "colorbar": {
              "outlinewidth": 0,
              "ticks": ""
             }
            },
            "type": "scatter"
           }
          ],
          "scatter3d": [
           {
            "line": {
             "colorbar": {
              "outlinewidth": 0,
              "ticks": ""
             }
            },
            "marker": {
             "colorbar": {
              "outlinewidth": 0,
              "ticks": ""
             }
            },
            "type": "scatter3d"
           }
          ],
          "scattercarpet": [
           {
            "marker": {
             "colorbar": {
              "outlinewidth": 0,
              "ticks": ""
             }
            },
            "type": "scattercarpet"
           }
          ],
          "scattergeo": [
           {
            "marker": {
             "colorbar": {
              "outlinewidth": 0,
              "ticks": ""
             }
            },
            "type": "scattergeo"
           }
          ],
          "scattergl": [
           {
            "marker": {
             "colorbar": {
              "outlinewidth": 0,
              "ticks": ""
             }
            },
            "type": "scattergl"
           }
          ],
          "scattermapbox": [
           {
            "marker": {
             "colorbar": {
              "outlinewidth": 0,
              "ticks": ""
             }
            },
            "type": "scattermapbox"
           }
          ],
          "scatterpolar": [
           {
            "marker": {
             "colorbar": {
              "outlinewidth": 0,
              "ticks": ""
             }
            },
            "type": "scatterpolar"
           }
          ],
          "scatterpolargl": [
           {
            "marker": {
             "colorbar": {
              "outlinewidth": 0,
              "ticks": ""
             }
            },
            "type": "scatterpolargl"
           }
          ],
          "scatterternary": [
           {
            "marker": {
             "colorbar": {
              "outlinewidth": 0,
              "ticks": ""
             }
            },
            "type": "scatterternary"
           }
          ],
          "surface": [
           {
            "colorbar": {
             "outlinewidth": 0,
             "ticks": ""
            },
            "colorscale": [
             [
              0,
              "#0d0887"
             ],
             [
              0.1111111111111111,
              "#46039f"
             ],
             [
              0.2222222222222222,
              "#7201a8"
             ],
             [
              0.3333333333333333,
              "#9c179e"
             ],
             [
              0.4444444444444444,
              "#bd3786"
             ],
             [
              0.5555555555555556,
              "#d8576b"
             ],
             [
              0.6666666666666666,
              "#ed7953"
             ],
             [
              0.7777777777777778,
              "#fb9f3a"
             ],
             [
              0.8888888888888888,
              "#fdca26"
             ],
             [
              1,
              "#f0f921"
             ]
            ],
            "type": "surface"
           }
          ],
          "table": [
           {
            "cells": {
             "fill": {
              "color": "#EBF0F8"
             },
             "line": {
              "color": "white"
             }
            },
            "header": {
             "fill": {
              "color": "#C8D4E3"
             },
             "line": {
              "color": "white"
             }
            },
            "type": "table"
           }
          ]
         },
         "layout": {
          "annotationdefaults": {
           "arrowcolor": "#2a3f5f",
           "arrowhead": 0,
           "arrowwidth": 1
          },
          "coloraxis": {
           "colorbar": {
            "outlinewidth": 0,
            "ticks": ""
           }
          },
          "colorscale": {
           "diverging": [
            [
             0,
             "#8e0152"
            ],
            [
             0.1,
             "#c51b7d"
            ],
            [
             0.2,
             "#de77ae"
            ],
            [
             0.3,
             "#f1b6da"
            ],
            [
             0.4,
             "#fde0ef"
            ],
            [
             0.5,
             "#f7f7f7"
            ],
            [
             0.6,
             "#e6f5d0"
            ],
            [
             0.7,
             "#b8e186"
            ],
            [
             0.8,
             "#7fbc41"
            ],
            [
             0.9,
             "#4d9221"
            ],
            [
             1,
             "#276419"
            ]
           ],
           "sequential": [
            [
             0,
             "#0d0887"
            ],
            [
             0.1111111111111111,
             "#46039f"
            ],
            [
             0.2222222222222222,
             "#7201a8"
            ],
            [
             0.3333333333333333,
             "#9c179e"
            ],
            [
             0.4444444444444444,
             "#bd3786"
            ],
            [
             0.5555555555555556,
             "#d8576b"
            ],
            [
             0.6666666666666666,
             "#ed7953"
            ],
            [
             0.7777777777777778,
             "#fb9f3a"
            ],
            [
             0.8888888888888888,
             "#fdca26"
            ],
            [
             1,
             "#f0f921"
            ]
           ],
           "sequentialminus": [
            [
             0,
             "#0d0887"
            ],
            [
             0.1111111111111111,
             "#46039f"
            ],
            [
             0.2222222222222222,
             "#7201a8"
            ],
            [
             0.3333333333333333,
             "#9c179e"
            ],
            [
             0.4444444444444444,
             "#bd3786"
            ],
            [
             0.5555555555555556,
             "#d8576b"
            ],
            [
             0.6666666666666666,
             "#ed7953"
            ],
            [
             0.7777777777777778,
             "#fb9f3a"
            ],
            [
             0.8888888888888888,
             "#fdca26"
            ],
            [
             1,
             "#f0f921"
            ]
           ]
          },
          "colorway": [
           "#636efa",
           "#EF553B",
           "#00cc96",
           "#ab63fa",
           "#FFA15A",
           "#19d3f3",
           "#FF6692",
           "#B6E880",
           "#FF97FF",
           "#FECB52"
          ],
          "font": {
           "color": "#2a3f5f"
          },
          "geo": {
           "bgcolor": "white",
           "lakecolor": "white",
           "landcolor": "#E5ECF6",
           "showlakes": true,
           "showland": true,
           "subunitcolor": "white"
          },
          "hoverlabel": {
           "align": "left"
          },
          "hovermode": "closest",
          "mapbox": {
           "style": "light"
          },
          "paper_bgcolor": "white",
          "plot_bgcolor": "#E5ECF6",
          "polar": {
           "angularaxis": {
            "gridcolor": "white",
            "linecolor": "white",
            "ticks": ""
           },
           "bgcolor": "#E5ECF6",
           "radialaxis": {
            "gridcolor": "white",
            "linecolor": "white",
            "ticks": ""
           }
          },
          "scene": {
           "xaxis": {
            "backgroundcolor": "#E5ECF6",
            "gridcolor": "white",
            "gridwidth": 2,
            "linecolor": "white",
            "showbackground": true,
            "ticks": "",
            "zerolinecolor": "white"
           },
           "yaxis": {
            "backgroundcolor": "#E5ECF6",
            "gridcolor": "white",
            "gridwidth": 2,
            "linecolor": "white",
            "showbackground": true,
            "ticks": "",
            "zerolinecolor": "white"
           },
           "zaxis": {
            "backgroundcolor": "#E5ECF6",
            "gridcolor": "white",
            "gridwidth": 2,
            "linecolor": "white",
            "showbackground": true,
            "ticks": "",
            "zerolinecolor": "white"
           }
          },
          "shapedefaults": {
           "line": {
            "color": "#2a3f5f"
           }
          },
          "ternary": {
           "aaxis": {
            "gridcolor": "white",
            "linecolor": "white",
            "ticks": ""
           },
           "baxis": {
            "gridcolor": "white",
            "linecolor": "white",
            "ticks": ""
           },
           "bgcolor": "#E5ECF6",
           "caxis": {
            "gridcolor": "white",
            "linecolor": "white",
            "ticks": ""
           }
          },
          "title": {
           "x": 0.05
          },
          "xaxis": {
           "automargin": true,
           "gridcolor": "white",
           "linecolor": "white",
           "ticks": "",
           "title": {
            "standoff": 15
           },
           "zerolinecolor": "white",
           "zerolinewidth": 2
          },
          "yaxis": {
           "automargin": true,
           "gridcolor": "white",
           "linecolor": "white",
           "ticks": "",
           "title": {
            "standoff": 15
           },
           "zerolinecolor": "white",
           "zerolinewidth": 2
          }
         }
        },
        "title": {
         "text": "launching with a temporal gap"
        }
       }
      },
      "text/html": [
       "<div>\n",
       "        \n",
       "        \n",
       "            <div id=\"b861b4bd-fc32-4aca-ba5e-09613cb66681\" class=\"plotly-graph-div\" style=\"height:525px; width:100%;\"></div>\n",
       "            <script type=\"text/javascript\">\n",
       "                require([\"plotly\"], function(Plotly) {\n",
       "                    window.PLOTLYENV=window.PLOTLYENV || {};\n",
       "                    \n",
       "                if (document.getElementById(\"b861b4bd-fc32-4aca-ba5e-09613cb66681\")) {\n",
       "                    Plotly.newPlot(\n",
       "                        'b861b4bd-fc32-4aca-ba5e-09613cb66681',\n",
       "                        [{\"box\": {\"visible\": true}, \"meanline\": {\"visible\": true}, \"name\": \"Happy\", \"points\": \"all\", \"type\": \"violin\", \"x\": [\"Happy\", \"Happy\", \"Happy\", \"Happy\", \"Happy\", \"Happy\", \"Happy\", \"Happy\", \"Happy\", \"Happy\", \"Happy\", \"Happy\"], \"y\": [1, 6, 1, 3, 7, 1, 2, 6, 1, 3, 4, 3]}, {\"box\": {\"visible\": true}, \"meanline\": {\"visible\": true}, \"name\": \"Feeling\", \"points\": \"all\", \"type\": \"violin\", \"x\": [\"Feeling\", \"Feeling\", \"Feeling\", \"Feeling\", \"Feeling\", \"Feeling\", \"Feeling\", \"Feeling\", \"Feeling\", \"Feeling\", \"Feeling\", \"Feeling\"], \"y\": [1, 8, 1, 6, 7, 2, 5, 7, 1, 1, 5, 5]}, {\"box\": {\"visible\": true}, \"meanline\": {\"visible\": true}, \"name\": \"Organic\", \"points\": \"all\", \"type\": \"violin\", \"x\": [\"Organic\", \"Organic\", \"Organic\", \"Organic\", \"Organic\", \"Organic\", \"Organic\", \"Organic\", \"Organic\", \"Organic\", \"Organic\", \"Organic\"], \"y\": [4, 8, 1, 2, 8, 2, 4, 2, 1, 2, 4, 1]}, {\"box\": {\"visible\": true}, \"meanline\": {\"visible\": true}, \"name\": \"Compassionate\", \"points\": \"all\", \"type\": \"violin\", \"x\": [\"Compassionate\", \"Compassionate\", \"Compassionate\", \"Compassionate\", \"Compassionate\", \"Compassionate\", \"Compassionate\", \"Compassionate\", \"Compassionate\", \"Compassionate\", \"Compassionate\", \"Compassionate\"], \"y\": [4, 6, 1, 5, 4, 3, 3, 5, 1, 2, 2, 1]}, {\"box\": {\"visible\": true}, \"meanline\": {\"visible\": true}, \"name\": \"Capable\", \"points\": \"all\", \"type\": \"violin\", \"x\": [\"Capable\", \"Capable\", \"Capable\", \"Capable\", \"Capable\", \"Capable\", \"Capable\", \"Capable\", \"Capable\", \"Capable\", \"Capable\", \"Capable\"], \"y\": [4, 6, 1, 8, 7, 2, 6, 3, 1, 4, 9, 8]}, {\"box\": {\"visible\": true}, \"meanline\": {\"visible\": true}, \"name\": \"Responsive\", \"points\": \"all\", \"type\": \"violin\", \"x\": [\"Responsive\", \"Responsive\", \"Responsive\", \"Responsive\", \"Responsive\", \"Responsive\", \"Responsive\", \"Responsive\", \"Responsive\", \"Responsive\", \"Responsive\", \"Responsive\"], \"y\": [2, 6, 1, 2, 7, 2, 7, 1, 1, 2, 3, 7]}, {\"box\": {\"visible\": true}, \"meanline\": {\"visible\": true}, \"name\": \"Reliable\", \"points\": \"all\", \"type\": \"violin\", \"x\": [\"Reliable\", \"Reliable\", \"Reliable\", \"Reliable\", \"Reliable\", \"Reliable\", \"Reliable\", \"Reliable\", \"Reliable\", \"Reliable\", \"Reliable\", \"Reliable\"], \"y\": [2, 7, 1, 2, 7, 6, 6, 8, 1, 5, 3, 4]}, {\"box\": {\"visible\": true}, \"meanline\": {\"visible\": true}, \"name\": \"Competent\", \"points\": \"all\", \"type\": \"violin\", \"x\": [\"Competent\", \"Competent\", \"Competent\", \"Competent\", \"Competent\", \"Competent\", \"Competent\", \"Competent\", \"Competent\", \"Competent\", \"Competent\", \"Competent\"], \"y\": [4, 7, 1, 3, 7, 6, 4, 8, 1, 5, 9, 8]}, {\"box\": {\"visible\": true}, \"meanline\": {\"visible\": true}, \"name\": \"Scary\", \"points\": \"all\", \"type\": \"violin\", \"x\": [\"Scary\", \"Scary\", \"Scary\", \"Scary\", \"Scary\", \"Scary\", \"Scary\", \"Scary\", \"Scary\", \"Scary\", \"Scary\", \"Scary\"], \"y\": [2, 3, 2, 7, 4, 5, 6, 2, 1, 5, 8, 5]}, {\"box\": {\"visible\": true}, \"meanline\": {\"visible\": true}, \"name\": \"Awkward\", \"points\": \"all\", \"type\": \"violin\", \"x\": [\"Awkward\", \"Awkward\", \"Awkward\", \"Awkward\", \"Awkward\", \"Awkward\", \"Awkward\", \"Awkward\", \"Awkward\", \"Awkward\", \"Awkward\", \"Awkward\"], \"y\": [1, 2, 1, 8, 4, 4, 2, 7, 1, 8, 8, 1]}, {\"box\": {\"visible\": true}, \"meanline\": {\"visible\": true}, \"name\": \"Dangerous\", \"points\": \"all\", \"type\": \"violin\", \"x\": [\"Dangerous\", \"Dangerous\", \"Dangerous\", \"Dangerous\", \"Dangerous\", \"Dangerous\", \"Dangerous\", \"Dangerous\", \"Dangerous\", \"Dangerous\", \"Dangerous\", \"Dangerous\"], \"y\": [1, 6, 2, 8, 4, 4, 2, 2, 1, 2, 8, 8]}, {\"box\": {\"visible\": true}, \"meanline\": {\"visible\": true}, \"name\": \"Aggressive\", \"points\": \"all\", \"type\": \"violin\", \"x\": [\"Aggressive\", \"Aggressive\", \"Aggressive\", \"Aggressive\", \"Aggressive\", \"Aggressive\", \"Aggressive\", \"Aggressive\", \"Aggressive\", \"Aggressive\", \"Aggressive\", \"Aggressive\"], \"y\": [1, 8, 6, 8, 8, 5, 7, 2, 1, 5, 8, 8]}, {\"box\": {\"visible\": true}, \"meanline\": {\"visible\": true}, \"name\": \"Hunger\", \"points\": \"all\", \"type\": \"violin\", \"x\": [\"Hunger\", \"Hunger\", \"Hunger\", \"Hunger\", \"Hunger\", \"Hunger\", \"Hunger\", \"Hunger\", \"Hunger\", \"Hunger\", \"Hunger\", \"Hunger\"], \"y\": [1, 6, 1, 5, 6, 1, 1, 2, 1, 2, 3, 6]}, {\"box\": {\"visible\": true}, \"meanline\": {\"visible\": true}, \"name\": \"Fear\", \"points\": \"all\", \"type\": \"violin\", \"x\": [\"Fear\", \"Fear\", \"Fear\", \"Fear\", \"Fear\", \"Fear\", \"Fear\", \"Fear\", \"Fear\", \"Fear\", \"Fear\", \"Fear\"], \"y\": [1, 2, 3, 2, 3, 2, 1, 2, 1, 2, 2, 5]}, {\"box\": {\"visible\": true}, \"meanline\": {\"visible\": true}, \"name\": \"Pain\", \"points\": \"all\", \"type\": \"violin\", \"x\": [\"Pain\", \"Pain\", \"Pain\", \"Pain\", \"Pain\", \"Pain\", \"Pain\", \"Pain\", \"Pain\", \"Pain\", \"Pain\", \"Pain\"], \"y\": [1, 1, 1, 6, 3, 3, 1, 1, 1, 1, 6, 4]}, {\"box\": {\"visible\": true}, \"meanline\": {\"visible\": true}, \"name\": \"Pleasure\", \"points\": \"all\", \"type\": \"violin\", \"x\": [\"Pleasure\", \"Pleasure\", \"Pleasure\", \"Pleasure\", \"Pleasure\", \"Pleasure\", \"Pleasure\", \"Pleasure\", \"Pleasure\", \"Pleasure\", \"Pleasure\", \"Pleasure\"], \"y\": [1, 5, 1, 5, 6, 1, 3, 5, 1, 1, 2, 4]}, {\"box\": {\"visible\": true}, \"meanline\": {\"visible\": true}, \"name\": \"Rage\", \"points\": \"all\", \"type\": \"violin\", \"x\": [\"Rage\", \"Rage\", \"Rage\", \"Rage\", \"Rage\", \"Rage\", \"Rage\", \"Rage\", \"Rage\", \"Rage\", \"Rage\", \"Rage\"], \"y\": [1, 6, 1, 7, 6, 1, 4, 2, 1, 3, 6, 4]}, {\"box\": {\"visible\": true}, \"meanline\": {\"visible\": true}, \"name\": \"Desire\", \"points\": \"all\", \"type\": \"violin\", \"x\": [\"Desire\", \"Desire\", \"Desire\", \"Desire\", \"Desire\", \"Desire\", \"Desire\", \"Desire\", \"Desire\", \"Desire\", \"Desire\", \"Desire\"], \"y\": [1, 6, 4, 6, 6, 3, 3, 2, 1, 1, 2, 2]}, {\"box\": {\"visible\": true}, \"meanline\": {\"visible\": true}, \"name\": \"Personality\", \"points\": \"all\", \"type\": \"violin\", \"x\": [\"Personality\", \"Personality\", \"Personality\", \"Personality\", \"Personality\", \"Personality\", \"Personality\", \"Personality\", \"Personality\", \"Personality\", \"Personality\", \"Personality\"], \"y\": [1, 6, 1, 5, 6, 2, 4, 5, 1, 1, 5, 5]}, {\"box\": {\"visible\": true}, \"meanline\": {\"visible\": true}, \"name\": \"Consciousness\", \"points\": \"all\", \"type\": \"violin\", \"x\": [\"Consciousness\", \"Consciousness\", \"Consciousness\", \"Consciousness\", \"Consciousness\", \"Consciousness\", \"Consciousness\", \"Consciousness\", \"Consciousness\", \"Consciousness\", \"Consciousness\", \"Consciousness\"], \"y\": [1, 6, 1, 2, 6, 1, 5, 6, 1, 1, 4, 4]}, {\"box\": {\"visible\": true}, \"meanline\": {\"visible\": true}, \"name\": \"Pride\", \"points\": \"all\", \"type\": \"violin\", \"x\": [\"Pride\", \"Pride\", \"Pride\", \"Pride\", \"Pride\", \"Pride\", \"Pride\", \"Pride\", \"Pride\", \"Pride\", \"Pride\", \"Pride\"], \"y\": [1, 7, 1, 5, 6, 1, 2, 5, 1, 2, 6, 2]}, {\"box\": {\"visible\": true}, \"meanline\": {\"visible\": true}, \"name\": \"Embarassment\", \"points\": \"all\", \"type\": \"violin\", \"x\": [\"Embarassment\", \"Embarassment\", \"Embarassment\", \"Embarassment\", \"Embarassment\", \"Embarassment\", \"Embarassment\", \"Embarassment\", \"Embarassment\", \"Embarassment\", \"Embarassment\", \"Embarassment\"], \"y\": [1, 1, 1, 1, 2, 1, 2, 3, 1, 1, 6, 1]}, {\"box\": {\"visible\": true}, \"meanline\": {\"visible\": true}, \"name\": \"Joy\", \"points\": \"all\", \"type\": \"violin\", \"x\": [\"Joy\", \"Joy\", \"Joy\", \"Joy\", \"Joy\", \"Joy\", \"Joy\", \"Joy\", \"Joy\", \"Joy\", \"Joy\", \"Joy\"], \"y\": [1, 5, 1, 4, 4, 1, 2, 5, 1, 1, 6, 1]}, {\"box\": {\"visible\": true}, \"meanline\": {\"visible\": true}, \"name\": \"Self-Control\", \"points\": \"all\", \"type\": \"violin\", \"x\": [\"Self-Control\", \"Self-Control\", \"Self-Control\", \"Self-Control\", \"Self-Control\", \"Self-Control\", \"Self-Control\", \"Self-Control\", \"Self-Control\", \"Self-Control\", \"Self-Control\", \"Self-Control\"], \"y\": [1, 7, 4, 3, 4, 1, 5, 6, 1, 1, 6, 3]}, {\"box\": {\"visible\": true}, \"meanline\": {\"visible\": true}, \"name\": \"Morality\", \"points\": \"all\", \"type\": \"violin\", \"x\": [\"Morality\", \"Morality\", \"Morality\", \"Morality\", \"Morality\", \"Morality\", \"Morality\", \"Morality\", \"Morality\", \"Morality\", \"Morality\", \"Morality\"], \"y\": [1, 7, 1, 2, 4, 1, 5, 4, 1, 1, 6, 2]}, {\"box\": {\"visible\": true}, \"meanline\": {\"visible\": true}, \"name\": \"Memory\", \"points\": \"all\", \"type\": \"violin\", \"x\": [\"Memory\", \"Memory\", \"Memory\", \"Memory\", \"Memory\", \"Memory\", \"Memory\", \"Memory\", \"Memory\", \"Memory\", \"Memory\", \"Memory\"], \"y\": [1, 7, 1, 3, 4, 1, 5, 5, 1, 1, 6, 2]}, {\"box\": {\"visible\": true}, \"meanline\": {\"visible\": true}, \"name\": \"Emotion Recognition\", \"points\": \"all\", \"type\": \"violin\", \"x\": [\"Emotion Recognition\", \"Emotion Recognition\", \"Emotion Recognition\", \"Emotion Recognition\", \"Emotion Recognition\", \"Emotion Recognition\", \"Emotion Recognition\", \"Emotion Recognition\", \"Emotion Recognition\", \"Emotion Recognition\", \"Emotion Recognition\", \"Emotion Recognition\"], \"y\": [1, 7, 1, 2, 3, 1, 2, 6, 1, 1, 2, 2]}, {\"box\": {\"visible\": true}, \"meanline\": {\"visible\": true}, \"name\": \"Planning\", \"points\": \"all\", \"type\": \"violin\", \"x\": [\"Planning\", \"Planning\", \"Planning\", \"Planning\", \"Planning\", \"Planning\", \"Planning\", \"Planning\", \"Planning\", \"Planning\", \"Planning\", \"Planning\"], \"y\": [1, 7, 1, 2, 6, 2, 5, 3, 1, 1, 3, 4]}, {\"box\": {\"visible\": true}, \"meanline\": {\"visible\": true}, \"name\": \"Communication\", \"points\": \"all\", \"type\": \"violin\", \"x\": [\"Communication\", \"Communication\", \"Communication\", \"Communication\", \"Communication\", \"Communication\", \"Communication\", \"Communication\", \"Communication\", \"Communication\", \"Communication\", \"Communication\"], \"y\": [1, 6, 4, 4, 3, 3, 2, 2, 1, 1, 4, 3]}, {\"box\": {\"visible\": true}, \"meanline\": {\"visible\": true}, \"name\": \"Thought\", \"points\": \"all\", \"type\": \"violin\", \"x\": [\"Thought\", \"Thought\", \"Thought\", \"Thought\", \"Thought\", \"Thought\", \"Thought\", \"Thought\", \"Thought\", \"Thought\", \"Thought\", \"Thought\"], \"y\": [1, 5, 1, 5, 4, 1, 5, 5, 1, 1, 4, 5]}],\n",
       "                        {\"template\": {\"data\": {\"bar\": [{\"error_x\": {\"color\": \"#2a3f5f\"}, \"error_y\": {\"color\": \"#2a3f5f\"}, \"marker\": {\"line\": {\"color\": \"#E5ECF6\", \"width\": 0.5}}, \"type\": \"bar\"}], \"barpolar\": [{\"marker\": {\"line\": {\"color\": \"#E5ECF6\", \"width\": 0.5}}, \"type\": \"barpolar\"}], \"carpet\": [{\"aaxis\": {\"endlinecolor\": \"#2a3f5f\", \"gridcolor\": \"white\", \"linecolor\": \"white\", \"minorgridcolor\": \"white\", \"startlinecolor\": \"#2a3f5f\"}, \"baxis\": {\"endlinecolor\": \"#2a3f5f\", \"gridcolor\": \"white\", \"linecolor\": \"white\", \"minorgridcolor\": \"white\", \"startlinecolor\": \"#2a3f5f\"}, \"type\": \"carpet\"}], \"choropleth\": [{\"colorbar\": {\"outlinewidth\": 0, \"ticks\": \"\"}, \"type\": \"choropleth\"}], \"contour\": [{\"colorbar\": {\"outlinewidth\": 0, \"ticks\": \"\"}, \"colorscale\": [[0.0, \"#0d0887\"], [0.1111111111111111, \"#46039f\"], [0.2222222222222222, \"#7201a8\"], [0.3333333333333333, \"#9c179e\"], [0.4444444444444444, \"#bd3786\"], [0.5555555555555556, \"#d8576b\"], [0.6666666666666666, \"#ed7953\"], [0.7777777777777778, \"#fb9f3a\"], [0.8888888888888888, \"#fdca26\"], [1.0, \"#f0f921\"]], \"type\": \"contour\"}], \"contourcarpet\": [{\"colorbar\": {\"outlinewidth\": 0, \"ticks\": \"\"}, \"type\": \"contourcarpet\"}], \"heatmap\": [{\"colorbar\": {\"outlinewidth\": 0, \"ticks\": \"\"}, \"colorscale\": [[0.0, \"#0d0887\"], [0.1111111111111111, \"#46039f\"], [0.2222222222222222, \"#7201a8\"], [0.3333333333333333, \"#9c179e\"], [0.4444444444444444, \"#bd3786\"], [0.5555555555555556, \"#d8576b\"], [0.6666666666666666, \"#ed7953\"], [0.7777777777777778, \"#fb9f3a\"], [0.8888888888888888, \"#fdca26\"], [1.0, \"#f0f921\"]], \"type\": \"heatmap\"}], \"heatmapgl\": [{\"colorbar\": {\"outlinewidth\": 0, \"ticks\": \"\"}, \"colorscale\": [[0.0, \"#0d0887\"], [0.1111111111111111, \"#46039f\"], [0.2222222222222222, \"#7201a8\"], [0.3333333333333333, \"#9c179e\"], [0.4444444444444444, \"#bd3786\"], [0.5555555555555556, \"#d8576b\"], [0.6666666666666666, \"#ed7953\"], [0.7777777777777778, \"#fb9f3a\"], [0.8888888888888888, \"#fdca26\"], [1.0, \"#f0f921\"]], \"type\": \"heatmapgl\"}], \"histogram\": [{\"marker\": {\"colorbar\": {\"outlinewidth\": 0, \"ticks\": \"\"}}, \"type\": \"histogram\"}], \"histogram2d\": [{\"colorbar\": {\"outlinewidth\": 0, \"ticks\": \"\"}, \"colorscale\": [[0.0, \"#0d0887\"], [0.1111111111111111, \"#46039f\"], [0.2222222222222222, \"#7201a8\"], [0.3333333333333333, \"#9c179e\"], [0.4444444444444444, \"#bd3786\"], [0.5555555555555556, \"#d8576b\"], [0.6666666666666666, \"#ed7953\"], [0.7777777777777778, \"#fb9f3a\"], [0.8888888888888888, \"#fdca26\"], [1.0, \"#f0f921\"]], \"type\": \"histogram2d\"}], \"histogram2dcontour\": [{\"colorbar\": {\"outlinewidth\": 0, \"ticks\": \"\"}, \"colorscale\": [[0.0, \"#0d0887\"], [0.1111111111111111, \"#46039f\"], [0.2222222222222222, \"#7201a8\"], [0.3333333333333333, \"#9c179e\"], [0.4444444444444444, \"#bd3786\"], [0.5555555555555556, \"#d8576b\"], [0.6666666666666666, \"#ed7953\"], [0.7777777777777778, \"#fb9f3a\"], [0.8888888888888888, \"#fdca26\"], [1.0, \"#f0f921\"]], \"type\": \"histogram2dcontour\"}], \"mesh3d\": [{\"colorbar\": {\"outlinewidth\": 0, \"ticks\": \"\"}, \"type\": \"mesh3d\"}], \"parcoords\": [{\"line\": {\"colorbar\": {\"outlinewidth\": 0, \"ticks\": \"\"}}, \"type\": \"parcoords\"}], \"pie\": [{\"automargin\": true, \"type\": \"pie\"}], \"scatter\": [{\"marker\": {\"colorbar\": {\"outlinewidth\": 0, \"ticks\": \"\"}}, \"type\": \"scatter\"}], \"scatter3d\": [{\"line\": {\"colorbar\": {\"outlinewidth\": 0, \"ticks\": \"\"}}, \"marker\": {\"colorbar\": {\"outlinewidth\": 0, \"ticks\": \"\"}}, \"type\": \"scatter3d\"}], \"scattercarpet\": [{\"marker\": {\"colorbar\": {\"outlinewidth\": 0, \"ticks\": \"\"}}, \"type\": \"scattercarpet\"}], \"scattergeo\": [{\"marker\": {\"colorbar\": {\"outlinewidth\": 0, \"ticks\": \"\"}}, \"type\": \"scattergeo\"}], \"scattergl\": [{\"marker\": {\"colorbar\": {\"outlinewidth\": 0, \"ticks\": \"\"}}, \"type\": \"scattergl\"}], \"scattermapbox\": [{\"marker\": {\"colorbar\": {\"outlinewidth\": 0, \"ticks\": \"\"}}, \"type\": \"scattermapbox\"}], \"scatterpolar\": [{\"marker\": {\"colorbar\": {\"outlinewidth\": 0, \"ticks\": \"\"}}, \"type\": \"scatterpolar\"}], \"scatterpolargl\": [{\"marker\": {\"colorbar\": {\"outlinewidth\": 0, \"ticks\": \"\"}}, \"type\": \"scatterpolargl\"}], \"scatterternary\": [{\"marker\": {\"colorbar\": {\"outlinewidth\": 0, \"ticks\": \"\"}}, \"type\": \"scatterternary\"}], \"surface\": [{\"colorbar\": {\"outlinewidth\": 0, \"ticks\": \"\"}, \"colorscale\": [[0.0, \"#0d0887\"], [0.1111111111111111, \"#46039f\"], [0.2222222222222222, \"#7201a8\"], [0.3333333333333333, \"#9c179e\"], [0.4444444444444444, \"#bd3786\"], [0.5555555555555556, \"#d8576b\"], [0.6666666666666666, \"#ed7953\"], [0.7777777777777778, \"#fb9f3a\"], [0.8888888888888888, \"#fdca26\"], [1.0, \"#f0f921\"]], \"type\": \"surface\"}], \"table\": [{\"cells\": {\"fill\": {\"color\": \"#EBF0F8\"}, \"line\": {\"color\": \"white\"}}, \"header\": {\"fill\": {\"color\": \"#C8D4E3\"}, \"line\": {\"color\": \"white\"}}, \"type\": \"table\"}]}, \"layout\": {\"annotationdefaults\": {\"arrowcolor\": \"#2a3f5f\", \"arrowhead\": 0, \"arrowwidth\": 1}, \"coloraxis\": {\"colorbar\": {\"outlinewidth\": 0, \"ticks\": \"\"}}, \"colorscale\": {\"diverging\": [[0, \"#8e0152\"], [0.1, \"#c51b7d\"], [0.2, \"#de77ae\"], [0.3, \"#f1b6da\"], [0.4, \"#fde0ef\"], [0.5, \"#f7f7f7\"], [0.6, \"#e6f5d0\"], [0.7, \"#b8e186\"], [0.8, \"#7fbc41\"], [0.9, \"#4d9221\"], [1, \"#276419\"]], \"sequential\": [[0.0, \"#0d0887\"], [0.1111111111111111, \"#46039f\"], [0.2222222222222222, \"#7201a8\"], [0.3333333333333333, \"#9c179e\"], [0.4444444444444444, \"#bd3786\"], [0.5555555555555556, \"#d8576b\"], [0.6666666666666666, \"#ed7953\"], [0.7777777777777778, \"#fb9f3a\"], [0.8888888888888888, \"#fdca26\"], [1.0, \"#f0f921\"]], \"sequentialminus\": [[0.0, \"#0d0887\"], [0.1111111111111111, \"#46039f\"], [0.2222222222222222, \"#7201a8\"], [0.3333333333333333, \"#9c179e\"], [0.4444444444444444, \"#bd3786\"], [0.5555555555555556, \"#d8576b\"], [0.6666666666666666, \"#ed7953\"], [0.7777777777777778, \"#fb9f3a\"], [0.8888888888888888, \"#fdca26\"], [1.0, \"#f0f921\"]]}, \"colorway\": [\"#636efa\", \"#EF553B\", \"#00cc96\", \"#ab63fa\", \"#FFA15A\", \"#19d3f3\", \"#FF6692\", \"#B6E880\", \"#FF97FF\", \"#FECB52\"], \"font\": {\"color\": \"#2a3f5f\"}, \"geo\": {\"bgcolor\": \"white\", \"lakecolor\": \"white\", \"landcolor\": \"#E5ECF6\", \"showlakes\": true, \"showland\": true, \"subunitcolor\": \"white\"}, \"hoverlabel\": {\"align\": \"left\"}, \"hovermode\": \"closest\", \"mapbox\": {\"style\": \"light\"}, \"paper_bgcolor\": \"white\", \"plot_bgcolor\": \"#E5ECF6\", \"polar\": {\"angularaxis\": {\"gridcolor\": \"white\", \"linecolor\": \"white\", \"ticks\": \"\"}, \"bgcolor\": \"#E5ECF6\", \"radialaxis\": {\"gridcolor\": \"white\", \"linecolor\": \"white\", \"ticks\": \"\"}}, \"scene\": {\"xaxis\": {\"backgroundcolor\": \"#E5ECF6\", \"gridcolor\": \"white\", \"gridwidth\": 2, \"linecolor\": \"white\", \"showbackground\": true, \"ticks\": \"\", \"zerolinecolor\": \"white\"}, \"yaxis\": {\"backgroundcolor\": \"#E5ECF6\", \"gridcolor\": \"white\", \"gridwidth\": 2, \"linecolor\": \"white\", \"showbackground\": true, \"ticks\": \"\", \"zerolinecolor\": \"white\"}, \"zaxis\": {\"backgroundcolor\": \"#E5ECF6\", \"gridcolor\": \"white\", \"gridwidth\": 2, \"linecolor\": \"white\", \"showbackground\": true, \"ticks\": \"\", \"zerolinecolor\": \"white\"}}, \"shapedefaults\": {\"line\": {\"color\": \"#2a3f5f\"}}, \"ternary\": {\"aaxis\": {\"gridcolor\": \"white\", \"linecolor\": \"white\", \"ticks\": \"\"}, \"baxis\": {\"gridcolor\": \"white\", \"linecolor\": \"white\", \"ticks\": \"\"}, \"bgcolor\": \"#E5ECF6\", \"caxis\": {\"gridcolor\": \"white\", \"linecolor\": \"white\", \"ticks\": \"\"}}, \"title\": {\"x\": 0.05}, \"xaxis\": {\"automargin\": true, \"gridcolor\": \"white\", \"linecolor\": \"white\", \"ticks\": \"\", \"title\": {\"standoff\": 15}, \"zerolinecolor\": \"white\", \"zerolinewidth\": 2}, \"yaxis\": {\"automargin\": true, \"gridcolor\": \"white\", \"linecolor\": \"white\", \"ticks\": \"\", \"title\": {\"standoff\": 15}, \"zerolinecolor\": \"white\", \"zerolinewidth\": 2}}}, \"title\": {\"text\": \"launching with a temporal gap\"}},\n",
       "                        {\"responsive\": true}\n",
       "                    ).then(function(){\n",
       "                            \n",
       "var gd = document.getElementById('b861b4bd-fc32-4aca-ba5e-09613cb66681');\n",
       "var x = new MutationObserver(function (mutations, observer) {{\n",
       "        var display = window.getComputedStyle(gd).display;\n",
       "        if (!display || display === 'none') {{\n",
       "            console.log([gd, 'removed!']);\n",
       "            Plotly.purge(gd);\n",
       "            observer.disconnect();\n",
       "        }}\n",
       "}});\n",
       "\n",
       "// Listen for the removal of the full notebook cells\n",
       "var notebookContainer = gd.closest('#notebook-container');\n",
       "if (notebookContainer) {{\n",
       "    x.observe(notebookContainer, {childList: true});\n",
       "}}\n",
       "\n",
       "// Listen for the clearing of the current output cell\n",
       "var outputEl = gd.closest('.output');\n",
       "if (outputEl) {{\n",
       "    x.observe(outputEl, {childList: true});\n",
       "}}\n",
       "\n",
       "                        })\n",
       "                };\n",
       "                });\n",
       "            </script>\n",
       "        </div>"
      ]
     },
     "metadata": {},
     "output_type": "display_data"
    },
    {
     "data": {
      "application/vnd.plotly.v1+json": {
       "config": {
        "plotlyServerURL": "https://plot.ly"
       },
       "data": [
        {
         "box": {
          "visible": true
         },
         "meanline": {
          "visible": true
         },
         "name": "Happy",
         "points": "all",
         "type": "violin",
         "x": [
          "Happy",
          "Happy",
          "Happy",
          "Happy",
          "Happy",
          "Happy",
          "Happy",
          "Happy",
          "Happy",
          "Happy",
          "Happy",
          "Happy"
         ],
         "y": [
          1,
          6,
          1,
          3,
          7,
          1,
          2,
          6,
          1,
          3,
          4,
          3
         ]
        },
        {
         "box": {
          "visible": true
         },
         "meanline": {
          "visible": true
         },
         "name": "Feeling",
         "points": "all",
         "type": "violin",
         "x": [
          "Feeling",
          "Feeling",
          "Feeling",
          "Feeling",
          "Feeling",
          "Feeling",
          "Feeling",
          "Feeling",
          "Feeling",
          "Feeling",
          "Feeling",
          "Feeling"
         ],
         "y": [
          1,
          8,
          1,
          6,
          7,
          2,
          5,
          7,
          1,
          1,
          5,
          5
         ]
        },
        {
         "box": {
          "visible": true
         },
         "meanline": {
          "visible": true
         },
         "name": "Organic",
         "points": "all",
         "type": "violin",
         "x": [
          "Organic",
          "Organic",
          "Organic",
          "Organic",
          "Organic",
          "Organic",
          "Organic",
          "Organic",
          "Organic",
          "Organic",
          "Organic",
          "Organic"
         ],
         "y": [
          4,
          8,
          1,
          2,
          8,
          2,
          4,
          2,
          1,
          2,
          4,
          1
         ]
        },
        {
         "box": {
          "visible": true
         },
         "meanline": {
          "visible": true
         },
         "name": "Compassionate",
         "points": "all",
         "type": "violin",
         "x": [
          "Compassionate",
          "Compassionate",
          "Compassionate",
          "Compassionate",
          "Compassionate",
          "Compassionate",
          "Compassionate",
          "Compassionate",
          "Compassionate",
          "Compassionate",
          "Compassionate",
          "Compassionate"
         ],
         "y": [
          4,
          6,
          1,
          5,
          4,
          3,
          3,
          5,
          1,
          2,
          2,
          1
         ]
        },
        {
         "box": {
          "visible": true
         },
         "meanline": {
          "visible": true
         },
         "name": "Capable",
         "points": "all",
         "type": "violin",
         "x": [
          "Capable",
          "Capable",
          "Capable",
          "Capable",
          "Capable",
          "Capable",
          "Capable",
          "Capable",
          "Capable",
          "Capable",
          "Capable",
          "Capable"
         ],
         "y": [
          4,
          6,
          1,
          8,
          7,
          2,
          6,
          3,
          1,
          4,
          9,
          8
         ]
        },
        {
         "box": {
          "visible": true
         },
         "meanline": {
          "visible": true
         },
         "name": "Responsive",
         "points": "all",
         "type": "violin",
         "x": [
          "Responsive",
          "Responsive",
          "Responsive",
          "Responsive",
          "Responsive",
          "Responsive",
          "Responsive",
          "Responsive",
          "Responsive",
          "Responsive",
          "Responsive",
          "Responsive"
         ],
         "y": [
          2,
          6,
          1,
          2,
          7,
          2,
          7,
          1,
          1,
          2,
          3,
          7
         ]
        },
        {
         "box": {
          "visible": true
         },
         "meanline": {
          "visible": true
         },
         "name": "Reliable",
         "points": "all",
         "type": "violin",
         "x": [
          "Reliable",
          "Reliable",
          "Reliable",
          "Reliable",
          "Reliable",
          "Reliable",
          "Reliable",
          "Reliable",
          "Reliable",
          "Reliable",
          "Reliable",
          "Reliable"
         ],
         "y": [
          2,
          7,
          1,
          2,
          7,
          6,
          6,
          8,
          1,
          5,
          3,
          4
         ]
        },
        {
         "box": {
          "visible": true
         },
         "meanline": {
          "visible": true
         },
         "name": "Competent",
         "points": "all",
         "type": "violin",
         "x": [
          "Competent",
          "Competent",
          "Competent",
          "Competent",
          "Competent",
          "Competent",
          "Competent",
          "Competent",
          "Competent",
          "Competent",
          "Competent",
          "Competent"
         ],
         "y": [
          4,
          7,
          1,
          3,
          7,
          6,
          4,
          8,
          1,
          5,
          9,
          8
         ]
        },
        {
         "box": {
          "visible": true
         },
         "meanline": {
          "visible": true
         },
         "name": "Scary",
         "points": "all",
         "type": "violin",
         "x": [
          "Scary",
          "Scary",
          "Scary",
          "Scary",
          "Scary",
          "Scary",
          "Scary",
          "Scary",
          "Scary",
          "Scary",
          "Scary",
          "Scary"
         ],
         "y": [
          2,
          3,
          2,
          7,
          4,
          5,
          6,
          2,
          1,
          5,
          8,
          5
         ]
        },
        {
         "box": {
          "visible": true
         },
         "meanline": {
          "visible": true
         },
         "name": "Awkward",
         "points": "all",
         "type": "violin",
         "x": [
          "Awkward",
          "Awkward",
          "Awkward",
          "Awkward",
          "Awkward",
          "Awkward",
          "Awkward",
          "Awkward",
          "Awkward",
          "Awkward",
          "Awkward",
          "Awkward"
         ],
         "y": [
          1,
          2,
          1,
          8,
          4,
          4,
          2,
          7,
          1,
          8,
          8,
          1
         ]
        },
        {
         "box": {
          "visible": true
         },
         "meanline": {
          "visible": true
         },
         "name": "Dangerous",
         "points": "all",
         "type": "violin",
         "x": [
          "Dangerous",
          "Dangerous",
          "Dangerous",
          "Dangerous",
          "Dangerous",
          "Dangerous",
          "Dangerous",
          "Dangerous",
          "Dangerous",
          "Dangerous",
          "Dangerous",
          "Dangerous"
         ],
         "y": [
          1,
          6,
          2,
          8,
          4,
          4,
          2,
          2,
          1,
          2,
          8,
          8
         ]
        },
        {
         "box": {
          "visible": true
         },
         "meanline": {
          "visible": true
         },
         "name": "Aggressive",
         "points": "all",
         "type": "violin",
         "x": [
          "Aggressive",
          "Aggressive",
          "Aggressive",
          "Aggressive",
          "Aggressive",
          "Aggressive",
          "Aggressive",
          "Aggressive",
          "Aggressive",
          "Aggressive",
          "Aggressive",
          "Aggressive"
         ],
         "y": [
          1,
          8,
          6,
          8,
          8,
          5,
          7,
          2,
          1,
          5,
          8,
          8
         ]
        },
        {
         "box": {
          "visible": true
         },
         "meanline": {
          "visible": true
         },
         "name": "Hunger",
         "points": "all",
         "type": "violin",
         "x": [
          "Hunger",
          "Hunger",
          "Hunger",
          "Hunger",
          "Hunger",
          "Hunger",
          "Hunger",
          "Hunger",
          "Hunger",
          "Hunger",
          "Hunger",
          "Hunger"
         ],
         "y": [
          1,
          6,
          1,
          5,
          6,
          1,
          1,
          2,
          1,
          2,
          3,
          6
         ]
        },
        {
         "box": {
          "visible": true
         },
         "meanline": {
          "visible": true
         },
         "name": "Fear",
         "points": "all",
         "type": "violin",
         "x": [
          "Fear",
          "Fear",
          "Fear",
          "Fear",
          "Fear",
          "Fear",
          "Fear",
          "Fear",
          "Fear",
          "Fear",
          "Fear",
          "Fear"
         ],
         "y": [
          1,
          2,
          3,
          2,
          3,
          2,
          1,
          2,
          1,
          2,
          2,
          5
         ]
        },
        {
         "box": {
          "visible": true
         },
         "meanline": {
          "visible": true
         },
         "name": "Pain",
         "points": "all",
         "type": "violin",
         "x": [
          "Pain",
          "Pain",
          "Pain",
          "Pain",
          "Pain",
          "Pain",
          "Pain",
          "Pain",
          "Pain",
          "Pain",
          "Pain",
          "Pain"
         ],
         "y": [
          1,
          1,
          1,
          6,
          3,
          3,
          1,
          1,
          1,
          1,
          6,
          4
         ]
        },
        {
         "box": {
          "visible": true
         },
         "meanline": {
          "visible": true
         },
         "name": "Pleasure",
         "points": "all",
         "type": "violin",
         "x": [
          "Pleasure",
          "Pleasure",
          "Pleasure",
          "Pleasure",
          "Pleasure",
          "Pleasure",
          "Pleasure",
          "Pleasure",
          "Pleasure",
          "Pleasure",
          "Pleasure",
          "Pleasure"
         ],
         "y": [
          1,
          5,
          1,
          5,
          6,
          1,
          3,
          5,
          1,
          1,
          2,
          4
         ]
        },
        {
         "box": {
          "visible": true
         },
         "meanline": {
          "visible": true
         },
         "name": "Rage",
         "points": "all",
         "type": "violin",
         "x": [
          "Rage",
          "Rage",
          "Rage",
          "Rage",
          "Rage",
          "Rage",
          "Rage",
          "Rage",
          "Rage",
          "Rage",
          "Rage",
          "Rage"
         ],
         "y": [
          1,
          6,
          1,
          7,
          6,
          1,
          4,
          2,
          1,
          3,
          6,
          4
         ]
        },
        {
         "box": {
          "visible": true
         },
         "meanline": {
          "visible": true
         },
         "name": "Desire",
         "points": "all",
         "type": "violin",
         "x": [
          "Desire",
          "Desire",
          "Desire",
          "Desire",
          "Desire",
          "Desire",
          "Desire",
          "Desire",
          "Desire",
          "Desire",
          "Desire",
          "Desire"
         ],
         "y": [
          1,
          6,
          4,
          6,
          6,
          3,
          3,
          2,
          1,
          1,
          2,
          2
         ]
        },
        {
         "box": {
          "visible": true
         },
         "meanline": {
          "visible": true
         },
         "name": "Personality",
         "points": "all",
         "type": "violin",
         "x": [
          "Personality",
          "Personality",
          "Personality",
          "Personality",
          "Personality",
          "Personality",
          "Personality",
          "Personality",
          "Personality",
          "Personality",
          "Personality",
          "Personality"
         ],
         "y": [
          1,
          6,
          1,
          5,
          6,
          2,
          4,
          5,
          1,
          1,
          5,
          5
         ]
        },
        {
         "box": {
          "visible": true
         },
         "meanline": {
          "visible": true
         },
         "name": "Consciousness",
         "points": "all",
         "type": "violin",
         "x": [
          "Consciousness",
          "Consciousness",
          "Consciousness",
          "Consciousness",
          "Consciousness",
          "Consciousness",
          "Consciousness",
          "Consciousness",
          "Consciousness",
          "Consciousness",
          "Consciousness",
          "Consciousness"
         ],
         "y": [
          1,
          6,
          1,
          2,
          6,
          1,
          5,
          6,
          1,
          1,
          4,
          4
         ]
        },
        {
         "box": {
          "visible": true
         },
         "meanline": {
          "visible": true
         },
         "name": "Pride",
         "points": "all",
         "type": "violin",
         "x": [
          "Pride",
          "Pride",
          "Pride",
          "Pride",
          "Pride",
          "Pride",
          "Pride",
          "Pride",
          "Pride",
          "Pride",
          "Pride",
          "Pride"
         ],
         "y": [
          1,
          7,
          1,
          5,
          6,
          1,
          2,
          5,
          1,
          2,
          6,
          2
         ]
        },
        {
         "box": {
          "visible": true
         },
         "meanline": {
          "visible": true
         },
         "name": "Embarassment",
         "points": "all",
         "type": "violin",
         "x": [
          "Embarassment",
          "Embarassment",
          "Embarassment",
          "Embarassment",
          "Embarassment",
          "Embarassment",
          "Embarassment",
          "Embarassment",
          "Embarassment",
          "Embarassment",
          "Embarassment",
          "Embarassment"
         ],
         "y": [
          1,
          1,
          1,
          1,
          2,
          1,
          2,
          3,
          1,
          1,
          6,
          1
         ]
        },
        {
         "box": {
          "visible": true
         },
         "meanline": {
          "visible": true
         },
         "name": "Joy",
         "points": "all",
         "type": "violin",
         "x": [
          "Joy",
          "Joy",
          "Joy",
          "Joy",
          "Joy",
          "Joy",
          "Joy",
          "Joy",
          "Joy",
          "Joy",
          "Joy",
          "Joy"
         ],
         "y": [
          1,
          5,
          1,
          4,
          4,
          1,
          2,
          5,
          1,
          1,
          6,
          1
         ]
        },
        {
         "box": {
          "visible": true
         },
         "meanline": {
          "visible": true
         },
         "name": "Self-Control",
         "points": "all",
         "type": "violin",
         "x": [
          "Self-Control",
          "Self-Control",
          "Self-Control",
          "Self-Control",
          "Self-Control",
          "Self-Control",
          "Self-Control",
          "Self-Control",
          "Self-Control",
          "Self-Control",
          "Self-Control",
          "Self-Control"
         ],
         "y": [
          1,
          7,
          4,
          3,
          4,
          1,
          5,
          6,
          1,
          1,
          6,
          3
         ]
        },
        {
         "box": {
          "visible": true
         },
         "meanline": {
          "visible": true
         },
         "name": "Morality",
         "points": "all",
         "type": "violin",
         "x": [
          "Morality",
          "Morality",
          "Morality",
          "Morality",
          "Morality",
          "Morality",
          "Morality",
          "Morality",
          "Morality",
          "Morality",
          "Morality",
          "Morality"
         ],
         "y": [
          1,
          7,
          1,
          2,
          4,
          1,
          5,
          4,
          1,
          1,
          6,
          2
         ]
        },
        {
         "box": {
          "visible": true
         },
         "meanline": {
          "visible": true
         },
         "name": "Memory",
         "points": "all",
         "type": "violin",
         "x": [
          "Memory",
          "Memory",
          "Memory",
          "Memory",
          "Memory",
          "Memory",
          "Memory",
          "Memory",
          "Memory",
          "Memory",
          "Memory",
          "Memory"
         ],
         "y": [
          1,
          7,
          1,
          3,
          4,
          1,
          5,
          5,
          1,
          1,
          6,
          2
         ]
        },
        {
         "box": {
          "visible": true
         },
         "meanline": {
          "visible": true
         },
         "name": "Emotion Recognition",
         "points": "all",
         "type": "violin",
         "x": [
          "Emotion Recognition",
          "Emotion Recognition",
          "Emotion Recognition",
          "Emotion Recognition",
          "Emotion Recognition",
          "Emotion Recognition",
          "Emotion Recognition",
          "Emotion Recognition",
          "Emotion Recognition",
          "Emotion Recognition",
          "Emotion Recognition",
          "Emotion Recognition"
         ],
         "y": [
          1,
          7,
          1,
          2,
          3,
          1,
          2,
          6,
          1,
          1,
          2,
          2
         ]
        },
        {
         "box": {
          "visible": true
         },
         "meanline": {
          "visible": true
         },
         "name": "Planning",
         "points": "all",
         "type": "violin",
         "x": [
          "Planning",
          "Planning",
          "Planning",
          "Planning",
          "Planning",
          "Planning",
          "Planning",
          "Planning",
          "Planning",
          "Planning",
          "Planning",
          "Planning"
         ],
         "y": [
          1,
          7,
          1,
          2,
          6,
          2,
          5,
          3,
          1,
          1,
          3,
          4
         ]
        },
        {
         "box": {
          "visible": true
         },
         "meanline": {
          "visible": true
         },
         "name": "Communication",
         "points": "all",
         "type": "violin",
         "x": [
          "Communication",
          "Communication",
          "Communication",
          "Communication",
          "Communication",
          "Communication",
          "Communication",
          "Communication",
          "Communication",
          "Communication",
          "Communication",
          "Communication"
         ],
         "y": [
          1,
          6,
          4,
          4,
          3,
          3,
          2,
          2,
          1,
          1,
          4,
          3
         ]
        },
        {
         "box": {
          "visible": true
         },
         "meanline": {
          "visible": true
         },
         "name": "Thought",
         "points": "all",
         "type": "violin",
         "x": [
          "Thought",
          "Thought",
          "Thought",
          "Thought",
          "Thought",
          "Thought",
          "Thought",
          "Thought",
          "Thought",
          "Thought",
          "Thought",
          "Thought"
         ],
         "y": [
          1,
          5,
          1,
          5,
          4,
          1,
          5,
          5,
          1,
          1,
          4,
          5
         ]
        }
       ],
       "layout": {
        "template": {
         "data": {
          "bar": [
           {
            "error_x": {
             "color": "#2a3f5f"
            },
            "error_y": {
             "color": "#2a3f5f"
            },
            "marker": {
             "line": {
              "color": "#E5ECF6",
              "width": 0.5
             }
            },
            "type": "bar"
           }
          ],
          "barpolar": [
           {
            "marker": {
             "line": {
              "color": "#E5ECF6",
              "width": 0.5
             }
            },
            "type": "barpolar"
           }
          ],
          "carpet": [
           {
            "aaxis": {
             "endlinecolor": "#2a3f5f",
             "gridcolor": "white",
             "linecolor": "white",
             "minorgridcolor": "white",
             "startlinecolor": "#2a3f5f"
            },
            "baxis": {
             "endlinecolor": "#2a3f5f",
             "gridcolor": "white",
             "linecolor": "white",
             "minorgridcolor": "white",
             "startlinecolor": "#2a3f5f"
            },
            "type": "carpet"
           }
          ],
          "choropleth": [
           {
            "colorbar": {
             "outlinewidth": 0,
             "ticks": ""
            },
            "type": "choropleth"
           }
          ],
          "contour": [
           {
            "colorbar": {
             "outlinewidth": 0,
             "ticks": ""
            },
            "colorscale": [
             [
              0,
              "#0d0887"
             ],
             [
              0.1111111111111111,
              "#46039f"
             ],
             [
              0.2222222222222222,
              "#7201a8"
             ],
             [
              0.3333333333333333,
              "#9c179e"
             ],
             [
              0.4444444444444444,
              "#bd3786"
             ],
             [
              0.5555555555555556,
              "#d8576b"
             ],
             [
              0.6666666666666666,
              "#ed7953"
             ],
             [
              0.7777777777777778,
              "#fb9f3a"
             ],
             [
              0.8888888888888888,
              "#fdca26"
             ],
             [
              1,
              "#f0f921"
             ]
            ],
            "type": "contour"
           }
          ],
          "contourcarpet": [
           {
            "colorbar": {
             "outlinewidth": 0,
             "ticks": ""
            },
            "type": "contourcarpet"
           }
          ],
          "heatmap": [
           {
            "colorbar": {
             "outlinewidth": 0,
             "ticks": ""
            },
            "colorscale": [
             [
              0,
              "#0d0887"
             ],
             [
              0.1111111111111111,
              "#46039f"
             ],
             [
              0.2222222222222222,
              "#7201a8"
             ],
             [
              0.3333333333333333,
              "#9c179e"
             ],
             [
              0.4444444444444444,
              "#bd3786"
             ],
             [
              0.5555555555555556,
              "#d8576b"
             ],
             [
              0.6666666666666666,
              "#ed7953"
             ],
             [
              0.7777777777777778,
              "#fb9f3a"
             ],
             [
              0.8888888888888888,
              "#fdca26"
             ],
             [
              1,
              "#f0f921"
             ]
            ],
            "type": "heatmap"
           }
          ],
          "heatmapgl": [
           {
            "colorbar": {
             "outlinewidth": 0,
             "ticks": ""
            },
            "colorscale": [
             [
              0,
              "#0d0887"
             ],
             [
              0.1111111111111111,
              "#46039f"
             ],
             [
              0.2222222222222222,
              "#7201a8"
             ],
             [
              0.3333333333333333,
              "#9c179e"
             ],
             [
              0.4444444444444444,
              "#bd3786"
             ],
             [
              0.5555555555555556,
              "#d8576b"
             ],
             [
              0.6666666666666666,
              "#ed7953"
             ],
             [
              0.7777777777777778,
              "#fb9f3a"
             ],
             [
              0.8888888888888888,
              "#fdca26"
             ],
             [
              1,
              "#f0f921"
             ]
            ],
            "type": "heatmapgl"
           }
          ],
          "histogram": [
           {
            "marker": {
             "colorbar": {
              "outlinewidth": 0,
              "ticks": ""
             }
            },
            "type": "histogram"
           }
          ],
          "histogram2d": [
           {
            "colorbar": {
             "outlinewidth": 0,
             "ticks": ""
            },
            "colorscale": [
             [
              0,
              "#0d0887"
             ],
             [
              0.1111111111111111,
              "#46039f"
             ],
             [
              0.2222222222222222,
              "#7201a8"
             ],
             [
              0.3333333333333333,
              "#9c179e"
             ],
             [
              0.4444444444444444,
              "#bd3786"
             ],
             [
              0.5555555555555556,
              "#d8576b"
             ],
             [
              0.6666666666666666,
              "#ed7953"
             ],
             [
              0.7777777777777778,
              "#fb9f3a"
             ],
             [
              0.8888888888888888,
              "#fdca26"
             ],
             [
              1,
              "#f0f921"
             ]
            ],
            "type": "histogram2d"
           }
          ],
          "histogram2dcontour": [
           {
            "colorbar": {
             "outlinewidth": 0,
             "ticks": ""
            },
            "colorscale": [
             [
              0,
              "#0d0887"
             ],
             [
              0.1111111111111111,
              "#46039f"
             ],
             [
              0.2222222222222222,
              "#7201a8"
             ],
             [
              0.3333333333333333,
              "#9c179e"
             ],
             [
              0.4444444444444444,
              "#bd3786"
             ],
             [
              0.5555555555555556,
              "#d8576b"
             ],
             [
              0.6666666666666666,
              "#ed7953"
             ],
             [
              0.7777777777777778,
              "#fb9f3a"
             ],
             [
              0.8888888888888888,
              "#fdca26"
             ],
             [
              1,
              "#f0f921"
             ]
            ],
            "type": "histogram2dcontour"
           }
          ],
          "mesh3d": [
           {
            "colorbar": {
             "outlinewidth": 0,
             "ticks": ""
            },
            "type": "mesh3d"
           }
          ],
          "parcoords": [
           {
            "line": {
             "colorbar": {
              "outlinewidth": 0,
              "ticks": ""
             }
            },
            "type": "parcoords"
           }
          ],
          "pie": [
           {
            "automargin": true,
            "type": "pie"
           }
          ],
          "scatter": [
           {
            "marker": {
             "colorbar": {
              "outlinewidth": 0,
              "ticks": ""
             }
            },
            "type": "scatter"
           }
          ],
          "scatter3d": [
           {
            "line": {
             "colorbar": {
              "outlinewidth": 0,
              "ticks": ""
             }
            },
            "marker": {
             "colorbar": {
              "outlinewidth": 0,
              "ticks": ""
             }
            },
            "type": "scatter3d"
           }
          ],
          "scattercarpet": [
           {
            "marker": {
             "colorbar": {
              "outlinewidth": 0,
              "ticks": ""
             }
            },
            "type": "scattercarpet"
           }
          ],
          "scattergeo": [
           {
            "marker": {
             "colorbar": {
              "outlinewidth": 0,
              "ticks": ""
             }
            },
            "type": "scattergeo"
           }
          ],
          "scattergl": [
           {
            "marker": {
             "colorbar": {
              "outlinewidth": 0,
              "ticks": ""
             }
            },
            "type": "scattergl"
           }
          ],
          "scattermapbox": [
           {
            "marker": {
             "colorbar": {
              "outlinewidth": 0,
              "ticks": ""
             }
            },
            "type": "scattermapbox"
           }
          ],
          "scatterpolar": [
           {
            "marker": {
             "colorbar": {
              "outlinewidth": 0,
              "ticks": ""
             }
            },
            "type": "scatterpolar"
           }
          ],
          "scatterpolargl": [
           {
            "marker": {
             "colorbar": {
              "outlinewidth": 0,
              "ticks": ""
             }
            },
            "type": "scatterpolargl"
           }
          ],
          "scatterternary": [
           {
            "marker": {
             "colorbar": {
              "outlinewidth": 0,
              "ticks": ""
             }
            },
            "type": "scatterternary"
           }
          ],
          "surface": [
           {
            "colorbar": {
             "outlinewidth": 0,
             "ticks": ""
            },
            "colorscale": [
             [
              0,
              "#0d0887"
             ],
             [
              0.1111111111111111,
              "#46039f"
             ],
             [
              0.2222222222222222,
              "#7201a8"
             ],
             [
              0.3333333333333333,
              "#9c179e"
             ],
             [
              0.4444444444444444,
              "#bd3786"
             ],
             [
              0.5555555555555556,
              "#d8576b"
             ],
             [
              0.6666666666666666,
              "#ed7953"
             ],
             [
              0.7777777777777778,
              "#fb9f3a"
             ],
             [
              0.8888888888888888,
              "#fdca26"
             ],
             [
              1,
              "#f0f921"
             ]
            ],
            "type": "surface"
           }
          ],
          "table": [
           {
            "cells": {
             "fill": {
              "color": "#EBF0F8"
             },
             "line": {
              "color": "white"
             }
            },
            "header": {
             "fill": {
              "color": "#C8D4E3"
             },
             "line": {
              "color": "white"
             }
            },
            "type": "table"
           }
          ]
         },
         "layout": {
          "annotationdefaults": {
           "arrowcolor": "#2a3f5f",
           "arrowhead": 0,
           "arrowwidth": 1
          },
          "coloraxis": {
           "colorbar": {
            "outlinewidth": 0,
            "ticks": ""
           }
          },
          "colorscale": {
           "diverging": [
            [
             0,
             "#8e0152"
            ],
            [
             0.1,
             "#c51b7d"
            ],
            [
             0.2,
             "#de77ae"
            ],
            [
             0.3,
             "#f1b6da"
            ],
            [
             0.4,
             "#fde0ef"
            ],
            [
             0.5,
             "#f7f7f7"
            ],
            [
             0.6,
             "#e6f5d0"
            ],
            [
             0.7,
             "#b8e186"
            ],
            [
             0.8,
             "#7fbc41"
            ],
            [
             0.9,
             "#4d9221"
            ],
            [
             1,
             "#276419"
            ]
           ],
           "sequential": [
            [
             0,
             "#0d0887"
            ],
            [
             0.1111111111111111,
             "#46039f"
            ],
            [
             0.2222222222222222,
             "#7201a8"
            ],
            [
             0.3333333333333333,
             "#9c179e"
            ],
            [
             0.4444444444444444,
             "#bd3786"
            ],
            [
             0.5555555555555556,
             "#d8576b"
            ],
            [
             0.6666666666666666,
             "#ed7953"
            ],
            [
             0.7777777777777778,
             "#fb9f3a"
            ],
            [
             0.8888888888888888,
             "#fdca26"
            ],
            [
             1,
             "#f0f921"
            ]
           ],
           "sequentialminus": [
            [
             0,
             "#0d0887"
            ],
            [
             0.1111111111111111,
             "#46039f"
            ],
            [
             0.2222222222222222,
             "#7201a8"
            ],
            [
             0.3333333333333333,
             "#9c179e"
            ],
            [
             0.4444444444444444,
             "#bd3786"
            ],
            [
             0.5555555555555556,
             "#d8576b"
            ],
            [
             0.6666666666666666,
             "#ed7953"
            ],
            [
             0.7777777777777778,
             "#fb9f3a"
            ],
            [
             0.8888888888888888,
             "#fdca26"
            ],
            [
             1,
             "#f0f921"
            ]
           ]
          },
          "colorway": [
           "#636efa",
           "#EF553B",
           "#00cc96",
           "#ab63fa",
           "#FFA15A",
           "#19d3f3",
           "#FF6692",
           "#B6E880",
           "#FF97FF",
           "#FECB52"
          ],
          "font": {
           "color": "#2a3f5f"
          },
          "geo": {
           "bgcolor": "white",
           "lakecolor": "white",
           "landcolor": "#E5ECF6",
           "showlakes": true,
           "showland": true,
           "subunitcolor": "white"
          },
          "hoverlabel": {
           "align": "left"
          },
          "hovermode": "closest",
          "mapbox": {
           "style": "light"
          },
          "paper_bgcolor": "white",
          "plot_bgcolor": "#E5ECF6",
          "polar": {
           "angularaxis": {
            "gridcolor": "white",
            "linecolor": "white",
            "ticks": ""
           },
           "bgcolor": "#E5ECF6",
           "radialaxis": {
            "gridcolor": "white",
            "linecolor": "white",
            "ticks": ""
           }
          },
          "scene": {
           "xaxis": {
            "backgroundcolor": "#E5ECF6",
            "gridcolor": "white",
            "gridwidth": 2,
            "linecolor": "white",
            "showbackground": true,
            "ticks": "",
            "zerolinecolor": "white"
           },
           "yaxis": {
            "backgroundcolor": "#E5ECF6",
            "gridcolor": "white",
            "gridwidth": 2,
            "linecolor": "white",
            "showbackground": true,
            "ticks": "",
            "zerolinecolor": "white"
           },
           "zaxis": {
            "backgroundcolor": "#E5ECF6",
            "gridcolor": "white",
            "gridwidth": 2,
            "linecolor": "white",
            "showbackground": true,
            "ticks": "",
            "zerolinecolor": "white"
           }
          },
          "shapedefaults": {
           "line": {
            "color": "#2a3f5f"
           }
          },
          "ternary": {
           "aaxis": {
            "gridcolor": "white",
            "linecolor": "white",
            "ticks": ""
           },
           "baxis": {
            "gridcolor": "white",
            "linecolor": "white",
            "ticks": ""
           },
           "bgcolor": "#E5ECF6",
           "caxis": {
            "gridcolor": "white",
            "linecolor": "white",
            "ticks": ""
           }
          },
          "title": {
           "x": 0.05
          },
          "xaxis": {
           "automargin": true,
           "gridcolor": "white",
           "linecolor": "white",
           "ticks": "",
           "title": {
            "standoff": 15
           },
           "zerolinecolor": "white",
           "zerolinewidth": 2
          },
          "yaxis": {
           "automargin": true,
           "gridcolor": "white",
           "linecolor": "white",
           "ticks": "",
           "title": {
            "standoff": 15
           },
           "zerolinecolor": "white",
           "zerolinewidth": 2
          }
         }
        },
        "title": {
         "text": "launching with a spatial gap"
        }
       }
      },
      "text/html": [
       "<div>\n",
       "        \n",
       "        \n",
       "            <div id=\"ed854249-c7da-4e1c-8960-8a1ebca5bf4f\" class=\"plotly-graph-div\" style=\"height:525px; width:100%;\"></div>\n",
       "            <script type=\"text/javascript\">\n",
       "                require([\"plotly\"], function(Plotly) {\n",
       "                    window.PLOTLYENV=window.PLOTLYENV || {};\n",
       "                    \n",
       "                if (document.getElementById(\"ed854249-c7da-4e1c-8960-8a1ebca5bf4f\")) {\n",
       "                    Plotly.newPlot(\n",
       "                        'ed854249-c7da-4e1c-8960-8a1ebca5bf4f',\n",
       "                        [{\"box\": {\"visible\": true}, \"meanline\": {\"visible\": true}, \"name\": \"Happy\", \"points\": \"all\", \"type\": \"violin\", \"x\": [\"Happy\", \"Happy\", \"Happy\", \"Happy\", \"Happy\", \"Happy\", \"Happy\", \"Happy\", \"Happy\", \"Happy\", \"Happy\", \"Happy\"], \"y\": [1, 6, 1, 3, 7, 1, 2, 6, 1, 3, 4, 3]}, {\"box\": {\"visible\": true}, \"meanline\": {\"visible\": true}, \"name\": \"Feeling\", \"points\": \"all\", \"type\": \"violin\", \"x\": [\"Feeling\", \"Feeling\", \"Feeling\", \"Feeling\", \"Feeling\", \"Feeling\", \"Feeling\", \"Feeling\", \"Feeling\", \"Feeling\", \"Feeling\", \"Feeling\"], \"y\": [1, 8, 1, 6, 7, 2, 5, 7, 1, 1, 5, 5]}, {\"box\": {\"visible\": true}, \"meanline\": {\"visible\": true}, \"name\": \"Organic\", \"points\": \"all\", \"type\": \"violin\", \"x\": [\"Organic\", \"Organic\", \"Organic\", \"Organic\", \"Organic\", \"Organic\", \"Organic\", \"Organic\", \"Organic\", \"Organic\", \"Organic\", \"Organic\"], \"y\": [4, 8, 1, 2, 8, 2, 4, 2, 1, 2, 4, 1]}, {\"box\": {\"visible\": true}, \"meanline\": {\"visible\": true}, \"name\": \"Compassionate\", \"points\": \"all\", \"type\": \"violin\", \"x\": [\"Compassionate\", \"Compassionate\", \"Compassionate\", \"Compassionate\", \"Compassionate\", \"Compassionate\", \"Compassionate\", \"Compassionate\", \"Compassionate\", \"Compassionate\", \"Compassionate\", \"Compassionate\"], \"y\": [4, 6, 1, 5, 4, 3, 3, 5, 1, 2, 2, 1]}, {\"box\": {\"visible\": true}, \"meanline\": {\"visible\": true}, \"name\": \"Capable\", \"points\": \"all\", \"type\": \"violin\", \"x\": [\"Capable\", \"Capable\", \"Capable\", \"Capable\", \"Capable\", \"Capable\", \"Capable\", \"Capable\", \"Capable\", \"Capable\", \"Capable\", \"Capable\"], \"y\": [4, 6, 1, 8, 7, 2, 6, 3, 1, 4, 9, 8]}, {\"box\": {\"visible\": true}, \"meanline\": {\"visible\": true}, \"name\": \"Responsive\", \"points\": \"all\", \"type\": \"violin\", \"x\": [\"Responsive\", \"Responsive\", \"Responsive\", \"Responsive\", \"Responsive\", \"Responsive\", \"Responsive\", \"Responsive\", \"Responsive\", \"Responsive\", \"Responsive\", \"Responsive\"], \"y\": [2, 6, 1, 2, 7, 2, 7, 1, 1, 2, 3, 7]}, {\"box\": {\"visible\": true}, \"meanline\": {\"visible\": true}, \"name\": \"Reliable\", \"points\": \"all\", \"type\": \"violin\", \"x\": [\"Reliable\", \"Reliable\", \"Reliable\", \"Reliable\", \"Reliable\", \"Reliable\", \"Reliable\", \"Reliable\", \"Reliable\", \"Reliable\", \"Reliable\", \"Reliable\"], \"y\": [2, 7, 1, 2, 7, 6, 6, 8, 1, 5, 3, 4]}, {\"box\": {\"visible\": true}, \"meanline\": {\"visible\": true}, \"name\": \"Competent\", \"points\": \"all\", \"type\": \"violin\", \"x\": [\"Competent\", \"Competent\", \"Competent\", \"Competent\", \"Competent\", \"Competent\", \"Competent\", \"Competent\", \"Competent\", \"Competent\", \"Competent\", \"Competent\"], \"y\": [4, 7, 1, 3, 7, 6, 4, 8, 1, 5, 9, 8]}, {\"box\": {\"visible\": true}, \"meanline\": {\"visible\": true}, \"name\": \"Scary\", \"points\": \"all\", \"type\": \"violin\", \"x\": [\"Scary\", \"Scary\", \"Scary\", \"Scary\", \"Scary\", \"Scary\", \"Scary\", \"Scary\", \"Scary\", \"Scary\", \"Scary\", \"Scary\"], \"y\": [2, 3, 2, 7, 4, 5, 6, 2, 1, 5, 8, 5]}, {\"box\": {\"visible\": true}, \"meanline\": {\"visible\": true}, \"name\": \"Awkward\", \"points\": \"all\", \"type\": \"violin\", \"x\": [\"Awkward\", \"Awkward\", \"Awkward\", \"Awkward\", \"Awkward\", \"Awkward\", \"Awkward\", \"Awkward\", \"Awkward\", \"Awkward\", \"Awkward\", \"Awkward\"], \"y\": [1, 2, 1, 8, 4, 4, 2, 7, 1, 8, 8, 1]}, {\"box\": {\"visible\": true}, \"meanline\": {\"visible\": true}, \"name\": \"Dangerous\", \"points\": \"all\", \"type\": \"violin\", \"x\": [\"Dangerous\", \"Dangerous\", \"Dangerous\", \"Dangerous\", \"Dangerous\", \"Dangerous\", \"Dangerous\", \"Dangerous\", \"Dangerous\", \"Dangerous\", \"Dangerous\", \"Dangerous\"], \"y\": [1, 6, 2, 8, 4, 4, 2, 2, 1, 2, 8, 8]}, {\"box\": {\"visible\": true}, \"meanline\": {\"visible\": true}, \"name\": \"Aggressive\", \"points\": \"all\", \"type\": \"violin\", \"x\": [\"Aggressive\", \"Aggressive\", \"Aggressive\", \"Aggressive\", \"Aggressive\", \"Aggressive\", \"Aggressive\", \"Aggressive\", \"Aggressive\", \"Aggressive\", \"Aggressive\", \"Aggressive\"], \"y\": [1, 8, 6, 8, 8, 5, 7, 2, 1, 5, 8, 8]}, {\"box\": {\"visible\": true}, \"meanline\": {\"visible\": true}, \"name\": \"Hunger\", \"points\": \"all\", \"type\": \"violin\", \"x\": [\"Hunger\", \"Hunger\", \"Hunger\", \"Hunger\", \"Hunger\", \"Hunger\", \"Hunger\", \"Hunger\", \"Hunger\", \"Hunger\", \"Hunger\", \"Hunger\"], \"y\": [1, 6, 1, 5, 6, 1, 1, 2, 1, 2, 3, 6]}, {\"box\": {\"visible\": true}, \"meanline\": {\"visible\": true}, \"name\": \"Fear\", \"points\": \"all\", \"type\": \"violin\", \"x\": [\"Fear\", \"Fear\", \"Fear\", \"Fear\", \"Fear\", \"Fear\", \"Fear\", \"Fear\", \"Fear\", \"Fear\", \"Fear\", \"Fear\"], \"y\": [1, 2, 3, 2, 3, 2, 1, 2, 1, 2, 2, 5]}, {\"box\": {\"visible\": true}, \"meanline\": {\"visible\": true}, \"name\": \"Pain\", \"points\": \"all\", \"type\": \"violin\", \"x\": [\"Pain\", \"Pain\", \"Pain\", \"Pain\", \"Pain\", \"Pain\", \"Pain\", \"Pain\", \"Pain\", \"Pain\", \"Pain\", \"Pain\"], \"y\": [1, 1, 1, 6, 3, 3, 1, 1, 1, 1, 6, 4]}, {\"box\": {\"visible\": true}, \"meanline\": {\"visible\": true}, \"name\": \"Pleasure\", \"points\": \"all\", \"type\": \"violin\", \"x\": [\"Pleasure\", \"Pleasure\", \"Pleasure\", \"Pleasure\", \"Pleasure\", \"Pleasure\", \"Pleasure\", \"Pleasure\", \"Pleasure\", \"Pleasure\", \"Pleasure\", \"Pleasure\"], \"y\": [1, 5, 1, 5, 6, 1, 3, 5, 1, 1, 2, 4]}, {\"box\": {\"visible\": true}, \"meanline\": {\"visible\": true}, \"name\": \"Rage\", \"points\": \"all\", \"type\": \"violin\", \"x\": [\"Rage\", \"Rage\", \"Rage\", \"Rage\", \"Rage\", \"Rage\", \"Rage\", \"Rage\", \"Rage\", \"Rage\", \"Rage\", \"Rage\"], \"y\": [1, 6, 1, 7, 6, 1, 4, 2, 1, 3, 6, 4]}, {\"box\": {\"visible\": true}, \"meanline\": {\"visible\": true}, \"name\": \"Desire\", \"points\": \"all\", \"type\": \"violin\", \"x\": [\"Desire\", \"Desire\", \"Desire\", \"Desire\", \"Desire\", \"Desire\", \"Desire\", \"Desire\", \"Desire\", \"Desire\", \"Desire\", \"Desire\"], \"y\": [1, 6, 4, 6, 6, 3, 3, 2, 1, 1, 2, 2]}, {\"box\": {\"visible\": true}, \"meanline\": {\"visible\": true}, \"name\": \"Personality\", \"points\": \"all\", \"type\": \"violin\", \"x\": [\"Personality\", \"Personality\", \"Personality\", \"Personality\", \"Personality\", \"Personality\", \"Personality\", \"Personality\", \"Personality\", \"Personality\", \"Personality\", \"Personality\"], \"y\": [1, 6, 1, 5, 6, 2, 4, 5, 1, 1, 5, 5]}, {\"box\": {\"visible\": true}, \"meanline\": {\"visible\": true}, \"name\": \"Consciousness\", \"points\": \"all\", \"type\": \"violin\", \"x\": [\"Consciousness\", \"Consciousness\", \"Consciousness\", \"Consciousness\", \"Consciousness\", \"Consciousness\", \"Consciousness\", \"Consciousness\", \"Consciousness\", \"Consciousness\", \"Consciousness\", \"Consciousness\"], \"y\": [1, 6, 1, 2, 6, 1, 5, 6, 1, 1, 4, 4]}, {\"box\": {\"visible\": true}, \"meanline\": {\"visible\": true}, \"name\": \"Pride\", \"points\": \"all\", \"type\": \"violin\", \"x\": [\"Pride\", \"Pride\", \"Pride\", \"Pride\", \"Pride\", \"Pride\", \"Pride\", \"Pride\", \"Pride\", \"Pride\", \"Pride\", \"Pride\"], \"y\": [1, 7, 1, 5, 6, 1, 2, 5, 1, 2, 6, 2]}, {\"box\": {\"visible\": true}, \"meanline\": {\"visible\": true}, \"name\": \"Embarassment\", \"points\": \"all\", \"type\": \"violin\", \"x\": [\"Embarassment\", \"Embarassment\", \"Embarassment\", \"Embarassment\", \"Embarassment\", \"Embarassment\", \"Embarassment\", \"Embarassment\", \"Embarassment\", \"Embarassment\", \"Embarassment\", \"Embarassment\"], \"y\": [1, 1, 1, 1, 2, 1, 2, 3, 1, 1, 6, 1]}, {\"box\": {\"visible\": true}, \"meanline\": {\"visible\": true}, \"name\": \"Joy\", \"points\": \"all\", \"type\": \"violin\", \"x\": [\"Joy\", \"Joy\", \"Joy\", \"Joy\", \"Joy\", \"Joy\", \"Joy\", \"Joy\", \"Joy\", \"Joy\", \"Joy\", \"Joy\"], \"y\": [1, 5, 1, 4, 4, 1, 2, 5, 1, 1, 6, 1]}, {\"box\": {\"visible\": true}, \"meanline\": {\"visible\": true}, \"name\": \"Self-Control\", \"points\": \"all\", \"type\": \"violin\", \"x\": [\"Self-Control\", \"Self-Control\", \"Self-Control\", \"Self-Control\", \"Self-Control\", \"Self-Control\", \"Self-Control\", \"Self-Control\", \"Self-Control\", \"Self-Control\", \"Self-Control\", \"Self-Control\"], \"y\": [1, 7, 4, 3, 4, 1, 5, 6, 1, 1, 6, 3]}, {\"box\": {\"visible\": true}, \"meanline\": {\"visible\": true}, \"name\": \"Morality\", \"points\": \"all\", \"type\": \"violin\", \"x\": [\"Morality\", \"Morality\", \"Morality\", \"Morality\", \"Morality\", \"Morality\", \"Morality\", \"Morality\", \"Morality\", \"Morality\", \"Morality\", \"Morality\"], \"y\": [1, 7, 1, 2, 4, 1, 5, 4, 1, 1, 6, 2]}, {\"box\": {\"visible\": true}, \"meanline\": {\"visible\": true}, \"name\": \"Memory\", \"points\": \"all\", \"type\": \"violin\", \"x\": [\"Memory\", \"Memory\", \"Memory\", \"Memory\", \"Memory\", \"Memory\", \"Memory\", \"Memory\", \"Memory\", \"Memory\", \"Memory\", \"Memory\"], \"y\": [1, 7, 1, 3, 4, 1, 5, 5, 1, 1, 6, 2]}, {\"box\": {\"visible\": true}, \"meanline\": {\"visible\": true}, \"name\": \"Emotion Recognition\", \"points\": \"all\", \"type\": \"violin\", \"x\": [\"Emotion Recognition\", \"Emotion Recognition\", \"Emotion Recognition\", \"Emotion Recognition\", \"Emotion Recognition\", \"Emotion Recognition\", \"Emotion Recognition\", \"Emotion Recognition\", \"Emotion Recognition\", \"Emotion Recognition\", \"Emotion Recognition\", \"Emotion Recognition\"], \"y\": [1, 7, 1, 2, 3, 1, 2, 6, 1, 1, 2, 2]}, {\"box\": {\"visible\": true}, \"meanline\": {\"visible\": true}, \"name\": \"Planning\", \"points\": \"all\", \"type\": \"violin\", \"x\": [\"Planning\", \"Planning\", \"Planning\", \"Planning\", \"Planning\", \"Planning\", \"Planning\", \"Planning\", \"Planning\", \"Planning\", \"Planning\", \"Planning\"], \"y\": [1, 7, 1, 2, 6, 2, 5, 3, 1, 1, 3, 4]}, {\"box\": {\"visible\": true}, \"meanline\": {\"visible\": true}, \"name\": \"Communication\", \"points\": \"all\", \"type\": \"violin\", \"x\": [\"Communication\", \"Communication\", \"Communication\", \"Communication\", \"Communication\", \"Communication\", \"Communication\", \"Communication\", \"Communication\", \"Communication\", \"Communication\", \"Communication\"], \"y\": [1, 6, 4, 4, 3, 3, 2, 2, 1, 1, 4, 3]}, {\"box\": {\"visible\": true}, \"meanline\": {\"visible\": true}, \"name\": \"Thought\", \"points\": \"all\", \"type\": \"violin\", \"x\": [\"Thought\", \"Thought\", \"Thought\", \"Thought\", \"Thought\", \"Thought\", \"Thought\", \"Thought\", \"Thought\", \"Thought\", \"Thought\", \"Thought\"], \"y\": [1, 5, 1, 5, 4, 1, 5, 5, 1, 1, 4, 5]}],\n",
       "                        {\"template\": {\"data\": {\"bar\": [{\"error_x\": {\"color\": \"#2a3f5f\"}, \"error_y\": {\"color\": \"#2a3f5f\"}, \"marker\": {\"line\": {\"color\": \"#E5ECF6\", \"width\": 0.5}}, \"type\": \"bar\"}], \"barpolar\": [{\"marker\": {\"line\": {\"color\": \"#E5ECF6\", \"width\": 0.5}}, \"type\": \"barpolar\"}], \"carpet\": [{\"aaxis\": {\"endlinecolor\": \"#2a3f5f\", \"gridcolor\": \"white\", \"linecolor\": \"white\", \"minorgridcolor\": \"white\", \"startlinecolor\": \"#2a3f5f\"}, \"baxis\": {\"endlinecolor\": \"#2a3f5f\", \"gridcolor\": \"white\", \"linecolor\": \"white\", \"minorgridcolor\": \"white\", \"startlinecolor\": \"#2a3f5f\"}, \"type\": \"carpet\"}], \"choropleth\": [{\"colorbar\": {\"outlinewidth\": 0, \"ticks\": \"\"}, \"type\": \"choropleth\"}], \"contour\": [{\"colorbar\": {\"outlinewidth\": 0, \"ticks\": \"\"}, \"colorscale\": [[0.0, \"#0d0887\"], [0.1111111111111111, \"#46039f\"], [0.2222222222222222, \"#7201a8\"], [0.3333333333333333, \"#9c179e\"], [0.4444444444444444, \"#bd3786\"], [0.5555555555555556, \"#d8576b\"], [0.6666666666666666, \"#ed7953\"], [0.7777777777777778, \"#fb9f3a\"], [0.8888888888888888, \"#fdca26\"], [1.0, \"#f0f921\"]], \"type\": \"contour\"}], \"contourcarpet\": [{\"colorbar\": {\"outlinewidth\": 0, \"ticks\": \"\"}, \"type\": \"contourcarpet\"}], \"heatmap\": [{\"colorbar\": {\"outlinewidth\": 0, \"ticks\": \"\"}, \"colorscale\": [[0.0, \"#0d0887\"], [0.1111111111111111, \"#46039f\"], [0.2222222222222222, \"#7201a8\"], [0.3333333333333333, \"#9c179e\"], [0.4444444444444444, \"#bd3786\"], [0.5555555555555556, \"#d8576b\"], [0.6666666666666666, \"#ed7953\"], [0.7777777777777778, \"#fb9f3a\"], [0.8888888888888888, \"#fdca26\"], [1.0, \"#f0f921\"]], \"type\": \"heatmap\"}], \"heatmapgl\": [{\"colorbar\": {\"outlinewidth\": 0, \"ticks\": \"\"}, \"colorscale\": [[0.0, \"#0d0887\"], [0.1111111111111111, \"#46039f\"], [0.2222222222222222, \"#7201a8\"], [0.3333333333333333, \"#9c179e\"], [0.4444444444444444, \"#bd3786\"], [0.5555555555555556, \"#d8576b\"], [0.6666666666666666, \"#ed7953\"], [0.7777777777777778, \"#fb9f3a\"], [0.8888888888888888, \"#fdca26\"], [1.0, \"#f0f921\"]], \"type\": \"heatmapgl\"}], \"histogram\": [{\"marker\": {\"colorbar\": {\"outlinewidth\": 0, \"ticks\": \"\"}}, \"type\": \"histogram\"}], \"histogram2d\": [{\"colorbar\": {\"outlinewidth\": 0, \"ticks\": \"\"}, \"colorscale\": [[0.0, \"#0d0887\"], [0.1111111111111111, \"#46039f\"], [0.2222222222222222, \"#7201a8\"], [0.3333333333333333, \"#9c179e\"], [0.4444444444444444, \"#bd3786\"], [0.5555555555555556, \"#d8576b\"], [0.6666666666666666, \"#ed7953\"], [0.7777777777777778, \"#fb9f3a\"], [0.8888888888888888, \"#fdca26\"], [1.0, \"#f0f921\"]], \"type\": \"histogram2d\"}], \"histogram2dcontour\": [{\"colorbar\": {\"outlinewidth\": 0, \"ticks\": \"\"}, \"colorscale\": [[0.0, \"#0d0887\"], [0.1111111111111111, \"#46039f\"], [0.2222222222222222, \"#7201a8\"], [0.3333333333333333, \"#9c179e\"], [0.4444444444444444, \"#bd3786\"], [0.5555555555555556, \"#d8576b\"], [0.6666666666666666, \"#ed7953\"], [0.7777777777777778, \"#fb9f3a\"], [0.8888888888888888, \"#fdca26\"], [1.0, \"#f0f921\"]], \"type\": \"histogram2dcontour\"}], \"mesh3d\": [{\"colorbar\": {\"outlinewidth\": 0, \"ticks\": \"\"}, \"type\": \"mesh3d\"}], \"parcoords\": [{\"line\": {\"colorbar\": {\"outlinewidth\": 0, \"ticks\": \"\"}}, \"type\": \"parcoords\"}], \"pie\": [{\"automargin\": true, \"type\": \"pie\"}], \"scatter\": [{\"marker\": {\"colorbar\": {\"outlinewidth\": 0, \"ticks\": \"\"}}, \"type\": \"scatter\"}], \"scatter3d\": [{\"line\": {\"colorbar\": {\"outlinewidth\": 0, \"ticks\": \"\"}}, \"marker\": {\"colorbar\": {\"outlinewidth\": 0, \"ticks\": \"\"}}, \"type\": \"scatter3d\"}], \"scattercarpet\": [{\"marker\": {\"colorbar\": {\"outlinewidth\": 0, \"ticks\": \"\"}}, \"type\": \"scattercarpet\"}], \"scattergeo\": [{\"marker\": {\"colorbar\": {\"outlinewidth\": 0, \"ticks\": \"\"}}, \"type\": \"scattergeo\"}], \"scattergl\": [{\"marker\": {\"colorbar\": {\"outlinewidth\": 0, \"ticks\": \"\"}}, \"type\": \"scattergl\"}], \"scattermapbox\": [{\"marker\": {\"colorbar\": {\"outlinewidth\": 0, \"ticks\": \"\"}}, \"type\": \"scattermapbox\"}], \"scatterpolar\": [{\"marker\": {\"colorbar\": {\"outlinewidth\": 0, \"ticks\": \"\"}}, \"type\": \"scatterpolar\"}], \"scatterpolargl\": [{\"marker\": {\"colorbar\": {\"outlinewidth\": 0, \"ticks\": \"\"}}, \"type\": \"scatterpolargl\"}], \"scatterternary\": [{\"marker\": {\"colorbar\": {\"outlinewidth\": 0, \"ticks\": \"\"}}, \"type\": \"scatterternary\"}], \"surface\": [{\"colorbar\": {\"outlinewidth\": 0, \"ticks\": \"\"}, \"colorscale\": [[0.0, \"#0d0887\"], [0.1111111111111111, \"#46039f\"], [0.2222222222222222, \"#7201a8\"], [0.3333333333333333, \"#9c179e\"], [0.4444444444444444, \"#bd3786\"], [0.5555555555555556, \"#d8576b\"], [0.6666666666666666, \"#ed7953\"], [0.7777777777777778, \"#fb9f3a\"], [0.8888888888888888, \"#fdca26\"], [1.0, \"#f0f921\"]], \"type\": \"surface\"}], \"table\": [{\"cells\": {\"fill\": {\"color\": \"#EBF0F8\"}, \"line\": {\"color\": \"white\"}}, \"header\": {\"fill\": {\"color\": \"#C8D4E3\"}, \"line\": {\"color\": \"white\"}}, \"type\": \"table\"}]}, \"layout\": {\"annotationdefaults\": {\"arrowcolor\": \"#2a3f5f\", \"arrowhead\": 0, \"arrowwidth\": 1}, \"coloraxis\": {\"colorbar\": {\"outlinewidth\": 0, \"ticks\": \"\"}}, \"colorscale\": {\"diverging\": [[0, \"#8e0152\"], [0.1, \"#c51b7d\"], [0.2, \"#de77ae\"], [0.3, \"#f1b6da\"], [0.4, \"#fde0ef\"], [0.5, \"#f7f7f7\"], [0.6, \"#e6f5d0\"], [0.7, \"#b8e186\"], [0.8, \"#7fbc41\"], [0.9, \"#4d9221\"], [1, \"#276419\"]], \"sequential\": [[0.0, \"#0d0887\"], [0.1111111111111111, \"#46039f\"], [0.2222222222222222, \"#7201a8\"], [0.3333333333333333, \"#9c179e\"], [0.4444444444444444, \"#bd3786\"], [0.5555555555555556, \"#d8576b\"], [0.6666666666666666, \"#ed7953\"], [0.7777777777777778, \"#fb9f3a\"], [0.8888888888888888, \"#fdca26\"], [1.0, \"#f0f921\"]], \"sequentialminus\": [[0.0, \"#0d0887\"], [0.1111111111111111, \"#46039f\"], [0.2222222222222222, \"#7201a8\"], [0.3333333333333333, \"#9c179e\"], [0.4444444444444444, \"#bd3786\"], [0.5555555555555556, \"#d8576b\"], [0.6666666666666666, \"#ed7953\"], [0.7777777777777778, \"#fb9f3a\"], [0.8888888888888888, \"#fdca26\"], [1.0, \"#f0f921\"]]}, \"colorway\": [\"#636efa\", \"#EF553B\", \"#00cc96\", \"#ab63fa\", \"#FFA15A\", \"#19d3f3\", \"#FF6692\", \"#B6E880\", \"#FF97FF\", \"#FECB52\"], \"font\": {\"color\": \"#2a3f5f\"}, \"geo\": {\"bgcolor\": \"white\", \"lakecolor\": \"white\", \"landcolor\": \"#E5ECF6\", \"showlakes\": true, \"showland\": true, \"subunitcolor\": \"white\"}, \"hoverlabel\": {\"align\": \"left\"}, \"hovermode\": \"closest\", \"mapbox\": {\"style\": \"light\"}, \"paper_bgcolor\": \"white\", \"plot_bgcolor\": \"#E5ECF6\", \"polar\": {\"angularaxis\": {\"gridcolor\": \"white\", \"linecolor\": \"white\", \"ticks\": \"\"}, \"bgcolor\": \"#E5ECF6\", \"radialaxis\": {\"gridcolor\": \"white\", \"linecolor\": \"white\", \"ticks\": \"\"}}, \"scene\": {\"xaxis\": {\"backgroundcolor\": \"#E5ECF6\", \"gridcolor\": \"white\", \"gridwidth\": 2, \"linecolor\": \"white\", \"showbackground\": true, \"ticks\": \"\", \"zerolinecolor\": \"white\"}, \"yaxis\": {\"backgroundcolor\": \"#E5ECF6\", \"gridcolor\": \"white\", \"gridwidth\": 2, \"linecolor\": \"white\", \"showbackground\": true, \"ticks\": \"\", \"zerolinecolor\": \"white\"}, \"zaxis\": {\"backgroundcolor\": \"#E5ECF6\", \"gridcolor\": \"white\", \"gridwidth\": 2, \"linecolor\": \"white\", \"showbackground\": true, \"ticks\": \"\", \"zerolinecolor\": \"white\"}}, \"shapedefaults\": {\"line\": {\"color\": \"#2a3f5f\"}}, \"ternary\": {\"aaxis\": {\"gridcolor\": \"white\", \"linecolor\": \"white\", \"ticks\": \"\"}, \"baxis\": {\"gridcolor\": \"white\", \"linecolor\": \"white\", \"ticks\": \"\"}, \"bgcolor\": \"#E5ECF6\", \"caxis\": {\"gridcolor\": \"white\", \"linecolor\": \"white\", \"ticks\": \"\"}}, \"title\": {\"x\": 0.05}, \"xaxis\": {\"automargin\": true, \"gridcolor\": \"white\", \"linecolor\": \"white\", \"ticks\": \"\", \"title\": {\"standoff\": 15}, \"zerolinecolor\": \"white\", \"zerolinewidth\": 2}, \"yaxis\": {\"automargin\": true, \"gridcolor\": \"white\", \"linecolor\": \"white\", \"ticks\": \"\", \"title\": {\"standoff\": 15}, \"zerolinecolor\": \"white\", \"zerolinewidth\": 2}}}, \"title\": {\"text\": \"launching with a spatial gap\"}},\n",
       "                        {\"responsive\": true}\n",
       "                    ).then(function(){\n",
       "                            \n",
       "var gd = document.getElementById('ed854249-c7da-4e1c-8960-8a1ebca5bf4f');\n",
       "var x = new MutationObserver(function (mutations, observer) {{\n",
       "        var display = window.getComputedStyle(gd).display;\n",
       "        if (!display || display === 'none') {{\n",
       "            console.log([gd, 'removed!']);\n",
       "            Plotly.purge(gd);\n",
       "            observer.disconnect();\n",
       "        }}\n",
       "}});\n",
       "\n",
       "// Listen for the removal of the full notebook cells\n",
       "var notebookContainer = gd.closest('#notebook-container');\n",
       "if (notebookContainer) {{\n",
       "    x.observe(notebookContainer, {childList: true});\n",
       "}}\n",
       "\n",
       "// Listen for the clearing of the current output cell\n",
       "var outputEl = gd.closest('.output');\n",
       "if (outputEl) {{\n",
       "    x.observe(outputEl, {childList: true});\n",
       "}}\n",
       "\n",
       "                        })\n",
       "                };\n",
       "                });\n",
       "            </script>\n",
       "        </div>"
      ]
     },
     "metadata": {},
     "output_type": "display_data"
    },
    {
     "data": {
      "application/vnd.plotly.v1+json": {
       "config": {
        "plotlyServerURL": "https://plot.ly"
       },
       "data": [
        {
         "box": {
          "visible": true
         },
         "meanline": {
          "visible": true
         },
         "name": "Happy",
         "points": "all",
         "type": "violin",
         "x": [
          "Happy",
          "Happy",
          "Happy",
          "Happy",
          "Happy",
          "Happy",
          "Happy",
          "Happy",
          "Happy",
          "Happy",
          "Happy",
          "Happy"
         ],
         "y": [
          1,
          6,
          1,
          3,
          7,
          1,
          2,
          6,
          1,
          3,
          4,
          3
         ]
        },
        {
         "box": {
          "visible": true
         },
         "meanline": {
          "visible": true
         },
         "name": "Feeling",
         "points": "all",
         "type": "violin",
         "x": [
          "Feeling",
          "Feeling",
          "Feeling",
          "Feeling",
          "Feeling",
          "Feeling",
          "Feeling",
          "Feeling",
          "Feeling",
          "Feeling",
          "Feeling",
          "Feeling"
         ],
         "y": [
          1,
          8,
          1,
          6,
          7,
          2,
          5,
          7,
          1,
          1,
          5,
          5
         ]
        },
        {
         "box": {
          "visible": true
         },
         "meanline": {
          "visible": true
         },
         "name": "Organic",
         "points": "all",
         "type": "violin",
         "x": [
          "Organic",
          "Organic",
          "Organic",
          "Organic",
          "Organic",
          "Organic",
          "Organic",
          "Organic",
          "Organic",
          "Organic",
          "Organic",
          "Organic"
         ],
         "y": [
          4,
          8,
          1,
          2,
          8,
          2,
          4,
          2,
          1,
          2,
          4,
          1
         ]
        },
        {
         "box": {
          "visible": true
         },
         "meanline": {
          "visible": true
         },
         "name": "Compassionate",
         "points": "all",
         "type": "violin",
         "x": [
          "Compassionate",
          "Compassionate",
          "Compassionate",
          "Compassionate",
          "Compassionate",
          "Compassionate",
          "Compassionate",
          "Compassionate",
          "Compassionate",
          "Compassionate",
          "Compassionate",
          "Compassionate"
         ],
         "y": [
          4,
          6,
          1,
          5,
          4,
          3,
          3,
          5,
          1,
          2,
          2,
          1
         ]
        },
        {
         "box": {
          "visible": true
         },
         "meanline": {
          "visible": true
         },
         "name": "Capable",
         "points": "all",
         "type": "violin",
         "x": [
          "Capable",
          "Capable",
          "Capable",
          "Capable",
          "Capable",
          "Capable",
          "Capable",
          "Capable",
          "Capable",
          "Capable",
          "Capable",
          "Capable"
         ],
         "y": [
          4,
          6,
          1,
          8,
          7,
          2,
          6,
          3,
          1,
          4,
          9,
          8
         ]
        },
        {
         "box": {
          "visible": true
         },
         "meanline": {
          "visible": true
         },
         "name": "Responsive",
         "points": "all",
         "type": "violin",
         "x": [
          "Responsive",
          "Responsive",
          "Responsive",
          "Responsive",
          "Responsive",
          "Responsive",
          "Responsive",
          "Responsive",
          "Responsive",
          "Responsive",
          "Responsive",
          "Responsive"
         ],
         "y": [
          2,
          6,
          1,
          2,
          7,
          2,
          7,
          1,
          1,
          2,
          3,
          7
         ]
        },
        {
         "box": {
          "visible": true
         },
         "meanline": {
          "visible": true
         },
         "name": "Reliable",
         "points": "all",
         "type": "violin",
         "x": [
          "Reliable",
          "Reliable",
          "Reliable",
          "Reliable",
          "Reliable",
          "Reliable",
          "Reliable",
          "Reliable",
          "Reliable",
          "Reliable",
          "Reliable",
          "Reliable"
         ],
         "y": [
          2,
          7,
          1,
          2,
          7,
          6,
          6,
          8,
          1,
          5,
          3,
          4
         ]
        },
        {
         "box": {
          "visible": true
         },
         "meanline": {
          "visible": true
         },
         "name": "Competent",
         "points": "all",
         "type": "violin",
         "x": [
          "Competent",
          "Competent",
          "Competent",
          "Competent",
          "Competent",
          "Competent",
          "Competent",
          "Competent",
          "Competent",
          "Competent",
          "Competent",
          "Competent"
         ],
         "y": [
          4,
          7,
          1,
          3,
          7,
          6,
          4,
          8,
          1,
          5,
          9,
          8
         ]
        },
        {
         "box": {
          "visible": true
         },
         "meanline": {
          "visible": true
         },
         "name": "Scary",
         "points": "all",
         "type": "violin",
         "x": [
          "Scary",
          "Scary",
          "Scary",
          "Scary",
          "Scary",
          "Scary",
          "Scary",
          "Scary",
          "Scary",
          "Scary",
          "Scary",
          "Scary"
         ],
         "y": [
          2,
          3,
          2,
          7,
          4,
          5,
          6,
          2,
          1,
          5,
          8,
          5
         ]
        },
        {
         "box": {
          "visible": true
         },
         "meanline": {
          "visible": true
         },
         "name": "Awkward",
         "points": "all",
         "type": "violin",
         "x": [
          "Awkward",
          "Awkward",
          "Awkward",
          "Awkward",
          "Awkward",
          "Awkward",
          "Awkward",
          "Awkward",
          "Awkward",
          "Awkward",
          "Awkward",
          "Awkward"
         ],
         "y": [
          1,
          2,
          1,
          8,
          4,
          4,
          2,
          7,
          1,
          8,
          8,
          1
         ]
        },
        {
         "box": {
          "visible": true
         },
         "meanline": {
          "visible": true
         },
         "name": "Dangerous",
         "points": "all",
         "type": "violin",
         "x": [
          "Dangerous",
          "Dangerous",
          "Dangerous",
          "Dangerous",
          "Dangerous",
          "Dangerous",
          "Dangerous",
          "Dangerous",
          "Dangerous",
          "Dangerous",
          "Dangerous",
          "Dangerous"
         ],
         "y": [
          1,
          6,
          2,
          8,
          4,
          4,
          2,
          2,
          1,
          2,
          8,
          8
         ]
        },
        {
         "box": {
          "visible": true
         },
         "meanline": {
          "visible": true
         },
         "name": "Aggressive",
         "points": "all",
         "type": "violin",
         "x": [
          "Aggressive",
          "Aggressive",
          "Aggressive",
          "Aggressive",
          "Aggressive",
          "Aggressive",
          "Aggressive",
          "Aggressive",
          "Aggressive",
          "Aggressive",
          "Aggressive",
          "Aggressive"
         ],
         "y": [
          1,
          8,
          6,
          8,
          8,
          5,
          7,
          2,
          1,
          5,
          8,
          8
         ]
        },
        {
         "box": {
          "visible": true
         },
         "meanline": {
          "visible": true
         },
         "name": "Hunger",
         "points": "all",
         "type": "violin",
         "x": [
          "Hunger",
          "Hunger",
          "Hunger",
          "Hunger",
          "Hunger",
          "Hunger",
          "Hunger",
          "Hunger",
          "Hunger",
          "Hunger",
          "Hunger",
          "Hunger"
         ],
         "y": [
          1,
          6,
          1,
          5,
          6,
          1,
          1,
          2,
          1,
          2,
          3,
          6
         ]
        },
        {
         "box": {
          "visible": true
         },
         "meanline": {
          "visible": true
         },
         "name": "Fear",
         "points": "all",
         "type": "violin",
         "x": [
          "Fear",
          "Fear",
          "Fear",
          "Fear",
          "Fear",
          "Fear",
          "Fear",
          "Fear",
          "Fear",
          "Fear",
          "Fear",
          "Fear"
         ],
         "y": [
          1,
          2,
          3,
          2,
          3,
          2,
          1,
          2,
          1,
          2,
          2,
          5
         ]
        },
        {
         "box": {
          "visible": true
         },
         "meanline": {
          "visible": true
         },
         "name": "Pain",
         "points": "all",
         "type": "violin",
         "x": [
          "Pain",
          "Pain",
          "Pain",
          "Pain",
          "Pain",
          "Pain",
          "Pain",
          "Pain",
          "Pain",
          "Pain",
          "Pain",
          "Pain"
         ],
         "y": [
          1,
          1,
          1,
          6,
          3,
          3,
          1,
          1,
          1,
          1,
          6,
          4
         ]
        },
        {
         "box": {
          "visible": true
         },
         "meanline": {
          "visible": true
         },
         "name": "Pleasure",
         "points": "all",
         "type": "violin",
         "x": [
          "Pleasure",
          "Pleasure",
          "Pleasure",
          "Pleasure",
          "Pleasure",
          "Pleasure",
          "Pleasure",
          "Pleasure",
          "Pleasure",
          "Pleasure",
          "Pleasure",
          "Pleasure"
         ],
         "y": [
          1,
          5,
          1,
          5,
          6,
          1,
          3,
          5,
          1,
          1,
          2,
          4
         ]
        },
        {
         "box": {
          "visible": true
         },
         "meanline": {
          "visible": true
         },
         "name": "Rage",
         "points": "all",
         "type": "violin",
         "x": [
          "Rage",
          "Rage",
          "Rage",
          "Rage",
          "Rage",
          "Rage",
          "Rage",
          "Rage",
          "Rage",
          "Rage",
          "Rage",
          "Rage"
         ],
         "y": [
          1,
          6,
          1,
          7,
          6,
          1,
          4,
          2,
          1,
          3,
          6,
          4
         ]
        },
        {
         "box": {
          "visible": true
         },
         "meanline": {
          "visible": true
         },
         "name": "Desire",
         "points": "all",
         "type": "violin",
         "x": [
          "Desire",
          "Desire",
          "Desire",
          "Desire",
          "Desire",
          "Desire",
          "Desire",
          "Desire",
          "Desire",
          "Desire",
          "Desire",
          "Desire"
         ],
         "y": [
          1,
          6,
          4,
          6,
          6,
          3,
          3,
          2,
          1,
          1,
          2,
          2
         ]
        },
        {
         "box": {
          "visible": true
         },
         "meanline": {
          "visible": true
         },
         "name": "Personality",
         "points": "all",
         "type": "violin",
         "x": [
          "Personality",
          "Personality",
          "Personality",
          "Personality",
          "Personality",
          "Personality",
          "Personality",
          "Personality",
          "Personality",
          "Personality",
          "Personality",
          "Personality"
         ],
         "y": [
          1,
          6,
          1,
          5,
          6,
          2,
          4,
          5,
          1,
          1,
          5,
          5
         ]
        },
        {
         "box": {
          "visible": true
         },
         "meanline": {
          "visible": true
         },
         "name": "Consciousness",
         "points": "all",
         "type": "violin",
         "x": [
          "Consciousness",
          "Consciousness",
          "Consciousness",
          "Consciousness",
          "Consciousness",
          "Consciousness",
          "Consciousness",
          "Consciousness",
          "Consciousness",
          "Consciousness",
          "Consciousness",
          "Consciousness"
         ],
         "y": [
          1,
          6,
          1,
          2,
          6,
          1,
          5,
          6,
          1,
          1,
          4,
          4
         ]
        },
        {
         "box": {
          "visible": true
         },
         "meanline": {
          "visible": true
         },
         "name": "Pride",
         "points": "all",
         "type": "violin",
         "x": [
          "Pride",
          "Pride",
          "Pride",
          "Pride",
          "Pride",
          "Pride",
          "Pride",
          "Pride",
          "Pride",
          "Pride",
          "Pride",
          "Pride"
         ],
         "y": [
          1,
          7,
          1,
          5,
          6,
          1,
          2,
          5,
          1,
          2,
          6,
          2
         ]
        },
        {
         "box": {
          "visible": true
         },
         "meanline": {
          "visible": true
         },
         "name": "Embarassment",
         "points": "all",
         "type": "violin",
         "x": [
          "Embarassment",
          "Embarassment",
          "Embarassment",
          "Embarassment",
          "Embarassment",
          "Embarassment",
          "Embarassment",
          "Embarassment",
          "Embarassment",
          "Embarassment",
          "Embarassment",
          "Embarassment"
         ],
         "y": [
          1,
          1,
          1,
          1,
          2,
          1,
          2,
          3,
          1,
          1,
          6,
          1
         ]
        },
        {
         "box": {
          "visible": true
         },
         "meanline": {
          "visible": true
         },
         "name": "Joy",
         "points": "all",
         "type": "violin",
         "x": [
          "Joy",
          "Joy",
          "Joy",
          "Joy",
          "Joy",
          "Joy",
          "Joy",
          "Joy",
          "Joy",
          "Joy",
          "Joy",
          "Joy"
         ],
         "y": [
          1,
          5,
          1,
          4,
          4,
          1,
          2,
          5,
          1,
          1,
          6,
          1
         ]
        },
        {
         "box": {
          "visible": true
         },
         "meanline": {
          "visible": true
         },
         "name": "Self-Control",
         "points": "all",
         "type": "violin",
         "x": [
          "Self-Control",
          "Self-Control",
          "Self-Control",
          "Self-Control",
          "Self-Control",
          "Self-Control",
          "Self-Control",
          "Self-Control",
          "Self-Control",
          "Self-Control",
          "Self-Control",
          "Self-Control"
         ],
         "y": [
          1,
          7,
          4,
          3,
          4,
          1,
          5,
          6,
          1,
          1,
          6,
          3
         ]
        },
        {
         "box": {
          "visible": true
         },
         "meanline": {
          "visible": true
         },
         "name": "Morality",
         "points": "all",
         "type": "violin",
         "x": [
          "Morality",
          "Morality",
          "Morality",
          "Morality",
          "Morality",
          "Morality",
          "Morality",
          "Morality",
          "Morality",
          "Morality",
          "Morality",
          "Morality"
         ],
         "y": [
          1,
          7,
          1,
          2,
          4,
          1,
          5,
          4,
          1,
          1,
          6,
          2
         ]
        },
        {
         "box": {
          "visible": true
         },
         "meanline": {
          "visible": true
         },
         "name": "Memory",
         "points": "all",
         "type": "violin",
         "x": [
          "Memory",
          "Memory",
          "Memory",
          "Memory",
          "Memory",
          "Memory",
          "Memory",
          "Memory",
          "Memory",
          "Memory",
          "Memory",
          "Memory"
         ],
         "y": [
          1,
          7,
          1,
          3,
          4,
          1,
          5,
          5,
          1,
          1,
          6,
          2
         ]
        },
        {
         "box": {
          "visible": true
         },
         "meanline": {
          "visible": true
         },
         "name": "Emotion Recognition",
         "points": "all",
         "type": "violin",
         "x": [
          "Emotion Recognition",
          "Emotion Recognition",
          "Emotion Recognition",
          "Emotion Recognition",
          "Emotion Recognition",
          "Emotion Recognition",
          "Emotion Recognition",
          "Emotion Recognition",
          "Emotion Recognition",
          "Emotion Recognition",
          "Emotion Recognition",
          "Emotion Recognition"
         ],
         "y": [
          1,
          7,
          1,
          2,
          3,
          1,
          2,
          6,
          1,
          1,
          2,
          2
         ]
        },
        {
         "box": {
          "visible": true
         },
         "meanline": {
          "visible": true
         },
         "name": "Planning",
         "points": "all",
         "type": "violin",
         "x": [
          "Planning",
          "Planning",
          "Planning",
          "Planning",
          "Planning",
          "Planning",
          "Planning",
          "Planning",
          "Planning",
          "Planning",
          "Planning",
          "Planning"
         ],
         "y": [
          1,
          7,
          1,
          2,
          6,
          2,
          5,
          3,
          1,
          1,
          3,
          4
         ]
        },
        {
         "box": {
          "visible": true
         },
         "meanline": {
          "visible": true
         },
         "name": "Communication",
         "points": "all",
         "type": "violin",
         "x": [
          "Communication",
          "Communication",
          "Communication",
          "Communication",
          "Communication",
          "Communication",
          "Communication",
          "Communication",
          "Communication",
          "Communication",
          "Communication",
          "Communication"
         ],
         "y": [
          1,
          6,
          4,
          4,
          3,
          3,
          2,
          2,
          1,
          1,
          4,
          3
         ]
        },
        {
         "box": {
          "visible": true
         },
         "meanline": {
          "visible": true
         },
         "name": "Thought",
         "points": "all",
         "type": "violin",
         "x": [
          "Thought",
          "Thought",
          "Thought",
          "Thought",
          "Thought",
          "Thought",
          "Thought",
          "Thought",
          "Thought",
          "Thought",
          "Thought",
          "Thought"
         ],
         "y": [
          1,
          5,
          1,
          5,
          4,
          1,
          5,
          5,
          1,
          1,
          4,
          5
         ]
        }
       ],
       "layout": {
        "template": {
         "data": {
          "bar": [
           {
            "error_x": {
             "color": "#2a3f5f"
            },
            "error_y": {
             "color": "#2a3f5f"
            },
            "marker": {
             "line": {
              "color": "#E5ECF6",
              "width": 0.5
             }
            },
            "type": "bar"
           }
          ],
          "barpolar": [
           {
            "marker": {
             "line": {
              "color": "#E5ECF6",
              "width": 0.5
             }
            },
            "type": "barpolar"
           }
          ],
          "carpet": [
           {
            "aaxis": {
             "endlinecolor": "#2a3f5f",
             "gridcolor": "white",
             "linecolor": "white",
             "minorgridcolor": "white",
             "startlinecolor": "#2a3f5f"
            },
            "baxis": {
             "endlinecolor": "#2a3f5f",
             "gridcolor": "white",
             "linecolor": "white",
             "minorgridcolor": "white",
             "startlinecolor": "#2a3f5f"
            },
            "type": "carpet"
           }
          ],
          "choropleth": [
           {
            "colorbar": {
             "outlinewidth": 0,
             "ticks": ""
            },
            "type": "choropleth"
           }
          ],
          "contour": [
           {
            "colorbar": {
             "outlinewidth": 0,
             "ticks": ""
            },
            "colorscale": [
             [
              0,
              "#0d0887"
             ],
             [
              0.1111111111111111,
              "#46039f"
             ],
             [
              0.2222222222222222,
              "#7201a8"
             ],
             [
              0.3333333333333333,
              "#9c179e"
             ],
             [
              0.4444444444444444,
              "#bd3786"
             ],
             [
              0.5555555555555556,
              "#d8576b"
             ],
             [
              0.6666666666666666,
              "#ed7953"
             ],
             [
              0.7777777777777778,
              "#fb9f3a"
             ],
             [
              0.8888888888888888,
              "#fdca26"
             ],
             [
              1,
              "#f0f921"
             ]
            ],
            "type": "contour"
           }
          ],
          "contourcarpet": [
           {
            "colorbar": {
             "outlinewidth": 0,
             "ticks": ""
            },
            "type": "contourcarpet"
           }
          ],
          "heatmap": [
           {
            "colorbar": {
             "outlinewidth": 0,
             "ticks": ""
            },
            "colorscale": [
             [
              0,
              "#0d0887"
             ],
             [
              0.1111111111111111,
              "#46039f"
             ],
             [
              0.2222222222222222,
              "#7201a8"
             ],
             [
              0.3333333333333333,
              "#9c179e"
             ],
             [
              0.4444444444444444,
              "#bd3786"
             ],
             [
              0.5555555555555556,
              "#d8576b"
             ],
             [
              0.6666666666666666,
              "#ed7953"
             ],
             [
              0.7777777777777778,
              "#fb9f3a"
             ],
             [
              0.8888888888888888,
              "#fdca26"
             ],
             [
              1,
              "#f0f921"
             ]
            ],
            "type": "heatmap"
           }
          ],
          "heatmapgl": [
           {
            "colorbar": {
             "outlinewidth": 0,
             "ticks": ""
            },
            "colorscale": [
             [
              0,
              "#0d0887"
             ],
             [
              0.1111111111111111,
              "#46039f"
             ],
             [
              0.2222222222222222,
              "#7201a8"
             ],
             [
              0.3333333333333333,
              "#9c179e"
             ],
             [
              0.4444444444444444,
              "#bd3786"
             ],
             [
              0.5555555555555556,
              "#d8576b"
             ],
             [
              0.6666666666666666,
              "#ed7953"
             ],
             [
              0.7777777777777778,
              "#fb9f3a"
             ],
             [
              0.8888888888888888,
              "#fdca26"
             ],
             [
              1,
              "#f0f921"
             ]
            ],
            "type": "heatmapgl"
           }
          ],
          "histogram": [
           {
            "marker": {
             "colorbar": {
              "outlinewidth": 0,
              "ticks": ""
             }
            },
            "type": "histogram"
           }
          ],
          "histogram2d": [
           {
            "colorbar": {
             "outlinewidth": 0,
             "ticks": ""
            },
            "colorscale": [
             [
              0,
              "#0d0887"
             ],
             [
              0.1111111111111111,
              "#46039f"
             ],
             [
              0.2222222222222222,
              "#7201a8"
             ],
             [
              0.3333333333333333,
              "#9c179e"
             ],
             [
              0.4444444444444444,
              "#bd3786"
             ],
             [
              0.5555555555555556,
              "#d8576b"
             ],
             [
              0.6666666666666666,
              "#ed7953"
             ],
             [
              0.7777777777777778,
              "#fb9f3a"
             ],
             [
              0.8888888888888888,
              "#fdca26"
             ],
             [
              1,
              "#f0f921"
             ]
            ],
            "type": "histogram2d"
           }
          ],
          "histogram2dcontour": [
           {
            "colorbar": {
             "outlinewidth": 0,
             "ticks": ""
            },
            "colorscale": [
             [
              0,
              "#0d0887"
             ],
             [
              0.1111111111111111,
              "#46039f"
             ],
             [
              0.2222222222222222,
              "#7201a8"
             ],
             [
              0.3333333333333333,
              "#9c179e"
             ],
             [
              0.4444444444444444,
              "#bd3786"
             ],
             [
              0.5555555555555556,
              "#d8576b"
             ],
             [
              0.6666666666666666,
              "#ed7953"
             ],
             [
              0.7777777777777778,
              "#fb9f3a"
             ],
             [
              0.8888888888888888,
              "#fdca26"
             ],
             [
              1,
              "#f0f921"
             ]
            ],
            "type": "histogram2dcontour"
           }
          ],
          "mesh3d": [
           {
            "colorbar": {
             "outlinewidth": 0,
             "ticks": ""
            },
            "type": "mesh3d"
           }
          ],
          "parcoords": [
           {
            "line": {
             "colorbar": {
              "outlinewidth": 0,
              "ticks": ""
             }
            },
            "type": "parcoords"
           }
          ],
          "pie": [
           {
            "automargin": true,
            "type": "pie"
           }
          ],
          "scatter": [
           {
            "marker": {
             "colorbar": {
              "outlinewidth": 0,
              "ticks": ""
             }
            },
            "type": "scatter"
           }
          ],
          "scatter3d": [
           {
            "line": {
             "colorbar": {
              "outlinewidth": 0,
              "ticks": ""
             }
            },
            "marker": {
             "colorbar": {
              "outlinewidth": 0,
              "ticks": ""
             }
            },
            "type": "scatter3d"
           }
          ],
          "scattercarpet": [
           {
            "marker": {
             "colorbar": {
              "outlinewidth": 0,
              "ticks": ""
             }
            },
            "type": "scattercarpet"
           }
          ],
          "scattergeo": [
           {
            "marker": {
             "colorbar": {
              "outlinewidth": 0,
              "ticks": ""
             }
            },
            "type": "scattergeo"
           }
          ],
          "scattergl": [
           {
            "marker": {
             "colorbar": {
              "outlinewidth": 0,
              "ticks": ""
             }
            },
            "type": "scattergl"
           }
          ],
          "scattermapbox": [
           {
            "marker": {
             "colorbar": {
              "outlinewidth": 0,
              "ticks": ""
             }
            },
            "type": "scattermapbox"
           }
          ],
          "scatterpolar": [
           {
            "marker": {
             "colorbar": {
              "outlinewidth": 0,
              "ticks": ""
             }
            },
            "type": "scatterpolar"
           }
          ],
          "scatterpolargl": [
           {
            "marker": {
             "colorbar": {
              "outlinewidth": 0,
              "ticks": ""
             }
            },
            "type": "scatterpolargl"
           }
          ],
          "scatterternary": [
           {
            "marker": {
             "colorbar": {
              "outlinewidth": 0,
              "ticks": ""
             }
            },
            "type": "scatterternary"
           }
          ],
          "surface": [
           {
            "colorbar": {
             "outlinewidth": 0,
             "ticks": ""
            },
            "colorscale": [
             [
              0,
              "#0d0887"
             ],
             [
              0.1111111111111111,
              "#46039f"
             ],
             [
              0.2222222222222222,
              "#7201a8"
             ],
             [
              0.3333333333333333,
              "#9c179e"
             ],
             [
              0.4444444444444444,
              "#bd3786"
             ],
             [
              0.5555555555555556,
              "#d8576b"
             ],
             [
              0.6666666666666666,
              "#ed7953"
             ],
             [
              0.7777777777777778,
              "#fb9f3a"
             ],
             [
              0.8888888888888888,
              "#fdca26"
             ],
             [
              1,
              "#f0f921"
             ]
            ],
            "type": "surface"
           }
          ],
          "table": [
           {
            "cells": {
             "fill": {
              "color": "#EBF0F8"
             },
             "line": {
              "color": "white"
             }
            },
            "header": {
             "fill": {
              "color": "#C8D4E3"
             },
             "line": {
              "color": "white"
             }
            },
            "type": "table"
           }
          ]
         },
         "layout": {
          "annotationdefaults": {
           "arrowcolor": "#2a3f5f",
           "arrowhead": 0,
           "arrowwidth": 1
          },
          "coloraxis": {
           "colorbar": {
            "outlinewidth": 0,
            "ticks": ""
           }
          },
          "colorscale": {
           "diverging": [
            [
             0,
             "#8e0152"
            ],
            [
             0.1,
             "#c51b7d"
            ],
            [
             0.2,
             "#de77ae"
            ],
            [
             0.3,
             "#f1b6da"
            ],
            [
             0.4,
             "#fde0ef"
            ],
            [
             0.5,
             "#f7f7f7"
            ],
            [
             0.6,
             "#e6f5d0"
            ],
            [
             0.7,
             "#b8e186"
            ],
            [
             0.8,
             "#7fbc41"
            ],
            [
             0.9,
             "#4d9221"
            ],
            [
             1,
             "#276419"
            ]
           ],
           "sequential": [
            [
             0,
             "#0d0887"
            ],
            [
             0.1111111111111111,
             "#46039f"
            ],
            [
             0.2222222222222222,
             "#7201a8"
            ],
            [
             0.3333333333333333,
             "#9c179e"
            ],
            [
             0.4444444444444444,
             "#bd3786"
            ],
            [
             0.5555555555555556,
             "#d8576b"
            ],
            [
             0.6666666666666666,
             "#ed7953"
            ],
            [
             0.7777777777777778,
             "#fb9f3a"
            ],
            [
             0.8888888888888888,
             "#fdca26"
            ],
            [
             1,
             "#f0f921"
            ]
           ],
           "sequentialminus": [
            [
             0,
             "#0d0887"
            ],
            [
             0.1111111111111111,
             "#46039f"
            ],
            [
             0.2222222222222222,
             "#7201a8"
            ],
            [
             0.3333333333333333,
             "#9c179e"
            ],
            [
             0.4444444444444444,
             "#bd3786"
            ],
            [
             0.5555555555555556,
             "#d8576b"
            ],
            [
             0.6666666666666666,
             "#ed7953"
            ],
            [
             0.7777777777777778,
             "#fb9f3a"
            ],
            [
             0.8888888888888888,
             "#fdca26"
            ],
            [
             1,
             "#f0f921"
            ]
           ]
          },
          "colorway": [
           "#636efa",
           "#EF553B",
           "#00cc96",
           "#ab63fa",
           "#FFA15A",
           "#19d3f3",
           "#FF6692",
           "#B6E880",
           "#FF97FF",
           "#FECB52"
          ],
          "font": {
           "color": "#2a3f5f"
          },
          "geo": {
           "bgcolor": "white",
           "lakecolor": "white",
           "landcolor": "#E5ECF6",
           "showlakes": true,
           "showland": true,
           "subunitcolor": "white"
          },
          "hoverlabel": {
           "align": "left"
          },
          "hovermode": "closest",
          "mapbox": {
           "style": "light"
          },
          "paper_bgcolor": "white",
          "plot_bgcolor": "#E5ECF6",
          "polar": {
           "angularaxis": {
            "gridcolor": "white",
            "linecolor": "white",
            "ticks": ""
           },
           "bgcolor": "#E5ECF6",
           "radialaxis": {
            "gridcolor": "white",
            "linecolor": "white",
            "ticks": ""
           }
          },
          "scene": {
           "xaxis": {
            "backgroundcolor": "#E5ECF6",
            "gridcolor": "white",
            "gridwidth": 2,
            "linecolor": "white",
            "showbackground": true,
            "ticks": "",
            "zerolinecolor": "white"
           },
           "yaxis": {
            "backgroundcolor": "#E5ECF6",
            "gridcolor": "white",
            "gridwidth": 2,
            "linecolor": "white",
            "showbackground": true,
            "ticks": "",
            "zerolinecolor": "white"
           },
           "zaxis": {
            "backgroundcolor": "#E5ECF6",
            "gridcolor": "white",
            "gridwidth": 2,
            "linecolor": "white",
            "showbackground": true,
            "ticks": "",
            "zerolinecolor": "white"
           }
          },
          "shapedefaults": {
           "line": {
            "color": "#2a3f5f"
           }
          },
          "ternary": {
           "aaxis": {
            "gridcolor": "white",
            "linecolor": "white",
            "ticks": ""
           },
           "baxis": {
            "gridcolor": "white",
            "linecolor": "white",
            "ticks": ""
           },
           "bgcolor": "#E5ECF6",
           "caxis": {
            "gridcolor": "white",
            "linecolor": "white",
            "ticks": ""
           }
          },
          "title": {
           "x": 0.05
          },
          "xaxis": {
           "automargin": true,
           "gridcolor": "white",
           "linecolor": "white",
           "ticks": "",
           "title": {
            "standoff": 15
           },
           "zerolinecolor": "white",
           "zerolinewidth": 2
          },
          "yaxis": {
           "automargin": true,
           "gridcolor": "white",
           "linecolor": "white",
           "ticks": "",
           "title": {
            "standoff": 15
           },
           "zerolinecolor": "white",
           "zerolinewidth": 2
          }
         }
        },
        "title": {
         "text": "tool effect"
        }
       }
      },
      "text/html": [
       "<div>\n",
       "        \n",
       "        \n",
       "            <div id=\"6ffcecec-214f-43f8-9452-60604614262a\" class=\"plotly-graph-div\" style=\"height:525px; width:100%;\"></div>\n",
       "            <script type=\"text/javascript\">\n",
       "                require([\"plotly\"], function(Plotly) {\n",
       "                    window.PLOTLYENV=window.PLOTLYENV || {};\n",
       "                    \n",
       "                if (document.getElementById(\"6ffcecec-214f-43f8-9452-60604614262a\")) {\n",
       "                    Plotly.newPlot(\n",
       "                        '6ffcecec-214f-43f8-9452-60604614262a',\n",
       "                        [{\"box\": {\"visible\": true}, \"meanline\": {\"visible\": true}, \"name\": \"Happy\", \"points\": \"all\", \"type\": \"violin\", \"x\": [\"Happy\", \"Happy\", \"Happy\", \"Happy\", \"Happy\", \"Happy\", \"Happy\", \"Happy\", \"Happy\", \"Happy\", \"Happy\", \"Happy\"], \"y\": [1, 6, 1, 3, 7, 1, 2, 6, 1, 3, 4, 3]}, {\"box\": {\"visible\": true}, \"meanline\": {\"visible\": true}, \"name\": \"Feeling\", \"points\": \"all\", \"type\": \"violin\", \"x\": [\"Feeling\", \"Feeling\", \"Feeling\", \"Feeling\", \"Feeling\", \"Feeling\", \"Feeling\", \"Feeling\", \"Feeling\", \"Feeling\", \"Feeling\", \"Feeling\"], \"y\": [1, 8, 1, 6, 7, 2, 5, 7, 1, 1, 5, 5]}, {\"box\": {\"visible\": true}, \"meanline\": {\"visible\": true}, \"name\": \"Organic\", \"points\": \"all\", \"type\": \"violin\", \"x\": [\"Organic\", \"Organic\", \"Organic\", \"Organic\", \"Organic\", \"Organic\", \"Organic\", \"Organic\", \"Organic\", \"Organic\", \"Organic\", \"Organic\"], \"y\": [4, 8, 1, 2, 8, 2, 4, 2, 1, 2, 4, 1]}, {\"box\": {\"visible\": true}, \"meanline\": {\"visible\": true}, \"name\": \"Compassionate\", \"points\": \"all\", \"type\": \"violin\", \"x\": [\"Compassionate\", \"Compassionate\", \"Compassionate\", \"Compassionate\", \"Compassionate\", \"Compassionate\", \"Compassionate\", \"Compassionate\", \"Compassionate\", \"Compassionate\", \"Compassionate\", \"Compassionate\"], \"y\": [4, 6, 1, 5, 4, 3, 3, 5, 1, 2, 2, 1]}, {\"box\": {\"visible\": true}, \"meanline\": {\"visible\": true}, \"name\": \"Capable\", \"points\": \"all\", \"type\": \"violin\", \"x\": [\"Capable\", \"Capable\", \"Capable\", \"Capable\", \"Capable\", \"Capable\", \"Capable\", \"Capable\", \"Capable\", \"Capable\", \"Capable\", \"Capable\"], \"y\": [4, 6, 1, 8, 7, 2, 6, 3, 1, 4, 9, 8]}, {\"box\": {\"visible\": true}, \"meanline\": {\"visible\": true}, \"name\": \"Responsive\", \"points\": \"all\", \"type\": \"violin\", \"x\": [\"Responsive\", \"Responsive\", \"Responsive\", \"Responsive\", \"Responsive\", \"Responsive\", \"Responsive\", \"Responsive\", \"Responsive\", \"Responsive\", \"Responsive\", \"Responsive\"], \"y\": [2, 6, 1, 2, 7, 2, 7, 1, 1, 2, 3, 7]}, {\"box\": {\"visible\": true}, \"meanline\": {\"visible\": true}, \"name\": \"Reliable\", \"points\": \"all\", \"type\": \"violin\", \"x\": [\"Reliable\", \"Reliable\", \"Reliable\", \"Reliable\", \"Reliable\", \"Reliable\", \"Reliable\", \"Reliable\", \"Reliable\", \"Reliable\", \"Reliable\", \"Reliable\"], \"y\": [2, 7, 1, 2, 7, 6, 6, 8, 1, 5, 3, 4]}, {\"box\": {\"visible\": true}, \"meanline\": {\"visible\": true}, \"name\": \"Competent\", \"points\": \"all\", \"type\": \"violin\", \"x\": [\"Competent\", \"Competent\", \"Competent\", \"Competent\", \"Competent\", \"Competent\", \"Competent\", \"Competent\", \"Competent\", \"Competent\", \"Competent\", \"Competent\"], \"y\": [4, 7, 1, 3, 7, 6, 4, 8, 1, 5, 9, 8]}, {\"box\": {\"visible\": true}, \"meanline\": {\"visible\": true}, \"name\": \"Scary\", \"points\": \"all\", \"type\": \"violin\", \"x\": [\"Scary\", \"Scary\", \"Scary\", \"Scary\", \"Scary\", \"Scary\", \"Scary\", \"Scary\", \"Scary\", \"Scary\", \"Scary\", \"Scary\"], \"y\": [2, 3, 2, 7, 4, 5, 6, 2, 1, 5, 8, 5]}, {\"box\": {\"visible\": true}, \"meanline\": {\"visible\": true}, \"name\": \"Awkward\", \"points\": \"all\", \"type\": \"violin\", \"x\": [\"Awkward\", \"Awkward\", \"Awkward\", \"Awkward\", \"Awkward\", \"Awkward\", \"Awkward\", \"Awkward\", \"Awkward\", \"Awkward\", \"Awkward\", \"Awkward\"], \"y\": [1, 2, 1, 8, 4, 4, 2, 7, 1, 8, 8, 1]}, {\"box\": {\"visible\": true}, \"meanline\": {\"visible\": true}, \"name\": \"Dangerous\", \"points\": \"all\", \"type\": \"violin\", \"x\": [\"Dangerous\", \"Dangerous\", \"Dangerous\", \"Dangerous\", \"Dangerous\", \"Dangerous\", \"Dangerous\", \"Dangerous\", \"Dangerous\", \"Dangerous\", \"Dangerous\", \"Dangerous\"], \"y\": [1, 6, 2, 8, 4, 4, 2, 2, 1, 2, 8, 8]}, {\"box\": {\"visible\": true}, \"meanline\": {\"visible\": true}, \"name\": \"Aggressive\", \"points\": \"all\", \"type\": \"violin\", \"x\": [\"Aggressive\", \"Aggressive\", \"Aggressive\", \"Aggressive\", \"Aggressive\", \"Aggressive\", \"Aggressive\", \"Aggressive\", \"Aggressive\", \"Aggressive\", \"Aggressive\", \"Aggressive\"], \"y\": [1, 8, 6, 8, 8, 5, 7, 2, 1, 5, 8, 8]}, {\"box\": {\"visible\": true}, \"meanline\": {\"visible\": true}, \"name\": \"Hunger\", \"points\": \"all\", \"type\": \"violin\", \"x\": [\"Hunger\", \"Hunger\", \"Hunger\", \"Hunger\", \"Hunger\", \"Hunger\", \"Hunger\", \"Hunger\", \"Hunger\", \"Hunger\", \"Hunger\", \"Hunger\"], \"y\": [1, 6, 1, 5, 6, 1, 1, 2, 1, 2, 3, 6]}, {\"box\": {\"visible\": true}, \"meanline\": {\"visible\": true}, \"name\": \"Fear\", \"points\": \"all\", \"type\": \"violin\", \"x\": [\"Fear\", \"Fear\", \"Fear\", \"Fear\", \"Fear\", \"Fear\", \"Fear\", \"Fear\", \"Fear\", \"Fear\", \"Fear\", \"Fear\"], \"y\": [1, 2, 3, 2, 3, 2, 1, 2, 1, 2, 2, 5]}, {\"box\": {\"visible\": true}, \"meanline\": {\"visible\": true}, \"name\": \"Pain\", \"points\": \"all\", \"type\": \"violin\", \"x\": [\"Pain\", \"Pain\", \"Pain\", \"Pain\", \"Pain\", \"Pain\", \"Pain\", \"Pain\", \"Pain\", \"Pain\", \"Pain\", \"Pain\"], \"y\": [1, 1, 1, 6, 3, 3, 1, 1, 1, 1, 6, 4]}, {\"box\": {\"visible\": true}, \"meanline\": {\"visible\": true}, \"name\": \"Pleasure\", \"points\": \"all\", \"type\": \"violin\", \"x\": [\"Pleasure\", \"Pleasure\", \"Pleasure\", \"Pleasure\", \"Pleasure\", \"Pleasure\", \"Pleasure\", \"Pleasure\", \"Pleasure\", \"Pleasure\", \"Pleasure\", \"Pleasure\"], \"y\": [1, 5, 1, 5, 6, 1, 3, 5, 1, 1, 2, 4]}, {\"box\": {\"visible\": true}, \"meanline\": {\"visible\": true}, \"name\": \"Rage\", \"points\": \"all\", \"type\": \"violin\", \"x\": [\"Rage\", \"Rage\", \"Rage\", \"Rage\", \"Rage\", \"Rage\", \"Rage\", \"Rage\", \"Rage\", \"Rage\", \"Rage\", \"Rage\"], \"y\": [1, 6, 1, 7, 6, 1, 4, 2, 1, 3, 6, 4]}, {\"box\": {\"visible\": true}, \"meanline\": {\"visible\": true}, \"name\": \"Desire\", \"points\": \"all\", \"type\": \"violin\", \"x\": [\"Desire\", \"Desire\", \"Desire\", \"Desire\", \"Desire\", \"Desire\", \"Desire\", \"Desire\", \"Desire\", \"Desire\", \"Desire\", \"Desire\"], \"y\": [1, 6, 4, 6, 6, 3, 3, 2, 1, 1, 2, 2]}, {\"box\": {\"visible\": true}, \"meanline\": {\"visible\": true}, \"name\": \"Personality\", \"points\": \"all\", \"type\": \"violin\", \"x\": [\"Personality\", \"Personality\", \"Personality\", \"Personality\", \"Personality\", \"Personality\", \"Personality\", \"Personality\", \"Personality\", \"Personality\", \"Personality\", \"Personality\"], \"y\": [1, 6, 1, 5, 6, 2, 4, 5, 1, 1, 5, 5]}, {\"box\": {\"visible\": true}, \"meanline\": {\"visible\": true}, \"name\": \"Consciousness\", \"points\": \"all\", \"type\": \"violin\", \"x\": [\"Consciousness\", \"Consciousness\", \"Consciousness\", \"Consciousness\", \"Consciousness\", \"Consciousness\", \"Consciousness\", \"Consciousness\", \"Consciousness\", \"Consciousness\", \"Consciousness\", \"Consciousness\"], \"y\": [1, 6, 1, 2, 6, 1, 5, 6, 1, 1, 4, 4]}, {\"box\": {\"visible\": true}, \"meanline\": {\"visible\": true}, \"name\": \"Pride\", \"points\": \"all\", \"type\": \"violin\", \"x\": [\"Pride\", \"Pride\", \"Pride\", \"Pride\", \"Pride\", \"Pride\", \"Pride\", \"Pride\", \"Pride\", \"Pride\", \"Pride\", \"Pride\"], \"y\": [1, 7, 1, 5, 6, 1, 2, 5, 1, 2, 6, 2]}, {\"box\": {\"visible\": true}, \"meanline\": {\"visible\": true}, \"name\": \"Embarassment\", \"points\": \"all\", \"type\": \"violin\", \"x\": [\"Embarassment\", \"Embarassment\", \"Embarassment\", \"Embarassment\", \"Embarassment\", \"Embarassment\", \"Embarassment\", \"Embarassment\", \"Embarassment\", \"Embarassment\", \"Embarassment\", \"Embarassment\"], \"y\": [1, 1, 1, 1, 2, 1, 2, 3, 1, 1, 6, 1]}, {\"box\": {\"visible\": true}, \"meanline\": {\"visible\": true}, \"name\": \"Joy\", \"points\": \"all\", \"type\": \"violin\", \"x\": [\"Joy\", \"Joy\", \"Joy\", \"Joy\", \"Joy\", \"Joy\", \"Joy\", \"Joy\", \"Joy\", \"Joy\", \"Joy\", \"Joy\"], \"y\": [1, 5, 1, 4, 4, 1, 2, 5, 1, 1, 6, 1]}, {\"box\": {\"visible\": true}, \"meanline\": {\"visible\": true}, \"name\": \"Self-Control\", \"points\": \"all\", \"type\": \"violin\", \"x\": [\"Self-Control\", \"Self-Control\", \"Self-Control\", \"Self-Control\", \"Self-Control\", \"Self-Control\", \"Self-Control\", \"Self-Control\", \"Self-Control\", \"Self-Control\", \"Self-Control\", \"Self-Control\"], \"y\": [1, 7, 4, 3, 4, 1, 5, 6, 1, 1, 6, 3]}, {\"box\": {\"visible\": true}, \"meanline\": {\"visible\": true}, \"name\": \"Morality\", \"points\": \"all\", \"type\": \"violin\", \"x\": [\"Morality\", \"Morality\", \"Morality\", \"Morality\", \"Morality\", \"Morality\", \"Morality\", \"Morality\", \"Morality\", \"Morality\", \"Morality\", \"Morality\"], \"y\": [1, 7, 1, 2, 4, 1, 5, 4, 1, 1, 6, 2]}, {\"box\": {\"visible\": true}, \"meanline\": {\"visible\": true}, \"name\": \"Memory\", \"points\": \"all\", \"type\": \"violin\", \"x\": [\"Memory\", \"Memory\", \"Memory\", \"Memory\", \"Memory\", \"Memory\", \"Memory\", \"Memory\", \"Memory\", \"Memory\", \"Memory\", \"Memory\"], \"y\": [1, 7, 1, 3, 4, 1, 5, 5, 1, 1, 6, 2]}, {\"box\": {\"visible\": true}, \"meanline\": {\"visible\": true}, \"name\": \"Emotion Recognition\", \"points\": \"all\", \"type\": \"violin\", \"x\": [\"Emotion Recognition\", \"Emotion Recognition\", \"Emotion Recognition\", \"Emotion Recognition\", \"Emotion Recognition\", \"Emotion Recognition\", \"Emotion Recognition\", \"Emotion Recognition\", \"Emotion Recognition\", \"Emotion Recognition\", \"Emotion Recognition\", \"Emotion Recognition\"], \"y\": [1, 7, 1, 2, 3, 1, 2, 6, 1, 1, 2, 2]}, {\"box\": {\"visible\": true}, \"meanline\": {\"visible\": true}, \"name\": \"Planning\", \"points\": \"all\", \"type\": \"violin\", \"x\": [\"Planning\", \"Planning\", \"Planning\", \"Planning\", \"Planning\", \"Planning\", \"Planning\", \"Planning\", \"Planning\", \"Planning\", \"Planning\", \"Planning\"], \"y\": [1, 7, 1, 2, 6, 2, 5, 3, 1, 1, 3, 4]}, {\"box\": {\"visible\": true}, \"meanline\": {\"visible\": true}, \"name\": \"Communication\", \"points\": \"all\", \"type\": \"violin\", \"x\": [\"Communication\", \"Communication\", \"Communication\", \"Communication\", \"Communication\", \"Communication\", \"Communication\", \"Communication\", \"Communication\", \"Communication\", \"Communication\", \"Communication\"], \"y\": [1, 6, 4, 4, 3, 3, 2, 2, 1, 1, 4, 3]}, {\"box\": {\"visible\": true}, \"meanline\": {\"visible\": true}, \"name\": \"Thought\", \"points\": \"all\", \"type\": \"violin\", \"x\": [\"Thought\", \"Thought\", \"Thought\", \"Thought\", \"Thought\", \"Thought\", \"Thought\", \"Thought\", \"Thought\", \"Thought\", \"Thought\", \"Thought\"], \"y\": [1, 5, 1, 5, 4, 1, 5, 5, 1, 1, 4, 5]}],\n",
       "                        {\"template\": {\"data\": {\"bar\": [{\"error_x\": {\"color\": \"#2a3f5f\"}, \"error_y\": {\"color\": \"#2a3f5f\"}, \"marker\": {\"line\": {\"color\": \"#E5ECF6\", \"width\": 0.5}}, \"type\": \"bar\"}], \"barpolar\": [{\"marker\": {\"line\": {\"color\": \"#E5ECF6\", \"width\": 0.5}}, \"type\": \"barpolar\"}], \"carpet\": [{\"aaxis\": {\"endlinecolor\": \"#2a3f5f\", \"gridcolor\": \"white\", \"linecolor\": \"white\", \"minorgridcolor\": \"white\", \"startlinecolor\": \"#2a3f5f\"}, \"baxis\": {\"endlinecolor\": \"#2a3f5f\", \"gridcolor\": \"white\", \"linecolor\": \"white\", \"minorgridcolor\": \"white\", \"startlinecolor\": \"#2a3f5f\"}, \"type\": \"carpet\"}], \"choropleth\": [{\"colorbar\": {\"outlinewidth\": 0, \"ticks\": \"\"}, \"type\": \"choropleth\"}], \"contour\": [{\"colorbar\": {\"outlinewidth\": 0, \"ticks\": \"\"}, \"colorscale\": [[0.0, \"#0d0887\"], [0.1111111111111111, \"#46039f\"], [0.2222222222222222, \"#7201a8\"], [0.3333333333333333, \"#9c179e\"], [0.4444444444444444, \"#bd3786\"], [0.5555555555555556, \"#d8576b\"], [0.6666666666666666, \"#ed7953\"], [0.7777777777777778, \"#fb9f3a\"], [0.8888888888888888, \"#fdca26\"], [1.0, \"#f0f921\"]], \"type\": \"contour\"}], \"contourcarpet\": [{\"colorbar\": {\"outlinewidth\": 0, \"ticks\": \"\"}, \"type\": \"contourcarpet\"}], \"heatmap\": [{\"colorbar\": {\"outlinewidth\": 0, \"ticks\": \"\"}, \"colorscale\": [[0.0, \"#0d0887\"], [0.1111111111111111, \"#46039f\"], [0.2222222222222222, \"#7201a8\"], [0.3333333333333333, \"#9c179e\"], [0.4444444444444444, \"#bd3786\"], [0.5555555555555556, \"#d8576b\"], [0.6666666666666666, \"#ed7953\"], [0.7777777777777778, \"#fb9f3a\"], [0.8888888888888888, \"#fdca26\"], [1.0, \"#f0f921\"]], \"type\": \"heatmap\"}], \"heatmapgl\": [{\"colorbar\": {\"outlinewidth\": 0, \"ticks\": \"\"}, \"colorscale\": [[0.0, \"#0d0887\"], [0.1111111111111111, \"#46039f\"], [0.2222222222222222, \"#7201a8\"], [0.3333333333333333, \"#9c179e\"], [0.4444444444444444, \"#bd3786\"], [0.5555555555555556, \"#d8576b\"], [0.6666666666666666, \"#ed7953\"], [0.7777777777777778, \"#fb9f3a\"], [0.8888888888888888, \"#fdca26\"], [1.0, \"#f0f921\"]], \"type\": \"heatmapgl\"}], \"histogram\": [{\"marker\": {\"colorbar\": {\"outlinewidth\": 0, \"ticks\": \"\"}}, \"type\": \"histogram\"}], \"histogram2d\": [{\"colorbar\": {\"outlinewidth\": 0, \"ticks\": \"\"}, \"colorscale\": [[0.0, \"#0d0887\"], [0.1111111111111111, \"#46039f\"], [0.2222222222222222, \"#7201a8\"], [0.3333333333333333, \"#9c179e\"], [0.4444444444444444, \"#bd3786\"], [0.5555555555555556, \"#d8576b\"], [0.6666666666666666, \"#ed7953\"], [0.7777777777777778, \"#fb9f3a\"], [0.8888888888888888, \"#fdca26\"], [1.0, \"#f0f921\"]], \"type\": \"histogram2d\"}], \"histogram2dcontour\": [{\"colorbar\": {\"outlinewidth\": 0, \"ticks\": \"\"}, \"colorscale\": [[0.0, \"#0d0887\"], [0.1111111111111111, \"#46039f\"], [0.2222222222222222, \"#7201a8\"], [0.3333333333333333, \"#9c179e\"], [0.4444444444444444, \"#bd3786\"], [0.5555555555555556, \"#d8576b\"], [0.6666666666666666, \"#ed7953\"], [0.7777777777777778, \"#fb9f3a\"], [0.8888888888888888, \"#fdca26\"], [1.0, \"#f0f921\"]], \"type\": \"histogram2dcontour\"}], \"mesh3d\": [{\"colorbar\": {\"outlinewidth\": 0, \"ticks\": \"\"}, \"type\": \"mesh3d\"}], \"parcoords\": [{\"line\": {\"colorbar\": {\"outlinewidth\": 0, \"ticks\": \"\"}}, \"type\": \"parcoords\"}], \"pie\": [{\"automargin\": true, \"type\": \"pie\"}], \"scatter\": [{\"marker\": {\"colorbar\": {\"outlinewidth\": 0, \"ticks\": \"\"}}, \"type\": \"scatter\"}], \"scatter3d\": [{\"line\": {\"colorbar\": {\"outlinewidth\": 0, \"ticks\": \"\"}}, \"marker\": {\"colorbar\": {\"outlinewidth\": 0, \"ticks\": \"\"}}, \"type\": \"scatter3d\"}], \"scattercarpet\": [{\"marker\": {\"colorbar\": {\"outlinewidth\": 0, \"ticks\": \"\"}}, \"type\": \"scattercarpet\"}], \"scattergeo\": [{\"marker\": {\"colorbar\": {\"outlinewidth\": 0, \"ticks\": \"\"}}, \"type\": \"scattergeo\"}], \"scattergl\": [{\"marker\": {\"colorbar\": {\"outlinewidth\": 0, \"ticks\": \"\"}}, \"type\": \"scattergl\"}], \"scattermapbox\": [{\"marker\": {\"colorbar\": {\"outlinewidth\": 0, \"ticks\": \"\"}}, \"type\": \"scattermapbox\"}], \"scatterpolar\": [{\"marker\": {\"colorbar\": {\"outlinewidth\": 0, \"ticks\": \"\"}}, \"type\": \"scatterpolar\"}], \"scatterpolargl\": [{\"marker\": {\"colorbar\": {\"outlinewidth\": 0, \"ticks\": \"\"}}, \"type\": \"scatterpolargl\"}], \"scatterternary\": [{\"marker\": {\"colorbar\": {\"outlinewidth\": 0, \"ticks\": \"\"}}, \"type\": \"scatterternary\"}], \"surface\": [{\"colorbar\": {\"outlinewidth\": 0, \"ticks\": \"\"}, \"colorscale\": [[0.0, \"#0d0887\"], [0.1111111111111111, \"#46039f\"], [0.2222222222222222, \"#7201a8\"], [0.3333333333333333, \"#9c179e\"], [0.4444444444444444, \"#bd3786\"], [0.5555555555555556, \"#d8576b\"], [0.6666666666666666, \"#ed7953\"], [0.7777777777777778, \"#fb9f3a\"], [0.8888888888888888, \"#fdca26\"], [1.0, \"#f0f921\"]], \"type\": \"surface\"}], \"table\": [{\"cells\": {\"fill\": {\"color\": \"#EBF0F8\"}, \"line\": {\"color\": \"white\"}}, \"header\": {\"fill\": {\"color\": \"#C8D4E3\"}, \"line\": {\"color\": \"white\"}}, \"type\": \"table\"}]}, \"layout\": {\"annotationdefaults\": {\"arrowcolor\": \"#2a3f5f\", \"arrowhead\": 0, \"arrowwidth\": 1}, \"coloraxis\": {\"colorbar\": {\"outlinewidth\": 0, \"ticks\": \"\"}}, \"colorscale\": {\"diverging\": [[0, \"#8e0152\"], [0.1, \"#c51b7d\"], [0.2, \"#de77ae\"], [0.3, \"#f1b6da\"], [0.4, \"#fde0ef\"], [0.5, \"#f7f7f7\"], [0.6, \"#e6f5d0\"], [0.7, \"#b8e186\"], [0.8, \"#7fbc41\"], [0.9, \"#4d9221\"], [1, \"#276419\"]], \"sequential\": [[0.0, \"#0d0887\"], [0.1111111111111111, \"#46039f\"], [0.2222222222222222, \"#7201a8\"], [0.3333333333333333, \"#9c179e\"], [0.4444444444444444, \"#bd3786\"], [0.5555555555555556, \"#d8576b\"], [0.6666666666666666, \"#ed7953\"], [0.7777777777777778, \"#fb9f3a\"], [0.8888888888888888, \"#fdca26\"], [1.0, \"#f0f921\"]], \"sequentialminus\": [[0.0, \"#0d0887\"], [0.1111111111111111, \"#46039f\"], [0.2222222222222222, \"#7201a8\"], [0.3333333333333333, \"#9c179e\"], [0.4444444444444444, \"#bd3786\"], [0.5555555555555556, \"#d8576b\"], [0.6666666666666666, \"#ed7953\"], [0.7777777777777778, \"#fb9f3a\"], [0.8888888888888888, \"#fdca26\"], [1.0, \"#f0f921\"]]}, \"colorway\": [\"#636efa\", \"#EF553B\", \"#00cc96\", \"#ab63fa\", \"#FFA15A\", \"#19d3f3\", \"#FF6692\", \"#B6E880\", \"#FF97FF\", \"#FECB52\"], \"font\": {\"color\": \"#2a3f5f\"}, \"geo\": {\"bgcolor\": \"white\", \"lakecolor\": \"white\", \"landcolor\": \"#E5ECF6\", \"showlakes\": true, \"showland\": true, \"subunitcolor\": \"white\"}, \"hoverlabel\": {\"align\": \"left\"}, \"hovermode\": \"closest\", \"mapbox\": {\"style\": \"light\"}, \"paper_bgcolor\": \"white\", \"plot_bgcolor\": \"#E5ECF6\", \"polar\": {\"angularaxis\": {\"gridcolor\": \"white\", \"linecolor\": \"white\", \"ticks\": \"\"}, \"bgcolor\": \"#E5ECF6\", \"radialaxis\": {\"gridcolor\": \"white\", \"linecolor\": \"white\", \"ticks\": \"\"}}, \"scene\": {\"xaxis\": {\"backgroundcolor\": \"#E5ECF6\", \"gridcolor\": \"white\", \"gridwidth\": 2, \"linecolor\": \"white\", \"showbackground\": true, \"ticks\": \"\", \"zerolinecolor\": \"white\"}, \"yaxis\": {\"backgroundcolor\": \"#E5ECF6\", \"gridcolor\": \"white\", \"gridwidth\": 2, \"linecolor\": \"white\", \"showbackground\": true, \"ticks\": \"\", \"zerolinecolor\": \"white\"}, \"zaxis\": {\"backgroundcolor\": \"#E5ECF6\", \"gridcolor\": \"white\", \"gridwidth\": 2, \"linecolor\": \"white\", \"showbackground\": true, \"ticks\": \"\", \"zerolinecolor\": \"white\"}}, \"shapedefaults\": {\"line\": {\"color\": \"#2a3f5f\"}}, \"ternary\": {\"aaxis\": {\"gridcolor\": \"white\", \"linecolor\": \"white\", \"ticks\": \"\"}, \"baxis\": {\"gridcolor\": \"white\", \"linecolor\": \"white\", \"ticks\": \"\"}, \"bgcolor\": \"#E5ECF6\", \"caxis\": {\"gridcolor\": \"white\", \"linecolor\": \"white\", \"ticks\": \"\"}}, \"title\": {\"x\": 0.05}, \"xaxis\": {\"automargin\": true, \"gridcolor\": \"white\", \"linecolor\": \"white\", \"ticks\": \"\", \"title\": {\"standoff\": 15}, \"zerolinecolor\": \"white\", \"zerolinewidth\": 2}, \"yaxis\": {\"automargin\": true, \"gridcolor\": \"white\", \"linecolor\": \"white\", \"ticks\": \"\", \"title\": {\"standoff\": 15}, \"zerolinecolor\": \"white\", \"zerolinewidth\": 2}}}, \"title\": {\"text\": \"tool effect\"}},\n",
       "                        {\"responsive\": true}\n",
       "                    ).then(function(){\n",
       "                            \n",
       "var gd = document.getElementById('6ffcecec-214f-43f8-9452-60604614262a');\n",
       "var x = new MutationObserver(function (mutations, observer) {{\n",
       "        var display = window.getComputedStyle(gd).display;\n",
       "        if (!display || display === 'none') {{\n",
       "            console.log([gd, 'removed!']);\n",
       "            Plotly.purge(gd);\n",
       "            observer.disconnect();\n",
       "        }}\n",
       "}});\n",
       "\n",
       "// Listen for the removal of the full notebook cells\n",
       "var notebookContainer = gd.closest('#notebook-container');\n",
       "if (notebookContainer) {{\n",
       "    x.observe(notebookContainer, {childList: true});\n",
       "}}\n",
       "\n",
       "// Listen for the clearing of the current output cell\n",
       "var outputEl = gd.closest('.output');\n",
       "if (outputEl) {{\n",
       "    x.observe(outputEl, {childList: true});\n",
       "}}\n",
       "\n",
       "                        })\n",
       "                };\n",
       "                });\n",
       "            </script>\n",
       "        </div>"
      ]
     },
     "metadata": {},
     "output_type": "display_data"
    }
   ],
   "source": [
    "def plot_distribution(pd_data, animation_name, column_name):\n",
    "    #col = pd_data[column_name]\n",
    "    col = pd_data.get(animation_name).get(column_name)\n",
    "    trace = go.Violin(y=col, x=[column_name for i in range(len(col))], box_visible=True, name=column_name,\n",
    "                      meanline_visible=True, points=\"all\")\n",
    "    return trace\n",
    "\n",
    "for animation in data_paired.keys():\n",
    "    fig = go.Figure()\n",
    "    fig.update_layout(title=animation)\n",
    "    for key in data_paired[animation]:\n",
    "        fig.add_trace(plot_distribution(data_paired, 'launching', key))\n",
    "    fig.show()\n"
   ]
  },
  {
   "cell_type": "markdown",
   "metadata": {},
   "source": [
    "## Plot 2D planes\n",
    "We now visualize two dimensions at once by projecting all the states into two dimensions only. You can double click on any state in the legend to isolate it in the plots."
   ]
  },
  {
   "cell_type": "code",
   "execution_count": 239,
   "metadata": {},
   "outputs": [
    {
     "data": {
      "application/vnd.plotly.v1+json": {
       "config": {
        "plotlyServerURL": "https://plot.ly"
       },
       "data": [
        {
         "diagonal": {
          "visible": false
         },
         "dimensions": [
          {
           "axis": {
            "matches": true
           },
           "label": "Happy",
           "values": [
            1,
            6,
            1,
            3,
            7,
            1,
            2,
            6,
            1,
            3,
            4,
            3
           ]
          },
          {
           "axis": {
            "matches": true
           },
           "label": "Happy.1",
           "values": [
            2,
            3,
            5,
            6,
            4,
            1,
            2,
            2,
            1,
            5,
            2,
            1
           ]
          },
          {
           "axis": {
            "matches": true
           },
           "label": "Happy.2",
           "values": [
            1,
            5,
            1,
            3,
            4,
            3,
            6,
            4,
            1,
            1,
            2,
            1
           ]
          },
          {
           "axis": {
            "matches": true
           },
           "label": "Happy.3",
           "values": [
            1,
            5,
            1,
            1,
            1,
            1,
            2,
            6,
            1,
            1,
            3,
            1
           ]
          },
          {
           "axis": {
            "matches": true
           },
           "label": "Happy.4",
           "values": [
            1,
            3,
            1,
            1,
            1,
            2,
            2,
            3,
            1,
            3,
            3,
            1
           ]
          },
          {
           "axis": {
            "matches": true
           },
           "label": "Happy.5",
           "values": [
            1,
            5,
            1,
            9,
            5,
            3,
            2,
            6,
            1,
            2,
            7,
            1
           ]
          }
         ],
         "hovertemplate": "%{xaxis.title.text}=%{x}<br>%{yaxis.title.text}=%{y}<extra></extra>",
         "legendgroup": "",
         "marker": {
          "color": "#636efa",
          "symbol": "circle"
         },
         "name": "",
         "showlegend": false,
         "type": "splom"
        }
       ],
       "layout": {
        "dragmode": "select",
        "legend": {
         "tracegroupgap": 0
        },
        "template": {
         "data": {
          "bar": [
           {
            "error_x": {
             "color": "#2a3f5f"
            },
            "error_y": {
             "color": "#2a3f5f"
            },
            "marker": {
             "line": {
              "color": "#E5ECF6",
              "width": 0.5
             }
            },
            "type": "bar"
           }
          ],
          "barpolar": [
           {
            "marker": {
             "line": {
              "color": "#E5ECF6",
              "width": 0.5
             }
            },
            "type": "barpolar"
           }
          ],
          "carpet": [
           {
            "aaxis": {
             "endlinecolor": "#2a3f5f",
             "gridcolor": "white",
             "linecolor": "white",
             "minorgridcolor": "white",
             "startlinecolor": "#2a3f5f"
            },
            "baxis": {
             "endlinecolor": "#2a3f5f",
             "gridcolor": "white",
             "linecolor": "white",
             "minorgridcolor": "white",
             "startlinecolor": "#2a3f5f"
            },
            "type": "carpet"
           }
          ],
          "choropleth": [
           {
            "colorbar": {
             "outlinewidth": 0,
             "ticks": ""
            },
            "type": "choropleth"
           }
          ],
          "contour": [
           {
            "colorbar": {
             "outlinewidth": 0,
             "ticks": ""
            },
            "colorscale": [
             [
              0,
              "#0d0887"
             ],
             [
              0.1111111111111111,
              "#46039f"
             ],
             [
              0.2222222222222222,
              "#7201a8"
             ],
             [
              0.3333333333333333,
              "#9c179e"
             ],
             [
              0.4444444444444444,
              "#bd3786"
             ],
             [
              0.5555555555555556,
              "#d8576b"
             ],
             [
              0.6666666666666666,
              "#ed7953"
             ],
             [
              0.7777777777777778,
              "#fb9f3a"
             ],
             [
              0.8888888888888888,
              "#fdca26"
             ],
             [
              1,
              "#f0f921"
             ]
            ],
            "type": "contour"
           }
          ],
          "contourcarpet": [
           {
            "colorbar": {
             "outlinewidth": 0,
             "ticks": ""
            },
            "type": "contourcarpet"
           }
          ],
          "heatmap": [
           {
            "colorbar": {
             "outlinewidth": 0,
             "ticks": ""
            },
            "colorscale": [
             [
              0,
              "#0d0887"
             ],
             [
              0.1111111111111111,
              "#46039f"
             ],
             [
              0.2222222222222222,
              "#7201a8"
             ],
             [
              0.3333333333333333,
              "#9c179e"
             ],
             [
              0.4444444444444444,
              "#bd3786"
             ],
             [
              0.5555555555555556,
              "#d8576b"
             ],
             [
              0.6666666666666666,
              "#ed7953"
             ],
             [
              0.7777777777777778,
              "#fb9f3a"
             ],
             [
              0.8888888888888888,
              "#fdca26"
             ],
             [
              1,
              "#f0f921"
             ]
            ],
            "type": "heatmap"
           }
          ],
          "heatmapgl": [
           {
            "colorbar": {
             "outlinewidth": 0,
             "ticks": ""
            },
            "colorscale": [
             [
              0,
              "#0d0887"
             ],
             [
              0.1111111111111111,
              "#46039f"
             ],
             [
              0.2222222222222222,
              "#7201a8"
             ],
             [
              0.3333333333333333,
              "#9c179e"
             ],
             [
              0.4444444444444444,
              "#bd3786"
             ],
             [
              0.5555555555555556,
              "#d8576b"
             ],
             [
              0.6666666666666666,
              "#ed7953"
             ],
             [
              0.7777777777777778,
              "#fb9f3a"
             ],
             [
              0.8888888888888888,
              "#fdca26"
             ],
             [
              1,
              "#f0f921"
             ]
            ],
            "type": "heatmapgl"
           }
          ],
          "histogram": [
           {
            "marker": {
             "colorbar": {
              "outlinewidth": 0,
              "ticks": ""
             }
            },
            "type": "histogram"
           }
          ],
          "histogram2d": [
           {
            "colorbar": {
             "outlinewidth": 0,
             "ticks": ""
            },
            "colorscale": [
             [
              0,
              "#0d0887"
             ],
             [
              0.1111111111111111,
              "#46039f"
             ],
             [
              0.2222222222222222,
              "#7201a8"
             ],
             [
              0.3333333333333333,
              "#9c179e"
             ],
             [
              0.4444444444444444,
              "#bd3786"
             ],
             [
              0.5555555555555556,
              "#d8576b"
             ],
             [
              0.6666666666666666,
              "#ed7953"
             ],
             [
              0.7777777777777778,
              "#fb9f3a"
             ],
             [
              0.8888888888888888,
              "#fdca26"
             ],
             [
              1,
              "#f0f921"
             ]
            ],
            "type": "histogram2d"
           }
          ],
          "histogram2dcontour": [
           {
            "colorbar": {
             "outlinewidth": 0,
             "ticks": ""
            },
            "colorscale": [
             [
              0,
              "#0d0887"
             ],
             [
              0.1111111111111111,
              "#46039f"
             ],
             [
              0.2222222222222222,
              "#7201a8"
             ],
             [
              0.3333333333333333,
              "#9c179e"
             ],
             [
              0.4444444444444444,
              "#bd3786"
             ],
             [
              0.5555555555555556,
              "#d8576b"
             ],
             [
              0.6666666666666666,
              "#ed7953"
             ],
             [
              0.7777777777777778,
              "#fb9f3a"
             ],
             [
              0.8888888888888888,
              "#fdca26"
             ],
             [
              1,
              "#f0f921"
             ]
            ],
            "type": "histogram2dcontour"
           }
          ],
          "mesh3d": [
           {
            "colorbar": {
             "outlinewidth": 0,
             "ticks": ""
            },
            "type": "mesh3d"
           }
          ],
          "parcoords": [
           {
            "line": {
             "colorbar": {
              "outlinewidth": 0,
              "ticks": ""
             }
            },
            "type": "parcoords"
           }
          ],
          "pie": [
           {
            "automargin": true,
            "type": "pie"
           }
          ],
          "scatter": [
           {
            "marker": {
             "colorbar": {
              "outlinewidth": 0,
              "ticks": ""
             }
            },
            "type": "scatter"
           }
          ],
          "scatter3d": [
           {
            "line": {
             "colorbar": {
              "outlinewidth": 0,
              "ticks": ""
             }
            },
            "marker": {
             "colorbar": {
              "outlinewidth": 0,
              "ticks": ""
             }
            },
            "type": "scatter3d"
           }
          ],
          "scattercarpet": [
           {
            "marker": {
             "colorbar": {
              "outlinewidth": 0,
              "ticks": ""
             }
            },
            "type": "scattercarpet"
           }
          ],
          "scattergeo": [
           {
            "marker": {
             "colorbar": {
              "outlinewidth": 0,
              "ticks": ""
             }
            },
            "type": "scattergeo"
           }
          ],
          "scattergl": [
           {
            "marker": {
             "colorbar": {
              "outlinewidth": 0,
              "ticks": ""
             }
            },
            "type": "scattergl"
           }
          ],
          "scattermapbox": [
           {
            "marker": {
             "colorbar": {
              "outlinewidth": 0,
              "ticks": ""
             }
            },
            "type": "scattermapbox"
           }
          ],
          "scatterpolar": [
           {
            "marker": {
             "colorbar": {
              "outlinewidth": 0,
              "ticks": ""
             }
            },
            "type": "scatterpolar"
           }
          ],
          "scatterpolargl": [
           {
            "marker": {
             "colorbar": {
              "outlinewidth": 0,
              "ticks": ""
             }
            },
            "type": "scatterpolargl"
           }
          ],
          "scatterternary": [
           {
            "marker": {
             "colorbar": {
              "outlinewidth": 0,
              "ticks": ""
             }
            },
            "type": "scatterternary"
           }
          ],
          "surface": [
           {
            "colorbar": {
             "outlinewidth": 0,
             "ticks": ""
            },
            "colorscale": [
             [
              0,
              "#0d0887"
             ],
             [
              0.1111111111111111,
              "#46039f"
             ],
             [
              0.2222222222222222,
              "#7201a8"
             ],
             [
              0.3333333333333333,
              "#9c179e"
             ],
             [
              0.4444444444444444,
              "#bd3786"
             ],
             [
              0.5555555555555556,
              "#d8576b"
             ],
             [
              0.6666666666666666,
              "#ed7953"
             ],
             [
              0.7777777777777778,
              "#fb9f3a"
             ],
             [
              0.8888888888888888,
              "#fdca26"
             ],
             [
              1,
              "#f0f921"
             ]
            ],
            "type": "surface"
           }
          ],
          "table": [
           {
            "cells": {
             "fill": {
              "color": "#EBF0F8"
             },
             "line": {
              "color": "white"
             }
            },
            "header": {
             "fill": {
              "color": "#C8D4E3"
             },
             "line": {
              "color": "white"
             }
            },
            "type": "table"
           }
          ]
         },
         "layout": {
          "annotationdefaults": {
           "arrowcolor": "#2a3f5f",
           "arrowhead": 0,
           "arrowwidth": 1
          },
          "coloraxis": {
           "colorbar": {
            "outlinewidth": 0,
            "ticks": ""
           }
          },
          "colorscale": {
           "diverging": [
            [
             0,
             "#8e0152"
            ],
            [
             0.1,
             "#c51b7d"
            ],
            [
             0.2,
             "#de77ae"
            ],
            [
             0.3,
             "#f1b6da"
            ],
            [
             0.4,
             "#fde0ef"
            ],
            [
             0.5,
             "#f7f7f7"
            ],
            [
             0.6,
             "#e6f5d0"
            ],
            [
             0.7,
             "#b8e186"
            ],
            [
             0.8,
             "#7fbc41"
            ],
            [
             0.9,
             "#4d9221"
            ],
            [
             1,
             "#276419"
            ]
           ],
           "sequential": [
            [
             0,
             "#0d0887"
            ],
            [
             0.1111111111111111,
             "#46039f"
            ],
            [
             0.2222222222222222,
             "#7201a8"
            ],
            [
             0.3333333333333333,
             "#9c179e"
            ],
            [
             0.4444444444444444,
             "#bd3786"
            ],
            [
             0.5555555555555556,
             "#d8576b"
            ],
            [
             0.6666666666666666,
             "#ed7953"
            ],
            [
             0.7777777777777778,
             "#fb9f3a"
            ],
            [
             0.8888888888888888,
             "#fdca26"
            ],
            [
             1,
             "#f0f921"
            ]
           ],
           "sequentialminus": [
            [
             0,
             "#0d0887"
            ],
            [
             0.1111111111111111,
             "#46039f"
            ],
            [
             0.2222222222222222,
             "#7201a8"
            ],
            [
             0.3333333333333333,
             "#9c179e"
            ],
            [
             0.4444444444444444,
             "#bd3786"
            ],
            [
             0.5555555555555556,
             "#d8576b"
            ],
            [
             0.6666666666666666,
             "#ed7953"
            ],
            [
             0.7777777777777778,
             "#fb9f3a"
            ],
            [
             0.8888888888888888,
             "#fdca26"
            ],
            [
             1,
             "#f0f921"
            ]
           ]
          },
          "colorway": [
           "#636efa",
           "#EF553B",
           "#00cc96",
           "#ab63fa",
           "#FFA15A",
           "#19d3f3",
           "#FF6692",
           "#B6E880",
           "#FF97FF",
           "#FECB52"
          ],
          "font": {
           "color": "#2a3f5f"
          },
          "geo": {
           "bgcolor": "white",
           "lakecolor": "white",
           "landcolor": "#E5ECF6",
           "showlakes": true,
           "showland": true,
           "subunitcolor": "white"
          },
          "hoverlabel": {
           "align": "left"
          },
          "hovermode": "closest",
          "mapbox": {
           "style": "light"
          },
          "paper_bgcolor": "white",
          "plot_bgcolor": "#E5ECF6",
          "polar": {
           "angularaxis": {
            "gridcolor": "white",
            "linecolor": "white",
            "ticks": ""
           },
           "bgcolor": "#E5ECF6",
           "radialaxis": {
            "gridcolor": "white",
            "linecolor": "white",
            "ticks": ""
           }
          },
          "scene": {
           "xaxis": {
            "backgroundcolor": "#E5ECF6",
            "gridcolor": "white",
            "gridwidth": 2,
            "linecolor": "white",
            "showbackground": true,
            "ticks": "",
            "zerolinecolor": "white"
           },
           "yaxis": {
            "backgroundcolor": "#E5ECF6",
            "gridcolor": "white",
            "gridwidth": 2,
            "linecolor": "white",
            "showbackground": true,
            "ticks": "",
            "zerolinecolor": "white"
           },
           "zaxis": {
            "backgroundcolor": "#E5ECF6",
            "gridcolor": "white",
            "gridwidth": 2,
            "linecolor": "white",
            "showbackground": true,
            "ticks": "",
            "zerolinecolor": "white"
           }
          },
          "shapedefaults": {
           "line": {
            "color": "#2a3f5f"
           }
          },
          "ternary": {
           "aaxis": {
            "gridcolor": "white",
            "linecolor": "white",
            "ticks": ""
           },
           "baxis": {
            "gridcolor": "white",
            "linecolor": "white",
            "ticks": ""
           },
           "bgcolor": "#E5ECF6",
           "caxis": {
            "gridcolor": "white",
            "linecolor": "white",
            "ticks": ""
           }
          },
          "title": {
           "x": 0.05
          },
          "xaxis": {
           "automargin": true,
           "gridcolor": "white",
           "linecolor": "white",
           "ticks": "",
           "title": {
            "standoff": 15
           },
           "zerolinecolor": "white",
           "zerolinewidth": 2
          },
          "yaxis": {
           "automargin": true,
           "gridcolor": "white",
           "linecolor": "white",
           "ticks": "",
           "title": {
            "standoff": 15
           },
           "zerolinecolor": "white",
           "zerolinewidth": 2
          }
         }
        },
        "title": {
         "text": "Scatter matrix of Happy ratings across animations"
        }
       }
      },
      "text/html": [
       "<div>\n",
       "        \n",
       "        \n",
       "            <div id=\"dbad0a4b-16d0-4e39-981f-875161733e07\" class=\"plotly-graph-div\" style=\"height:525px; width:100%;\"></div>\n",
       "            <script type=\"text/javascript\">\n",
       "                require([\"plotly\"], function(Plotly) {\n",
       "                    window.PLOTLYENV=window.PLOTLYENV || {};\n",
       "                    \n",
       "                if (document.getElementById(\"dbad0a4b-16d0-4e39-981f-875161733e07\")) {\n",
       "                    Plotly.newPlot(\n",
       "                        'dbad0a4b-16d0-4e39-981f-875161733e07',\n",
       "                        [{\"diagonal\": {\"visible\": false}, \"dimensions\": [{\"axis\": {\"matches\": true}, \"label\": \"Happy\", \"values\": [1, 6, 1, 3, 7, 1, 2, 6, 1, 3, 4, 3]}, {\"axis\": {\"matches\": true}, \"label\": \"Happy.1\", \"values\": [2, 3, 5, 6, 4, 1, 2, 2, 1, 5, 2, 1]}, {\"axis\": {\"matches\": true}, \"label\": \"Happy.2\", \"values\": [1, 5, 1, 3, 4, 3, 6, 4, 1, 1, 2, 1]}, {\"axis\": {\"matches\": true}, \"label\": \"Happy.3\", \"values\": [1, 5, 1, 1, 1, 1, 2, 6, 1, 1, 3, 1]}, {\"axis\": {\"matches\": true}, \"label\": \"Happy.4\", \"values\": [1, 3, 1, 1, 1, 2, 2, 3, 1, 3, 3, 1]}, {\"axis\": {\"matches\": true}, \"label\": \"Happy.5\", \"values\": [1, 5, 1, 9, 5, 3, 2, 6, 1, 2, 7, 1]}], \"hovertemplate\": \"%{xaxis.title.text}=%{x}<br>%{yaxis.title.text}=%{y}<extra></extra>\", \"legendgroup\": \"\", \"marker\": {\"color\": \"#636efa\", \"symbol\": \"circle\"}, \"name\": \"\", \"showlegend\": false, \"type\": \"splom\"}],\n",
       "                        {\"dragmode\": \"select\", \"legend\": {\"tracegroupgap\": 0}, \"template\": {\"data\": {\"bar\": [{\"error_x\": {\"color\": \"#2a3f5f\"}, \"error_y\": {\"color\": \"#2a3f5f\"}, \"marker\": {\"line\": {\"color\": \"#E5ECF6\", \"width\": 0.5}}, \"type\": \"bar\"}], \"barpolar\": [{\"marker\": {\"line\": {\"color\": \"#E5ECF6\", \"width\": 0.5}}, \"type\": \"barpolar\"}], \"carpet\": [{\"aaxis\": {\"endlinecolor\": \"#2a3f5f\", \"gridcolor\": \"white\", \"linecolor\": \"white\", \"minorgridcolor\": \"white\", \"startlinecolor\": \"#2a3f5f\"}, \"baxis\": {\"endlinecolor\": \"#2a3f5f\", \"gridcolor\": \"white\", \"linecolor\": \"white\", \"minorgridcolor\": \"white\", \"startlinecolor\": \"#2a3f5f\"}, \"type\": \"carpet\"}], \"choropleth\": [{\"colorbar\": {\"outlinewidth\": 0, \"ticks\": \"\"}, \"type\": \"choropleth\"}], \"contour\": [{\"colorbar\": {\"outlinewidth\": 0, \"ticks\": \"\"}, \"colorscale\": [[0.0, \"#0d0887\"], [0.1111111111111111, \"#46039f\"], [0.2222222222222222, \"#7201a8\"], [0.3333333333333333, \"#9c179e\"], [0.4444444444444444, \"#bd3786\"], [0.5555555555555556, \"#d8576b\"], [0.6666666666666666, \"#ed7953\"], [0.7777777777777778, \"#fb9f3a\"], [0.8888888888888888, \"#fdca26\"], [1.0, \"#f0f921\"]], \"type\": \"contour\"}], \"contourcarpet\": [{\"colorbar\": {\"outlinewidth\": 0, \"ticks\": \"\"}, \"type\": \"contourcarpet\"}], \"heatmap\": [{\"colorbar\": {\"outlinewidth\": 0, \"ticks\": \"\"}, \"colorscale\": [[0.0, \"#0d0887\"], [0.1111111111111111, \"#46039f\"], [0.2222222222222222, \"#7201a8\"], [0.3333333333333333, \"#9c179e\"], [0.4444444444444444, \"#bd3786\"], [0.5555555555555556, \"#d8576b\"], [0.6666666666666666, \"#ed7953\"], [0.7777777777777778, \"#fb9f3a\"], [0.8888888888888888, \"#fdca26\"], [1.0, \"#f0f921\"]], \"type\": \"heatmap\"}], \"heatmapgl\": [{\"colorbar\": {\"outlinewidth\": 0, \"ticks\": \"\"}, \"colorscale\": [[0.0, \"#0d0887\"], [0.1111111111111111, \"#46039f\"], [0.2222222222222222, \"#7201a8\"], [0.3333333333333333, \"#9c179e\"], [0.4444444444444444, \"#bd3786\"], [0.5555555555555556, \"#d8576b\"], [0.6666666666666666, \"#ed7953\"], [0.7777777777777778, \"#fb9f3a\"], [0.8888888888888888, \"#fdca26\"], [1.0, \"#f0f921\"]], \"type\": \"heatmapgl\"}], \"histogram\": [{\"marker\": {\"colorbar\": {\"outlinewidth\": 0, \"ticks\": \"\"}}, \"type\": \"histogram\"}], \"histogram2d\": [{\"colorbar\": {\"outlinewidth\": 0, \"ticks\": \"\"}, \"colorscale\": [[0.0, \"#0d0887\"], [0.1111111111111111, \"#46039f\"], [0.2222222222222222, \"#7201a8\"], [0.3333333333333333, \"#9c179e\"], [0.4444444444444444, \"#bd3786\"], [0.5555555555555556, \"#d8576b\"], [0.6666666666666666, \"#ed7953\"], [0.7777777777777778, \"#fb9f3a\"], [0.8888888888888888, \"#fdca26\"], [1.0, \"#f0f921\"]], \"type\": \"histogram2d\"}], \"histogram2dcontour\": [{\"colorbar\": {\"outlinewidth\": 0, \"ticks\": \"\"}, \"colorscale\": [[0.0, \"#0d0887\"], [0.1111111111111111, \"#46039f\"], [0.2222222222222222, \"#7201a8\"], [0.3333333333333333, \"#9c179e\"], [0.4444444444444444, \"#bd3786\"], [0.5555555555555556, \"#d8576b\"], [0.6666666666666666, \"#ed7953\"], [0.7777777777777778, \"#fb9f3a\"], [0.8888888888888888, \"#fdca26\"], [1.0, \"#f0f921\"]], \"type\": \"histogram2dcontour\"}], \"mesh3d\": [{\"colorbar\": {\"outlinewidth\": 0, \"ticks\": \"\"}, \"type\": \"mesh3d\"}], \"parcoords\": [{\"line\": {\"colorbar\": {\"outlinewidth\": 0, \"ticks\": \"\"}}, \"type\": \"parcoords\"}], \"pie\": [{\"automargin\": true, \"type\": \"pie\"}], \"scatter\": [{\"marker\": {\"colorbar\": {\"outlinewidth\": 0, \"ticks\": \"\"}}, \"type\": \"scatter\"}], \"scatter3d\": [{\"line\": {\"colorbar\": {\"outlinewidth\": 0, \"ticks\": \"\"}}, \"marker\": {\"colorbar\": {\"outlinewidth\": 0, \"ticks\": \"\"}}, \"type\": \"scatter3d\"}], \"scattercarpet\": [{\"marker\": {\"colorbar\": {\"outlinewidth\": 0, \"ticks\": \"\"}}, \"type\": \"scattercarpet\"}], \"scattergeo\": [{\"marker\": {\"colorbar\": {\"outlinewidth\": 0, \"ticks\": \"\"}}, \"type\": \"scattergeo\"}], \"scattergl\": [{\"marker\": {\"colorbar\": {\"outlinewidth\": 0, \"ticks\": \"\"}}, \"type\": \"scattergl\"}], \"scattermapbox\": [{\"marker\": {\"colorbar\": {\"outlinewidth\": 0, \"ticks\": \"\"}}, \"type\": \"scattermapbox\"}], \"scatterpolar\": [{\"marker\": {\"colorbar\": {\"outlinewidth\": 0, \"ticks\": \"\"}}, \"type\": \"scatterpolar\"}], \"scatterpolargl\": [{\"marker\": {\"colorbar\": {\"outlinewidth\": 0, \"ticks\": \"\"}}, \"type\": \"scatterpolargl\"}], \"scatterternary\": [{\"marker\": {\"colorbar\": {\"outlinewidth\": 0, \"ticks\": \"\"}}, \"type\": \"scatterternary\"}], \"surface\": [{\"colorbar\": {\"outlinewidth\": 0, \"ticks\": \"\"}, \"colorscale\": [[0.0, \"#0d0887\"], [0.1111111111111111, \"#46039f\"], [0.2222222222222222, \"#7201a8\"], [0.3333333333333333, \"#9c179e\"], [0.4444444444444444, \"#bd3786\"], [0.5555555555555556, \"#d8576b\"], [0.6666666666666666, \"#ed7953\"], [0.7777777777777778, \"#fb9f3a\"], [0.8888888888888888, \"#fdca26\"], [1.0, \"#f0f921\"]], \"type\": \"surface\"}], \"table\": [{\"cells\": {\"fill\": {\"color\": \"#EBF0F8\"}, \"line\": {\"color\": \"white\"}}, \"header\": {\"fill\": {\"color\": \"#C8D4E3\"}, \"line\": {\"color\": \"white\"}}, \"type\": \"table\"}]}, \"layout\": {\"annotationdefaults\": {\"arrowcolor\": \"#2a3f5f\", \"arrowhead\": 0, \"arrowwidth\": 1}, \"coloraxis\": {\"colorbar\": {\"outlinewidth\": 0, \"ticks\": \"\"}}, \"colorscale\": {\"diverging\": [[0, \"#8e0152\"], [0.1, \"#c51b7d\"], [0.2, \"#de77ae\"], [0.3, \"#f1b6da\"], [0.4, \"#fde0ef\"], [0.5, \"#f7f7f7\"], [0.6, \"#e6f5d0\"], [0.7, \"#b8e186\"], [0.8, \"#7fbc41\"], [0.9, \"#4d9221\"], [1, \"#276419\"]], \"sequential\": [[0.0, \"#0d0887\"], [0.1111111111111111, \"#46039f\"], [0.2222222222222222, \"#7201a8\"], [0.3333333333333333, \"#9c179e\"], [0.4444444444444444, \"#bd3786\"], [0.5555555555555556, \"#d8576b\"], [0.6666666666666666, \"#ed7953\"], [0.7777777777777778, \"#fb9f3a\"], [0.8888888888888888, \"#fdca26\"], [1.0, \"#f0f921\"]], \"sequentialminus\": [[0.0, \"#0d0887\"], [0.1111111111111111, \"#46039f\"], [0.2222222222222222, \"#7201a8\"], [0.3333333333333333, \"#9c179e\"], [0.4444444444444444, \"#bd3786\"], [0.5555555555555556, \"#d8576b\"], [0.6666666666666666, \"#ed7953\"], [0.7777777777777778, \"#fb9f3a\"], [0.8888888888888888, \"#fdca26\"], [1.0, \"#f0f921\"]]}, \"colorway\": [\"#636efa\", \"#EF553B\", \"#00cc96\", \"#ab63fa\", \"#FFA15A\", \"#19d3f3\", \"#FF6692\", \"#B6E880\", \"#FF97FF\", \"#FECB52\"], \"font\": {\"color\": \"#2a3f5f\"}, \"geo\": {\"bgcolor\": \"white\", \"lakecolor\": \"white\", \"landcolor\": \"#E5ECF6\", \"showlakes\": true, \"showland\": true, \"subunitcolor\": \"white\"}, \"hoverlabel\": {\"align\": \"left\"}, \"hovermode\": \"closest\", \"mapbox\": {\"style\": \"light\"}, \"paper_bgcolor\": \"white\", \"plot_bgcolor\": \"#E5ECF6\", \"polar\": {\"angularaxis\": {\"gridcolor\": \"white\", \"linecolor\": \"white\", \"ticks\": \"\"}, \"bgcolor\": \"#E5ECF6\", \"radialaxis\": {\"gridcolor\": \"white\", \"linecolor\": \"white\", \"ticks\": \"\"}}, \"scene\": {\"xaxis\": {\"backgroundcolor\": \"#E5ECF6\", \"gridcolor\": \"white\", \"gridwidth\": 2, \"linecolor\": \"white\", \"showbackground\": true, \"ticks\": \"\", \"zerolinecolor\": \"white\"}, \"yaxis\": {\"backgroundcolor\": \"#E5ECF6\", \"gridcolor\": \"white\", \"gridwidth\": 2, \"linecolor\": \"white\", \"showbackground\": true, \"ticks\": \"\", \"zerolinecolor\": \"white\"}, \"zaxis\": {\"backgroundcolor\": \"#E5ECF6\", \"gridcolor\": \"white\", \"gridwidth\": 2, \"linecolor\": \"white\", \"showbackground\": true, \"ticks\": \"\", \"zerolinecolor\": \"white\"}}, \"shapedefaults\": {\"line\": {\"color\": \"#2a3f5f\"}}, \"ternary\": {\"aaxis\": {\"gridcolor\": \"white\", \"linecolor\": \"white\", \"ticks\": \"\"}, \"baxis\": {\"gridcolor\": \"white\", \"linecolor\": \"white\", \"ticks\": \"\"}, \"bgcolor\": \"#E5ECF6\", \"caxis\": {\"gridcolor\": \"white\", \"linecolor\": \"white\", \"ticks\": \"\"}}, \"title\": {\"x\": 0.05}, \"xaxis\": {\"automargin\": true, \"gridcolor\": \"white\", \"linecolor\": \"white\", \"ticks\": \"\", \"title\": {\"standoff\": 15}, \"zerolinecolor\": \"white\", \"zerolinewidth\": 2}, \"yaxis\": {\"automargin\": true, \"gridcolor\": \"white\", \"linecolor\": \"white\", \"ticks\": \"\", \"title\": {\"standoff\": 15}, \"zerolinecolor\": \"white\", \"zerolinewidth\": 2}}}, \"title\": {\"text\": \"Scatter matrix of Happy ratings across animations\"}},\n",
       "                        {\"responsive\": true}\n",
       "                    ).then(function(){\n",
       "                            \n",
       "var gd = document.getElementById('dbad0a4b-16d0-4e39-981f-875161733e07');\n",
       "var x = new MutationObserver(function (mutations, observer) {{\n",
       "        var display = window.getComputedStyle(gd).display;\n",
       "        if (!display || display === 'none') {{\n",
       "            console.log([gd, 'removed!']);\n",
       "            Plotly.purge(gd);\n",
       "            observer.disconnect();\n",
       "        }}\n",
       "}});\n",
       "\n",
       "// Listen for the removal of the full notebook cells\n",
       "var notebookContainer = gd.closest('#notebook-container');\n",
       "if (notebookContainer) {{\n",
       "    x.observe(notebookContainer, {childList: true});\n",
       "}}\n",
       "\n",
       "// Listen for the clearing of the current output cell\n",
       "var outputEl = gd.closest('.output');\n",
       "if (outputEl) {{\n",
       "    x.observe(outputEl, {childList: true});\n",
       "}}\n",
       "\n",
       "                        })\n",
       "                };\n",
       "                });\n",
       "            </script>\n",
       "        </div>"
      ]
     },
     "metadata": {},
     "output_type": "display_data"
    }
   ],
   "source": [
    "df = px.data.iris()\n",
    "fig = px.scatter_matrix(data,\n",
    "    dimensions=[\"Happy\", \"Happy.1\", \"Happy.2\", \"Happy.3\", \"Happy.4\", \"Happy.5\"],\n",
    "    title=\"Scatter matrix of Happy ratings across animations\",\n",
    "    labels={col:col.replace('_', ' ') for col in df.columns}) # remove underscore\n",
    "fig.update_traces(diagonal_visible=False)\n",
    "fig.show()"
   ]
  }
 ],
 "metadata": {
  "kernelspec": {
   "display_name": "Python 3",
   "language": "python",
   "name": "python3"
  },
  "language_info": {
   "codemirror_mode": {
    "name": "ipython",
    "version": 3
   },
   "file_extension": ".py",
   "mimetype": "text/x-python",
   "name": "python",
   "nbconvert_exporter": "python",
   "pygments_lexer": "ipython3",
   "version": "3.7.0"
  }
 },
 "nbformat": 4,
 "nbformat_minor": 4
}
